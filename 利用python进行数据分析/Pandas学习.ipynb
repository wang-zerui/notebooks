{
  "nbformat": 4,
  "nbformat_minor": 0,
  "metadata": {
    "colab": {
      "name": "Pandas学习.ipynb",
      "provenance": [],
      "collapsed_sections": [
        "ndhswnSZ-TwG",
        "OdbFwu-JGq-v",
        "0zgRIi6DUwkq",
        "Qv3RoIvK3k9d"
      ]
    },
    "kernelspec": {
      "display_name": "Python 3",
      "name": "python3",
      "language": "python"
    }
  },
  "cells": [
    {
      "cell_type": "markdown",
      "metadata": {
        "id": "eq289qub-QT3"
      },
      "source": [
        "# Pandas学习"
      ]
    },
    {
      "cell_type": "code",
      "metadata": {
        "id": "k10onVMb2ODV"
      },
      "source": [
        "import pandas as pd\n",
        "import numpy as np\n",
        "from pandas import Series, DataFrame"
      ],
      "execution_count": 2,
      "outputs": []
    },
    {
      "cell_type": "markdown",
      "metadata": {
        "id": "ndhswnSZ-TwG"
      },
      "source": [
        "## pandas数据结构介绍\n",
        "有两个主要数据结构，Series和DataFrame。为大多数应用提供了解决"
      ]
    },
    {
      "cell_type": "code",
      "metadata": {
        "colab": {
          "base_uri": "https://localhost:8080/"
        },
        "id": "otonAjMk-Ep_",
        "outputId": "3ded688e-d10a-41cc-ca93-9903d01cbe4e"
      },
      "source": [
        "obj = Series([4, 7, -5, 3])\n",
        "obj"
      ],
      "execution_count": null,
      "outputs": [
        {
          "output_type": "execute_result",
          "data": {
            "text/plain": [
              "0    4\n",
              "1    7\n",
              "2   -5\n",
              "3    3\n",
              "dtype: int64"
            ]
          },
          "metadata": {
            "tags": []
          },
          "execution_count": 216
        }
      ]
    },
    {
      "cell_type": "markdown",
      "metadata": {
        "id": "3_b7OMPt2kRV"
      },
      "source": [
        "Series的字符串表现形式是：索引在左边，值在右边。如果没有特定的数据指引索引，会自动创建一个数组型索引。可以通过Series的values和index属性获取其数组表示形式和索引对象"
      ]
    },
    {
      "cell_type": "code",
      "metadata": {
        "colab": {
          "base_uri": "https://localhost:8080/"
        },
        "id": "oO5eTqgT2dln",
        "outputId": "436bb4c1-824b-49b9-9db7-5708550d11c9"
      },
      "source": [
        "obj2 = Series([4, 7, -5, 3], index=['d', 'b', 'a', 'c'])\n",
        "obj2"
      ],
      "execution_count": null,
      "outputs": [
        {
          "output_type": "execute_result",
          "data": {
            "text/plain": [
              "d    4\n",
              "b    7\n",
              "a   -5\n",
              "c    3\n",
              "dtype: int64"
            ]
          },
          "metadata": {
            "tags": []
          },
          "execution_count": 217
        }
      ]
    },
    {
      "cell_type": "code",
      "metadata": {
        "colab": {
          "base_uri": "https://localhost:8080/"
        },
        "id": "MI_wM26q9NDu",
        "outputId": "347b8463-2ef3-4152-a9d4-efd634d56de9"
      },
      "source": [
        "obj2.index"
      ],
      "execution_count": null,
      "outputs": [
        {
          "output_type": "execute_result",
          "data": {
            "text/plain": [
              "Index(['d', 'b', 'a', 'c'], dtype='object')"
            ]
          },
          "metadata": {
            "tags": []
          },
          "execution_count": 218
        }
      ]
    },
    {
      "cell_type": "code",
      "metadata": {
        "colab": {
          "base_uri": "https://localhost:8080/"
        },
        "id": "6UvNadoE9g6k",
        "outputId": "0c37ec5d-2e1c-4cd3-e356-6d113fa3e5d2"
      },
      "source": [
        "obj2['a']"
      ],
      "execution_count": null,
      "outputs": [
        {
          "output_type": "execute_result",
          "data": {
            "text/plain": [
              "-5"
            ]
          },
          "metadata": {
            "tags": []
          },
          "execution_count": 219
        }
      ]
    },
    {
      "cell_type": "code",
      "metadata": {
        "id": "6ksnJP969124"
      },
      "source": [
        "obj2['d'] = 6"
      ],
      "execution_count": null,
      "outputs": []
    },
    {
      "cell_type": "code",
      "metadata": {
        "colab": {
          "base_uri": "https://localhost:8080/"
        },
        "id": "u5WaokuU94dw",
        "outputId": "8b93f10f-c381-4a6a-c11e-204434824453"
      },
      "source": [
        "obj2[['c', 'a', 'd']]"
      ],
      "execution_count": null,
      "outputs": [
        {
          "output_type": "execute_result",
          "data": {
            "text/plain": [
              "c    3\n",
              "a   -5\n",
              "d    6\n",
              "dtype: int64"
            ]
          },
          "metadata": {
            "tags": []
          },
          "execution_count": 221
        }
      ]
    },
    {
      "cell_type": "markdown",
      "metadata": {
        "id": "jARNs6_a_O7i"
      },
      "source": [
        "与普通NumPy数组相比，你可以通过索引的方式选取Series中的的那个或一组值："
      ]
    },
    {
      "cell_type": "markdown",
      "metadata": {
        "id": "Y0-7SO9A_bce"
      },
      "source": [
        "Numpy数组运算（如根据布尔型数组进行过滤、标量乘法、应用数学函数）都会保留索引和值之间的链接"
      ]
    },
    {
      "cell_type": "code",
      "metadata": {
        "colab": {
          "base_uri": "https://localhost:8080/"
        },
        "id": "YiuAA5Za96vP",
        "outputId": "81b56729-8db8-4ec0-b520-bd6d2964ee31"
      },
      "source": [
        "obj2"
      ],
      "execution_count": null,
      "outputs": [
        {
          "output_type": "execute_result",
          "data": {
            "text/plain": [
              "d    6\n",
              "b    7\n",
              "a   -5\n",
              "c    3\n",
              "dtype: int64"
            ]
          },
          "metadata": {
            "tags": []
          },
          "execution_count": 222
        }
      ]
    },
    {
      "cell_type": "code",
      "metadata": {
        "colab": {
          "base_uri": "https://localhost:8080/"
        },
        "id": "-cMLexSY_XXa",
        "outputId": "3fa4b14f-6cac-4ac2-ebba-36fa9c5105e8"
      },
      "source": [
        "obj2[obj2 > 0]"
      ],
      "execution_count": null,
      "outputs": [
        {
          "output_type": "execute_result",
          "data": {
            "text/plain": [
              "d    6\n",
              "b    7\n",
              "c    3\n",
              "dtype: int64"
            ]
          },
          "metadata": {
            "tags": []
          },
          "execution_count": 223
        }
      ]
    },
    {
      "cell_type": "code",
      "metadata": {
        "colab": {
          "base_uri": "https://localhost:8080/"
        },
        "id": "oU6TpFBW_nJ6",
        "outputId": "5ef66cba-126d-4969-9951-a7b1e259a8b1"
      },
      "source": [
        "obj2 * 2"
      ],
      "execution_count": null,
      "outputs": [
        {
          "output_type": "execute_result",
          "data": {
            "text/plain": [
              "d    12\n",
              "b    14\n",
              "a   -10\n",
              "c     6\n",
              "dtype: int64"
            ]
          },
          "metadata": {
            "tags": []
          },
          "execution_count": 224
        }
      ]
    },
    {
      "cell_type": "code",
      "metadata": {
        "colab": {
          "base_uri": "https://localhost:8080/"
        },
        "id": "mvVrrg-Q_ouk",
        "outputId": "8dab1490-1d51-423b-c937-9e3d14b6303b"
      },
      "source": [
        "np.exp(obj2)"
      ],
      "execution_count": null,
      "outputs": [
        {
          "output_type": "execute_result",
          "data": {
            "text/plain": [
              "d     403.428793\n",
              "b    1096.633158\n",
              "a       0.006738\n",
              "c      20.085537\n",
              "dtype: float64"
            ]
          },
          "metadata": {
            "tags": []
          },
          "execution_count": 225
        }
      ]
    },
    {
      "cell_type": "markdown",
      "metadata": {
        "id": "p0x7L6CD_337"
      },
      "source": [
        "这里看来series数据结构有点像带指定索引的ndarray"
      ]
    },
    {
      "cell_type": "markdown",
      "metadata": {
        "id": "F5j7zyHbBfUV"
      },
      "source": [
        "还可以将Series看成是一个定长的有序字典，因为它是索引值到数据值的一个映射。它可以用在许多原本需要紫电参数的函数中："
      ]
    },
    {
      "cell_type": "code",
      "metadata": {
        "colab": {
          "base_uri": "https://localhost:8080/"
        },
        "id": "EZwCcykcBdpY",
        "outputId": "d4757c5e-a9bc-4ca5-d31a-bd074198de95"
      },
      "source": [
        "'b' in obj2"
      ],
      "execution_count": null,
      "outputs": [
        {
          "output_type": "execute_result",
          "data": {
            "text/plain": [
              "True"
            ]
          },
          "metadata": {
            "tags": []
          },
          "execution_count": 226
        }
      ]
    },
    {
      "cell_type": "code",
      "metadata": {
        "colab": {
          "base_uri": "https://localhost:8080/"
        },
        "id": "askuvhcmBsWS",
        "outputId": "9960d880-49e0-4b92-ba43-2b7e6d433663"
      },
      "source": [
        "'e' in obj2"
      ],
      "execution_count": null,
      "outputs": [
        {
          "output_type": "execute_result",
          "data": {
            "text/plain": [
              "False"
            ]
          },
          "metadata": {
            "tags": []
          },
          "execution_count": 227
        }
      ]
    },
    {
      "cell_type": "markdown",
      "metadata": {
        "id": "Dlk5YstNCygb"
      },
      "source": [
        "如果数据被存放在一个Python字典中，也可以通过这个字典创建Series"
      ]
    },
    {
      "cell_type": "code",
      "metadata": {
        "colab": {
          "base_uri": "https://localhost:8080/"
        },
        "id": "joDZk5GCBtkc",
        "outputId": "e5796e71-b30b-4ac3-ae2d-4ca148e298ea"
      },
      "source": [
        "sdata = {'Ohio': 35000, 'Texas':71000, 'Oregon':16000, 'Uath':5000}\n",
        "obj3 = Series(sdata)\n",
        "obj3"
      ],
      "execution_count": null,
      "outputs": [
        {
          "output_type": "execute_result",
          "data": {
            "text/plain": [
              "Ohio      35000\n",
              "Texas     71000\n",
              "Oregon    16000\n",
              "Uath       5000\n",
              "dtype: int64"
            ]
          },
          "metadata": {
            "tags": []
          },
          "execution_count": 228
        }
      ]
    },
    {
      "cell_type": "markdown",
      "metadata": {
        "id": "FewQ1uu7CvuT"
      },
      "source": [
        "如果只传入一个字典，则结果Series中的索引就是原字典的键（有序序列）"
      ]
    },
    {
      "cell_type": "code",
      "metadata": {
        "colab": {
          "base_uri": "https://localhost:8080/"
        },
        "id": "3JywflrkCux2",
        "outputId": "f78efa26-73bc-43db-8674-a34b30f1c6ea"
      },
      "source": [
        "states = ['California', 'Ohio', 'Oregon', 'Texas']\n",
        "obj4 = Series(sdata, index=states)\n",
        "obj4"
      ],
      "execution_count": null,
      "outputs": [
        {
          "output_type": "execute_result",
          "data": {
            "text/plain": [
              "California        NaN\n",
              "Ohio          35000.0\n",
              "Oregon        16000.0\n",
              "Texas         71000.0\n",
              "dtype: float64"
            ]
          },
          "metadata": {
            "tags": []
          },
          "execution_count": 229
        }
      ]
    },
    {
      "cell_type": "markdown",
      "metadata": {
        "id": "_DuFVWBPDTlF"
      },
      "source": [
        "缺失值表示为NaN(即非数字)，在pandas它用于表示缺失或NA值。我们使用missing或NA表示缺失数据。Pandas的isnull和notnull函数可以用于检测缺失数据："
      ]
    },
    {
      "cell_type": "code",
      "metadata": {
        "colab": {
          "base_uri": "https://localhost:8080/"
        },
        "id": "-LsY5WI7DTGL",
        "outputId": "8e17dfef-c164-45d5-89ec-787f19b3b631"
      },
      "source": [
        "pd.isnull(obj4)"
      ],
      "execution_count": null,
      "outputs": [
        {
          "output_type": "execute_result",
          "data": {
            "text/plain": [
              "California     True\n",
              "Ohio          False\n",
              "Oregon        False\n",
              "Texas         False\n",
              "dtype: bool"
            ]
          },
          "metadata": {
            "tags": []
          },
          "execution_count": 230
        }
      ]
    },
    {
      "cell_type": "code",
      "metadata": {
        "colab": {
          "base_uri": "https://localhost:8080/"
        },
        "id": "yUKyVREVEA7x",
        "outputId": "b04b1b71-6298-454a-cb88-47ce4e57b8b0"
      },
      "source": [
        "obj4.isnull()"
      ],
      "execution_count": null,
      "outputs": [
        {
          "output_type": "execute_result",
          "data": {
            "text/plain": [
              "California     True\n",
              "Ohio          False\n",
              "Oregon        False\n",
              "Texas         False\n",
              "dtype: bool"
            ]
          },
          "metadata": {
            "tags": []
          },
          "execution_count": 231
        }
      ]
    },
    {
      "cell_type": "code",
      "metadata": {
        "colab": {
          "base_uri": "https://localhost:8080/"
        },
        "id": "qy0G3h1xEDSs",
        "outputId": "06a0616c-7133-4dec-b0b6-63c0d7dec2af"
      },
      "source": [
        "pd.notnull(obj4)"
      ],
      "execution_count": null,
      "outputs": [
        {
          "output_type": "execute_result",
          "data": {
            "text/plain": [
              "California    False\n",
              "Ohio           True\n",
              "Oregon         True\n",
              "Texas          True\n",
              "dtype: bool"
            ]
          },
          "metadata": {
            "tags": []
          },
          "execution_count": 232
        }
      ]
    },
    {
      "cell_type": "code",
      "metadata": {
        "colab": {
          "base_uri": "https://localhost:8080/"
        },
        "id": "JBCgM9bwEGZB",
        "outputId": "5198ec14-8ace-404b-ccd5-1d0f7a8b7f29"
      },
      "source": [
        "obj4.notnull()"
      ],
      "execution_count": null,
      "outputs": [
        {
          "output_type": "execute_result",
          "data": {
            "text/plain": [
              "California    False\n",
              "Ohio           True\n",
              "Oregon         True\n",
              "Texas          True\n",
              "dtype: bool"
            ]
          },
          "metadata": {
            "tags": []
          },
          "execution_count": 233
        }
      ]
    },
    {
      "cell_type": "markdown",
      "metadata": {
        "id": "5g79MPclEJDU"
      },
      "source": [
        "Series有一个重要功能：在算数运算中会自动对齐不用索引的数据的数据"
      ]
    },
    {
      "cell_type": "code",
      "metadata": {
        "colab": {
          "base_uri": "https://localhost:8080/"
        },
        "id": "WPr9LscTFfUG",
        "outputId": "b34bc916-0d8c-4688-d841-7844424c639d"
      },
      "source": [
        "obj3"
      ],
      "execution_count": null,
      "outputs": [
        {
          "output_type": "execute_result",
          "data": {
            "text/plain": [
              "Ohio      35000\n",
              "Texas     71000\n",
              "Oregon    16000\n",
              "Uath       5000\n",
              "dtype: int64"
            ]
          },
          "metadata": {
            "tags": []
          },
          "execution_count": 234
        }
      ]
    },
    {
      "cell_type": "code",
      "metadata": {
        "colab": {
          "base_uri": "https://localhost:8080/"
        },
        "id": "IOKjntDDFgaZ",
        "outputId": "36cd5ce6-a5ae-48a0-f413-37097def9471"
      },
      "source": [
        "obj4"
      ],
      "execution_count": null,
      "outputs": [
        {
          "output_type": "execute_result",
          "data": {
            "text/plain": [
              "California        NaN\n",
              "Ohio          35000.0\n",
              "Oregon        16000.0\n",
              "Texas         71000.0\n",
              "dtype: float64"
            ]
          },
          "metadata": {
            "tags": []
          },
          "execution_count": 235
        }
      ]
    },
    {
      "cell_type": "code",
      "metadata": {
        "colab": {
          "base_uri": "https://localhost:8080/"
        },
        "id": "w34i_u0FFg1V",
        "outputId": "1fcbbfb5-24d9-4daf-cb54-556c407a9558"
      },
      "source": [
        "obj3 + obj4"
      ],
      "execution_count": null,
      "outputs": [
        {
          "output_type": "execute_result",
          "data": {
            "text/plain": [
              "California         NaN\n",
              "Ohio           70000.0\n",
              "Oregon         32000.0\n",
              "Texas         142000.0\n",
              "Uath               NaN\n",
              "dtype: float64"
            ]
          },
          "metadata": {
            "tags": []
          },
          "execution_count": 236
        }
      ]
    },
    {
      "cell_type": "markdown",
      "metadata": {
        "id": "Oz_kBE7jFk2B"
      },
      "source": [
        "### name属性，该属性跟pandas其他的关键功能非常密切"
      ]
    },
    {
      "cell_type": "code",
      "metadata": {
        "colab": {
          "base_uri": "https://localhost:8080/"
        },
        "id": "5kGIqKW-Fi1n",
        "outputId": "27d1c4ca-4aaa-4db4-8f57-cc74421aea3a"
      },
      "source": [
        "obj4.name = 'population'\n",
        "obj4.index.name = 'state'\n",
        "obj4"
      ],
      "execution_count": null,
      "outputs": [
        {
          "output_type": "execute_result",
          "data": {
            "text/plain": [
              "state\n",
              "California        NaN\n",
              "Ohio          35000.0\n",
              "Oregon        16000.0\n",
              "Texas         71000.0\n",
              "Name: population, dtype: float64"
            ]
          },
          "metadata": {
            "tags": []
          },
          "execution_count": 237
        }
      ]
    },
    {
      "cell_type": "markdown",
      "metadata": {
        "id": "_GzNHkflFtct"
      },
      "source": [
        "Series的索引可以通过赋值的方法就地修改"
      ]
    },
    {
      "cell_type": "code",
      "metadata": {
        "colab": {
          "base_uri": "https://localhost:8080/"
        },
        "id": "-etCrdjYGYO8",
        "outputId": "cd1a8cfa-e536-43a7-e015-b322a5a0ec8d"
      },
      "source": [
        "obj.index = ['Bob', 'Steve', 'Jeff', 'Ryan']\n",
        "obj"
      ],
      "execution_count": null,
      "outputs": [
        {
          "output_type": "execute_result",
          "data": {
            "text/plain": [
              "Bob      4\n",
              "Steve    7\n",
              "Jeff    -5\n",
              "Ryan     3\n",
              "dtype: int64"
            ]
          },
          "metadata": {
            "tags": []
          },
          "execution_count": 238
        }
      ]
    },
    {
      "cell_type": "markdown",
      "metadata": {
        "id": "OdbFwu-JGq-v"
      },
      "source": [
        "## DataFrame"
      ]
    },
    {
      "cell_type": "markdown",
      "metadata": {
        "id": "uTDzTGcYGq8W"
      },
      "source": [
        "表格型数据结构，它含有**一组**有序的**列**，每列可以使不同的值型。DataFrame既有行索引也有列索引，它可以被看做由Series组成的字典（共用同一个索引）。跟其他类似的数据结构想不，比如R的data.frame，DataFrame中面向行和面向列的操作基本上是平衡的。其实,DataFrame中的数据是以一个或者多个二维块存放的（而不是列表、字典或别的一维数据结构）。有关DataFrame的内部技术细节很复杂，不表."
      ]
    },
    {
      "cell_type": "markdown",
      "metadata": {
        "id": "U4CzrsC4IKKP"
      },
      "source": [
        "### DataFrame的构建"
      ]
    },
    {
      "cell_type": "code",
      "metadata": {
        "id": "T8H4U6VRGebU"
      },
      "source": [
        "data = {'state':['Ohio', 'Ohio', 'Ohio', 'Navada', 'Navada'],\n",
        "        'year':[2000, 2001, 2002, 2001, 2002],\n",
        "        'pop':[1.5, 1.7, 3.6, 2.4, 2.9 ]}\n",
        "frame = DataFrame(data)"
      ],
      "execution_count": null,
      "outputs": []
    },
    {
      "cell_type": "code",
      "metadata": {
        "colab": {
          "base_uri": "https://localhost:8080/"
        },
        "id": "WYDVTsV3Ihzp",
        "outputId": "902bcb40-674c-464a-cd6c-bbe2c41964f4"
      },
      "source": [
        "frame"
      ],
      "execution_count": null,
      "outputs": [
        {
          "output_type": "execute_result",
          "data": {
            "text/html": [
              "<div>\n",
              "<style scoped>\n",
              "    .dataframe tbody tr th:only-of-type {\n",
              "        vertical-align: middle;\n",
              "    }\n",
              "\n",
              "    .dataframe tbody tr th {\n",
              "        vertical-align: top;\n",
              "    }\n",
              "\n",
              "    .dataframe thead th {\n",
              "        text-align: right;\n",
              "    }\n",
              "</style>\n",
              "<table border=\"1\" class=\"dataframe\">\n",
              "  <thead>\n",
              "    <tr style=\"text-align: right;\">\n",
              "      <th></th>\n",
              "      <th>state</th>\n",
              "      <th>year</th>\n",
              "      <th>pop</th>\n",
              "    </tr>\n",
              "  </thead>\n",
              "  <tbody>\n",
              "    <tr>\n",
              "      <th>0</th>\n",
              "      <td>Ohio</td>\n",
              "      <td>2000</td>\n",
              "      <td>1.5</td>\n",
              "    </tr>\n",
              "    <tr>\n",
              "      <th>1</th>\n",
              "      <td>Ohio</td>\n",
              "      <td>2001</td>\n",
              "      <td>1.7</td>\n",
              "    </tr>\n",
              "    <tr>\n",
              "      <th>2</th>\n",
              "      <td>Ohio</td>\n",
              "      <td>2002</td>\n",
              "      <td>3.6</td>\n",
              "    </tr>\n",
              "    <tr>\n",
              "      <th>3</th>\n",
              "      <td>Navada</td>\n",
              "      <td>2001</td>\n",
              "      <td>2.4</td>\n",
              "    </tr>\n",
              "    <tr>\n",
              "      <th>4</th>\n",
              "      <td>Navada</td>\n",
              "      <td>2002</td>\n",
              "      <td>2.9</td>\n",
              "    </tr>\n",
              "  </tbody>\n",
              "</table>\n",
              "</div>"
            ],
            "text/plain": [
              "    state  year  pop\n",
              "0    Ohio  2000  1.5\n",
              "1    Ohio  2001  1.7\n",
              "2    Ohio  2002  3.6\n",
              "3  Navada  2001  2.4\n",
              "4  Navada  2002  2.9"
            ]
          },
          "metadata": {
            "tags": []
          },
          "execution_count": 240
        }
      ]
    },
    {
      "cell_type": "markdown",
      "metadata": {
        "id": "oQgkNFRfIzV3"
      },
      "source": [
        "DataFrame会自动加上索引，且全部列会被有序排列"
      ]
    },
    {
      "cell_type": "markdown",
      "metadata": {
        "id": "vkbVe-TzI8JU"
      },
      "source": [
        "如果指定了列序列，则DataFrame的列就会按照指定顺序排列。"
      ]
    },
    {
      "cell_type": "code",
      "metadata": {
        "colab": {
          "base_uri": "https://localhost:8080/"
        },
        "id": "kZrsGmCSJDix",
        "outputId": "e5da7fb7-4248-4942-8193-4261a7bcb896"
      },
      "source": [
        "DataFrame(data, columns=['year', 'state', 'pop'])"
      ],
      "execution_count": null,
      "outputs": [
        {
          "output_type": "execute_result",
          "data": {
            "text/html": [
              "<div>\n",
              "<style scoped>\n",
              "    .dataframe tbody tr th:only-of-type {\n",
              "        vertical-align: middle;\n",
              "    }\n",
              "\n",
              "    .dataframe tbody tr th {\n",
              "        vertical-align: top;\n",
              "    }\n",
              "\n",
              "    .dataframe thead th {\n",
              "        text-align: right;\n",
              "    }\n",
              "</style>\n",
              "<table border=\"1\" class=\"dataframe\">\n",
              "  <thead>\n",
              "    <tr style=\"text-align: right;\">\n",
              "      <th></th>\n",
              "      <th>year</th>\n",
              "      <th>state</th>\n",
              "      <th>pop</th>\n",
              "    </tr>\n",
              "  </thead>\n",
              "  <tbody>\n",
              "    <tr>\n",
              "      <th>0</th>\n",
              "      <td>2000</td>\n",
              "      <td>Ohio</td>\n",
              "      <td>1.5</td>\n",
              "    </tr>\n",
              "    <tr>\n",
              "      <th>1</th>\n",
              "      <td>2001</td>\n",
              "      <td>Ohio</td>\n",
              "      <td>1.7</td>\n",
              "    </tr>\n",
              "    <tr>\n",
              "      <th>2</th>\n",
              "      <td>2002</td>\n",
              "      <td>Ohio</td>\n",
              "      <td>3.6</td>\n",
              "    </tr>\n",
              "    <tr>\n",
              "      <th>3</th>\n",
              "      <td>2001</td>\n",
              "      <td>Navada</td>\n",
              "      <td>2.4</td>\n",
              "    </tr>\n",
              "    <tr>\n",
              "      <th>4</th>\n",
              "      <td>2002</td>\n",
              "      <td>Navada</td>\n",
              "      <td>2.9</td>\n",
              "    </tr>\n",
              "  </tbody>\n",
              "</table>\n",
              "</div>"
            ],
            "text/plain": [
              "   year   state  pop\n",
              "0  2000    Ohio  1.5\n",
              "1  2001    Ohio  1.7\n",
              "2  2002    Ohio  3.6\n",
              "3  2001  Navada  2.4\n",
              "4  2002  Navada  2.9"
            ]
          },
          "metadata": {
            "tags": []
          },
          "execution_count": 241
        }
      ]
    },
    {
      "cell_type": "markdown",
      "metadata": {
        "id": "f7Ct7sIwJNAl"
      },
      "source": [
        "如果传入的列在数据中找不到，就会产生NA值："
      ]
    },
    {
      "cell_type": "code",
      "metadata": {
        "colab": {
          "base_uri": "https://localhost:8080/"
        },
        "id": "LaZjTojSJIde",
        "outputId": "4e0bfa70-ac5b-4f6b-d477-a3f10e9c4d18"
      },
      "source": [
        "frame2 = DataFrame(data, columns=['year', 'state', 'pop', 'debt'],\n",
        "                   index=['one', 'two', 'three', 'four', 'five'])\n",
        "frame2"
      ],
      "execution_count": null,
      "outputs": [
        {
          "output_type": "execute_result",
          "data": {
            "text/html": [
              "<div>\n",
              "<style scoped>\n",
              "    .dataframe tbody tr th:only-of-type {\n",
              "        vertical-align: middle;\n",
              "    }\n",
              "\n",
              "    .dataframe tbody tr th {\n",
              "        vertical-align: top;\n",
              "    }\n",
              "\n",
              "    .dataframe thead th {\n",
              "        text-align: right;\n",
              "    }\n",
              "</style>\n",
              "<table border=\"1\" class=\"dataframe\">\n",
              "  <thead>\n",
              "    <tr style=\"text-align: right;\">\n",
              "      <th></th>\n",
              "      <th>year</th>\n",
              "      <th>state</th>\n",
              "      <th>pop</th>\n",
              "      <th>debt</th>\n",
              "    </tr>\n",
              "  </thead>\n",
              "  <tbody>\n",
              "    <tr>\n",
              "      <th>one</th>\n",
              "      <td>2000</td>\n",
              "      <td>Ohio</td>\n",
              "      <td>1.5</td>\n",
              "      <td>NaN</td>\n",
              "    </tr>\n",
              "    <tr>\n",
              "      <th>two</th>\n",
              "      <td>2001</td>\n",
              "      <td>Ohio</td>\n",
              "      <td>1.7</td>\n",
              "      <td>NaN</td>\n",
              "    </tr>\n",
              "    <tr>\n",
              "      <th>three</th>\n",
              "      <td>2002</td>\n",
              "      <td>Ohio</td>\n",
              "      <td>3.6</td>\n",
              "      <td>NaN</td>\n",
              "    </tr>\n",
              "    <tr>\n",
              "      <th>four</th>\n",
              "      <td>2001</td>\n",
              "      <td>Navada</td>\n",
              "      <td>2.4</td>\n",
              "      <td>NaN</td>\n",
              "    </tr>\n",
              "    <tr>\n",
              "      <th>five</th>\n",
              "      <td>2002</td>\n",
              "      <td>Navada</td>\n",
              "      <td>2.9</td>\n",
              "      <td>NaN</td>\n",
              "    </tr>\n",
              "  </tbody>\n",
              "</table>\n",
              "</div>"
            ],
            "text/plain": [
              "       year   state  pop debt\n",
              "one    2000    Ohio  1.5  NaN\n",
              "two    2001    Ohio  1.7  NaN\n",
              "three  2002    Ohio  3.6  NaN\n",
              "four   2001  Navada  2.4  NaN\n",
              "five   2002  Navada  2.9  NaN"
            ]
          },
          "metadata": {
            "tags": []
          },
          "execution_count": 242
        }
      ]
    },
    {
      "cell_type": "code",
      "metadata": {
        "colab": {
          "base_uri": "https://localhost:8080/"
        },
        "id": "wm0rzLW4J7tM",
        "outputId": "5f1a185a-f45f-4c05-9c49-dd8ba4b94cd2"
      },
      "source": [
        "print(frame2.columns)"
      ],
      "execution_count": null,
      "outputs": [
        {
          "output_type": "stream",
          "text": [
            "Index(['year', 'state', 'pop', 'debt'], dtype='object')\n"
          ],
          "name": "stdout"
        }
      ]
    },
    {
      "cell_type": "code",
      "metadata": {
        "colab": {
          "base_uri": "https://localhost:8080/"
        },
        "id": "YOujjHKfKCMd",
        "outputId": "a5246694-1dbc-4fa4-c493-32af94c9c976"
      },
      "source": [
        "frame2['state']"
      ],
      "execution_count": null,
      "outputs": [
        {
          "output_type": "execute_result",
          "data": {
            "text/plain": [
              "one        Ohio\n",
              "two        Ohio\n",
              "three      Ohio\n",
              "four     Navada\n",
              "five     Navada\n",
              "Name: state, dtype: object"
            ]
          },
          "metadata": {
            "tags": []
          },
          "execution_count": 244
        }
      ]
    },
    {
      "cell_type": "code",
      "metadata": {
        "colab": {
          "base_uri": "https://localhost:8080/"
        },
        "id": "eLHwc73nKEJO",
        "outputId": "63cfdfd0-72a6-418a-942e-55a6e236a6a1"
      },
      "source": [
        "frame2.__dict__"
      ],
      "execution_count": null,
      "outputs": [
        {
          "output_type": "execute_result",
          "data": {
            "text/plain": [
              "{'_attrs': {}, '_is_copy': None, '_item_cache': {'state': one        Ohio\n",
              "  two        Ohio\n",
              "  three      Ohio\n",
              "  four     Navada\n",
              "  five     Navada\n",
              "  Name: state, dtype: object}, '_mgr': BlockManager\n",
              " Items: Index(['year', 'state', 'pop', 'debt'], dtype='object')\n",
              " Axis 1: Index(['one', 'two', 'three', 'four', 'five'], dtype='object')\n",
              " FloatBlock: slice(2, 3, 1), 1 x 5, dtype: float64\n",
              " IntBlock: slice(0, 1, 1), 1 x 5, dtype: int64\n",
              " ObjectBlock: slice(1, 5, 2), 2 x 5, dtype: object}"
            ]
          },
          "metadata": {
            "tags": []
          },
          "execution_count": 245
        }
      ]
    },
    {
      "cell_type": "code",
      "metadata": {
        "colab": {
          "base_uri": "https://localhost:8080/"
        },
        "id": "0APFqvYtKFj_",
        "outputId": "66cac59f-e149-4519-ab79-ffe38c508d9e"
      },
      "source": [
        "frame.year"
      ],
      "execution_count": null,
      "outputs": [
        {
          "output_type": "execute_result",
          "data": {
            "text/plain": [
              "0    2000\n",
              "1    2001\n",
              "2    2002\n",
              "3    2001\n",
              "4    2002\n",
              "Name: year, dtype: int64"
            ]
          },
          "metadata": {
            "tags": []
          },
          "execution_count": 246
        }
      ]
    },
    {
      "cell_type": "code",
      "metadata": {
        "colab": {
          "base_uri": "https://localhost:8080/"
        },
        "id": "gEYXZQS8LJIZ",
        "outputId": "68eecd7b-19b3-4798-d492-3b19d4eed420"
      },
      "source": [
        "frame.values"
      ],
      "execution_count": null,
      "outputs": [
        {
          "output_type": "execute_result",
          "data": {
            "text/plain": [
              "array([['Ohio', 2000, 1.5],\n",
              "       ['Ohio', 2001, 1.7],\n",
              "       ['Ohio', 2002, 3.6],\n",
              "       ['Navada', 2001, 2.4],\n",
              "       ['Navada', 2002, 2.9]], dtype=object)"
            ]
          },
          "metadata": {
            "tags": []
          },
          "execution_count": 247
        }
      ]
    },
    {
      "cell_type": "markdown",
      "metadata": {
        "id": "ww3wHQM8LWQF"
      },
      "source": [
        "列可以通过复制的方式修改。例如可以给debt列赋值一个标量或者一组值"
      ]
    },
    {
      "cell_type": "code",
      "metadata": {
        "id": "oYKue0ZxLML1"
      },
      "source": [
        "frame2['debt'] = 16.5"
      ],
      "execution_count": null,
      "outputs": []
    },
    {
      "cell_type": "code",
      "metadata": {
        "colab": {
          "base_uri": "https://localhost:8080/"
        },
        "id": "ZHBH3MLDLgCN",
        "outputId": "87fcf4b1-42c4-4d96-cda7-798edf5a2250"
      },
      "source": [
        "frame2"
      ],
      "execution_count": null,
      "outputs": [
        {
          "output_type": "execute_result",
          "data": {
            "text/html": [
              "<div>\n",
              "<style scoped>\n",
              "    .dataframe tbody tr th:only-of-type {\n",
              "        vertical-align: middle;\n",
              "    }\n",
              "\n",
              "    .dataframe tbody tr th {\n",
              "        vertical-align: top;\n",
              "    }\n",
              "\n",
              "    .dataframe thead th {\n",
              "        text-align: right;\n",
              "    }\n",
              "</style>\n",
              "<table border=\"1\" class=\"dataframe\">\n",
              "  <thead>\n",
              "    <tr style=\"text-align: right;\">\n",
              "      <th></th>\n",
              "      <th>year</th>\n",
              "      <th>state</th>\n",
              "      <th>pop</th>\n",
              "      <th>debt</th>\n",
              "    </tr>\n",
              "  </thead>\n",
              "  <tbody>\n",
              "    <tr>\n",
              "      <th>one</th>\n",
              "      <td>2000</td>\n",
              "      <td>Ohio</td>\n",
              "      <td>1.5</td>\n",
              "      <td>16.5</td>\n",
              "    </tr>\n",
              "    <tr>\n",
              "      <th>two</th>\n",
              "      <td>2001</td>\n",
              "      <td>Ohio</td>\n",
              "      <td>1.7</td>\n",
              "      <td>16.5</td>\n",
              "    </tr>\n",
              "    <tr>\n",
              "      <th>three</th>\n",
              "      <td>2002</td>\n",
              "      <td>Ohio</td>\n",
              "      <td>3.6</td>\n",
              "      <td>16.5</td>\n",
              "    </tr>\n",
              "    <tr>\n",
              "      <th>four</th>\n",
              "      <td>2001</td>\n",
              "      <td>Navada</td>\n",
              "      <td>2.4</td>\n",
              "      <td>16.5</td>\n",
              "    </tr>\n",
              "    <tr>\n",
              "      <th>five</th>\n",
              "      <td>2002</td>\n",
              "      <td>Navada</td>\n",
              "      <td>2.9</td>\n",
              "      <td>16.5</td>\n",
              "    </tr>\n",
              "  </tbody>\n",
              "</table>\n",
              "</div>"
            ],
            "text/plain": [
              "       year   state  pop  debt\n",
              "one    2000    Ohio  1.5  16.5\n",
              "two    2001    Ohio  1.7  16.5\n",
              "three  2002    Ohio  3.6  16.5\n",
              "four   2001  Navada  2.4  16.5\n",
              "five   2002  Navada  2.9  16.5"
            ]
          },
          "metadata": {
            "tags": []
          },
          "execution_count": 249
        }
      ]
    },
    {
      "cell_type": "code",
      "metadata": {
        "colab": {
          "base_uri": "https://localhost:8080/"
        },
        "id": "4ejaKadrLguM",
        "outputId": "8479a8b5-b6f6-4a26-94c5-ee5899aca0e8"
      },
      "source": [
        "frame['debt'] = np.arange(5.)\n",
        "frame"
      ],
      "execution_count": null,
      "outputs": [
        {
          "output_type": "execute_result",
          "data": {
            "text/html": [
              "<div>\n",
              "<style scoped>\n",
              "    .dataframe tbody tr th:only-of-type {\n",
              "        vertical-align: middle;\n",
              "    }\n",
              "\n",
              "    .dataframe tbody tr th {\n",
              "        vertical-align: top;\n",
              "    }\n",
              "\n",
              "    .dataframe thead th {\n",
              "        text-align: right;\n",
              "    }\n",
              "</style>\n",
              "<table border=\"1\" class=\"dataframe\">\n",
              "  <thead>\n",
              "    <tr style=\"text-align: right;\">\n",
              "      <th></th>\n",
              "      <th>state</th>\n",
              "      <th>year</th>\n",
              "      <th>pop</th>\n",
              "      <th>debt</th>\n",
              "    </tr>\n",
              "  </thead>\n",
              "  <tbody>\n",
              "    <tr>\n",
              "      <th>0</th>\n",
              "      <td>Ohio</td>\n",
              "      <td>2000</td>\n",
              "      <td>1.5</td>\n",
              "      <td>0.0</td>\n",
              "    </tr>\n",
              "    <tr>\n",
              "      <th>1</th>\n",
              "      <td>Ohio</td>\n",
              "      <td>2001</td>\n",
              "      <td>1.7</td>\n",
              "      <td>1.0</td>\n",
              "    </tr>\n",
              "    <tr>\n",
              "      <th>2</th>\n",
              "      <td>Ohio</td>\n",
              "      <td>2002</td>\n",
              "      <td>3.6</td>\n",
              "      <td>2.0</td>\n",
              "    </tr>\n",
              "    <tr>\n",
              "      <th>3</th>\n",
              "      <td>Navada</td>\n",
              "      <td>2001</td>\n",
              "      <td>2.4</td>\n",
              "      <td>3.0</td>\n",
              "    </tr>\n",
              "    <tr>\n",
              "      <th>4</th>\n",
              "      <td>Navada</td>\n",
              "      <td>2002</td>\n",
              "      <td>2.9</td>\n",
              "      <td>4.0</td>\n",
              "    </tr>\n",
              "  </tbody>\n",
              "</table>\n",
              "</div>"
            ],
            "text/plain": [
              "    state  year  pop  debt\n",
              "0    Ohio  2000  1.5   0.0\n",
              "1    Ohio  2001  1.7   1.0\n",
              "2    Ohio  2002  3.6   2.0\n",
              "3  Navada  2001  2.4   3.0\n",
              "4  Navada  2002  2.9   4.0"
            ]
          },
          "metadata": {
            "tags": []
          },
          "execution_count": 250
        }
      ]
    },
    {
      "cell_type": "markdown",
      "metadata": {
        "id": "Px0yTh4WMCHx"
      },
      "source": [
        "将列表或数组赋值给某个列时，其长度必须与DataFrame的长度相匹配\n",
        "\n",
        "如果是一个Series，就会精确匹配到DataFrame的索引，所有的空位都将被填上缺失值"
      ]
    },
    {
      "cell_type": "code",
      "metadata": {
        "id": "UWUopIq0LkWy"
      },
      "source": [
        "val = Series([-1.2, -1.5, -1.7], index=['two', 'four', 'five'])"
      ],
      "execution_count": null,
      "outputs": []
    },
    {
      "cell_type": "code",
      "metadata": {
        "colab": {
          "base_uri": "https://localhost:8080/"
        },
        "id": "Qbtm3JQxMZOT",
        "outputId": "06013843-8c86-4977-fc19-00bf8417f649"
      },
      "source": [
        "frame2['debt'] = val\n",
        "frame2"
      ],
      "execution_count": null,
      "outputs": [
        {
          "output_type": "execute_result",
          "data": {
            "text/html": [
              "<div>\n",
              "<style scoped>\n",
              "    .dataframe tbody tr th:only-of-type {\n",
              "        vertical-align: middle;\n",
              "    }\n",
              "\n",
              "    .dataframe tbody tr th {\n",
              "        vertical-align: top;\n",
              "    }\n",
              "\n",
              "    .dataframe thead th {\n",
              "        text-align: right;\n",
              "    }\n",
              "</style>\n",
              "<table border=\"1\" class=\"dataframe\">\n",
              "  <thead>\n",
              "    <tr style=\"text-align: right;\">\n",
              "      <th></th>\n",
              "      <th>year</th>\n",
              "      <th>state</th>\n",
              "      <th>pop</th>\n",
              "      <th>debt</th>\n",
              "    </tr>\n",
              "  </thead>\n",
              "  <tbody>\n",
              "    <tr>\n",
              "      <th>one</th>\n",
              "      <td>2000</td>\n",
              "      <td>Ohio</td>\n",
              "      <td>1.5</td>\n",
              "      <td>NaN</td>\n",
              "    </tr>\n",
              "    <tr>\n",
              "      <th>two</th>\n",
              "      <td>2001</td>\n",
              "      <td>Ohio</td>\n",
              "      <td>1.7</td>\n",
              "      <td>-1.2</td>\n",
              "    </tr>\n",
              "    <tr>\n",
              "      <th>three</th>\n",
              "      <td>2002</td>\n",
              "      <td>Ohio</td>\n",
              "      <td>3.6</td>\n",
              "      <td>NaN</td>\n",
              "    </tr>\n",
              "    <tr>\n",
              "      <th>four</th>\n",
              "      <td>2001</td>\n",
              "      <td>Navada</td>\n",
              "      <td>2.4</td>\n",
              "      <td>-1.5</td>\n",
              "    </tr>\n",
              "    <tr>\n",
              "      <th>five</th>\n",
              "      <td>2002</td>\n",
              "      <td>Navada</td>\n",
              "      <td>2.9</td>\n",
              "      <td>-1.7</td>\n",
              "    </tr>\n",
              "  </tbody>\n",
              "</table>\n",
              "</div>"
            ],
            "text/plain": [
              "       year   state  pop  debt\n",
              "one    2000    Ohio  1.5   NaN\n",
              "two    2001    Ohio  1.7  -1.2\n",
              "three  2002    Ohio  3.6   NaN\n",
              "four   2001  Navada  2.4  -1.5\n",
              "five   2002  Navada  2.9  -1.7"
            ]
          },
          "metadata": {
            "tags": []
          },
          "execution_count": 252
        }
      ]
    },
    {
      "cell_type": "code",
      "metadata": {
        "colab": {
          "base_uri": "https://localhost:8080/"
        },
        "id": "nJva52xWMd65",
        "outputId": "781d8323-5dfd-4629-ffce-c13eed634c28"
      },
      "source": [
        "val = Series([-1.2, -1.5, -1.7], index=['two', 'four', 'five'])\n",
        "print(val)\n",
        "frame2['debt'] = val\n",
        "print(frame2)"
      ],
      "execution_count": null,
      "outputs": [
        {
          "output_type": "stream",
          "text": [
            "two    -1.2\n",
            "four   -1.5\n",
            "five   -1.7\n",
            "dtype: float64\n",
            "       year   state  pop  debt\n",
            "one    2000    Ohio  1.5   NaN\n",
            "two    2001    Ohio  1.7  -1.2\n",
            "three  2002    Ohio  3.6   NaN\n",
            "four   2001  Navada  2.4  -1.5\n",
            "five   2002  Navada  2.9  -1.7\n"
          ],
          "name": "stdout"
        }
      ]
    },
    {
      "cell_type": "markdown",
      "metadata": {
        "id": "n1AsjemhNP0Z"
      },
      "source": [
        "为不存在的列赋值会创建出新列。关键字del用于删除列："
      ]
    },
    {
      "cell_type": "code",
      "metadata": {
        "colab": {
          "base_uri": "https://localhost:8080/"
        },
        "id": "OgS5nBDANeeV",
        "outputId": "140347d5-f58b-426c-86b2-52b380c4f065"
      },
      "source": [
        "frame2['eastern'] = frame2.state == 'Ohio'\n",
        "frame2"
      ],
      "execution_count": null,
      "outputs": [
        {
          "output_type": "execute_result",
          "data": {
            "text/html": [
              "<div>\n",
              "<style scoped>\n",
              "    .dataframe tbody tr th:only-of-type {\n",
              "        vertical-align: middle;\n",
              "    }\n",
              "\n",
              "    .dataframe tbody tr th {\n",
              "        vertical-align: top;\n",
              "    }\n",
              "\n",
              "    .dataframe thead th {\n",
              "        text-align: right;\n",
              "    }\n",
              "</style>\n",
              "<table border=\"1\" class=\"dataframe\">\n",
              "  <thead>\n",
              "    <tr style=\"text-align: right;\">\n",
              "      <th></th>\n",
              "      <th>year</th>\n",
              "      <th>state</th>\n",
              "      <th>pop</th>\n",
              "      <th>debt</th>\n",
              "      <th>eastern</th>\n",
              "    </tr>\n",
              "  </thead>\n",
              "  <tbody>\n",
              "    <tr>\n",
              "      <th>one</th>\n",
              "      <td>2000</td>\n",
              "      <td>Ohio</td>\n",
              "      <td>1.5</td>\n",
              "      <td>NaN</td>\n",
              "      <td>True</td>\n",
              "    </tr>\n",
              "    <tr>\n",
              "      <th>two</th>\n",
              "      <td>2001</td>\n",
              "      <td>Ohio</td>\n",
              "      <td>1.7</td>\n",
              "      <td>-1.2</td>\n",
              "      <td>True</td>\n",
              "    </tr>\n",
              "    <tr>\n",
              "      <th>three</th>\n",
              "      <td>2002</td>\n",
              "      <td>Ohio</td>\n",
              "      <td>3.6</td>\n",
              "      <td>NaN</td>\n",
              "      <td>True</td>\n",
              "    </tr>\n",
              "    <tr>\n",
              "      <th>four</th>\n",
              "      <td>2001</td>\n",
              "      <td>Navada</td>\n",
              "      <td>2.4</td>\n",
              "      <td>-1.5</td>\n",
              "      <td>False</td>\n",
              "    </tr>\n",
              "    <tr>\n",
              "      <th>five</th>\n",
              "      <td>2002</td>\n",
              "      <td>Navada</td>\n",
              "      <td>2.9</td>\n",
              "      <td>-1.7</td>\n",
              "      <td>False</td>\n",
              "    </tr>\n",
              "  </tbody>\n",
              "</table>\n",
              "</div>"
            ],
            "text/plain": [
              "       year   state  pop  debt  eastern\n",
              "one    2000    Ohio  1.5   NaN     True\n",
              "two    2001    Ohio  1.7  -1.2     True\n",
              "three  2002    Ohio  3.6   NaN     True\n",
              "four   2001  Navada  2.4  -1.5    False\n",
              "five   2002  Navada  2.9  -1.7    False"
            ]
          },
          "metadata": {
            "tags": []
          },
          "execution_count": 254
        }
      ]
    },
    {
      "cell_type": "code",
      "metadata": {
        "id": "R9E1mmchNsnj"
      },
      "source": [
        "del frame2['eastern']"
      ],
      "execution_count": null,
      "outputs": []
    },
    {
      "cell_type": "code",
      "metadata": {
        "colab": {
          "base_uri": "https://localhost:8080/"
        },
        "id": "PIlbSSuUNyJ2",
        "outputId": "41d45c50-9fb5-4482-8e6a-2e7df933914e"
      },
      "source": [
        "frame2.columns"
      ],
      "execution_count": null,
      "outputs": [
        {
          "output_type": "execute_result",
          "data": {
            "text/plain": [
              "Index(['year', 'state', 'pop', 'debt'], dtype='object')"
            ]
          },
          "metadata": {
            "tags": []
          },
          "execution_count": 256
        }
      ]
    },
    {
      "cell_type": "markdown",
      "metadata": {
        "id": "U--rJH_BOCk1"
      },
      "source": [
        "> 警告：通过索引方式返回的列只是相应数据的视图，并不是副本。因此对返回的Series所做的任何就地修改都会反映源到DataFrame上。通过Series的copy方法可以显式地复制列"
      ]
    },
    {
      "cell_type": "code",
      "metadata": {
        "colab": {
          "base_uri": "https://localhost:8080/"
        },
        "id": "bxb0sGUiOZSJ",
        "outputId": "94182682-d1f8-4bbc-cf33-98ee5241a9e1"
      },
      "source": [
        "frame2"
      ],
      "execution_count": null,
      "outputs": [
        {
          "output_type": "execute_result",
          "data": {
            "text/html": [
              "<div>\n",
              "<style scoped>\n",
              "    .dataframe tbody tr th:only-of-type {\n",
              "        vertical-align: middle;\n",
              "    }\n",
              "\n",
              "    .dataframe tbody tr th {\n",
              "        vertical-align: top;\n",
              "    }\n",
              "\n",
              "    .dataframe thead th {\n",
              "        text-align: right;\n",
              "    }\n",
              "</style>\n",
              "<table border=\"1\" class=\"dataframe\">\n",
              "  <thead>\n",
              "    <tr style=\"text-align: right;\">\n",
              "      <th></th>\n",
              "      <th>year</th>\n",
              "      <th>state</th>\n",
              "      <th>pop</th>\n",
              "      <th>debt</th>\n",
              "    </tr>\n",
              "  </thead>\n",
              "  <tbody>\n",
              "    <tr>\n",
              "      <th>one</th>\n",
              "      <td>2000</td>\n",
              "      <td>Ohio</td>\n",
              "      <td>1.5</td>\n",
              "      <td>NaN</td>\n",
              "    </tr>\n",
              "    <tr>\n",
              "      <th>two</th>\n",
              "      <td>2001</td>\n",
              "      <td>Ohio</td>\n",
              "      <td>1.7</td>\n",
              "      <td>-1.2</td>\n",
              "    </tr>\n",
              "    <tr>\n",
              "      <th>three</th>\n",
              "      <td>2002</td>\n",
              "      <td>Ohio</td>\n",
              "      <td>3.6</td>\n",
              "      <td>NaN</td>\n",
              "    </tr>\n",
              "    <tr>\n",
              "      <th>four</th>\n",
              "      <td>2001</td>\n",
              "      <td>Navada</td>\n",
              "      <td>2.4</td>\n",
              "      <td>-1.5</td>\n",
              "    </tr>\n",
              "    <tr>\n",
              "      <th>five</th>\n",
              "      <td>2002</td>\n",
              "      <td>Navada</td>\n",
              "      <td>2.9</td>\n",
              "      <td>-1.7</td>\n",
              "    </tr>\n",
              "  </tbody>\n",
              "</table>\n",
              "</div>"
            ],
            "text/plain": [
              "       year   state  pop  debt\n",
              "one    2000    Ohio  1.5   NaN\n",
              "two    2001    Ohio  1.7  -1.2\n",
              "three  2002    Ohio  3.6   NaN\n",
              "four   2001  Navada  2.4  -1.5\n",
              "five   2002  Navada  2.9  -1.7"
            ]
          },
          "metadata": {
            "tags": []
          },
          "execution_count": 257
        }
      ]
    },
    {
      "cell_type": "code",
      "metadata": {
        "colab": {
          "base_uri": "https://localhost:8080/"
        },
        "id": "RsxO3qN_OcKb",
        "outputId": "f712ba79-3c1c-4647-cf1b-44cda5343277"
      },
      "source": [
        "to_change = frame2['year']\n",
        "to_change = 1\n",
        "print(to_change)\n",
        "print(frame2)"
      ],
      "execution_count": null,
      "outputs": [
        {
          "output_type": "stream",
          "text": [
            "1\n",
            "       year   state  pop  debt\n",
            "one    2000    Ohio  1.5   NaN\n",
            "two    2001    Ohio  1.7  -1.2\n",
            "three  2002    Ohio  3.6   NaN\n",
            "four   2001  Navada  2.4  -1.5\n",
            "five   2002  Navada  2.9  -1.7\n"
          ],
          "name": "stdout"
        }
      ]
    },
    {
      "cell_type": "markdown",
      "metadata": {
        "id": "t5jTvcIeOzl4"
      },
      "source": [
        "另一种常见的数据形式是嵌套字典，也就是字典的字典"
      ]
    },
    {
      "cell_type": "code",
      "metadata": {
        "colab": {
          "base_uri": "https://localhost:8080/"
        },
        "id": "Mix-3QtqOmDc",
        "outputId": "67af36f8-9460-4443-87da-e3f38035bd3d"
      },
      "source": [
        "pop = {'Nevada':{2001:2.4, 2002:2.9},\n",
        "       'Ohio':{2000:1.5, 2001:1.7, 2002:3.6}}\n",
        "frame3 = DataFrame(pop)\n",
        "frame3"
      ],
      "execution_count": null,
      "outputs": [
        {
          "output_type": "execute_result",
          "data": {
            "text/html": [
              "<div>\n",
              "<style scoped>\n",
              "    .dataframe tbody tr th:only-of-type {\n",
              "        vertical-align: middle;\n",
              "    }\n",
              "\n",
              "    .dataframe tbody tr th {\n",
              "        vertical-align: top;\n",
              "    }\n",
              "\n",
              "    .dataframe thead th {\n",
              "        text-align: right;\n",
              "    }\n",
              "</style>\n",
              "<table border=\"1\" class=\"dataframe\">\n",
              "  <thead>\n",
              "    <tr style=\"text-align: right;\">\n",
              "      <th></th>\n",
              "      <th>Nevada</th>\n",
              "      <th>Ohio</th>\n",
              "    </tr>\n",
              "  </thead>\n",
              "  <tbody>\n",
              "    <tr>\n",
              "      <th>2001</th>\n",
              "      <td>2.4</td>\n",
              "      <td>1.7</td>\n",
              "    </tr>\n",
              "    <tr>\n",
              "      <th>2002</th>\n",
              "      <td>2.9</td>\n",
              "      <td>3.6</td>\n",
              "    </tr>\n",
              "    <tr>\n",
              "      <th>2000</th>\n",
              "      <td>NaN</td>\n",
              "      <td>1.5</td>\n",
              "    </tr>\n",
              "  </tbody>\n",
              "</table>\n",
              "</div>"
            ],
            "text/plain": [
              "      Nevada  Ohio\n",
              "2001     2.4   1.7\n",
              "2002     2.9   3.6\n",
              "2000     NaN   1.5"
            ]
          },
          "metadata": {
            "tags": []
          },
          "execution_count": 259
        }
      ]
    },
    {
      "cell_type": "code",
      "metadata": {
        "colab": {
          "base_uri": "https://localhost:8080/"
        },
        "id": "a2xBlHUpPHMt",
        "outputId": "c1d84368-01b5-4b00-c915-c6467a610c4a"
      },
      "source": [
        "DataFrame(pop, index=[2001, 2002, 2003])"
      ],
      "execution_count": null,
      "outputs": [
        {
          "output_type": "execute_result",
          "data": {
            "text/html": [
              "<div>\n",
              "<style scoped>\n",
              "    .dataframe tbody tr th:only-of-type {\n",
              "        vertical-align: middle;\n",
              "    }\n",
              "\n",
              "    .dataframe tbody tr th {\n",
              "        vertical-align: top;\n",
              "    }\n",
              "\n",
              "    .dataframe thead th {\n",
              "        text-align: right;\n",
              "    }\n",
              "</style>\n",
              "<table border=\"1\" class=\"dataframe\">\n",
              "  <thead>\n",
              "    <tr style=\"text-align: right;\">\n",
              "      <th></th>\n",
              "      <th>Nevada</th>\n",
              "      <th>Ohio</th>\n",
              "    </tr>\n",
              "  </thead>\n",
              "  <tbody>\n",
              "    <tr>\n",
              "      <th>2001</th>\n",
              "      <td>2.4</td>\n",
              "      <td>1.7</td>\n",
              "    </tr>\n",
              "    <tr>\n",
              "      <th>2002</th>\n",
              "      <td>2.9</td>\n",
              "      <td>3.6</td>\n",
              "    </tr>\n",
              "    <tr>\n",
              "      <th>2003</th>\n",
              "      <td>NaN</td>\n",
              "      <td>NaN</td>\n",
              "    </tr>\n",
              "  </tbody>\n",
              "</table>\n",
              "</div>"
            ],
            "text/plain": [
              "      Nevada  Ohio\n",
              "2001     2.4   1.7\n",
              "2002     2.9   3.6\n",
              "2003     NaN   NaN"
            ]
          },
          "metadata": {
            "tags": []
          },
          "execution_count": 260
        }
      ]
    },
    {
      "cell_type": "markdown",
      "metadata": {
        "id": "xTa4Yn04QfAu"
      },
      "source": [
        "### 可以输入给**DataFrame构造器**的数据、\n",
        "+ 二维ndarray：数据矩阵，还可以传入行标，列标\n",
        "+ 由数组、列标或元组组成的字典：每个序列会变成DataFrame的一列。所有序列长度必须相同\n",
        "+ Numpy的结构化/记录数组：类似于\"由数组组成的字典\"\n",
        "+ 由Series组成的字典：每个Series会成为一列。如果没有显式指定索引，则各Series的索引会被合并成结果的行索引\n",
        "+ 由字典组成的字典：各内层字典会成为一列。建会被合并成结果的行索引\n",
        "+ 字典或Series的列表：各项成为DataFrame的一行，字典键或者Series的索引的并集成为DataFrame的列标。\n",
        "+ 由列表或元素组成的列表：类似二维ndarray\n",
        "+ 另一个DataFrame：该DataFrame的索引会被沿用，除非显式指定其他索引\n",
        "+ Numpy的MaskerArray：类似于“二维ndarray”，只是掩码值在结果DataFrame会变成NA/缺失值"
      ]
    },
    {
      "cell_type": "markdown",
      "metadata": {
        "id": "vKt6MsiLU5dH"
      },
      "source": [
        "如果设置了DataFrame的index和columns的name属性，则这些信息也会显示"
      ]
    },
    {
      "cell_type": "code",
      "metadata": {
        "colab": {
          "base_uri": "https://localhost:8080/"
        },
        "id": "c8pZo5SfPndk",
        "outputId": "6ff99789-03ec-43ad-f236-db8d0422478a"
      },
      "source": [
        "frame3.index.name = 'year'; frame3.columns.name = 'state'\n",
        "frame3"
      ],
      "execution_count": null,
      "outputs": [
        {
          "output_type": "execute_result",
          "data": {
            "text/html": [
              "<div>\n",
              "<style scoped>\n",
              "    .dataframe tbody tr th:only-of-type {\n",
              "        vertical-align: middle;\n",
              "    }\n",
              "\n",
              "    .dataframe tbody tr th {\n",
              "        vertical-align: top;\n",
              "    }\n",
              "\n",
              "    .dataframe thead th {\n",
              "        text-align: right;\n",
              "    }\n",
              "</style>\n",
              "<table border=\"1\" class=\"dataframe\">\n",
              "  <thead>\n",
              "    <tr style=\"text-align: right;\">\n",
              "      <th>state</th>\n",
              "      <th>Nevada</th>\n",
              "      <th>Ohio</th>\n",
              "    </tr>\n",
              "    <tr>\n",
              "      <th>year</th>\n",
              "      <th></th>\n",
              "      <th></th>\n",
              "    </tr>\n",
              "  </thead>\n",
              "  <tbody>\n",
              "    <tr>\n",
              "      <th>2001</th>\n",
              "      <td>2.4</td>\n",
              "      <td>1.7</td>\n",
              "    </tr>\n",
              "    <tr>\n",
              "      <th>2002</th>\n",
              "      <td>2.9</td>\n",
              "      <td>3.6</td>\n",
              "    </tr>\n",
              "    <tr>\n",
              "      <th>2000</th>\n",
              "      <td>NaN</td>\n",
              "      <td>1.5</td>\n",
              "    </tr>\n",
              "  </tbody>\n",
              "</table>\n",
              "</div>"
            ],
            "text/plain": [
              "state  Nevada  Ohio\n",
              "year               \n",
              "2001      2.4   1.7\n",
              "2002      2.9   3.6\n",
              "2000      NaN   1.5"
            ]
          },
          "metadata": {
            "tags": []
          },
          "execution_count": 261
        }
      ]
    },
    {
      "cell_type": "code",
      "metadata": {
        "colab": {
          "base_uri": "https://localhost:8080/"
        },
        "id": "y4yHA_yvUjV3",
        "outputId": "45b5e099-b431-4138-aa55-2268352ebb52"
      },
      "source": [
        "frame2.values"
      ],
      "execution_count": null,
      "outputs": [
        {
          "output_type": "execute_result",
          "data": {
            "text/plain": [
              "array([[2000, 'Ohio', 1.5, nan],\n",
              "       [2001, 'Ohio', 1.7, -1.2],\n",
              "       [2002, 'Ohio', 3.6, nan],\n",
              "       [2001, 'Navada', 2.4, -1.5],\n",
              "       [2002, 'Navada', 2.9, -1.7]], dtype=object)"
            ]
          },
          "metadata": {
            "tags": []
          },
          "execution_count": 262
        }
      ]
    },
    {
      "cell_type": "markdown",
      "metadata": {
        "id": "0zgRIi6DUwkq"
      },
      "source": [
        "## 索引对象"
      ]
    },
    {
      "cell_type": "markdown",
      "metadata": {
        "id": "bfsRzAcPVDsZ"
      },
      "source": [
        "pandas的索引对象负责管理轴标签和其他元数据（比如轴名称等）。构建Series或DataFrame时，所用到的任何数组或其他序列的标签都会被转换成一个index："
      ]
    },
    {
      "cell_type": "code",
      "metadata": {
        "colab": {
          "base_uri": "https://localhost:8080/"
        },
        "id": "aTNmVS93VrvF",
        "outputId": "624820f2-63a0-4690-83ee-dcfb435a27e1"
      },
      "source": [
        "obj = Series(range(3), index=['a', 'b', 'c'])\n",
        "index = obj.index\n",
        "index"
      ],
      "execution_count": null,
      "outputs": [
        {
          "output_type": "execute_result",
          "data": {
            "text/plain": [
              "Index(['a', 'b', 'c'], dtype='object')"
            ]
          },
          "metadata": {
            "tags": []
          },
          "execution_count": 263
        }
      ]
    },
    {
      "cell_type": "code",
      "metadata": {
        "colab": {
          "base_uri": "https://localhost:8080/"
        },
        "id": "f9Zx2Ev7V6k1",
        "outputId": "29328970-c416-4619-f73b-548244d3e30e"
      },
      "source": [
        "index[1:]"
      ],
      "execution_count": null,
      "outputs": [
        {
          "output_type": "execute_result",
          "data": {
            "text/plain": [
              "Index(['b', 'c'], dtype='object')"
            ]
          },
          "metadata": {
            "tags": []
          },
          "execution_count": 264
        }
      ]
    },
    {
      "cell_type": "markdown",
      "metadata": {
        "id": "ymoz_nsFWMqR"
      },
      "source": [
        "Index对象是不能修改（immutable）的"
      ]
    },
    {
      "cell_type": "code",
      "metadata": {
        "id": "jFwhzji7WAwL"
      },
      "source": [
        "#index[1] = d"
      ],
      "execution_count": null,
      "outputs": []
    },
    {
      "cell_type": "markdown",
      "metadata": {
        "id": "BkGkvuJBWS3l"
      },
      "source": [
        "不可修改性很重要，因为这样才能使Index对象在多个数据结构之间安全共享"
      ]
    },
    {
      "cell_type": "code",
      "metadata": {
        "colab": {
          "base_uri": "https://localhost:8080/"
        },
        "id": "wKw2x-slWKSR",
        "outputId": "b400dcf9-c189-40e5-87a5-d4c1f8432168"
      },
      "source": [
        "index = pd.Index(np.arange(3))\n",
        "obj2 = Series([1.5, -2.5, 0], index=index)\n",
        "obj2.index is index"
      ],
      "execution_count": null,
      "outputs": [
        {
          "output_type": "execute_result",
          "data": {
            "text/plain": [
              "True"
            ]
          },
          "metadata": {
            "tags": []
          },
          "execution_count": 266
        }
      ]
    },
    {
      "cell_type": "markdown",
      "metadata": {
        "id": "GzwLe5SGXVeU"
      },
      "source": [
        "### Pandas中的主要Index对象"
      ]
    },
    {
      "cell_type": "markdown",
      "metadata": {
        "id": "sk4tFv71W1y1"
      },
      "source": [
        "![截屏2021-01-28 下午5.39.54.png](data:image/png;base64,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)"
      ]
    },
    {
      "cell_type": "markdown",
      "metadata": {
        "id": "mpxGuzeOXMfD"
      },
      "source": [
        "除了长得像数组，Index的功能也类似一个固定大小的集合"
      ]
    },
    {
      "cell_type": "code",
      "metadata": {
        "colab": {
          "base_uri": "https://localhost:8080/"
        },
        "id": "amfIiLMYXgoO",
        "outputId": "5e6ace78-16a5-4612-b8c3-d8d9fc40de25"
      },
      "source": [
        "frame3"
      ],
      "execution_count": null,
      "outputs": [
        {
          "output_type": "execute_result",
          "data": {
            "text/html": [
              "<div>\n",
              "<style scoped>\n",
              "    .dataframe tbody tr th:only-of-type {\n",
              "        vertical-align: middle;\n",
              "    }\n",
              "\n",
              "    .dataframe tbody tr th {\n",
              "        vertical-align: top;\n",
              "    }\n",
              "\n",
              "    .dataframe thead th {\n",
              "        text-align: right;\n",
              "    }\n",
              "</style>\n",
              "<table border=\"1\" class=\"dataframe\">\n",
              "  <thead>\n",
              "    <tr style=\"text-align: right;\">\n",
              "      <th>state</th>\n",
              "      <th>Nevada</th>\n",
              "      <th>Ohio</th>\n",
              "    </tr>\n",
              "    <tr>\n",
              "      <th>year</th>\n",
              "      <th></th>\n",
              "      <th></th>\n",
              "    </tr>\n",
              "  </thead>\n",
              "  <tbody>\n",
              "    <tr>\n",
              "      <th>2001</th>\n",
              "      <td>2.4</td>\n",
              "      <td>1.7</td>\n",
              "    </tr>\n",
              "    <tr>\n",
              "      <th>2002</th>\n",
              "      <td>2.9</td>\n",
              "      <td>3.6</td>\n",
              "    </tr>\n",
              "    <tr>\n",
              "      <th>2000</th>\n",
              "      <td>NaN</td>\n",
              "      <td>1.5</td>\n",
              "    </tr>\n",
              "  </tbody>\n",
              "</table>\n",
              "</div>"
            ],
            "text/plain": [
              "state  Nevada  Ohio\n",
              "year               \n",
              "2001      2.4   1.7\n",
              "2002      2.9   3.6\n",
              "2000      NaN   1.5"
            ]
          },
          "metadata": {
            "tags": []
          },
          "execution_count": 267
        }
      ]
    },
    {
      "cell_type": "code",
      "metadata": {
        "colab": {
          "base_uri": "https://localhost:8080/"
        },
        "id": "F7HuUgbLXhsE",
        "outputId": "b3b2ad06-58d6-4f28-b852-51768ba7ec4d"
      },
      "source": [
        "'Ohio' in frame3.columns"
      ],
      "execution_count": null,
      "outputs": [
        {
          "output_type": "execute_result",
          "data": {
            "text/plain": [
              "True"
            ]
          },
          "metadata": {
            "tags": []
          },
          "execution_count": 268
        }
      ]
    },
    {
      "cell_type": "code",
      "metadata": {
        "colab": {
          "base_uri": "https://localhost:8080/"
        },
        "id": "2cHs2SJ_XyTb",
        "outputId": "aa851577-beaf-4f8c-c758-04cddcddb8af"
      },
      "source": [
        "2003 in frame3.index"
      ],
      "execution_count": null,
      "outputs": [
        {
          "output_type": "execute_result",
          "data": {
            "text/plain": [
              "False"
            ]
          },
          "metadata": {
            "tags": []
          },
          "execution_count": 269
        }
      ]
    },
    {
      "cell_type": "code",
      "metadata": {
        "colab": {
          "base_uri": "https://localhost:8080/"
        },
        "id": "513yl-4HX0aL",
        "outputId": "3525bef1-82fe-4e11-f991-26b2e406a35b"
      },
      "source": [
        "print(frame3.index.name)\n",
        "print(frame3.columns.name)"
      ],
      "execution_count": null,
      "outputs": [
        {
          "output_type": "stream",
          "text": [
            "year\n",
            "state\n"
          ],
          "name": "stdout"
        }
      ]
    },
    {
      "cell_type": "markdown",
      "metadata": {
        "id": "rV-_ohbtX3nF"
      },
      "source": [
        "每个索引都有一些方法和属性，它们可用于设置逻辑并回答有关该索引所包含的数据的常见问题。下表列出了这些函数\n"
      ]
    },
    {
      "cell_type": "markdown",
      "metadata": {
        "id": "nh6rk0YGjcyC"
      },
      "source": [
        "![image.png](data:image/png;base64,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)"
      ]
    },
    {
      "cell_type": "markdown",
      "metadata": {
        "id": "Qv3RoIvK3k9d"
      },
      "source": [
        "# 基本功能\n"
      ]
    },
    {
      "cell_type": "markdown",
      "metadata": {
        "id": "lIehH1QDjH-i"
      },
      "source": [
        "## 重新索引\n",
        "一个重要方法是reindex，其作用是创建一个适应新索引的新对象。以之前的一个简单示例来说"
      ]
    },
    {
      "cell_type": "code",
      "metadata": {
        "colab": {
          "base_uri": "https://localhost:8080/"
        },
        "id": "MKQpr-3V4OU6",
        "outputId": "d7fed703-d571-427e-8902-3fb33a9d795e"
      },
      "source": [
        "obj = Series([4.5, 7.2, -5.3, 3.6], index=['d', 'b', 'a', 'c'])\n",
        "obj"
      ],
      "execution_count": null,
      "outputs": [
        {
          "output_type": "execute_result",
          "data": {
            "text/plain": [
              "d    4.5\n",
              "b    7.2\n",
              "a   -5.3\n",
              "c    3.6\n",
              "dtype: float64"
            ]
          },
          "metadata": {
            "tags": []
          },
          "execution_count": 271
        }
      ]
    },
    {
      "cell_type": "code",
      "metadata": {
        "colab": {
          "base_uri": "https://localhost:8080/"
        },
        "id": "9lrlByL34XEn",
        "outputId": "0cc9cefd-f52a-4727-fc14-38b1048fff8f"
      },
      "source": [
        "obj2 = obj.reindex(['a', 'b', 'c', 'd', 'e'])\n",
        "obj2"
      ],
      "execution_count": null,
      "outputs": [
        {
          "output_type": "execute_result",
          "data": {
            "text/plain": [
              "a   -5.3\n",
              "b    7.2\n",
              "c    3.6\n",
              "d    4.5\n",
              "e    NaN\n",
              "dtype: float64"
            ]
          },
          "metadata": {
            "tags": []
          },
          "execution_count": 272
        }
      ]
    },
    {
      "cell_type": "code",
      "metadata": {
        "colab": {
          "base_uri": "https://localhost:8080/"
        },
        "id": "oV2CNUYN4iay",
        "outputId": "41cd9d8d-e216-4d95-fa11-3a2929127daf"
      },
      "source": [
        "obj.reindex(['a', 'b', 'c', 'd', 'e'], fill_value=0)"
      ],
      "execution_count": null,
      "outputs": [
        {
          "output_type": "execute_result",
          "data": {
            "text/plain": [
              "a   -5.3\n",
              "b    7.2\n",
              "c    3.6\n",
              "d    4.5\n",
              "e    0.0\n",
              "dtype: float64"
            ]
          },
          "metadata": {
            "tags": []
          },
          "execution_count": 273
        }
      ]
    },
    {
      "cell_type": "markdown",
      "metadata": {
        "id": "UWFKvRoQ5Pj-"
      },
      "source": [
        "对于时间序列这样的有序数据，重新索引时可能需要做一些差值处理。method选项即可达到此目的，例如，使用ffill可以实现**前向值填充**："
      ]
    },
    {
      "cell_type": "code",
      "metadata": {
        "colab": {
          "base_uri": "https://localhost:8080/"
        },
        "id": "dvlJsmc45M3f",
        "outputId": "31394c43-8177-40a4-9491-860d86974d25"
      },
      "source": [
        "obj3 = Series(['blue', 'purple', 'yellow'], index=[0, 2, 4])\n",
        "obj3.reindex(range(6), method='ffill')"
      ],
      "execution_count": null,
      "outputs": [
        {
          "output_type": "execute_result",
          "data": {
            "text/plain": [
              "0      blue\n",
              "1      blue\n",
              "2    purple\n",
              "3    purple\n",
              "4    yellow\n",
              "5    yellow\n",
              "dtype: object"
            ]
          },
          "metadata": {
            "tags": []
          },
          "execution_count": 274
        }
      ]
    },
    {
      "cell_type": "markdown",
      "metadata": {
        "id": "cBwMJxyxEjR6"
      },
      "source": [
        "reindex的插值method选项\n",
        "+ ffill或pad 前向填充值\n",
        "+ bfill或backfill 后向填充值"
      ]
    },
    {
      "cell_type": "markdown",
      "metadata": {
        "id": "uyIyOpUaEbWO"
      },
      "source": [
        "对于DataFrame,reindex可以修改行索引、列，或者两个都修改。如果仅传入一个序列，则会重新索引行。\n",
        "\n",
        "reindex不是原地修改，而是返回新的表"
      ]
    },
    {
      "cell_type": "code",
      "metadata": {
        "colab": {
          "base_uri": "https://localhost:8080/"
        },
        "id": "WsW9awzsWEmN",
        "outputId": "5d49755f-cbea-4100-fc90-5f432b0a24f1"
      },
      "source": [
        "frame = DataFrame(np.arange(9).reshape((3,3)), index=['a', 'b', 'c'], columns=['Ohio', 'Texas', 'California'])\n",
        "frame"
      ],
      "execution_count": null,
      "outputs": [
        {
          "output_type": "execute_result",
          "data": {
            "text/html": [
              "<div>\n",
              "<style scoped>\n",
              "    .dataframe tbody tr th:only-of-type {\n",
              "        vertical-align: middle;\n",
              "    }\n",
              "\n",
              "    .dataframe tbody tr th {\n",
              "        vertical-align: top;\n",
              "    }\n",
              "\n",
              "    .dataframe thead th {\n",
              "        text-align: right;\n",
              "    }\n",
              "</style>\n",
              "<table border=\"1\" class=\"dataframe\">\n",
              "  <thead>\n",
              "    <tr style=\"text-align: right;\">\n",
              "      <th></th>\n",
              "      <th>Ohio</th>\n",
              "      <th>Texas</th>\n",
              "      <th>California</th>\n",
              "    </tr>\n",
              "  </thead>\n",
              "  <tbody>\n",
              "    <tr>\n",
              "      <th>a</th>\n",
              "      <td>0</td>\n",
              "      <td>1</td>\n",
              "      <td>2</td>\n",
              "    </tr>\n",
              "    <tr>\n",
              "      <th>b</th>\n",
              "      <td>3</td>\n",
              "      <td>4</td>\n",
              "      <td>5</td>\n",
              "    </tr>\n",
              "    <tr>\n",
              "      <th>c</th>\n",
              "      <td>6</td>\n",
              "      <td>7</td>\n",
              "      <td>8</td>\n",
              "    </tr>\n",
              "  </tbody>\n",
              "</table>\n",
              "</div>"
            ],
            "text/plain": [
              "   Ohio  Texas  California\n",
              "a     0      1           2\n",
              "b     3      4           5\n",
              "c     6      7           8"
            ]
          },
          "metadata": {
            "tags": []
          },
          "execution_count": 275
        }
      ]
    },
    {
      "cell_type": "code",
      "metadata": {
        "colab": {
          "base_uri": "https://localhost:8080/"
        },
        "id": "5as3a8XybNJq",
        "outputId": "b7b5ba7c-8477-4738-cbe6-6e5c8ea51420"
      },
      "source": [
        "frame2 = frame.reindex(['a', 'b', 'c', 'd'])\n",
        "frame2"
      ],
      "execution_count": null,
      "outputs": [
        {
          "output_type": "execute_result",
          "data": {
            "text/html": [
              "<div>\n",
              "<style scoped>\n",
              "    .dataframe tbody tr th:only-of-type {\n",
              "        vertical-align: middle;\n",
              "    }\n",
              "\n",
              "    .dataframe tbody tr th {\n",
              "        vertical-align: top;\n",
              "    }\n",
              "\n",
              "    .dataframe thead th {\n",
              "        text-align: right;\n",
              "    }\n",
              "</style>\n",
              "<table border=\"1\" class=\"dataframe\">\n",
              "  <thead>\n",
              "    <tr style=\"text-align: right;\">\n",
              "      <th></th>\n",
              "      <th>Ohio</th>\n",
              "      <th>Texas</th>\n",
              "      <th>California</th>\n",
              "    </tr>\n",
              "  </thead>\n",
              "  <tbody>\n",
              "    <tr>\n",
              "      <th>a</th>\n",
              "      <td>0.0</td>\n",
              "      <td>1.0</td>\n",
              "      <td>2.0</td>\n",
              "    </tr>\n",
              "    <tr>\n",
              "      <th>b</th>\n",
              "      <td>3.0</td>\n",
              "      <td>4.0</td>\n",
              "      <td>5.0</td>\n",
              "    </tr>\n",
              "    <tr>\n",
              "      <th>c</th>\n",
              "      <td>6.0</td>\n",
              "      <td>7.0</td>\n",
              "      <td>8.0</td>\n",
              "    </tr>\n",
              "    <tr>\n",
              "      <th>d</th>\n",
              "      <td>NaN</td>\n",
              "      <td>NaN</td>\n",
              "      <td>NaN</td>\n",
              "    </tr>\n",
              "  </tbody>\n",
              "</table>\n",
              "</div>"
            ],
            "text/plain": [
              "   Ohio  Texas  California\n",
              "a   0.0    1.0         2.0\n",
              "b   3.0    4.0         5.0\n",
              "c   6.0    7.0         8.0\n",
              "d   NaN    NaN         NaN"
            ]
          },
          "metadata": {
            "tags": []
          },
          "execution_count": 276
        }
      ]
    },
    {
      "cell_type": "markdown",
      "metadata": {
        "id": "wv6vUPZvblRh"
      },
      "source": [
        "使用columns关键字即可重新索引列"
      ]
    },
    {
      "cell_type": "code",
      "metadata": {
        "colab": {
          "base_uri": "https://localhost:8080/"
        },
        "id": "o9m7a8P6bWEH",
        "outputId": "45d43a07-5651-40e9-eec1-2b53e947270b"
      },
      "source": [
        "states = ['Texas', 'Utah', 'California']\n",
        "frame.reindex(columns=states)"
      ],
      "execution_count": null,
      "outputs": [
        {
          "output_type": "execute_result",
          "data": {
            "text/html": [
              "<div>\n",
              "<style scoped>\n",
              "    .dataframe tbody tr th:only-of-type {\n",
              "        vertical-align: middle;\n",
              "    }\n",
              "\n",
              "    .dataframe tbody tr th {\n",
              "        vertical-align: top;\n",
              "    }\n",
              "\n",
              "    .dataframe thead th {\n",
              "        text-align: right;\n",
              "    }\n",
              "</style>\n",
              "<table border=\"1\" class=\"dataframe\">\n",
              "  <thead>\n",
              "    <tr style=\"text-align: right;\">\n",
              "      <th></th>\n",
              "      <th>Texas</th>\n",
              "      <th>Utah</th>\n",
              "      <th>California</th>\n",
              "    </tr>\n",
              "  </thead>\n",
              "  <tbody>\n",
              "    <tr>\n",
              "      <th>a</th>\n",
              "      <td>1</td>\n",
              "      <td>NaN</td>\n",
              "      <td>2</td>\n",
              "    </tr>\n",
              "    <tr>\n",
              "      <th>b</th>\n",
              "      <td>4</td>\n",
              "      <td>NaN</td>\n",
              "      <td>5</td>\n",
              "    </tr>\n",
              "    <tr>\n",
              "      <th>c</th>\n",
              "      <td>7</td>\n",
              "      <td>NaN</td>\n",
              "      <td>8</td>\n",
              "    </tr>\n",
              "  </tbody>\n",
              "</table>\n",
              "</div>"
            ],
            "text/plain": [
              "   Texas  Utah  California\n",
              "a      1   NaN           2\n",
              "b      4   NaN           5\n",
              "c      7   NaN           8"
            ]
          },
          "metadata": {
            "tags": []
          },
          "execution_count": 277
        }
      ]
    },
    {
      "cell_type": "markdown",
      "metadata": {
        "id": "baN_O_29biXy"
      },
      "source": [
        "可以同时对行和列进行重新索引，而插值则只能按行索引（即轴0）"
      ]
    },
    {
      "cell_type": "code",
      "metadata": {
        "colab": {
          "base_uri": "https://localhost:8080/"
        },
        "id": "0GPsgXPvcD8G",
        "outputId": "2370b812-4c87-4e70-f668-511ae66c1217"
      },
      "source": [
        "frame.reindex(index=['a', 'b', 'c', 'd'])"
      ],
      "execution_count": null,
      "outputs": [
        {
          "output_type": "execute_result",
          "data": {
            "text/html": [
              "<div>\n",
              "<style scoped>\n",
              "    .dataframe tbody tr th:only-of-type {\n",
              "        vertical-align: middle;\n",
              "    }\n",
              "\n",
              "    .dataframe tbody tr th {\n",
              "        vertical-align: top;\n",
              "    }\n",
              "\n",
              "    .dataframe thead th {\n",
              "        text-align: right;\n",
              "    }\n",
              "</style>\n",
              "<table border=\"1\" class=\"dataframe\">\n",
              "  <thead>\n",
              "    <tr style=\"text-align: right;\">\n",
              "      <th></th>\n",
              "      <th>Ohio</th>\n",
              "      <th>Texas</th>\n",
              "      <th>California</th>\n",
              "    </tr>\n",
              "  </thead>\n",
              "  <tbody>\n",
              "    <tr>\n",
              "      <th>a</th>\n",
              "      <td>0.0</td>\n",
              "      <td>1.0</td>\n",
              "      <td>2.0</td>\n",
              "    </tr>\n",
              "    <tr>\n",
              "      <th>b</th>\n",
              "      <td>3.0</td>\n",
              "      <td>4.0</td>\n",
              "      <td>5.0</td>\n",
              "    </tr>\n",
              "    <tr>\n",
              "      <th>c</th>\n",
              "      <td>6.0</td>\n",
              "      <td>7.0</td>\n",
              "      <td>8.0</td>\n",
              "    </tr>\n",
              "    <tr>\n",
              "      <th>d</th>\n",
              "      <td>NaN</td>\n",
              "      <td>NaN</td>\n",
              "      <td>NaN</td>\n",
              "    </tr>\n",
              "  </tbody>\n",
              "</table>\n",
              "</div>"
            ],
            "text/plain": [
              "   Ohio  Texas  California\n",
              "a   0.0    1.0         2.0\n",
              "b   3.0    4.0         5.0\n",
              "c   6.0    7.0         8.0\n",
              "d   NaN    NaN         NaN"
            ]
          },
          "metadata": {
            "tags": []
          },
          "execution_count": 278
        }
      ]
    },
    {
      "cell_type": "code",
      "metadata": {
        "colab": {
          "base_uri": "https://localhost:8080/"
        },
        "id": "vnYynHOocWFv",
        "outputId": "55d553dd-44c6-40d6-ff40-619e46a239bc"
      },
      "source": [
        "frame#可以看出原DataFrame没变"
      ],
      "execution_count": null,
      "outputs": [
        {
          "output_type": "execute_result",
          "data": {
            "text/html": [
              "<div>\n",
              "<style scoped>\n",
              "    .dataframe tbody tr th:only-of-type {\n",
              "        vertical-align: middle;\n",
              "    }\n",
              "\n",
              "    .dataframe tbody tr th {\n",
              "        vertical-align: top;\n",
              "    }\n",
              "\n",
              "    .dataframe thead th {\n",
              "        text-align: right;\n",
              "    }\n",
              "</style>\n",
              "<table border=\"1\" class=\"dataframe\">\n",
              "  <thead>\n",
              "    <tr style=\"text-align: right;\">\n",
              "      <th></th>\n",
              "      <th>Ohio</th>\n",
              "      <th>Texas</th>\n",
              "      <th>California</th>\n",
              "    </tr>\n",
              "  </thead>\n",
              "  <tbody>\n",
              "    <tr>\n",
              "      <th>a</th>\n",
              "      <td>0</td>\n",
              "      <td>1</td>\n",
              "      <td>2</td>\n",
              "    </tr>\n",
              "    <tr>\n",
              "      <th>b</th>\n",
              "      <td>3</td>\n",
              "      <td>4</td>\n",
              "      <td>5</td>\n",
              "    </tr>\n",
              "    <tr>\n",
              "      <th>c</th>\n",
              "      <td>6</td>\n",
              "      <td>7</td>\n",
              "      <td>8</td>\n",
              "    </tr>\n",
              "  </tbody>\n",
              "</table>\n",
              "</div>"
            ],
            "text/plain": [
              "   Ohio  Texas  California\n",
              "a     0      1           2\n",
              "b     3      4           5\n",
              "c     6      7           8"
            ]
          },
          "metadata": {
            "tags": []
          },
          "execution_count": 279
        }
      ]
    },
    {
      "cell_type": "markdown",
      "metadata": {
        "id": "1WPp82YKkCQb"
      },
      "source": [
        "## loc与iloc"
      ]
    },
    {
      "cell_type": "markdown",
      "metadata": {
        "id": "zEIR2-8Lt99a"
      },
      "source": [
        "loc是根据具体的索引Selection by Label函数，\n",
        "\n",
        "iloc的i是integer，接受整数索引。"
      ]
    },
    {
      "cell_type": "code",
      "metadata": {
        "colab": {
          "base_uri": "https://localhost:8080/"
        },
        "id": "KBbopm-ecXMq",
        "outputId": "98fa5caf-35f5-4d18-ba27-bde9280d3c55"
      },
      "source": [
        "frame.loc['a':'c', :]"
      ],
      "execution_count": null,
      "outputs": [
        {
          "output_type": "execute_result",
          "data": {
            "text/html": [
              "<div>\n",
              "<style scoped>\n",
              "    .dataframe tbody tr th:only-of-type {\n",
              "        vertical-align: middle;\n",
              "    }\n",
              "\n",
              "    .dataframe tbody tr th {\n",
              "        vertical-align: top;\n",
              "    }\n",
              "\n",
              "    .dataframe thead th {\n",
              "        text-align: right;\n",
              "    }\n",
              "</style>\n",
              "<table border=\"1\" class=\"dataframe\">\n",
              "  <thead>\n",
              "    <tr style=\"text-align: right;\">\n",
              "      <th></th>\n",
              "      <th>Ohio</th>\n",
              "      <th>Texas</th>\n",
              "      <th>California</th>\n",
              "    </tr>\n",
              "  </thead>\n",
              "  <tbody>\n",
              "    <tr>\n",
              "      <th>a</th>\n",
              "      <td>0</td>\n",
              "      <td>1</td>\n",
              "      <td>2</td>\n",
              "    </tr>\n",
              "    <tr>\n",
              "      <th>b</th>\n",
              "      <td>3</td>\n",
              "      <td>4</td>\n",
              "      <td>5</td>\n",
              "    </tr>\n",
              "    <tr>\n",
              "      <th>c</th>\n",
              "      <td>6</td>\n",
              "      <td>7</td>\n",
              "      <td>8</td>\n",
              "    </tr>\n",
              "  </tbody>\n",
              "</table>\n",
              "</div>"
            ],
            "text/plain": [
              "   Ohio  Texas  California\n",
              "a     0      1           2\n",
              "b     3      4           5\n",
              "c     6      7           8"
            ]
          },
          "metadata": {
            "tags": []
          },
          "execution_count": 280
        }
      ]
    },
    {
      "cell_type": "code",
      "metadata": {
        "colab": {
          "base_uri": "https://localhost:8080/"
        },
        "id": "cCzZEI3xcvV2",
        "outputId": "42582e16-12b5-456c-af2f-4dd85499f47a"
      },
      "source": [
        "frame.loc[['a','c'], :]"
      ],
      "execution_count": null,
      "outputs": [
        {
          "output_type": "execute_result",
          "data": {
            "text/html": [
              "<div>\n",
              "<style scoped>\n",
              "    .dataframe tbody tr th:only-of-type {\n",
              "        vertical-align: middle;\n",
              "    }\n",
              "\n",
              "    .dataframe tbody tr th {\n",
              "        vertical-align: top;\n",
              "    }\n",
              "\n",
              "    .dataframe thead th {\n",
              "        text-align: right;\n",
              "    }\n",
              "</style>\n",
              "<table border=\"1\" class=\"dataframe\">\n",
              "  <thead>\n",
              "    <tr style=\"text-align: right;\">\n",
              "      <th></th>\n",
              "      <th>Ohio</th>\n",
              "      <th>Texas</th>\n",
              "      <th>California</th>\n",
              "    </tr>\n",
              "  </thead>\n",
              "  <tbody>\n",
              "    <tr>\n",
              "      <th>a</th>\n",
              "      <td>0</td>\n",
              "      <td>1</td>\n",
              "      <td>2</td>\n",
              "    </tr>\n",
              "    <tr>\n",
              "      <th>c</th>\n",
              "      <td>6</td>\n",
              "      <td>7</td>\n",
              "      <td>8</td>\n",
              "    </tr>\n",
              "  </tbody>\n",
              "</table>\n",
              "</div>"
            ],
            "text/plain": [
              "   Ohio  Texas  California\n",
              "a     0      1           2\n",
              "c     6      7           8"
            ]
          },
          "metadata": {
            "tags": []
          },
          "execution_count": 281
        }
      ]
    },
    {
      "cell_type": "code",
      "metadata": {
        "colab": {
          "base_uri": "https://localhost:8080/"
        },
        "id": "hNs9pg0DjU_P",
        "outputId": "d2e56794-a5f7-4468-8b23-3a7e7ef6a33e"
      },
      "source": [
        "frame.iloc[0:2, 0:2]"
      ],
      "execution_count": null,
      "outputs": [
        {
          "output_type": "execute_result",
          "data": {
            "text/html": [
              "<div>\n",
              "<style scoped>\n",
              "    .dataframe tbody tr th:only-of-type {\n",
              "        vertical-align: middle;\n",
              "    }\n",
              "\n",
              "    .dataframe tbody tr th {\n",
              "        vertical-align: top;\n",
              "    }\n",
              "\n",
              "    .dataframe thead th {\n",
              "        text-align: right;\n",
              "    }\n",
              "</style>\n",
              "<table border=\"1\" class=\"dataframe\">\n",
              "  <thead>\n",
              "    <tr style=\"text-align: right;\">\n",
              "      <th></th>\n",
              "      <th>Ohio</th>\n",
              "      <th>Texas</th>\n",
              "    </tr>\n",
              "  </thead>\n",
              "  <tbody>\n",
              "    <tr>\n",
              "      <th>a</th>\n",
              "      <td>0</td>\n",
              "      <td>1</td>\n",
              "    </tr>\n",
              "    <tr>\n",
              "      <th>b</th>\n",
              "      <td>3</td>\n",
              "      <td>4</td>\n",
              "    </tr>\n",
              "  </tbody>\n",
              "</table>\n",
              "</div>"
            ],
            "text/plain": [
              "   Ohio  Texas\n",
              "a     0      1\n",
              "b     3      4"
            ]
          },
          "metadata": {
            "tags": []
          },
          "execution_count": 282
        }
      ]
    },
    {
      "cell_type": "markdown",
      "metadata": {
        "id": "M4QvzZbbupy0"
      },
      "source": [
        "## 算数运算和数据对齐\n",
        "pandas的一个重要功能是，他可以对不同的索引的对象进行算术运算。**将对象相加时，如果存在不同的索引对，则结果的索引对就是该索引对的并集。**"
      ]
    },
    {
      "cell_type": "code",
      "metadata": {
        "colab": {
          "base_uri": "https://localhost:8080/"
        },
        "id": "3PQ-qhd6tzH6",
        "outputId": "2e3c4e56-29be-44c5-ac54-07db255b8fbb"
      },
      "source": [
        "s1 = Series([7.3, -2.5, 3.4, 1.5], index=['a', 'c', 'd', 'e'])\n",
        "s2 = Series([-2.1, 3.6, -1.5, 4, 3.1], index=['a', 'c', 'e', 'f', 'g'])\n",
        "print(s1)\n",
        "print(s2)"
      ],
      "execution_count": null,
      "outputs": [
        {
          "output_type": "stream",
          "text": [
            "a    7.3\n",
            "c   -2.5\n",
            "d    3.4\n",
            "e    1.5\n",
            "dtype: float64\n",
            "a   -2.1\n",
            "c    3.6\n",
            "e   -1.5\n",
            "f    4.0\n",
            "g    3.1\n",
            "dtype: float64\n"
          ],
          "name": "stdout"
        }
      ]
    },
    {
      "cell_type": "markdown",
      "metadata": {
        "id": "GCztJXHs8EES"
      },
      "source": [
        "自动的数据对齐操作在不重叠的索引处引入了NA值。缺失值会在算术运算过程中传播"
      ]
    },
    {
      "cell_type": "markdown",
      "metadata": {
        "id": "Ymey0k6F7xGA"
      },
      "source": [
        "对于DataFrame，对齐操作会同时发生在行和列上："
      ]
    },
    {
      "cell_type": "code",
      "metadata": {
        "colab": {
          "base_uri": "https://localhost:8080/"
        },
        "id": "GtH9PaR58bNH",
        "outputId": "d2ab7a29-bc0e-48c1-9adb-bac87284da33"
      },
      "source": [
        "df1 = DataFrame(np.arange(9.).reshape((3, 3)), columns=list('bcd'),\n",
        "                index=['Ohio', 'Texas', 'Colorado'])\n",
        "df2 = DataFrame(np.arange(12.).reshape((4, 3)), columns=list('bde'),\n",
        "                index=['Utah', 'Ohio','Texas', 'Oregon'])\n",
        "df1 + df2"
      ],
      "execution_count": null,
      "outputs": [
        {
          "output_type": "execute_result",
          "data": {
            "text/html": [
              "<div>\n",
              "<style scoped>\n",
              "    .dataframe tbody tr th:only-of-type {\n",
              "        vertical-align: middle;\n",
              "    }\n",
              "\n",
              "    .dataframe tbody tr th {\n",
              "        vertical-align: top;\n",
              "    }\n",
              "\n",
              "    .dataframe thead th {\n",
              "        text-align: right;\n",
              "    }\n",
              "</style>\n",
              "<table border=\"1\" class=\"dataframe\">\n",
              "  <thead>\n",
              "    <tr style=\"text-align: right;\">\n",
              "      <th></th>\n",
              "      <th>b</th>\n",
              "      <th>c</th>\n",
              "      <th>d</th>\n",
              "      <th>e</th>\n",
              "    </tr>\n",
              "  </thead>\n",
              "  <tbody>\n",
              "    <tr>\n",
              "      <th>Colorado</th>\n",
              "      <td>NaN</td>\n",
              "      <td>NaN</td>\n",
              "      <td>NaN</td>\n",
              "      <td>NaN</td>\n",
              "    </tr>\n",
              "    <tr>\n",
              "      <th>Ohio</th>\n",
              "      <td>3.0</td>\n",
              "      <td>NaN</td>\n",
              "      <td>6.0</td>\n",
              "      <td>NaN</td>\n",
              "    </tr>\n",
              "    <tr>\n",
              "      <th>Oregon</th>\n",
              "      <td>NaN</td>\n",
              "      <td>NaN</td>\n",
              "      <td>NaN</td>\n",
              "      <td>NaN</td>\n",
              "    </tr>\n",
              "    <tr>\n",
              "      <th>Texas</th>\n",
              "      <td>9.0</td>\n",
              "      <td>NaN</td>\n",
              "      <td>12.0</td>\n",
              "      <td>NaN</td>\n",
              "    </tr>\n",
              "    <tr>\n",
              "      <th>Utah</th>\n",
              "      <td>NaN</td>\n",
              "      <td>NaN</td>\n",
              "      <td>NaN</td>\n",
              "      <td>NaN</td>\n",
              "    </tr>\n",
              "  </tbody>\n",
              "</table>\n",
              "</div>"
            ],
            "text/plain": [
              "            b   c     d   e\n",
              "Colorado  NaN NaN   NaN NaN\n",
              "Ohio      3.0 NaN   6.0 NaN\n",
              "Oregon    NaN NaN   NaN NaN\n",
              "Texas     9.0 NaN  12.0 NaN\n",
              "Utah      NaN NaN   NaN NaN"
            ]
          },
          "metadata": {
            "tags": []
          },
          "execution_count": 284
        }
      ]
    },
    {
      "cell_type": "markdown",
      "metadata": {
        "id": "ucUN7wQZ-Km-"
      },
      "source": [
        "可以看出，把他们相加后会返回一个新的DataFrame，其索引和列为原来的两个DataFrame的并集"
      ]
    },
    {
      "cell_type": "markdown",
      "metadata": {
        "id": "8WfKI05--aBT"
      },
      "source": [
        "### 在算术方法中填充值\n",
        "不同索引的对象算术运算时，希望一个对象某个轴标签在另一个对象中找不到时填充一个特殊值（比如0）"
      ]
    },
    {
      "cell_type": "code",
      "metadata": {
        "id": "1nClGnkB9oti"
      },
      "source": [
        "df1 = DataFrame(np.arange(12.).reshape((3,4)), columns=list('abcd'))\n",
        "df2 = DataFrame(np.arange(20.).reshape((4,5)), columns=list('abcde'))"
      ],
      "execution_count": null,
      "outputs": []
    },
    {
      "cell_type": "code",
      "metadata": {
        "colab": {
          "base_uri": "https://localhost:8080/"
        },
        "id": "RhBQ8kWd_Jco",
        "outputId": "5127f9be-08a1-45d4-f3ef-c5d7c7b944ea"
      },
      "source": [
        "df1"
      ],
      "execution_count": null,
      "outputs": [
        {
          "output_type": "execute_result",
          "data": {
            "text/html": [
              "<div>\n",
              "<style scoped>\n",
              "    .dataframe tbody tr th:only-of-type {\n",
              "        vertical-align: middle;\n",
              "    }\n",
              "\n",
              "    .dataframe tbody tr th {\n",
              "        vertical-align: top;\n",
              "    }\n",
              "\n",
              "    .dataframe thead th {\n",
              "        text-align: right;\n",
              "    }\n",
              "</style>\n",
              "<table border=\"1\" class=\"dataframe\">\n",
              "  <thead>\n",
              "    <tr style=\"text-align: right;\">\n",
              "      <th></th>\n",
              "      <th>a</th>\n",
              "      <th>b</th>\n",
              "      <th>c</th>\n",
              "      <th>d</th>\n",
              "    </tr>\n",
              "  </thead>\n",
              "  <tbody>\n",
              "    <tr>\n",
              "      <th>0</th>\n",
              "      <td>0.0</td>\n",
              "      <td>1.0</td>\n",
              "      <td>2.0</td>\n",
              "      <td>3.0</td>\n",
              "    </tr>\n",
              "    <tr>\n",
              "      <th>1</th>\n",
              "      <td>4.0</td>\n",
              "      <td>5.0</td>\n",
              "      <td>6.0</td>\n",
              "      <td>7.0</td>\n",
              "    </tr>\n",
              "    <tr>\n",
              "      <th>2</th>\n",
              "      <td>8.0</td>\n",
              "      <td>9.0</td>\n",
              "      <td>10.0</td>\n",
              "      <td>11.0</td>\n",
              "    </tr>\n",
              "  </tbody>\n",
              "</table>\n",
              "</div>"
            ],
            "text/plain": [
              "     a    b     c     d\n",
              "0  0.0  1.0   2.0   3.0\n",
              "1  4.0  5.0   6.0   7.0\n",
              "2  8.0  9.0  10.0  11.0"
            ]
          },
          "metadata": {
            "tags": []
          },
          "execution_count": 286
        }
      ]
    },
    {
      "cell_type": "code",
      "metadata": {
        "colab": {
          "base_uri": "https://localhost:8080/"
        },
        "id": "AxSm-m5U_MhV",
        "outputId": "f1772e2d-1f22-4c0d-c7c0-9b48ffeb71f3"
      },
      "source": [
        "df2"
      ],
      "execution_count": null,
      "outputs": [
        {
          "output_type": "execute_result",
          "data": {
            "text/html": [
              "<div>\n",
              "<style scoped>\n",
              "    .dataframe tbody tr th:only-of-type {\n",
              "        vertical-align: middle;\n",
              "    }\n",
              "\n",
              "    .dataframe tbody tr th {\n",
              "        vertical-align: top;\n",
              "    }\n",
              "\n",
              "    .dataframe thead th {\n",
              "        text-align: right;\n",
              "    }\n",
              "</style>\n",
              "<table border=\"1\" class=\"dataframe\">\n",
              "  <thead>\n",
              "    <tr style=\"text-align: right;\">\n",
              "      <th></th>\n",
              "      <th>a</th>\n",
              "      <th>b</th>\n",
              "      <th>c</th>\n",
              "      <th>d</th>\n",
              "      <th>e</th>\n",
              "    </tr>\n",
              "  </thead>\n",
              "  <tbody>\n",
              "    <tr>\n",
              "      <th>0</th>\n",
              "      <td>0.0</td>\n",
              "      <td>1.0</td>\n",
              "      <td>2.0</td>\n",
              "      <td>3.0</td>\n",
              "      <td>4.0</td>\n",
              "    </tr>\n",
              "    <tr>\n",
              "      <th>1</th>\n",
              "      <td>5.0</td>\n",
              "      <td>6.0</td>\n",
              "      <td>7.0</td>\n",
              "      <td>8.0</td>\n",
              "      <td>9.0</td>\n",
              "    </tr>\n",
              "    <tr>\n",
              "      <th>2</th>\n",
              "      <td>10.0</td>\n",
              "      <td>11.0</td>\n",
              "      <td>12.0</td>\n",
              "      <td>13.0</td>\n",
              "      <td>14.0</td>\n",
              "    </tr>\n",
              "    <tr>\n",
              "      <th>3</th>\n",
              "      <td>15.0</td>\n",
              "      <td>16.0</td>\n",
              "      <td>17.0</td>\n",
              "      <td>18.0</td>\n",
              "      <td>19.0</td>\n",
              "    </tr>\n",
              "  </tbody>\n",
              "</table>\n",
              "</div>"
            ],
            "text/plain": [
              "      a     b     c     d     e\n",
              "0   0.0   1.0   2.0   3.0   4.0\n",
              "1   5.0   6.0   7.0   8.0   9.0\n",
              "2  10.0  11.0  12.0  13.0  14.0\n",
              "3  15.0  16.0  17.0  18.0  19.0"
            ]
          },
          "metadata": {
            "tags": []
          },
          "execution_count": 287
        }
      ]
    },
    {
      "cell_type": "code",
      "metadata": {
        "colab": {
          "base_uri": "https://localhost:8080/"
        },
        "id": "_uPoFCGn_NKB",
        "outputId": "5dea1d12-8ec6-4998-e23c-382f1e46968b"
      },
      "source": [
        "df1 + df2"
      ],
      "execution_count": null,
      "outputs": [
        {
          "output_type": "execute_result",
          "data": {
            "text/html": [
              "<div>\n",
              "<style scoped>\n",
              "    .dataframe tbody tr th:only-of-type {\n",
              "        vertical-align: middle;\n",
              "    }\n",
              "\n",
              "    .dataframe tbody tr th {\n",
              "        vertical-align: top;\n",
              "    }\n",
              "\n",
              "    .dataframe thead th {\n",
              "        text-align: right;\n",
              "    }\n",
              "</style>\n",
              "<table border=\"1\" class=\"dataframe\">\n",
              "  <thead>\n",
              "    <tr style=\"text-align: right;\">\n",
              "      <th></th>\n",
              "      <th>a</th>\n",
              "      <th>b</th>\n",
              "      <th>c</th>\n",
              "      <th>d</th>\n",
              "      <th>e</th>\n",
              "    </tr>\n",
              "  </thead>\n",
              "  <tbody>\n",
              "    <tr>\n",
              "      <th>0</th>\n",
              "      <td>0.0</td>\n",
              "      <td>2.0</td>\n",
              "      <td>4.0</td>\n",
              "      <td>6.0</td>\n",
              "      <td>NaN</td>\n",
              "    </tr>\n",
              "    <tr>\n",
              "      <th>1</th>\n",
              "      <td>9.0</td>\n",
              "      <td>11.0</td>\n",
              "      <td>13.0</td>\n",
              "      <td>15.0</td>\n",
              "      <td>NaN</td>\n",
              "    </tr>\n",
              "    <tr>\n",
              "      <th>2</th>\n",
              "      <td>18.0</td>\n",
              "      <td>20.0</td>\n",
              "      <td>22.0</td>\n",
              "      <td>24.0</td>\n",
              "      <td>NaN</td>\n",
              "    </tr>\n",
              "    <tr>\n",
              "      <th>3</th>\n",
              "      <td>NaN</td>\n",
              "      <td>NaN</td>\n",
              "      <td>NaN</td>\n",
              "      <td>NaN</td>\n",
              "      <td>NaN</td>\n",
              "    </tr>\n",
              "  </tbody>\n",
              "</table>\n",
              "</div>"
            ],
            "text/plain": [
              "      a     b     c     d   e\n",
              "0   0.0   2.0   4.0   6.0 NaN\n",
              "1   9.0  11.0  13.0  15.0 NaN\n",
              "2  18.0  20.0  22.0  24.0 NaN\n",
              "3   NaN   NaN   NaN   NaN NaN"
            ]
          },
          "metadata": {
            "tags": []
          },
          "execution_count": 288
        }
      ]
    },
    {
      "cell_type": "code",
      "metadata": {
        "colab": {
          "base_uri": "https://localhost:8080/"
        },
        "id": "GVfxX1Fl_65f",
        "outputId": "8194eeb8-8f26-4ba0-8117-9d9da0135c42"
      },
      "source": [
        "df1.add(df2, fill_value=0)"
      ],
      "execution_count": null,
      "outputs": [
        {
          "output_type": "execute_result",
          "data": {
            "text/html": [
              "<div>\n",
              "<style scoped>\n",
              "    .dataframe tbody tr th:only-of-type {\n",
              "        vertical-align: middle;\n",
              "    }\n",
              "\n",
              "    .dataframe tbody tr th {\n",
              "        vertical-align: top;\n",
              "    }\n",
              "\n",
              "    .dataframe thead th {\n",
              "        text-align: right;\n",
              "    }\n",
              "</style>\n",
              "<table border=\"1\" class=\"dataframe\">\n",
              "  <thead>\n",
              "    <tr style=\"text-align: right;\">\n",
              "      <th></th>\n",
              "      <th>a</th>\n",
              "      <th>b</th>\n",
              "      <th>c</th>\n",
              "      <th>d</th>\n",
              "      <th>e</th>\n",
              "    </tr>\n",
              "  </thead>\n",
              "  <tbody>\n",
              "    <tr>\n",
              "      <th>0</th>\n",
              "      <td>0.0</td>\n",
              "      <td>2.0</td>\n",
              "      <td>4.0</td>\n",
              "      <td>6.0</td>\n",
              "      <td>4.0</td>\n",
              "    </tr>\n",
              "    <tr>\n",
              "      <th>1</th>\n",
              "      <td>9.0</td>\n",
              "      <td>11.0</td>\n",
              "      <td>13.0</td>\n",
              "      <td>15.0</td>\n",
              "      <td>9.0</td>\n",
              "    </tr>\n",
              "    <tr>\n",
              "      <th>2</th>\n",
              "      <td>18.0</td>\n",
              "      <td>20.0</td>\n",
              "      <td>22.0</td>\n",
              "      <td>24.0</td>\n",
              "      <td>14.0</td>\n",
              "    </tr>\n",
              "    <tr>\n",
              "      <th>3</th>\n",
              "      <td>15.0</td>\n",
              "      <td>16.0</td>\n",
              "      <td>17.0</td>\n",
              "      <td>18.0</td>\n",
              "      <td>19.0</td>\n",
              "    </tr>\n",
              "  </tbody>\n",
              "</table>\n",
              "</div>"
            ],
            "text/plain": [
              "      a     b     c     d     e\n",
              "0   0.0   2.0   4.0   6.0   4.0\n",
              "1   9.0  11.0  13.0  15.0   9.0\n",
              "2  18.0  20.0  22.0  24.0  14.0\n",
              "3  15.0  16.0  17.0  18.0  19.0"
            ]
          },
          "metadata": {
            "tags": []
          },
          "execution_count": 289
        }
      ]
    },
    {
      "cell_type": "markdown",
      "metadata": {
        "id": "xv09qOan__lL"
      },
      "source": [
        "与此类似，对Series和DataFrame使用reindex时也可以指定一个填充值"
      ]
    },
    {
      "cell_type": "code",
      "metadata": {
        "colab": {
          "base_uri": "https://localhost:8080/"
        },
        "id": "LTTuLk2l_9pq",
        "outputId": "835bdd4c-a008-488d-bec2-b7e58e7cbc87"
      },
      "source": [
        "df1.reindex(columns=df2.columns, fill_value=0)"
      ],
      "execution_count": null,
      "outputs": [
        {
          "output_type": "execute_result",
          "data": {
            "text/html": [
              "<div>\n",
              "<style scoped>\n",
              "    .dataframe tbody tr th:only-of-type {\n",
              "        vertical-align: middle;\n",
              "    }\n",
              "\n",
              "    .dataframe tbody tr th {\n",
              "        vertical-align: top;\n",
              "    }\n",
              "\n",
              "    .dataframe thead th {\n",
              "        text-align: right;\n",
              "    }\n",
              "</style>\n",
              "<table border=\"1\" class=\"dataframe\">\n",
              "  <thead>\n",
              "    <tr style=\"text-align: right;\">\n",
              "      <th></th>\n",
              "      <th>a</th>\n",
              "      <th>b</th>\n",
              "      <th>c</th>\n",
              "      <th>d</th>\n",
              "      <th>e</th>\n",
              "    </tr>\n",
              "  </thead>\n",
              "  <tbody>\n",
              "    <tr>\n",
              "      <th>0</th>\n",
              "      <td>0.0</td>\n",
              "      <td>1.0</td>\n",
              "      <td>2.0</td>\n",
              "      <td>3.0</td>\n",
              "      <td>0</td>\n",
              "    </tr>\n",
              "    <tr>\n",
              "      <th>1</th>\n",
              "      <td>4.0</td>\n",
              "      <td>5.0</td>\n",
              "      <td>6.0</td>\n",
              "      <td>7.0</td>\n",
              "      <td>0</td>\n",
              "    </tr>\n",
              "    <tr>\n",
              "      <th>2</th>\n",
              "      <td>8.0</td>\n",
              "      <td>9.0</td>\n",
              "      <td>10.0</td>\n",
              "      <td>11.0</td>\n",
              "      <td>0</td>\n",
              "    </tr>\n",
              "  </tbody>\n",
              "</table>\n",
              "</div>"
            ],
            "text/plain": [
              "     a    b     c     d  e\n",
              "0  0.0  1.0   2.0   3.0  0\n",
              "1  4.0  5.0   6.0   7.0  0\n",
              "2  8.0  9.0  10.0  11.0  0"
            ]
          },
          "metadata": {
            "tags": []
          },
          "execution_count": 290
        }
      ]
    },
    {
      "cell_type": "markdown",
      "metadata": {
        "id": "eKEHLsFYAKfE"
      },
      "source": [
        "### 灵活的算术方法\n",
        "![image.png](data:image/png;base64,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)"
      ]
    },
    {
      "cell_type": "markdown",
      "metadata": {
        "id": "8OVDUkYEAXsg"
      },
      "source": [
        "## DataFrame和Series之间的运算"
      ]
    },
    {
      "cell_type": "markdown",
      "metadata": {
        "id": "Ut3-mJTGAdNc"
      },
      "source": [
        "二者之间的运算有明确的规定"
      ]
    },
    {
      "cell_type": "code",
      "metadata": {
        "id": "Vr_99RjdAdIu",
        "colab": {
          "base_uri": "https://localhost:8080/"
        },
        "outputId": "700c4028-2522-4555-962d-aeb27a9e8866"
      },
      "source": [
        "arr = np.arange(12.).reshape((3, 4))\n",
        "arr"
      ],
      "execution_count": null,
      "outputs": [
        {
          "output_type": "execute_result",
          "data": {
            "text/plain": [
              "array([[ 0.,  1.,  2.,  3.],\n",
              "       [ 4.,  5.,  6.,  7.],\n",
              "       [ 8.,  9., 10., 11.]])"
            ]
          },
          "metadata": {
            "tags": []
          },
          "execution_count": 291
        }
      ]
    },
    {
      "cell_type": "code",
      "metadata": {
        "colab": {
          "base_uri": "https://localhost:8080/"
        },
        "id": "GZap3XmfAxDu",
        "outputId": "e6e7a2ef-1011-4004-a16c-9bcdb07d5d15"
      },
      "source": [
        "arr[0]"
      ],
      "execution_count": null,
      "outputs": [
        {
          "output_type": "execute_result",
          "data": {
            "text/plain": [
              "array([0., 1., 2., 3.])"
            ]
          },
          "metadata": {
            "tags": []
          },
          "execution_count": 292
        }
      ]
    },
    {
      "cell_type": "code",
      "metadata": {
        "colab": {
          "base_uri": "https://localhost:8080/"
        },
        "id": "7wF3ce8DJfai",
        "outputId": "471cde04-c426-4ba4-9384-59c71fb53e65"
      },
      "source": [
        "arr - arr[0]"
      ],
      "execution_count": null,
      "outputs": [
        {
          "output_type": "execute_result",
          "data": {
            "text/plain": [
              "array([[0., 0., 0., 0.],\n",
              "       [4., 4., 4., 4.],\n",
              "       [8., 8., 8., 8.]])"
            ]
          },
          "metadata": {
            "tags": []
          },
          "execution_count": 293
        }
      ]
    },
    {
      "cell_type": "markdown",
      "metadata": {
        "id": "aBlfPQZyJhoh"
      },
      "source": [
        "可以看出，这个也广播了"
      ]
    },
    {
      "cell_type": "code",
      "metadata": {
        "colab": {
          "base_uri": "https://localhost:8080/"
        },
        "id": "rC4MQ4E6Jg4e",
        "outputId": "179f6394-127c-4152-80f0-312108b58543"
      },
      "source": [
        "frame = DataFrame(np.arange(12.).reshape((4, 3)), columns=list('bde'),\n",
        "                  index=['Utah', 'Ohio', 'Texas', 'Oregon'])\n",
        "series = frame.iloc[0]\n",
        "print(frame)\n",
        "print(series)"
      ],
      "execution_count": null,
      "outputs": [
        {
          "output_type": "stream",
          "text": [
            "          b     d     e\n",
            "Utah    0.0   1.0   2.0\n",
            "Ohio    3.0   4.0   5.0\n",
            "Texas   6.0   7.0   8.0\n",
            "Oregon  9.0  10.0  11.0\n",
            "b    0.0\n",
            "d    1.0\n",
            "e    2.0\n",
            "Name: Utah, dtype: float64\n"
          ],
          "name": "stdout"
        }
      ]
    },
    {
      "cell_type": "markdown",
      "metadata": {
        "id": "3uSYAKCkMCpY"
      },
      "source": [
        "默认情况下，DataFrame和Series之间的算术运算会将Series的索引匹配到DataFrame的列，然后沿着行一直向下传播："
      ]
    },
    {
      "cell_type": "code",
      "metadata": {
        "colab": {
          "base_uri": "https://localhost:8080/"
        },
        "id": "-hoIuAOpKTM5",
        "outputId": "4dab5040-3cfe-4497-b2b4-12c43ac1c724"
      },
      "source": [
        "frame - series"
      ],
      "execution_count": null,
      "outputs": [
        {
          "output_type": "execute_result",
          "data": {
            "text/html": [
              "<div>\n",
              "<style scoped>\n",
              "    .dataframe tbody tr th:only-of-type {\n",
              "        vertical-align: middle;\n",
              "    }\n",
              "\n",
              "    .dataframe tbody tr th {\n",
              "        vertical-align: top;\n",
              "    }\n",
              "\n",
              "    .dataframe thead th {\n",
              "        text-align: right;\n",
              "    }\n",
              "</style>\n",
              "<table border=\"1\" class=\"dataframe\">\n",
              "  <thead>\n",
              "    <tr style=\"text-align: right;\">\n",
              "      <th></th>\n",
              "      <th>b</th>\n",
              "      <th>d</th>\n",
              "      <th>e</th>\n",
              "    </tr>\n",
              "  </thead>\n",
              "  <tbody>\n",
              "    <tr>\n",
              "      <th>Utah</th>\n",
              "      <td>0.0</td>\n",
              "      <td>0.0</td>\n",
              "      <td>0.0</td>\n",
              "    </tr>\n",
              "    <tr>\n",
              "      <th>Ohio</th>\n",
              "      <td>3.0</td>\n",
              "      <td>3.0</td>\n",
              "      <td>3.0</td>\n",
              "    </tr>\n",
              "    <tr>\n",
              "      <th>Texas</th>\n",
              "      <td>6.0</td>\n",
              "      <td>6.0</td>\n",
              "      <td>6.0</td>\n",
              "    </tr>\n",
              "    <tr>\n",
              "      <th>Oregon</th>\n",
              "      <td>9.0</td>\n",
              "      <td>9.0</td>\n",
              "      <td>9.0</td>\n",
              "    </tr>\n",
              "  </tbody>\n",
              "</table>\n",
              "</div>"
            ],
            "text/plain": [
              "          b    d    e\n",
              "Utah    0.0  0.0  0.0\n",
              "Ohio    3.0  3.0  3.0\n",
              "Texas   6.0  6.0  6.0\n",
              "Oregon  9.0  9.0  9.0"
            ]
          },
          "metadata": {
            "tags": []
          },
          "execution_count": 295
        }
      ]
    },
    {
      "cell_type": "markdown",
      "metadata": {
        "id": "ZDuceANAKVvj"
      },
      "source": [
        "如果某个索引值在DataFrame的列或者Series的索引中找不到，则重新索引形成并集"
      ]
    },
    {
      "cell_type": "code",
      "metadata": {
        "colab": {
          "base_uri": "https://localhost:8080/"
        },
        "id": "mdDmo8QwMXGZ",
        "outputId": "09f83cd7-e585-4f12-e994-edd8341d3698"
      },
      "source": [
        "series2 = Series(range(3), index=['b', 'e', 'f'])\n",
        "frame + series2"
      ],
      "execution_count": null,
      "outputs": [
        {
          "output_type": "execute_result",
          "data": {
            "text/html": [
              "<div>\n",
              "<style scoped>\n",
              "    .dataframe tbody tr th:only-of-type {\n",
              "        vertical-align: middle;\n",
              "    }\n",
              "\n",
              "    .dataframe tbody tr th {\n",
              "        vertical-align: top;\n",
              "    }\n",
              "\n",
              "    .dataframe thead th {\n",
              "        text-align: right;\n",
              "    }\n",
              "</style>\n",
              "<table border=\"1\" class=\"dataframe\">\n",
              "  <thead>\n",
              "    <tr style=\"text-align: right;\">\n",
              "      <th></th>\n",
              "      <th>b</th>\n",
              "      <th>d</th>\n",
              "      <th>e</th>\n",
              "      <th>f</th>\n",
              "    </tr>\n",
              "  </thead>\n",
              "  <tbody>\n",
              "    <tr>\n",
              "      <th>Utah</th>\n",
              "      <td>0.0</td>\n",
              "      <td>NaN</td>\n",
              "      <td>3.0</td>\n",
              "      <td>NaN</td>\n",
              "    </tr>\n",
              "    <tr>\n",
              "      <th>Ohio</th>\n",
              "      <td>3.0</td>\n",
              "      <td>NaN</td>\n",
              "      <td>6.0</td>\n",
              "      <td>NaN</td>\n",
              "    </tr>\n",
              "    <tr>\n",
              "      <th>Texas</th>\n",
              "      <td>6.0</td>\n",
              "      <td>NaN</td>\n",
              "      <td>9.0</td>\n",
              "      <td>NaN</td>\n",
              "    </tr>\n",
              "    <tr>\n",
              "      <th>Oregon</th>\n",
              "      <td>9.0</td>\n",
              "      <td>NaN</td>\n",
              "      <td>12.0</td>\n",
              "      <td>NaN</td>\n",
              "    </tr>\n",
              "  </tbody>\n",
              "</table>\n",
              "</div>"
            ],
            "text/plain": [
              "          b   d     e   f\n",
              "Utah    0.0 NaN   3.0 NaN\n",
              "Ohio    3.0 NaN   6.0 NaN\n",
              "Texas   6.0 NaN   9.0 NaN\n",
              "Oregon  9.0 NaN  12.0 NaN"
            ]
          },
          "metadata": {
            "tags": []
          },
          "execution_count": 296
        }
      ]
    },
    {
      "cell_type": "markdown",
      "metadata": {
        "id": "sSpQVIrJMdDY"
      },
      "source": [
        "如果希望匹配行且在列上广播，则必须使用**算术运算方法**（such as add, sub, divide, mul）"
      ]
    },
    {
      "cell_type": "code",
      "metadata": {
        "colab": {
          "base_uri": "https://localhost:8080/"
        },
        "id": "2k15CDz9MsKK",
        "outputId": "a001a255-e1af-4e6b-b959-04262ca7c764"
      },
      "source": [
        "series3 = frame['d']\n",
        "print(frame, '\\n', series3)"
      ],
      "execution_count": null,
      "outputs": [
        {
          "output_type": "stream",
          "text": [
            "          b     d     e\n",
            "Utah    0.0   1.0   2.0\n",
            "Ohio    3.0   4.0   5.0\n",
            "Texas   6.0   7.0   8.0\n",
            "Oregon  9.0  10.0  11.0 \n",
            " Utah       1.0\n",
            "Ohio       4.0\n",
            "Texas      7.0\n",
            "Oregon    10.0\n",
            "Name: d, dtype: float64\n"
          ],
          "name": "stdout"
        }
      ]
    },
    {
      "cell_type": "code",
      "metadata": {
        "colab": {
          "base_uri": "https://localhost:8080/"
        },
        "id": "gtYeCYxVM0Ku",
        "outputId": "d74bdeda-e250-4953-afd4-d6e1d52d749f"
      },
      "source": [
        "frame.sub(series3, axis=0)"
      ],
      "execution_count": null,
      "outputs": [
        {
          "output_type": "execute_result",
          "data": {
            "text/html": [
              "<div>\n",
              "<style scoped>\n",
              "    .dataframe tbody tr th:only-of-type {\n",
              "        vertical-align: middle;\n",
              "    }\n",
              "\n",
              "    .dataframe tbody tr th {\n",
              "        vertical-align: top;\n",
              "    }\n",
              "\n",
              "    .dataframe thead th {\n",
              "        text-align: right;\n",
              "    }\n",
              "</style>\n",
              "<table border=\"1\" class=\"dataframe\">\n",
              "  <thead>\n",
              "    <tr style=\"text-align: right;\">\n",
              "      <th></th>\n",
              "      <th>b</th>\n",
              "      <th>d</th>\n",
              "      <th>e</th>\n",
              "    </tr>\n",
              "  </thead>\n",
              "  <tbody>\n",
              "    <tr>\n",
              "      <th>Utah</th>\n",
              "      <td>-1.0</td>\n",
              "      <td>0.0</td>\n",
              "      <td>1.0</td>\n",
              "    </tr>\n",
              "    <tr>\n",
              "      <th>Ohio</th>\n",
              "      <td>-1.0</td>\n",
              "      <td>0.0</td>\n",
              "      <td>1.0</td>\n",
              "    </tr>\n",
              "    <tr>\n",
              "      <th>Texas</th>\n",
              "      <td>-1.0</td>\n",
              "      <td>0.0</td>\n",
              "      <td>1.0</td>\n",
              "    </tr>\n",
              "    <tr>\n",
              "      <th>Oregon</th>\n",
              "      <td>-1.0</td>\n",
              "      <td>0.0</td>\n",
              "      <td>1.0</td>\n",
              "    </tr>\n",
              "  </tbody>\n",
              "</table>\n",
              "</div>"
            ],
            "text/plain": [
              "          b    d    e\n",
              "Utah   -1.0  0.0  1.0\n",
              "Ohio   -1.0  0.0  1.0\n",
              "Texas  -1.0  0.0  1.0\n",
              "Oregon -1.0  0.0  1.0"
            ]
          },
          "metadata": {
            "tags": []
          },
          "execution_count": 298
        }
      ]
    },
    {
      "cell_type": "markdown",
      "metadata": {
        "id": "bA8a8Zu6PkxQ"
      },
      "source": [
        "传入的轴就是希望匹配的轴号。在本例中，我们的目的是匹配DataFrame的行索引并进行广播"
      ]
    },
    {
      "cell_type": "markdown",
      "metadata": {
        "id": "abUWPFFVX8Oz"
      },
      "source": [
        "## 函数应用和映射"
      ]
    },
    {
      "cell_type": "markdown",
      "metadata": {
        "id": "DG_Zq_aRX__W"
      },
      "source": [
        "Numpy的ufuncs(元素级数组方法)，也可用于操作pandas对象，"
      ]
    },
    {
      "cell_type": "code",
      "metadata": {
        "colab": {
          "base_uri": "https://localhost:8080/"
        },
        "id": "WZoGhuDiZMtx",
        "outputId": "a5c056a6-0633-4375-ae34-0a1569953e7d"
      },
      "source": [
        "frame = DataFrame(np.random.randn(4,3), columns=list('bde'),\n",
        "                  index=['Utah', 'Ohio', 'Texas', 'Oregon'])\n",
        "frame"
      ],
      "execution_count": null,
      "outputs": [
        {
          "output_type": "execute_result",
          "data": {
            "text/html": [
              "<div>\n",
              "<style scoped>\n",
              "    .dataframe tbody tr th:only-of-type {\n",
              "        vertical-align: middle;\n",
              "    }\n",
              "\n",
              "    .dataframe tbody tr th {\n",
              "        vertical-align: top;\n",
              "    }\n",
              "\n",
              "    .dataframe thead th {\n",
              "        text-align: right;\n",
              "    }\n",
              "</style>\n",
              "<table border=\"1\" class=\"dataframe\">\n",
              "  <thead>\n",
              "    <tr style=\"text-align: right;\">\n",
              "      <th></th>\n",
              "      <th>b</th>\n",
              "      <th>d</th>\n",
              "      <th>e</th>\n",
              "    </tr>\n",
              "  </thead>\n",
              "  <tbody>\n",
              "    <tr>\n",
              "      <th>Utah</th>\n",
              "      <td>-0.475353</td>\n",
              "      <td>0.411228</td>\n",
              "      <td>-0.094178</td>\n",
              "    </tr>\n",
              "    <tr>\n",
              "      <th>Ohio</th>\n",
              "      <td>-1.301739</td>\n",
              "      <td>0.520320</td>\n",
              "      <td>0.177941</td>\n",
              "    </tr>\n",
              "    <tr>\n",
              "      <th>Texas</th>\n",
              "      <td>0.332401</td>\n",
              "      <td>-0.514782</td>\n",
              "      <td>-1.759132</td>\n",
              "    </tr>\n",
              "    <tr>\n",
              "      <th>Oregon</th>\n",
              "      <td>1.293316</td>\n",
              "      <td>0.207587</td>\n",
              "      <td>0.823894</td>\n",
              "    </tr>\n",
              "  </tbody>\n",
              "</table>\n",
              "</div>"
            ],
            "text/plain": [
              "               b         d         e\n",
              "Utah   -0.475353  0.411228 -0.094178\n",
              "Ohio   -1.301739  0.520320  0.177941\n",
              "Texas   0.332401 -0.514782 -1.759132\n",
              "Oregon  1.293316  0.207587  0.823894"
            ]
          },
          "metadata": {
            "tags": []
          },
          "execution_count": 299
        }
      ]
    },
    {
      "cell_type": "code",
      "metadata": {
        "colab": {
          "base_uri": "https://localhost:8080/"
        },
        "id": "13fXqvISZXOF",
        "outputId": "67746248-dff4-4bdb-e7d2-ec776b3f01d8"
      },
      "source": [
        "np.abs(frame)"
      ],
      "execution_count": null,
      "outputs": [
        {
          "output_type": "execute_result",
          "data": {
            "text/html": [
              "<div>\n",
              "<style scoped>\n",
              "    .dataframe tbody tr th:only-of-type {\n",
              "        vertical-align: middle;\n",
              "    }\n",
              "\n",
              "    .dataframe tbody tr th {\n",
              "        vertical-align: top;\n",
              "    }\n",
              "\n",
              "    .dataframe thead th {\n",
              "        text-align: right;\n",
              "    }\n",
              "</style>\n",
              "<table border=\"1\" class=\"dataframe\">\n",
              "  <thead>\n",
              "    <tr style=\"text-align: right;\">\n",
              "      <th></th>\n",
              "      <th>b</th>\n",
              "      <th>d</th>\n",
              "      <th>e</th>\n",
              "    </tr>\n",
              "  </thead>\n",
              "  <tbody>\n",
              "    <tr>\n",
              "      <th>Utah</th>\n",
              "      <td>0.475353</td>\n",
              "      <td>0.411228</td>\n",
              "      <td>0.094178</td>\n",
              "    </tr>\n",
              "    <tr>\n",
              "      <th>Ohio</th>\n",
              "      <td>1.301739</td>\n",
              "      <td>0.520320</td>\n",
              "      <td>0.177941</td>\n",
              "    </tr>\n",
              "    <tr>\n",
              "      <th>Texas</th>\n",
              "      <td>0.332401</td>\n",
              "      <td>0.514782</td>\n",
              "      <td>1.759132</td>\n",
              "    </tr>\n",
              "    <tr>\n",
              "      <th>Oregon</th>\n",
              "      <td>1.293316</td>\n",
              "      <td>0.207587</td>\n",
              "      <td>0.823894</td>\n",
              "    </tr>\n",
              "  </tbody>\n",
              "</table>\n",
              "</div>"
            ],
            "text/plain": [
              "               b         d         e\n",
              "Utah    0.475353  0.411228  0.094178\n",
              "Ohio    1.301739  0.520320  0.177941\n",
              "Texas   0.332401  0.514782  1.759132\n",
              "Oregon  1.293316  0.207587  0.823894"
            ]
          },
          "metadata": {
            "tags": []
          },
          "execution_count": 300
        }
      ]
    },
    {
      "cell_type": "markdown",
      "metadata": {
        "id": "WDdQXkudo2Ux"
      },
      "source": [
        "另一个常见操作是，将函数应用到由各列或行所形成的一维数组上。DataFrame的apply可以实现这个功能："
      ]
    },
    {
      "cell_type": "code",
      "metadata": {
        "id": "yZV0upHxZcLm",
        "colab": {
          "base_uri": "https://localhost:8080/"
        },
        "outputId": "6b879d3f-e85c-4d30-a554-09084dead22b"
      },
      "source": [
        "f = lambda x: x.max() - x.min()\n",
        "frame.apply(f)"
      ],
      "execution_count": null,
      "outputs": [
        {
          "output_type": "execute_result",
          "data": {
            "text/plain": [
              "b    2.595056\n",
              "d    1.035102\n",
              "e    2.583025\n",
              "dtype: float64"
            ]
          },
          "metadata": {
            "tags": []
          },
          "execution_count": 301
        }
      ]
    },
    {
      "cell_type": "code",
      "metadata": {
        "colab": {
          "base_uri": "https://localhost:8080/"
        },
        "id": "7I9zhwBPpI9R",
        "outputId": "f33afd39-dd04-45c5-b8d6-59860470813b"
      },
      "source": [
        "frame.apply(f, axis=1)"
      ],
      "execution_count": null,
      "outputs": [
        {
          "output_type": "execute_result",
          "data": {
            "text/plain": [
              "Utah      0.886580\n",
              "Ohio      1.822059\n",
              "Texas     2.091532\n",
              "Oregon    1.085729\n",
              "dtype: float64"
            ]
          },
          "metadata": {
            "tags": []
          },
          "execution_count": 302
        }
      ]
    },
    {
      "cell_type": "markdown",
      "metadata": {
        "id": "SMUYFvIDpe8O"
      },
      "source": [
        "许多最为常见的数组统计功能都被实现成DataFrame方法，如sum, mean。因此无需使用apply方法"
      ]
    },
    {
      "cell_type": "markdown",
      "metadata": {
        "id": "HRLGdyGtpR11"
      },
      "source": [
        "除标量值外，传递给apply的函数还可以返回多个值组成的series"
      ]
    },
    {
      "cell_type": "code",
      "metadata": {
        "colab": {
          "base_uri": "https://localhost:8080/"
        },
        "id": "P1XBm6xDqisv",
        "outputId": "efb5d009-e456-4b02-984e-2b52b0cb82ac"
      },
      "source": [
        "frame"
      ],
      "execution_count": null,
      "outputs": [
        {
          "output_type": "execute_result",
          "data": {
            "text/html": [
              "<div>\n",
              "<style scoped>\n",
              "    .dataframe tbody tr th:only-of-type {\n",
              "        vertical-align: middle;\n",
              "    }\n",
              "\n",
              "    .dataframe tbody tr th {\n",
              "        vertical-align: top;\n",
              "    }\n",
              "\n",
              "    .dataframe thead th {\n",
              "        text-align: right;\n",
              "    }\n",
              "</style>\n",
              "<table border=\"1\" class=\"dataframe\">\n",
              "  <thead>\n",
              "    <tr style=\"text-align: right;\">\n",
              "      <th></th>\n",
              "      <th>b</th>\n",
              "      <th>d</th>\n",
              "      <th>e</th>\n",
              "    </tr>\n",
              "  </thead>\n",
              "  <tbody>\n",
              "    <tr>\n",
              "      <th>Utah</th>\n",
              "      <td>-0.475353</td>\n",
              "      <td>0.411228</td>\n",
              "      <td>-0.094178</td>\n",
              "    </tr>\n",
              "    <tr>\n",
              "      <th>Ohio</th>\n",
              "      <td>-1.301739</td>\n",
              "      <td>0.520320</td>\n",
              "      <td>0.177941</td>\n",
              "    </tr>\n",
              "    <tr>\n",
              "      <th>Texas</th>\n",
              "      <td>0.332401</td>\n",
              "      <td>-0.514782</td>\n",
              "      <td>-1.759132</td>\n",
              "    </tr>\n",
              "    <tr>\n",
              "      <th>Oregon</th>\n",
              "      <td>1.293316</td>\n",
              "      <td>0.207587</td>\n",
              "      <td>0.823894</td>\n",
              "    </tr>\n",
              "  </tbody>\n",
              "</table>\n",
              "</div>"
            ],
            "text/plain": [
              "               b         d         e\n",
              "Utah   -0.475353  0.411228 -0.094178\n",
              "Ohio   -1.301739  0.520320  0.177941\n",
              "Texas   0.332401 -0.514782 -1.759132\n",
              "Oregon  1.293316  0.207587  0.823894"
            ]
          },
          "metadata": {
            "tags": []
          },
          "execution_count": 303
        }
      ]
    },
    {
      "cell_type": "code",
      "metadata": {
        "colab": {
          "base_uri": "https://localhost:8080/"
        },
        "id": "wNt5f2A-qE7T",
        "outputId": "ee7c35fe-bb80-428d-d058-434e801409ee"
      },
      "source": [
        "def f(x):\n",
        "    return Series([x.min(), x.max()], index=['min', 'max'])\n",
        "frame.apply(f, axis=1)"
      ],
      "execution_count": null,
      "outputs": [
        {
          "output_type": "execute_result",
          "data": {
            "text/html": [
              "<div>\n",
              "<style scoped>\n",
              "    .dataframe tbody tr th:only-of-type {\n",
              "        vertical-align: middle;\n",
              "    }\n",
              "\n",
              "    .dataframe tbody tr th {\n",
              "        vertical-align: top;\n",
              "    }\n",
              "\n",
              "    .dataframe thead th {\n",
              "        text-align: right;\n",
              "    }\n",
              "</style>\n",
              "<table border=\"1\" class=\"dataframe\">\n",
              "  <thead>\n",
              "    <tr style=\"text-align: right;\">\n",
              "      <th></th>\n",
              "      <th>min</th>\n",
              "      <th>max</th>\n",
              "    </tr>\n",
              "  </thead>\n",
              "  <tbody>\n",
              "    <tr>\n",
              "      <th>Utah</th>\n",
              "      <td>-0.475353</td>\n",
              "      <td>0.411228</td>\n",
              "    </tr>\n",
              "    <tr>\n",
              "      <th>Ohio</th>\n",
              "      <td>-1.301739</td>\n",
              "      <td>0.520320</td>\n",
              "    </tr>\n",
              "    <tr>\n",
              "      <th>Texas</th>\n",
              "      <td>-1.759132</td>\n",
              "      <td>0.332401</td>\n",
              "    </tr>\n",
              "    <tr>\n",
              "      <th>Oregon</th>\n",
              "      <td>0.207587</td>\n",
              "      <td>1.293316</td>\n",
              "    </tr>\n",
              "  </tbody>\n",
              "</table>\n",
              "</div>"
            ],
            "text/plain": [
              "             min       max\n",
              "Utah   -0.475353  0.411228\n",
              "Ohio   -1.301739  0.520320\n",
              "Texas  -1.759132  0.332401\n",
              "Oregon  0.207587  1.293316"
            ]
          },
          "metadata": {
            "tags": []
          },
          "execution_count": 304
        }
      ]
    },
    {
      "cell_type": "markdown",
      "metadata": {
        "id": "JtbybNeS8k3d"
      },
      "source": [
        "applymap方法能把函数应用到元素级别"
      ]
    },
    {
      "cell_type": "code",
      "metadata": {
        "colab": {
          "base_uri": "https://localhost:8080/"
        },
        "id": "i4uaCzFsqVOS",
        "outputId": "53750fb4-b5e9-4c8f-8bfd-bbebb5362c21"
      },
      "source": [
        "format = lambda x:'%.2f' % x\n",
        "frame.applymap(format)"
      ],
      "execution_count": null,
      "outputs": [
        {
          "output_type": "execute_result",
          "data": {
            "text/html": [
              "<div>\n",
              "<style scoped>\n",
              "    .dataframe tbody tr th:only-of-type {\n",
              "        vertical-align: middle;\n",
              "    }\n",
              "\n",
              "    .dataframe tbody tr th {\n",
              "        vertical-align: top;\n",
              "    }\n",
              "\n",
              "    .dataframe thead th {\n",
              "        text-align: right;\n",
              "    }\n",
              "</style>\n",
              "<table border=\"1\" class=\"dataframe\">\n",
              "  <thead>\n",
              "    <tr style=\"text-align: right;\">\n",
              "      <th></th>\n",
              "      <th>b</th>\n",
              "      <th>d</th>\n",
              "      <th>e</th>\n",
              "    </tr>\n",
              "  </thead>\n",
              "  <tbody>\n",
              "    <tr>\n",
              "      <th>Utah</th>\n",
              "      <td>-0.48</td>\n",
              "      <td>0.41</td>\n",
              "      <td>-0.09</td>\n",
              "    </tr>\n",
              "    <tr>\n",
              "      <th>Ohio</th>\n",
              "      <td>-1.30</td>\n",
              "      <td>0.52</td>\n",
              "      <td>0.18</td>\n",
              "    </tr>\n",
              "    <tr>\n",
              "      <th>Texas</th>\n",
              "      <td>0.33</td>\n",
              "      <td>-0.51</td>\n",
              "      <td>-1.76</td>\n",
              "    </tr>\n",
              "    <tr>\n",
              "      <th>Oregon</th>\n",
              "      <td>1.29</td>\n",
              "      <td>0.21</td>\n",
              "      <td>0.82</td>\n",
              "    </tr>\n",
              "  </tbody>\n",
              "</table>\n",
              "</div>"
            ],
            "text/plain": [
              "            b      d      e\n",
              "Utah    -0.48   0.41  -0.09\n",
              "Ohio    -1.30   0.52   0.18\n",
              "Texas    0.33  -0.51  -1.76\n",
              "Oregon   1.29   0.21   0.82"
            ]
          },
          "metadata": {
            "tags": []
          },
          "execution_count": 305
        }
      ]
    },
    {
      "cell_type": "code",
      "metadata": {
        "colab": {
          "base_uri": "https://localhost:8080/"
        },
        "id": "LhK4e2-W9hWF",
        "outputId": "89d9b60f-27b9-4b30-cb86-b47d4b3f6bf7"
      },
      "source": [
        "frame['e'].map(format)"
      ],
      "execution_count": null,
      "outputs": [
        {
          "output_type": "execute_result",
          "data": {
            "text/plain": [
              "Utah      -0.09\n",
              "Ohio       0.18\n",
              "Texas     -1.76\n",
              "Oregon     0.82\n",
              "Name: e, dtype: object"
            ]
          },
          "metadata": {
            "tags": []
          },
          "execution_count": 306
        }
      ]
    },
    {
      "cell_type": "markdown",
      "metadata": {
        "id": "SoqM5bq_9m5U"
      },
      "source": [
        "## 排序和排名\n",
        "根据条件对数据集排序也是一种重要的内置运算。要对行或列索引进行排序（字典排序），可以使用**sort_index**方法，它将返回一个已排序的新对象"
      ]
    },
    {
      "cell_type": "code",
      "metadata": {
        "colab": {
          "base_uri": "https://localhost:8080/"
        },
        "id": "4lF2UY7i9mqd",
        "outputId": "93d3881a-8e2a-4230-8c1a-9df3c34b0f26"
      },
      "source": [
        "obj = Series(range(4), index=list('dabc'))\n",
        "obj.sort_index()"
      ],
      "execution_count": null,
      "outputs": [
        {
          "output_type": "execute_result",
          "data": {
            "text/plain": [
              "a    1\n",
              "b    2\n",
              "c    3\n",
              "d    0\n",
              "dtype: int64"
            ]
          },
          "metadata": {
            "tags": []
          },
          "execution_count": 307
        }
      ]
    },
    {
      "cell_type": "markdown",
      "metadata": {
        "id": "ESDKZGQN_rIL"
      },
      "source": [
        "而对于DataFrame，则可以根据任意一个轴上的索引进行排序"
      ]
    },
    {
      "cell_type": "code",
      "metadata": {
        "colab": {
          "base_uri": "https://localhost:8080/"
        },
        "id": "ky58cI4K8iRO",
        "outputId": "cf9ff57a-f668-43ef-ec4e-589166663280"
      },
      "source": [
        "frame = DataFrame(np.arange(8).reshape((2,4)), index=['three', 'one'],\n",
        "                  columns=list('dabc'))\n",
        "frame"
      ],
      "execution_count": null,
      "outputs": [
        {
          "output_type": "execute_result",
          "data": {
            "text/html": [
              "<div>\n",
              "<style scoped>\n",
              "    .dataframe tbody tr th:only-of-type {\n",
              "        vertical-align: middle;\n",
              "    }\n",
              "\n",
              "    .dataframe tbody tr th {\n",
              "        vertical-align: top;\n",
              "    }\n",
              "\n",
              "    .dataframe thead th {\n",
              "        text-align: right;\n",
              "    }\n",
              "</style>\n",
              "<table border=\"1\" class=\"dataframe\">\n",
              "  <thead>\n",
              "    <tr style=\"text-align: right;\">\n",
              "      <th></th>\n",
              "      <th>d</th>\n",
              "      <th>a</th>\n",
              "      <th>b</th>\n",
              "      <th>c</th>\n",
              "    </tr>\n",
              "  </thead>\n",
              "  <tbody>\n",
              "    <tr>\n",
              "      <th>three</th>\n",
              "      <td>0</td>\n",
              "      <td>1</td>\n",
              "      <td>2</td>\n",
              "      <td>3</td>\n",
              "    </tr>\n",
              "    <tr>\n",
              "      <th>one</th>\n",
              "      <td>4</td>\n",
              "      <td>5</td>\n",
              "      <td>6</td>\n",
              "      <td>7</td>\n",
              "    </tr>\n",
              "  </tbody>\n",
              "</table>\n",
              "</div>"
            ],
            "text/plain": [
              "       d  a  b  c\n",
              "three  0  1  2  3\n",
              "one    4  5  6  7"
            ]
          },
          "metadata": {
            "tags": []
          },
          "execution_count": 308
        }
      ]
    },
    {
      "cell_type": "code",
      "metadata": {
        "colab": {
          "base_uri": "https://localhost:8080/"
        },
        "id": "7avOVRYN_A5O",
        "outputId": "c23f1b08-a9c7-4ea2-aba5-37a2c6b5d448"
      },
      "source": [
        "frame.sort_index()"
      ],
      "execution_count": null,
      "outputs": [
        {
          "output_type": "execute_result",
          "data": {
            "text/html": [
              "<div>\n",
              "<style scoped>\n",
              "    .dataframe tbody tr th:only-of-type {\n",
              "        vertical-align: middle;\n",
              "    }\n",
              "\n",
              "    .dataframe tbody tr th {\n",
              "        vertical-align: top;\n",
              "    }\n",
              "\n",
              "    .dataframe thead th {\n",
              "        text-align: right;\n",
              "    }\n",
              "</style>\n",
              "<table border=\"1\" class=\"dataframe\">\n",
              "  <thead>\n",
              "    <tr style=\"text-align: right;\">\n",
              "      <th></th>\n",
              "      <th>d</th>\n",
              "      <th>a</th>\n",
              "      <th>b</th>\n",
              "      <th>c</th>\n",
              "    </tr>\n",
              "  </thead>\n",
              "  <tbody>\n",
              "    <tr>\n",
              "      <th>one</th>\n",
              "      <td>4</td>\n",
              "      <td>5</td>\n",
              "      <td>6</td>\n",
              "      <td>7</td>\n",
              "    </tr>\n",
              "    <tr>\n",
              "      <th>three</th>\n",
              "      <td>0</td>\n",
              "      <td>1</td>\n",
              "      <td>2</td>\n",
              "      <td>3</td>\n",
              "    </tr>\n",
              "  </tbody>\n",
              "</table>\n",
              "</div>"
            ],
            "text/plain": [
              "       d  a  b  c\n",
              "one    4  5  6  7\n",
              "three  0  1  2  3"
            ]
          },
          "metadata": {
            "tags": []
          },
          "execution_count": 309
        }
      ]
    },
    {
      "cell_type": "code",
      "metadata": {
        "colab": {
          "base_uri": "https://localhost:8080/"
        },
        "id": "heKgT8_9_Jqm",
        "outputId": "ffb212b3-238c-479b-8a88-ea622b7b73bf"
      },
      "source": [
        "frame.sort_index(axis=1)"
      ],
      "execution_count": null,
      "outputs": [
        {
          "output_type": "execute_result",
          "data": {
            "text/html": [
              "<div>\n",
              "<style scoped>\n",
              "    .dataframe tbody tr th:only-of-type {\n",
              "        vertical-align: middle;\n",
              "    }\n",
              "\n",
              "    .dataframe tbody tr th {\n",
              "        vertical-align: top;\n",
              "    }\n",
              "\n",
              "    .dataframe thead th {\n",
              "        text-align: right;\n",
              "    }\n",
              "</style>\n",
              "<table border=\"1\" class=\"dataframe\">\n",
              "  <thead>\n",
              "    <tr style=\"text-align: right;\">\n",
              "      <th></th>\n",
              "      <th>a</th>\n",
              "      <th>b</th>\n",
              "      <th>c</th>\n",
              "      <th>d</th>\n",
              "    </tr>\n",
              "  </thead>\n",
              "  <tbody>\n",
              "    <tr>\n",
              "      <th>three</th>\n",
              "      <td>1</td>\n",
              "      <td>2</td>\n",
              "      <td>3</td>\n",
              "      <td>0</td>\n",
              "    </tr>\n",
              "    <tr>\n",
              "      <th>one</th>\n",
              "      <td>5</td>\n",
              "      <td>6</td>\n",
              "      <td>7</td>\n",
              "      <td>4</td>\n",
              "    </tr>\n",
              "  </tbody>\n",
              "</table>\n",
              "</div>"
            ],
            "text/plain": [
              "       a  b  c  d\n",
              "three  1  2  3  0\n",
              "one    5  6  7  4"
            ]
          },
          "metadata": {
            "tags": []
          },
          "execution_count": 310
        }
      ]
    },
    {
      "cell_type": "markdown",
      "metadata": {
        "id": "kEl6JUPpABcd"
      },
      "source": [
        "数据默认是按升序的，但也可以降序排序"
      ]
    },
    {
      "cell_type": "code",
      "metadata": {
        "colab": {
          "base_uri": "https://localhost:8080/"
        },
        "id": "bbRw3Wb4_ViD",
        "outputId": "a47d1345-5796-490d-f332-4c7bf232c56c"
      },
      "source": [
        " frame.sort_index(axis=1, ascending=False)"
      ],
      "execution_count": null,
      "outputs": [
        {
          "output_type": "execute_result",
          "data": {
            "text/html": [
              "<div>\n",
              "<style scoped>\n",
              "    .dataframe tbody tr th:only-of-type {\n",
              "        vertical-align: middle;\n",
              "    }\n",
              "\n",
              "    .dataframe tbody tr th {\n",
              "        vertical-align: top;\n",
              "    }\n",
              "\n",
              "    .dataframe thead th {\n",
              "        text-align: right;\n",
              "    }\n",
              "</style>\n",
              "<table border=\"1\" class=\"dataframe\">\n",
              "  <thead>\n",
              "    <tr style=\"text-align: right;\">\n",
              "      <th></th>\n",
              "      <th>d</th>\n",
              "      <th>c</th>\n",
              "      <th>b</th>\n",
              "      <th>a</th>\n",
              "    </tr>\n",
              "  </thead>\n",
              "  <tbody>\n",
              "    <tr>\n",
              "      <th>three</th>\n",
              "      <td>0</td>\n",
              "      <td>3</td>\n",
              "      <td>2</td>\n",
              "      <td>1</td>\n",
              "    </tr>\n",
              "    <tr>\n",
              "      <th>one</th>\n",
              "      <td>4</td>\n",
              "      <td>7</td>\n",
              "      <td>6</td>\n",
              "      <td>5</td>\n",
              "    </tr>\n",
              "  </tbody>\n",
              "</table>\n",
              "</div>"
            ],
            "text/plain": [
              "       d  c  b  a\n",
              "three  0  3  2  1\n",
              "one    4  7  6  5"
            ]
          },
          "metadata": {
            "tags": []
          },
          "execution_count": 311
        }
      ]
    },
    {
      "cell_type": "markdown",
      "metadata": {
        "id": "znTong1bAM9C"
      },
      "source": [
        "若要按值对Series进行排序，可使用其sort_values()方法。"
      ]
    },
    {
      "cell_type": "code",
      "metadata": {
        "colab": {
          "base_uri": "https://localhost:8080/"
        },
        "id": "ohO83dnf_lok",
        "outputId": "27e4e05a-93ce-43fe-9c33-1af877b4bbe6"
      },
      "source": [
        "obj = Series([4, 7, -3, 2])\n",
        "obj.sort_values()"
      ],
      "execution_count": null,
      "outputs": [
        {
          "output_type": "execute_result",
          "data": {
            "text/plain": [
              "2   -3\n",
              "3    2\n",
              "0    4\n",
              "1    7\n",
              "dtype: int64"
            ]
          },
          "metadata": {
            "tags": []
          },
          "execution_count": 312
        }
      ]
    },
    {
      "cell_type": "markdown",
      "metadata": {
        "id": "BtWPf4TpBgdE"
      },
      "source": [
        "在DataFrame上，你可能希望根据一个或多个列的值进行排序。使用sort_values方法并将一个或多个列的名字传递给by选项即可达到该目的"
      ]
    },
    {
      "cell_type": "code",
      "metadata": {
        "colab": {
          "base_uri": "https://localhost:8080/"
        },
        "id": "biOBtdGvAZPs",
        "outputId": "d84a0845-042d-43e8-c13f-549ad857d92a"
      },
      "source": [
        "frame = DataFrame({'b':[4,7,-3,2],\n",
        "                   'a':[0,1,0,-1]})\n",
        "frame"
      ],
      "execution_count": null,
      "outputs": [
        {
          "output_type": "execute_result",
          "data": {
            "text/html": [
              "<div>\n",
              "<style scoped>\n",
              "    .dataframe tbody tr th:only-of-type {\n",
              "        vertical-align: middle;\n",
              "    }\n",
              "\n",
              "    .dataframe tbody tr th {\n",
              "        vertical-align: top;\n",
              "    }\n",
              "\n",
              "    .dataframe thead th {\n",
              "        text-align: right;\n",
              "    }\n",
              "</style>\n",
              "<table border=\"1\" class=\"dataframe\">\n",
              "  <thead>\n",
              "    <tr style=\"text-align: right;\">\n",
              "      <th></th>\n",
              "      <th>b</th>\n",
              "      <th>a</th>\n",
              "    </tr>\n",
              "  </thead>\n",
              "  <tbody>\n",
              "    <tr>\n",
              "      <th>0</th>\n",
              "      <td>4</td>\n",
              "      <td>0</td>\n",
              "    </tr>\n",
              "    <tr>\n",
              "      <th>1</th>\n",
              "      <td>7</td>\n",
              "      <td>1</td>\n",
              "    </tr>\n",
              "    <tr>\n",
              "      <th>2</th>\n",
              "      <td>-3</td>\n",
              "      <td>0</td>\n",
              "    </tr>\n",
              "    <tr>\n",
              "      <th>3</th>\n",
              "      <td>2</td>\n",
              "      <td>-1</td>\n",
              "    </tr>\n",
              "  </tbody>\n",
              "</table>\n",
              "</div>"
            ],
            "text/plain": [
              "   b  a\n",
              "0  4  0\n",
              "1  7  1\n",
              "2 -3  0\n",
              "3  2 -1"
            ]
          },
          "metadata": {
            "tags": []
          },
          "execution_count": 313
        }
      ]
    },
    {
      "cell_type": "code",
      "metadata": {
        "colab": {
          "base_uri": "https://localhost:8080/"
        },
        "id": "3qaybPcyCDLz",
        "outputId": "5eab59fb-68c1-4c48-dd19-bc7e666c9b9f"
      },
      "source": [
        "frame.sort_values(by='b')"
      ],
      "execution_count": null,
      "outputs": [
        {
          "output_type": "execute_result",
          "data": {
            "text/html": [
              "<div>\n",
              "<style scoped>\n",
              "    .dataframe tbody tr th:only-of-type {\n",
              "        vertical-align: middle;\n",
              "    }\n",
              "\n",
              "    .dataframe tbody tr th {\n",
              "        vertical-align: top;\n",
              "    }\n",
              "\n",
              "    .dataframe thead th {\n",
              "        text-align: right;\n",
              "    }\n",
              "</style>\n",
              "<table border=\"1\" class=\"dataframe\">\n",
              "  <thead>\n",
              "    <tr style=\"text-align: right;\">\n",
              "      <th></th>\n",
              "      <th>b</th>\n",
              "      <th>a</th>\n",
              "    </tr>\n",
              "  </thead>\n",
              "  <tbody>\n",
              "    <tr>\n",
              "      <th>2</th>\n",
              "      <td>-3</td>\n",
              "      <td>0</td>\n",
              "    </tr>\n",
              "    <tr>\n",
              "      <th>3</th>\n",
              "      <td>2</td>\n",
              "      <td>-1</td>\n",
              "    </tr>\n",
              "    <tr>\n",
              "      <th>0</th>\n",
              "      <td>4</td>\n",
              "      <td>0</td>\n",
              "    </tr>\n",
              "    <tr>\n",
              "      <th>1</th>\n",
              "      <td>7</td>\n",
              "      <td>1</td>\n",
              "    </tr>\n",
              "  </tbody>\n",
              "</table>\n",
              "</div>"
            ],
            "text/plain": [
              "   b  a\n",
              "2 -3  0\n",
              "3  2 -1\n",
              "0  4  0\n",
              "1  7  1"
            ]
          },
          "metadata": {
            "tags": []
          },
          "execution_count": 314
        }
      ]
    },
    {
      "cell_type": "code",
      "metadata": {
        "colab": {
          "base_uri": "https://localhost:8080/"
        },
        "id": "YFhdgXyeCTCe",
        "outputId": "c54910c2-5207-47a4-fed4-0d8032063cdd"
      },
      "source": [
        "frame.sort_index(axis=1).sort_values(by=['a', 'b'])"
      ],
      "execution_count": null,
      "outputs": [
        {
          "output_type": "execute_result",
          "data": {
            "text/html": [
              "<div>\n",
              "<style scoped>\n",
              "    .dataframe tbody tr th:only-of-type {\n",
              "        vertical-align: middle;\n",
              "    }\n",
              "\n",
              "    .dataframe tbody tr th {\n",
              "        vertical-align: top;\n",
              "    }\n",
              "\n",
              "    .dataframe thead th {\n",
              "        text-align: right;\n",
              "    }\n",
              "</style>\n",
              "<table border=\"1\" class=\"dataframe\">\n",
              "  <thead>\n",
              "    <tr style=\"text-align: right;\">\n",
              "      <th></th>\n",
              "      <th>a</th>\n",
              "      <th>b</th>\n",
              "    </tr>\n",
              "  </thead>\n",
              "  <tbody>\n",
              "    <tr>\n",
              "      <th>3</th>\n",
              "      <td>-1</td>\n",
              "      <td>2</td>\n",
              "    </tr>\n",
              "    <tr>\n",
              "      <th>2</th>\n",
              "      <td>0</td>\n",
              "      <td>-3</td>\n",
              "    </tr>\n",
              "    <tr>\n",
              "      <th>0</th>\n",
              "      <td>0</td>\n",
              "      <td>4</td>\n",
              "    </tr>\n",
              "    <tr>\n",
              "      <th>1</th>\n",
              "      <td>1</td>\n",
              "      <td>7</td>\n",
              "    </tr>\n",
              "  </tbody>\n",
              "</table>\n",
              "</div>"
            ],
            "text/plain": [
              "   a  b\n",
              "3 -1  2\n",
              "2  0 -3\n",
              "0  0  4\n",
              "1  1  7"
            ]
          },
          "metadata": {
            "tags": []
          },
          "execution_count": 315
        }
      ]
    },
    {
      "cell_type": "markdown",
      "metadata": {
        "id": "a2Dl8CieDKnz"
      },
      "source": [
        "排名（ranking）跟排序关系密切，且它会增设一个排名值（从1开始，一直到数组中有效数据的数量）。它跟numpy.argsort产生的间接排序索引差不多，只不过它可以根据某种规则破坏评级关系。\n",
        "\n",
        "Series和DataFrame的rank方法，默认情况下为每组分配一个平均排名"
      ]
    },
    {
      "cell_type": "code",
      "metadata": {
        "id": "UdZBoDzrC1QB"
      },
      "source": [
        "obj = Series([7, -5, 7, 4, 2, 0, 4])"
      ],
      "execution_count": null,
      "outputs": []
    },
    {
      "cell_type": "code",
      "metadata": {
        "colab": {
          "base_uri": "https://localhost:8080/"
        },
        "id": "KXWvJP5RFcwa",
        "outputId": "6343994f-8819-469a-dcb1-c14decef6cf5"
      },
      "source": [
        "obj.rank()"
      ],
      "execution_count": null,
      "outputs": [
        {
          "output_type": "execute_result",
          "data": {
            "text/plain": [
              "0    6.5\n",
              "1    1.0\n",
              "2    6.5\n",
              "3    4.5\n",
              "4    3.0\n",
              "5    2.0\n",
              "6    4.5\n",
              "dtype: float64"
            ]
          },
          "metadata": {
            "tags": []
          },
          "execution_count": 317
        }
      ]
    },
    {
      "cell_type": "markdown",
      "metadata": {
        "id": "AlwIhbZKFdzw"
      },
      "source": [
        "也可以根据值在原数据中出现的顺序给出排名"
      ]
    },
    {
      "cell_type": "code",
      "metadata": {
        "colab": {
          "base_uri": "https://localhost:8080/"
        },
        "id": "YOyHygXhG2ZV",
        "outputId": "2f92fe01-c5a7-4b8b-f57c-c4a58c187446"
      },
      "source": [
        "obj.rank(method='first')"
      ],
      "execution_count": null,
      "outputs": [
        {
          "output_type": "execute_result",
          "data": {
            "text/plain": [
              "0    6.0\n",
              "1    1.0\n",
              "2    7.0\n",
              "3    4.0\n",
              "4    3.0\n",
              "5    2.0\n",
              "6    5.0\n",
              "dtype: float64"
            ]
          },
          "metadata": {
            "tags": []
          },
          "execution_count": 318
        }
      ]
    },
    {
      "cell_type": "markdown",
      "metadata": {
        "id": "fpWMWfoKHBFT"
      },
      "source": [
        "降序排名"
      ]
    },
    {
      "cell_type": "code",
      "metadata": {
        "colab": {
          "base_uri": "https://localhost:8080/"
        },
        "id": "5N2IUWpfG4oS",
        "outputId": "58471d6d-d3cc-4a96-a9c6-4f6bc47ec715"
      },
      "source": [
        "obj.rank(ascending=False, method='max')"
      ],
      "execution_count": null,
      "outputs": [
        {
          "output_type": "execute_result",
          "data": {
            "text/plain": [
              "0    2.0\n",
              "1    7.0\n",
              "2    2.0\n",
              "3    4.0\n",
              "4    5.0\n",
              "5    6.0\n",
              "6    4.0\n",
              "dtype: float64"
            ]
          },
          "metadata": {
            "tags": []
          },
          "execution_count": 319
        }
      ]
    },
    {
      "cell_type": "markdown",
      "metadata": {
        "id": "kQGcpzhpHOSV"
      },
      "source": [
        "DataFrame可以在行或列上计算排名："
      ]
    },
    {
      "cell_type": "code",
      "metadata": {
        "colab": {
          "base_uri": "https://localhost:8080/"
        },
        "id": "2VB9Gyw3HDga",
        "outputId": "d78f3a07-4816-4f3b-b21c-262e20b0a39c"
      },
      "source": [
        "frame = DataFrame({'b':[4.3, 7, -3, 2],\n",
        "                   'a':[0, 1, 0, 1],\n",
        "                   'c':[-2, 5, 8, -2.5]})\n",
        "frame"
      ],
      "execution_count": null,
      "outputs": [
        {
          "output_type": "execute_result",
          "data": {
            "text/html": [
              "<div>\n",
              "<style scoped>\n",
              "    .dataframe tbody tr th:only-of-type {\n",
              "        vertical-align: middle;\n",
              "    }\n",
              "\n",
              "    .dataframe tbody tr th {\n",
              "        vertical-align: top;\n",
              "    }\n",
              "\n",
              "    .dataframe thead th {\n",
              "        text-align: right;\n",
              "    }\n",
              "</style>\n",
              "<table border=\"1\" class=\"dataframe\">\n",
              "  <thead>\n",
              "    <tr style=\"text-align: right;\">\n",
              "      <th></th>\n",
              "      <th>b</th>\n",
              "      <th>a</th>\n",
              "      <th>c</th>\n",
              "    </tr>\n",
              "  </thead>\n",
              "  <tbody>\n",
              "    <tr>\n",
              "      <th>0</th>\n",
              "      <td>4.3</td>\n",
              "      <td>0</td>\n",
              "      <td>-2.0</td>\n",
              "    </tr>\n",
              "    <tr>\n",
              "      <th>1</th>\n",
              "      <td>7.0</td>\n",
              "      <td>1</td>\n",
              "      <td>5.0</td>\n",
              "    </tr>\n",
              "    <tr>\n",
              "      <th>2</th>\n",
              "      <td>-3.0</td>\n",
              "      <td>0</td>\n",
              "      <td>8.0</td>\n",
              "    </tr>\n",
              "    <tr>\n",
              "      <th>3</th>\n",
              "      <td>2.0</td>\n",
              "      <td>1</td>\n",
              "      <td>-2.5</td>\n",
              "    </tr>\n",
              "  </tbody>\n",
              "</table>\n",
              "</div>"
            ],
            "text/plain": [
              "     b  a    c\n",
              "0  4.3  0 -2.0\n",
              "1  7.0  1  5.0\n",
              "2 -3.0  0  8.0\n",
              "3  2.0  1 -2.5"
            ]
          },
          "metadata": {
            "tags": []
          },
          "execution_count": 320
        }
      ]
    },
    {
      "cell_type": "code",
      "metadata": {
        "id": "yOFwFv1WHiap",
        "colab": {
          "base_uri": "https://localhost:8080/"
        },
        "outputId": "11e25692-6aec-49f3-d827-c4182e746c6e"
      },
      "source": [
        "frame.rank(axis=1)"
      ],
      "execution_count": null,
      "outputs": [
        {
          "output_type": "execute_result",
          "data": {
            "text/html": [
              "<div>\n",
              "<style scoped>\n",
              "    .dataframe tbody tr th:only-of-type {\n",
              "        vertical-align: middle;\n",
              "    }\n",
              "\n",
              "    .dataframe tbody tr th {\n",
              "        vertical-align: top;\n",
              "    }\n",
              "\n",
              "    .dataframe thead th {\n",
              "        text-align: right;\n",
              "    }\n",
              "</style>\n",
              "<table border=\"1\" class=\"dataframe\">\n",
              "  <thead>\n",
              "    <tr style=\"text-align: right;\">\n",
              "      <th></th>\n",
              "      <th>b</th>\n",
              "      <th>a</th>\n",
              "      <th>c</th>\n",
              "    </tr>\n",
              "  </thead>\n",
              "  <tbody>\n",
              "    <tr>\n",
              "      <th>0</th>\n",
              "      <td>3.0</td>\n",
              "      <td>2.0</td>\n",
              "      <td>1.0</td>\n",
              "    </tr>\n",
              "    <tr>\n",
              "      <th>1</th>\n",
              "      <td>3.0</td>\n",
              "      <td>1.0</td>\n",
              "      <td>2.0</td>\n",
              "    </tr>\n",
              "    <tr>\n",
              "      <th>2</th>\n",
              "      <td>1.0</td>\n",
              "      <td>2.0</td>\n",
              "      <td>3.0</td>\n",
              "    </tr>\n",
              "    <tr>\n",
              "      <th>3</th>\n",
              "      <td>3.0</td>\n",
              "      <td>2.0</td>\n",
              "      <td>1.0</td>\n",
              "    </tr>\n",
              "  </tbody>\n",
              "</table>\n",
              "</div>"
            ],
            "text/plain": [
              "     b    a    c\n",
              "0  3.0  2.0  1.0\n",
              "1  3.0  1.0  2.0\n",
              "2  1.0  2.0  3.0\n",
              "3  3.0  2.0  1.0"
            ]
          },
          "metadata": {
            "tags": []
          },
          "execution_count": 321
        }
      ]
    },
    {
      "cell_type": "markdown",
      "metadata": {
        "id": "Se-UsIqXMnoM"
      },
      "source": [
        "### 排名时用于破坏平级关系的method选项\n",
        "![image.png](data:image/png;base64,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)"
      ]
    },
    {
      "cell_type": "code",
      "metadata": {
        "colab": {
          "base_uri": "https://localhost:8080/"
        },
        "id": "3Wixl44wJItW",
        "outputId": "dbcbdf83-b5f7-4c9d-d470-63147fdae99c"
      },
      "source": [
        "frame.rank(method='average')"
      ],
      "execution_count": null,
      "outputs": [
        {
          "output_type": "execute_result",
          "data": {
            "text/html": [
              "<div>\n",
              "<style scoped>\n",
              "    .dataframe tbody tr th:only-of-type {\n",
              "        vertical-align: middle;\n",
              "    }\n",
              "\n",
              "    .dataframe tbody tr th {\n",
              "        vertical-align: top;\n",
              "    }\n",
              "\n",
              "    .dataframe thead th {\n",
              "        text-align: right;\n",
              "    }\n",
              "</style>\n",
              "<table border=\"1\" class=\"dataframe\">\n",
              "  <thead>\n",
              "    <tr style=\"text-align: right;\">\n",
              "      <th></th>\n",
              "      <th>b</th>\n",
              "      <th>a</th>\n",
              "      <th>c</th>\n",
              "    </tr>\n",
              "  </thead>\n",
              "  <tbody>\n",
              "    <tr>\n",
              "      <th>0</th>\n",
              "      <td>3.0</td>\n",
              "      <td>1.5</td>\n",
              "      <td>2.0</td>\n",
              "    </tr>\n",
              "    <tr>\n",
              "      <th>1</th>\n",
              "      <td>4.0</td>\n",
              "      <td>3.5</td>\n",
              "      <td>3.0</td>\n",
              "    </tr>\n",
              "    <tr>\n",
              "      <th>2</th>\n",
              "      <td>1.0</td>\n",
              "      <td>1.5</td>\n",
              "      <td>4.0</td>\n",
              "    </tr>\n",
              "    <tr>\n",
              "      <th>3</th>\n",
              "      <td>2.0</td>\n",
              "      <td>3.5</td>\n",
              "      <td>1.0</td>\n",
              "    </tr>\n",
              "  </tbody>\n",
              "</table>\n",
              "</div>"
            ],
            "text/plain": [
              "     b    a    c\n",
              "0  3.0  1.5  2.0\n",
              "1  4.0  3.5  3.0\n",
              "2  1.0  1.5  4.0\n",
              "3  2.0  3.5  1.0"
            ]
          },
          "metadata": {
            "tags": []
          },
          "execution_count": 322
        }
      ]
    },
    {
      "cell_type": "code",
      "metadata": {
        "colab": {
          "base_uri": "https://localhost:8080/"
        },
        "id": "rwFkfphPM6N-",
        "outputId": "8c8482b6-e3fe-4cc5-c3d1-cf243dd1806f"
      },
      "source": [
        "frame.rank(method='min')"
      ],
      "execution_count": null,
      "outputs": [
        {
          "output_type": "execute_result",
          "data": {
            "text/html": [
              "<div>\n",
              "<style scoped>\n",
              "    .dataframe tbody tr th:only-of-type {\n",
              "        vertical-align: middle;\n",
              "    }\n",
              "\n",
              "    .dataframe tbody tr th {\n",
              "        vertical-align: top;\n",
              "    }\n",
              "\n",
              "    .dataframe thead th {\n",
              "        text-align: right;\n",
              "    }\n",
              "</style>\n",
              "<table border=\"1\" class=\"dataframe\">\n",
              "  <thead>\n",
              "    <tr style=\"text-align: right;\">\n",
              "      <th></th>\n",
              "      <th>b</th>\n",
              "      <th>a</th>\n",
              "      <th>c</th>\n",
              "    </tr>\n",
              "  </thead>\n",
              "  <tbody>\n",
              "    <tr>\n",
              "      <th>0</th>\n",
              "      <td>3.0</td>\n",
              "      <td>1.0</td>\n",
              "      <td>2.0</td>\n",
              "    </tr>\n",
              "    <tr>\n",
              "      <th>1</th>\n",
              "      <td>4.0</td>\n",
              "      <td>3.0</td>\n",
              "      <td>3.0</td>\n",
              "    </tr>\n",
              "    <tr>\n",
              "      <th>2</th>\n",
              "      <td>1.0</td>\n",
              "      <td>1.0</td>\n",
              "      <td>4.0</td>\n",
              "    </tr>\n",
              "    <tr>\n",
              "      <th>3</th>\n",
              "      <td>2.0</td>\n",
              "      <td>3.0</td>\n",
              "      <td>1.0</td>\n",
              "    </tr>\n",
              "  </tbody>\n",
              "</table>\n",
              "</div>"
            ],
            "text/plain": [
              "     b    a    c\n",
              "0  3.0  1.0  2.0\n",
              "1  4.0  3.0  3.0\n",
              "2  1.0  1.0  4.0\n",
              "3  2.0  3.0  1.0"
            ]
          },
          "metadata": {
            "tags": []
          },
          "execution_count": 323
        }
      ]
    },
    {
      "cell_type": "code",
      "metadata": {
        "colab": {
          "base_uri": "https://localhost:8080/"
        },
        "id": "67O7o8WENEP_",
        "outputId": "39e83821-78e1-489c-86a3-a3a0dcb35880"
      },
      "source": [
        "frame.rank(method='max')"
      ],
      "execution_count": null,
      "outputs": [
        {
          "output_type": "execute_result",
          "data": {
            "text/html": [
              "<div>\n",
              "<style scoped>\n",
              "    .dataframe tbody tr th:only-of-type {\n",
              "        vertical-align: middle;\n",
              "    }\n",
              "\n",
              "    .dataframe tbody tr th {\n",
              "        vertical-align: top;\n",
              "    }\n",
              "\n",
              "    .dataframe thead th {\n",
              "        text-align: right;\n",
              "    }\n",
              "</style>\n",
              "<table border=\"1\" class=\"dataframe\">\n",
              "  <thead>\n",
              "    <tr style=\"text-align: right;\">\n",
              "      <th></th>\n",
              "      <th>b</th>\n",
              "      <th>a</th>\n",
              "      <th>c</th>\n",
              "    </tr>\n",
              "  </thead>\n",
              "  <tbody>\n",
              "    <tr>\n",
              "      <th>0</th>\n",
              "      <td>3.0</td>\n",
              "      <td>2.0</td>\n",
              "      <td>2.0</td>\n",
              "    </tr>\n",
              "    <tr>\n",
              "      <th>1</th>\n",
              "      <td>4.0</td>\n",
              "      <td>4.0</td>\n",
              "      <td>3.0</td>\n",
              "    </tr>\n",
              "    <tr>\n",
              "      <th>2</th>\n",
              "      <td>1.0</td>\n",
              "      <td>2.0</td>\n",
              "      <td>4.0</td>\n",
              "    </tr>\n",
              "    <tr>\n",
              "      <th>3</th>\n",
              "      <td>2.0</td>\n",
              "      <td>4.0</td>\n",
              "      <td>1.0</td>\n",
              "    </tr>\n",
              "  </tbody>\n",
              "</table>\n",
              "</div>"
            ],
            "text/plain": [
              "     b    a    c\n",
              "0  3.0  2.0  2.0\n",
              "1  4.0  4.0  3.0\n",
              "2  1.0  2.0  4.0\n",
              "3  2.0  4.0  1.0"
            ]
          },
          "metadata": {
            "tags": []
          },
          "execution_count": 324
        }
      ]
    },
    {
      "cell_type": "markdown",
      "metadata": {
        "id": "O8tzk1IjNNpx"
      },
      "source": [
        "## 带有重复值的轴索引"
      ]
    },
    {
      "cell_type": "markdown",
      "metadata": {
        "id": "1jNWYq8FNQoH"
      },
      "source": [
        "直到目前为止，所有范例都有唯一的轴标签。虽然许多pandas函数（如reindex）都要求标签唯一，但并不是强制性的。"
      ]
    },
    {
      "cell_type": "code",
      "metadata": {
        "colab": {
          "base_uri": "https://localhost:8080/"
        },
        "id": "cJOzz9E0NGuB",
        "outputId": "d7a847d4-4e22-42ef-e627-1f73b1e04f7b"
      },
      "source": [
        "obj = Series(range(5), index=['a', 'a', 'b', 'b', 'c'])\n",
        "obj"
      ],
      "execution_count": null,
      "outputs": [
        {
          "output_type": "execute_result",
          "data": {
            "text/plain": [
              "a    0\n",
              "a    1\n",
              "b    2\n",
              "b    3\n",
              "c    4\n",
              "dtype: int64"
            ]
          },
          "metadata": {
            "tags": []
          },
          "execution_count": 325
        }
      ]
    },
    {
      "cell_type": "markdown",
      "metadata": {
        "id": "JsOyvtmjO3oC"
      },
      "source": [
        "索引的is_unique属性可以告诉你它的值是否是唯一的"
      ]
    },
    {
      "cell_type": "code",
      "metadata": {
        "colab": {
          "base_uri": "https://localhost:8080/"
        },
        "id": "WSBOHoR9O1nM",
        "outputId": "2eb8acf8-bcd1-483e-a0e5-a65bd628c812"
      },
      "source": [
        "obj.index.is_unique"
      ],
      "execution_count": null,
      "outputs": [
        {
          "output_type": "execute_result",
          "data": {
            "text/plain": [
              "False"
            ]
          },
          "metadata": {
            "tags": []
          },
          "execution_count": 326
        }
      ]
    },
    {
      "cell_type": "markdown",
      "metadata": {
        "id": "UCN-M7nuO-VE"
      },
      "source": [
        "对于带有重复值的索引，数据选取的行为将会有些不同。如果某个索引对应多个值，则返回一个Series；而对应单个值的则返回一个标量值。"
      ]
    },
    {
      "cell_type": "code",
      "metadata": {
        "colab": {
          "base_uri": "https://localhost:8080/"
        },
        "id": "9qVQDTqqPo_Y",
        "outputId": "a029d07c-5349-4e9e-dfcf-5b488735f062"
      },
      "source": [
        "obj['a']"
      ],
      "execution_count": null,
      "outputs": [
        {
          "output_type": "execute_result",
          "data": {
            "text/plain": [
              "a    0\n",
              "a    1\n",
              "dtype: int64"
            ]
          },
          "metadata": {
            "tags": []
          },
          "execution_count": 327
        }
      ]
    },
    {
      "cell_type": "code",
      "metadata": {
        "colab": {
          "base_uri": "https://localhost:8080/"
        },
        "id": "PUyWRruQPqon",
        "outputId": "3027e470-c632-4c15-9684-ec6645635d8d"
      },
      "source": [
        "obj['c']"
      ],
      "execution_count": null,
      "outputs": [
        {
          "output_type": "execute_result",
          "data": {
            "text/plain": [
              "4"
            ]
          },
          "metadata": {
            "tags": []
          },
          "execution_count": 328
        }
      ]
    },
    {
      "cell_type": "markdown",
      "metadata": {
        "id": "g7GD4RcqPsvJ"
      },
      "source": [
        "对DataFrame的行进行索引时也是如此："
      ]
    },
    {
      "cell_type": "code",
      "metadata": {
        "id": "nPz3so8qPrw2"
      },
      "source": [
        "df = DataFrame(np.random.randn(4,3), index=['a', 'a', 'b', 'b'])"
      ],
      "execution_count": null,
      "outputs": []
    },
    {
      "cell_type": "code",
      "metadata": {
        "colab": {
          "base_uri": "https://localhost:8080/"
        },
        "id": "H6fs6IgYP3al",
        "outputId": "5a8db8f9-b56a-4263-f4a0-2e5374064318"
      },
      "source": [
        "df"
      ],
      "execution_count": null,
      "outputs": [
        {
          "output_type": "execute_result",
          "data": {
            "text/html": [
              "<div>\n",
              "<style scoped>\n",
              "    .dataframe tbody tr th:only-of-type {\n",
              "        vertical-align: middle;\n",
              "    }\n",
              "\n",
              "    .dataframe tbody tr th {\n",
              "        vertical-align: top;\n",
              "    }\n",
              "\n",
              "    .dataframe thead th {\n",
              "        text-align: right;\n",
              "    }\n",
              "</style>\n",
              "<table border=\"1\" class=\"dataframe\">\n",
              "  <thead>\n",
              "    <tr style=\"text-align: right;\">\n",
              "      <th></th>\n",
              "      <th>0</th>\n",
              "      <th>1</th>\n",
              "      <th>2</th>\n",
              "    </tr>\n",
              "  </thead>\n",
              "  <tbody>\n",
              "    <tr>\n",
              "      <th>a</th>\n",
              "      <td>-0.386461</td>\n",
              "      <td>0.161164</td>\n",
              "      <td>-0.392246</td>\n",
              "    </tr>\n",
              "    <tr>\n",
              "      <th>a</th>\n",
              "      <td>-1.402831</td>\n",
              "      <td>-1.723629</td>\n",
              "      <td>-0.578818</td>\n",
              "    </tr>\n",
              "    <tr>\n",
              "      <th>b</th>\n",
              "      <td>-0.001337</td>\n",
              "      <td>-0.191017</td>\n",
              "      <td>-0.271158</td>\n",
              "    </tr>\n",
              "    <tr>\n",
              "      <th>b</th>\n",
              "      <td>0.187658</td>\n",
              "      <td>1.152181</td>\n",
              "      <td>-0.540213</td>\n",
              "    </tr>\n",
              "  </tbody>\n",
              "</table>\n",
              "</div>"
            ],
            "text/plain": [
              "          0         1         2\n",
              "a -0.386461  0.161164 -0.392246\n",
              "a -1.402831 -1.723629 -0.578818\n",
              "b -0.001337 -0.191017 -0.271158\n",
              "b  0.187658  1.152181 -0.540213"
            ]
          },
          "metadata": {
            "tags": []
          },
          "execution_count": 330
        }
      ]
    },
    {
      "cell_type": "code",
      "metadata": {
        "colab": {
          "base_uri": "https://localhost:8080/"
        },
        "id": "7aOYn7BoP3lI",
        "outputId": "adaed619-c30f-46c1-943c-badaa83e3e1d"
      },
      "source": [
        "df.loc['b']"
      ],
      "execution_count": null,
      "outputs": [
        {
          "output_type": "execute_result",
          "data": {
            "text/html": [
              "<div>\n",
              "<style scoped>\n",
              "    .dataframe tbody tr th:only-of-type {\n",
              "        vertical-align: middle;\n",
              "    }\n",
              "\n",
              "    .dataframe tbody tr th {\n",
              "        vertical-align: top;\n",
              "    }\n",
              "\n",
              "    .dataframe thead th {\n",
              "        text-align: right;\n",
              "    }\n",
              "</style>\n",
              "<table border=\"1\" class=\"dataframe\">\n",
              "  <thead>\n",
              "    <tr style=\"text-align: right;\">\n",
              "      <th></th>\n",
              "      <th>0</th>\n",
              "      <th>1</th>\n",
              "      <th>2</th>\n",
              "    </tr>\n",
              "  </thead>\n",
              "  <tbody>\n",
              "    <tr>\n",
              "      <th>b</th>\n",
              "      <td>-0.001337</td>\n",
              "      <td>-0.191017</td>\n",
              "      <td>-0.271158</td>\n",
              "    </tr>\n",
              "    <tr>\n",
              "      <th>b</th>\n",
              "      <td>0.187658</td>\n",
              "      <td>1.152181</td>\n",
              "      <td>-0.540213</td>\n",
              "    </tr>\n",
              "  </tbody>\n",
              "</table>\n",
              "</div>"
            ],
            "text/plain": [
              "          0         1         2\n",
              "b -0.001337 -0.191017 -0.271158\n",
              "b  0.187658  1.152181 -0.540213"
            ]
          },
          "metadata": {
            "tags": []
          },
          "execution_count": 331
        }
      ]
    },
    {
      "cell_type": "markdown",
      "metadata": {
        "id": "81HPwSA4QDel"
      },
      "source": [
        "# 汇总和计算描述统计"
      ]
    },
    {
      "cell_type": "markdown",
      "metadata": {
        "id": "-1ShKgbwQbPo"
      },
      "source": [
        "pandas对象拥有一组常用的数学和统计方法。它们大部分都输入约简和汇总统计，用于从Series中提取单个值（如sum或mean）或从DataFrame的行或列中提取一个Series。跟对应的Numpy数组方法相比，他们都是基于没有缺失数据的假设而构建的"
      ]
    },
    {
      "cell_type": "code",
      "metadata": {
        "colab": {
          "base_uri": "https://localhost:8080/",
          "height": 173
        },
        "id": "6-kwFRhTP8s1",
        "outputId": "344bfe66-acad-477a-d97e-0dc7de48bffa"
      },
      "source": [
        "df = DataFrame([[1.4, np.nan],[7.1, -4.5],\n",
        "                [np.nan, np.nan], [0.75, -1.3]],\n",
        "               index=['a', 'b', 'c', 'd'],\n",
        "               columns=['one', 'two'])\n",
        "df"
      ],
      "execution_count": null,
      "outputs": [
        {
          "output_type": "execute_result",
          "data": {
            "text/html": [
              "<div>\n",
              "<style scoped>\n",
              "    .dataframe tbody tr th:only-of-type {\n",
              "        vertical-align: middle;\n",
              "    }\n",
              "\n",
              "    .dataframe tbody tr th {\n",
              "        vertical-align: top;\n",
              "    }\n",
              "\n",
              "    .dataframe thead th {\n",
              "        text-align: right;\n",
              "    }\n",
              "</style>\n",
              "<table border=\"1\" class=\"dataframe\">\n",
              "  <thead>\n",
              "    <tr style=\"text-align: right;\">\n",
              "      <th></th>\n",
              "      <th>one</th>\n",
              "      <th>two</th>\n",
              "    </tr>\n",
              "  </thead>\n",
              "  <tbody>\n",
              "    <tr>\n",
              "      <th>a</th>\n",
              "      <td>1.40</td>\n",
              "      <td>NaN</td>\n",
              "    </tr>\n",
              "    <tr>\n",
              "      <th>b</th>\n",
              "      <td>7.10</td>\n",
              "      <td>-4.5</td>\n",
              "    </tr>\n",
              "    <tr>\n",
              "      <th>c</th>\n",
              "      <td>NaN</td>\n",
              "      <td>NaN</td>\n",
              "    </tr>\n",
              "    <tr>\n",
              "      <th>d</th>\n",
              "      <td>0.75</td>\n",
              "      <td>-1.3</td>\n",
              "    </tr>\n",
              "  </tbody>\n",
              "</table>\n",
              "</div>"
            ],
            "text/plain": [
              "    one  two\n",
              "a  1.40  NaN\n",
              "b  7.10 -4.5\n",
              "c   NaN  NaN\n",
              "d  0.75 -1.3"
            ]
          },
          "metadata": {
            "tags": []
          },
          "execution_count": 332
        }
      ]
    },
    {
      "cell_type": "code",
      "metadata": {
        "colab": {
          "base_uri": "https://localhost:8080/"
        },
        "id": "jhNEkFiMbGEC",
        "outputId": "be58fb92-ffe6-4e7f-ef9e-7dee3b37c768"
      },
      "source": [
        "df.sum()"
      ],
      "execution_count": null,
      "outputs": [
        {
          "output_type": "execute_result",
          "data": {
            "text/plain": [
              "one    9.25\n",
              "two   -5.80\n",
              "dtype: float64"
            ]
          },
          "metadata": {
            "tags": []
          },
          "execution_count": 333
        }
      ]
    },
    {
      "cell_type": "code",
      "metadata": {
        "colab": {
          "base_uri": "https://localhost:8080/"
        },
        "id": "vyZ2XXrObGvX",
        "outputId": "70938212-60b2-4436-f373-99293fd3751b"
      },
      "source": [
        "df.sum(axis=1)"
      ],
      "execution_count": null,
      "outputs": [
        {
          "output_type": "execute_result",
          "data": {
            "text/plain": [
              "a    1.40\n",
              "b    2.60\n",
              "c    0.00\n",
              "d   -0.55\n",
              "dtype: float64"
            ]
          },
          "metadata": {
            "tags": []
          },
          "execution_count": 334
        }
      ]
    },
    {
      "cell_type": "code",
      "metadata": {
        "colab": {
          "base_uri": "https://localhost:8080/"
        },
        "id": "SX14WEYWb8Q9",
        "outputId": "7be2ad21-6f74-40d2-e0f3-a271df9805fc"
      },
      "source": [
        "df.mean(axis=1)"
      ],
      "execution_count": null,
      "outputs": [
        {
          "output_type": "execute_result",
          "data": {
            "text/plain": [
              "a    1.400\n",
              "b    1.300\n",
              "c      NaN\n",
              "d   -0.275\n",
              "dtype: float64"
            ]
          },
          "metadata": {
            "tags": []
          },
          "execution_count": 335
        }
      ]
    },
    {
      "cell_type": "markdown",
      "metadata": {
        "id": "jEzAZN5Ebdca"
      },
      "source": [
        "NA值会自动被排除，除非整个切片都是NA，通过skipna选项可以禁用该功能"
      ]
    },
    {
      "cell_type": "code",
      "metadata": {
        "colab": {
          "base_uri": "https://localhost:8080/"
        },
        "id": "tuOKu4cTbJg8",
        "outputId": "2c727998-1778-4a68-f54e-663e8613c7c7"
      },
      "source": [
        "df.mean(axis=1, skipna=False)"
      ],
      "execution_count": null,
      "outputs": [
        {
          "output_type": "execute_result",
          "data": {
            "text/plain": [
              "a      NaN\n",
              "b    1.300\n",
              "c      NaN\n",
              "d   -0.275\n",
              "dtype: float64"
            ]
          },
          "metadata": {
            "tags": []
          },
          "execution_count": 336
        }
      ]
    },
    {
      "cell_type": "markdown",
      "metadata": {
        "id": "WM8uSfWtcIwS"
      },
      "source": [
        "![image.png](data:image/png;base64,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)"
      ]
    },
    {
      "cell_type": "markdown",
      "metadata": {
        "id": "dJI2oNLpcaoX"
      },
      "source": [
        "有些方法按返回的是间接统计（idxmin和idxmax）"
      ]
    },
    {
      "cell_type": "code",
      "metadata": {
        "colab": {
          "base_uri": "https://localhost:8080/"
        },
        "id": "tzOeAjPHb6vI",
        "outputId": "91b3f5f2-7d94-4500-980c-85599a15644e"
      },
      "source": [
        "df.idxmax()"
      ],
      "execution_count": null,
      "outputs": [
        {
          "output_type": "execute_result",
          "data": {
            "text/plain": [
              "one    b\n",
              "two    d\n",
              "dtype: object"
            ]
          },
          "metadata": {
            "tags": []
          },
          "execution_count": 337
        }
      ]
    },
    {
      "cell_type": "markdown",
      "metadata": {
        "id": "2FRWs2ZVcl4R"
      },
      "source": [
        "有一些方法返回的是累计型："
      ]
    },
    {
      "cell_type": "code",
      "metadata": {
        "colab": {
          "base_uri": "https://localhost:8080/",
          "height": 173
        },
        "id": "-iqtjTcTcZSr",
        "outputId": "f9bfddf8-6dda-49bc-9db7-d90b62c5b0d8"
      },
      "source": [
        "df.cumsum()"
      ],
      "execution_count": null,
      "outputs": [
        {
          "output_type": "execute_result",
          "data": {
            "text/html": [
              "<div>\n",
              "<style scoped>\n",
              "    .dataframe tbody tr th:only-of-type {\n",
              "        vertical-align: middle;\n",
              "    }\n",
              "\n",
              "    .dataframe tbody tr th {\n",
              "        vertical-align: top;\n",
              "    }\n",
              "\n",
              "    .dataframe thead th {\n",
              "        text-align: right;\n",
              "    }\n",
              "</style>\n",
              "<table border=\"1\" class=\"dataframe\">\n",
              "  <thead>\n",
              "    <tr style=\"text-align: right;\">\n",
              "      <th></th>\n",
              "      <th>one</th>\n",
              "      <th>two</th>\n",
              "    </tr>\n",
              "  </thead>\n",
              "  <tbody>\n",
              "    <tr>\n",
              "      <th>a</th>\n",
              "      <td>1.40</td>\n",
              "      <td>NaN</td>\n",
              "    </tr>\n",
              "    <tr>\n",
              "      <th>b</th>\n",
              "      <td>8.50</td>\n",
              "      <td>-4.5</td>\n",
              "    </tr>\n",
              "    <tr>\n",
              "      <th>c</th>\n",
              "      <td>NaN</td>\n",
              "      <td>NaN</td>\n",
              "    </tr>\n",
              "    <tr>\n",
              "      <th>d</th>\n",
              "      <td>9.25</td>\n",
              "      <td>-5.8</td>\n",
              "    </tr>\n",
              "  </tbody>\n",
              "</table>\n",
              "</div>"
            ],
            "text/plain": [
              "    one  two\n",
              "a  1.40  NaN\n",
              "b  8.50 -4.5\n",
              "c   NaN  NaN\n",
              "d  9.25 -5.8"
            ]
          },
          "metadata": {
            "tags": []
          },
          "execution_count": 338
        }
      ]
    },
    {
      "cell_type": "markdown",
      "metadata": {
        "id": "Giph2eRLcw3z"
      },
      "source": [
        "还有一种方法，它既不是约简型也不是累计型。describd就是一个例子，它用于一次性产生多个汇总统计"
      ]
    },
    {
      "cell_type": "code",
      "metadata": {
        "colab": {
          "base_uri": "https://localhost:8080/",
          "height": 297
        },
        "id": "Crgslyp0cr51",
        "outputId": "7d1c6703-9293-4e89-e5ab-4edcd4facf54"
      },
      "source": [
        "df.describe()"
      ],
      "execution_count": null,
      "outputs": [
        {
          "output_type": "execute_result",
          "data": {
            "text/html": [
              "<div>\n",
              "<style scoped>\n",
              "    .dataframe tbody tr th:only-of-type {\n",
              "        vertical-align: middle;\n",
              "    }\n",
              "\n",
              "    .dataframe tbody tr th {\n",
              "        vertical-align: top;\n",
              "    }\n",
              "\n",
              "    .dataframe thead th {\n",
              "        text-align: right;\n",
              "    }\n",
              "</style>\n",
              "<table border=\"1\" class=\"dataframe\">\n",
              "  <thead>\n",
              "    <tr style=\"text-align: right;\">\n",
              "      <th></th>\n",
              "      <th>one</th>\n",
              "      <th>two</th>\n",
              "    </tr>\n",
              "  </thead>\n",
              "  <tbody>\n",
              "    <tr>\n",
              "      <th>count</th>\n",
              "      <td>3.000000</td>\n",
              "      <td>2.000000</td>\n",
              "    </tr>\n",
              "    <tr>\n",
              "      <th>mean</th>\n",
              "      <td>3.083333</td>\n",
              "      <td>-2.900000</td>\n",
              "    </tr>\n",
              "    <tr>\n",
              "      <th>std</th>\n",
              "      <td>3.493685</td>\n",
              "      <td>2.262742</td>\n",
              "    </tr>\n",
              "    <tr>\n",
              "      <th>min</th>\n",
              "      <td>0.750000</td>\n",
              "      <td>-4.500000</td>\n",
              "    </tr>\n",
              "    <tr>\n",
              "      <th>25%</th>\n",
              "      <td>1.075000</td>\n",
              "      <td>-3.700000</td>\n",
              "    </tr>\n",
              "    <tr>\n",
              "      <th>50%</th>\n",
              "      <td>1.400000</td>\n",
              "      <td>-2.900000</td>\n",
              "    </tr>\n",
              "    <tr>\n",
              "      <th>75%</th>\n",
              "      <td>4.250000</td>\n",
              "      <td>-2.100000</td>\n",
              "    </tr>\n",
              "    <tr>\n",
              "      <th>max</th>\n",
              "      <td>7.100000</td>\n",
              "      <td>-1.300000</td>\n",
              "    </tr>\n",
              "  </tbody>\n",
              "</table>\n",
              "</div>"
            ],
            "text/plain": [
              "            one       two\n",
              "count  3.000000  2.000000\n",
              "mean   3.083333 -2.900000\n",
              "std    3.493685  2.262742\n",
              "min    0.750000 -4.500000\n",
              "25%    1.075000 -3.700000\n",
              "50%    1.400000 -2.900000\n",
              "75%    4.250000 -2.100000\n",
              "max    7.100000 -1.300000"
            ]
          },
          "metadata": {
            "tags": []
          },
          "execution_count": 339
        }
      ]
    },
    {
      "cell_type": "markdown",
      "metadata": {
        "id": "sym0d9grc_z3"
      },
      "source": [
        "对于非数值型数据，describe会产生另外一种汇总统计："
      ]
    },
    {
      "cell_type": "code",
      "metadata": {
        "colab": {
          "base_uri": "https://localhost:8080/"
        },
        "id": "hH86sY9Xc8rK",
        "outputId": "e0d4d8b7-2511-4558-c010-dfdff4927097"
      },
      "source": [
        "obj = Series(['a', 'a', 'b', 'c']*4)\n",
        "obj.describe()"
      ],
      "execution_count": null,
      "outputs": [
        {
          "output_type": "execute_result",
          "data": {
            "text/plain": [
              "count     16\n",
              "unique     3\n",
              "top        a\n",
              "freq       8\n",
              "dtype: object"
            ]
          },
          "metadata": {
            "tags": []
          },
          "execution_count": 340
        }
      ]
    },
    {
      "cell_type": "markdown",
      "metadata": {
        "id": "MHgWPIFxd5zM"
      },
      "source": [
        "方法|说明\n",
        ":--|:--\n",
        "count|非NA值得数量\n",
        "describe|针对Series或各DataFrame列计算汇总统计\n",
        "min,max|计算最小值最大值\n",
        "argmin,argmax|计算最大值最小值的索引位置（整数）\n",
        "idxmin,idxmax|计算能够获取到最大值最小值的索引值\n",
        "quantile|计算样本的分位数（0到1）\n",
        "sum|值的总和\n",
        "mean|\n",
        "median|算术中位数\n",
        "mad|根据平均值计算平均绝对误差\n",
        "var|样本值的方差\n",
        "std|样本值的标准差\n",
        "skew|样本值的偏度（三阶矩）\n",
        "kurt|样本值的峰值（四阶矩）\n",
        "cumsum|累积和\n",
        "cummin,cummax|累计最大值和累计最小值\n",
        "cumprod|样本的累计积\n",
        "diff|计算一阶差分\n",
        "pct_change|计算百分比变化\n"
      ]
    },
    {
      "cell_type": "markdown",
      "metadata": {
        "id": "vZUNyhfadONC"
      },
      "source": [
        "有些汇总统计（如相关系数和协方差）是通过参数对计算出来的。我们来看几个DataFrame"
      ]
    },
    {
      "cell_type": "code",
      "metadata": {
        "colab": {
          "base_uri": "https://localhost:8080/"
        },
        "id": "PjQ2S4c5kpbE",
        "outputId": "5e30d884-0864-45e7-b4ad-7ce2c520ffae"
      },
      "source": [
        "!pip install pandas-datareader"
      ],
      "execution_count": null,
      "outputs": [
        {
          "output_type": "stream",
          "text": [
            "Requirement already satisfied: pandas-datareader in /usr/local/lib/python3.6/dist-packages (0.9.0)\n",
            "Requirement already satisfied: requests>=2.19.0 in /usr/local/lib/python3.6/dist-packages (from pandas-datareader) (2.23.0)\n",
            "Requirement already satisfied: pandas>=0.23 in /usr/local/lib/python3.6/dist-packages (from pandas-datareader) (1.1.5)\n",
            "Requirement already satisfied: lxml in /usr/local/lib/python3.6/dist-packages (from pandas-datareader) (4.2.6)\n",
            "Requirement already satisfied: idna<3,>=2.5 in /usr/local/lib/python3.6/dist-packages (from requests>=2.19.0->pandas-datareader) (2.10)\n",
            "Requirement already satisfied: certifi>=2017.4.17 in /usr/local/lib/python3.6/dist-packages (from requests>=2.19.0->pandas-datareader) (2020.12.5)\n",
            "Requirement already satisfied: urllib3!=1.25.0,!=1.25.1,<1.26,>=1.21.1 in /usr/local/lib/python3.6/dist-packages (from requests>=2.19.0->pandas-datareader) (1.24.3)\n",
            "Requirement already satisfied: chardet<4,>=3.0.2 in /usr/local/lib/python3.6/dist-packages (from requests>=2.19.0->pandas-datareader) (3.0.4)\n",
            "Requirement already satisfied: python-dateutil>=2.7.3 in /usr/local/lib/python3.6/dist-packages (from pandas>=0.23->pandas-datareader) (2.8.1)\n",
            "Requirement already satisfied: pytz>=2017.2 in /usr/local/lib/python3.6/dist-packages (from pandas>=0.23->pandas-datareader) (2018.9)\n",
            "Requirement already satisfied: numpy>=1.15.4 in /usr/local/lib/python3.6/dist-packages (from pandas>=0.23->pandas-datareader) (1.19.5)\n",
            "Requirement already satisfied: six>=1.5 in /usr/local/lib/python3.6/dist-packages (from python-dateutil>=2.7.3->pandas>=0.23->pandas-datareader) (1.15.0)\n"
          ],
          "name": "stdout"
        }
      ]
    },
    {
      "cell_type": "code",
      "metadata": {
        "id": "pCm5tBCZjmeK"
      },
      "source": [
        "import pandas_datareader as web\n",
        "\n",
        "all_data = {}\n",
        "\n",
        "for ticker in ['AAPL', 'IBM', 'MSFT', 'GOOG']:\n",
        "    all_data[ticker] = web.get_data_yahoo(ticker, '1/1/2000', '1/1/2010')\n",
        "\n",
        "price = DataFrame({tic: data['Adj Close']\n",
        "                   for tic, data in all_data.items()})\n",
        "volume = DataFrame({tic: data['Volume']\n",
        "                    for tic, data in all_data.items()})"
      ],
      "execution_count": null,
      "outputs": []
    },
    {
      "cell_type": "markdown",
      "metadata": {
        "id": "zt7J6miXlMQn"
      },
      "source": [
        "接下来计算价格的百分数的变化"
      ]
    },
    {
      "cell_type": "code",
      "metadata": {
        "colab": {
          "base_uri": "https://localhost:8080/",
          "height": 235
        },
        "id": "rp9nOuYhkd-I",
        "outputId": "0c52ab77-a29b-440e-c313-6100051a1951"
      },
      "source": [
        "returns = price.pct_change()\n",
        "returns.tail()"
      ],
      "execution_count": null,
      "outputs": [
        {
          "output_type": "execute_result",
          "data": {
            "text/html": [
              "<div>\n",
              "<style scoped>\n",
              "    .dataframe tbody tr th:only-of-type {\n",
              "        vertical-align: middle;\n",
              "    }\n",
              "\n",
              "    .dataframe tbody tr th {\n",
              "        vertical-align: top;\n",
              "    }\n",
              "\n",
              "    .dataframe thead th {\n",
              "        text-align: right;\n",
              "    }\n",
              "</style>\n",
              "<table border=\"1\" class=\"dataframe\">\n",
              "  <thead>\n",
              "    <tr style=\"text-align: right;\">\n",
              "      <th></th>\n",
              "      <th>AAPL</th>\n",
              "      <th>IBM</th>\n",
              "      <th>MSFT</th>\n",
              "      <th>GOOG</th>\n",
              "    </tr>\n",
              "    <tr>\n",
              "      <th>Date</th>\n",
              "      <th></th>\n",
              "      <th></th>\n",
              "      <th></th>\n",
              "      <th></th>\n",
              "    </tr>\n",
              "  </thead>\n",
              "  <tbody>\n",
              "    <tr>\n",
              "      <th>2009-12-24</th>\n",
              "      <td>0.034340</td>\n",
              "      <td>0.004385</td>\n",
              "      <td>0.002587</td>\n",
              "      <td>0.011117</td>\n",
              "    </tr>\n",
              "    <tr>\n",
              "      <th>2009-12-28</th>\n",
              "      <td>0.012294</td>\n",
              "      <td>0.013326</td>\n",
              "      <td>0.005484</td>\n",
              "      <td>0.007098</td>\n",
              "    </tr>\n",
              "    <tr>\n",
              "      <th>2009-12-29</th>\n",
              "      <td>-0.011861</td>\n",
              "      <td>-0.003477</td>\n",
              "      <td>0.007058</td>\n",
              "      <td>-0.005571</td>\n",
              "    </tr>\n",
              "    <tr>\n",
              "      <th>2009-12-30</th>\n",
              "      <td>0.012147</td>\n",
              "      <td>0.005461</td>\n",
              "      <td>-0.013699</td>\n",
              "      <td>0.005376</td>\n",
              "    </tr>\n",
              "    <tr>\n",
              "      <th>2009-12-31</th>\n",
              "      <td>-0.004300</td>\n",
              "      <td>-0.012597</td>\n",
              "      <td>-0.015504</td>\n",
              "      <td>-0.004416</td>\n",
              "    </tr>\n",
              "  </tbody>\n",
              "</table>\n",
              "</div>"
            ],
            "text/plain": [
              "                AAPL       IBM      MSFT      GOOG\n",
              "Date                                              \n",
              "2009-12-24  0.034340  0.004385  0.002587  0.011117\n",
              "2009-12-28  0.012294  0.013326  0.005484  0.007098\n",
              "2009-12-29 -0.011861 -0.003477  0.007058 -0.005571\n",
              "2009-12-30  0.012147  0.005461 -0.013699  0.005376\n",
              "2009-12-31 -0.004300 -0.012597 -0.015504 -0.004416"
            ]
          },
          "metadata": {
            "tags": []
          },
          "execution_count": 343
        }
      ]
    },
    {
      "cell_type": "markdown",
      "metadata": {
        "id": "nPQul_rWlfjX"
      },
      "source": [
        "Series的corr方法用于计算Series中重叠的、非NA的、按索引对齐的值的相关系数。cov用于计算协方差"
      ]
    },
    {
      "cell_type": "markdown",
      "metadata": {
        "id": "jvKNaSQKmgcG"
      },
      "source": [
        "下面计算MSFT和IBM的相关系数"
      ]
    },
    {
      "cell_type": "code",
      "metadata": {
        "colab": {
          "base_uri": "https://localhost:8080/"
        },
        "id": "OKG-GwyAlb2q",
        "outputId": "6062525b-271c-4c04-d892-bfca73b61207"
      },
      "source": [
        "returns.MSFT.corr(returns.IBM)"
      ],
      "execution_count": null,
      "outputs": [
        {
          "output_type": "execute_result",
          "data": {
            "text/plain": [
              "0.4959797652275992"
            ]
          },
          "metadata": {
            "tags": []
          },
          "execution_count": 344
        }
      ]
    },
    {
      "cell_type": "code",
      "metadata": {
        "colab": {
          "base_uri": "https://localhost:8080/"
        },
        "id": "TrxBUgv1mXsm",
        "outputId": "fb063a49-8c07-4f4d-e49d-667ce93caa62"
      },
      "source": [
        "returns.MSFT.cov(returns.IBM)"
      ],
      "execution_count": null,
      "outputs": [
        {
          "output_type": "execute_result",
          "data": {
            "text/plain": [
              "0.00021595764520058794"
            ]
          },
          "metadata": {
            "tags": []
          },
          "execution_count": 345
        }
      ]
    },
    {
      "cell_type": "markdown",
      "metadata": {
        "id": "OTpdgdP_m9sn"
      },
      "source": [
        "DataFrame的corr和cov方法将以DataFrame的形式返回完整的相关系数或协方差矩阵："
      ]
    },
    {
      "cell_type": "code",
      "metadata": {
        "colab": {
          "base_uri": "https://localhost:8080/",
          "height": 173
        },
        "id": "iZYqdCNmnFyE",
        "outputId": "1e307aa1-d58a-4942-9920-c0c0d2a72ff0"
      },
      "source": [
        "returns.corr()"
      ],
      "execution_count": null,
      "outputs": [
        {
          "output_type": "execute_result",
          "data": {
            "text/html": [
              "<div>\n",
              "<style scoped>\n",
              "    .dataframe tbody tr th:only-of-type {\n",
              "        vertical-align: middle;\n",
              "    }\n",
              "\n",
              "    .dataframe tbody tr th {\n",
              "        vertical-align: top;\n",
              "    }\n",
              "\n",
              "    .dataframe thead th {\n",
              "        text-align: right;\n",
              "    }\n",
              "</style>\n",
              "<table border=\"1\" class=\"dataframe\">\n",
              "  <thead>\n",
              "    <tr style=\"text-align: right;\">\n",
              "      <th></th>\n",
              "      <th>AAPL</th>\n",
              "      <th>IBM</th>\n",
              "      <th>MSFT</th>\n",
              "      <th>GOOG</th>\n",
              "    </tr>\n",
              "  </thead>\n",
              "  <tbody>\n",
              "    <tr>\n",
              "      <th>AAPL</th>\n",
              "      <td>1.000000</td>\n",
              "      <td>0.410011</td>\n",
              "      <td>0.424305</td>\n",
              "      <td>0.470676</td>\n",
              "    </tr>\n",
              "    <tr>\n",
              "      <th>IBM</th>\n",
              "      <td>0.410011</td>\n",
              "      <td>1.000000</td>\n",
              "      <td>0.495980</td>\n",
              "      <td>0.390689</td>\n",
              "    </tr>\n",
              "    <tr>\n",
              "      <th>MSFT</th>\n",
              "      <td>0.424305</td>\n",
              "      <td>0.495980</td>\n",
              "      <td>1.000000</td>\n",
              "      <td>0.443586</td>\n",
              "    </tr>\n",
              "    <tr>\n",
              "      <th>GOOG</th>\n",
              "      <td>0.470676</td>\n",
              "      <td>0.390689</td>\n",
              "      <td>0.443586</td>\n",
              "      <td>1.000000</td>\n",
              "    </tr>\n",
              "  </tbody>\n",
              "</table>\n",
              "</div>"
            ],
            "text/plain": [
              "          AAPL       IBM      MSFT      GOOG\n",
              "AAPL  1.000000  0.410011  0.424305  0.470676\n",
              "IBM   0.410011  1.000000  0.495980  0.390689\n",
              "MSFT  0.424305  0.495980  1.000000  0.443586\n",
              "GOOG  0.470676  0.390689  0.443586  1.000000"
            ]
          },
          "metadata": {
            "tags": []
          },
          "execution_count": 346
        }
      ]
    },
    {
      "cell_type": "code",
      "metadata": {
        "colab": {
          "base_uri": "https://localhost:8080/",
          "height": 173
        },
        "id": "e0AueUcZnHDT",
        "outputId": "89c8a37b-78b6-454b-98b7-ba0f4526592f"
      },
      "source": [
        "returns.cov()"
      ],
      "execution_count": null,
      "outputs": [
        {
          "output_type": "execute_result",
          "data": {
            "text/html": [
              "<div>\n",
              "<style scoped>\n",
              "    .dataframe tbody tr th:only-of-type {\n",
              "        vertical-align: middle;\n",
              "    }\n",
              "\n",
              "    .dataframe tbody tr th {\n",
              "        vertical-align: top;\n",
              "    }\n",
              "\n",
              "    .dataframe thead th {\n",
              "        text-align: right;\n",
              "    }\n",
              "</style>\n",
              "<table border=\"1\" class=\"dataframe\">\n",
              "  <thead>\n",
              "    <tr style=\"text-align: right;\">\n",
              "      <th></th>\n",
              "      <th>AAPL</th>\n",
              "      <th>IBM</th>\n",
              "      <th>MSFT</th>\n",
              "      <th>GOOG</th>\n",
              "    </tr>\n",
              "  </thead>\n",
              "  <tbody>\n",
              "    <tr>\n",
              "      <th>AAPL</th>\n",
              "      <td>0.001027</td>\n",
              "      <td>0.000252</td>\n",
              "      <td>0.000309</td>\n",
              "      <td>0.000303</td>\n",
              "    </tr>\n",
              "    <tr>\n",
              "      <th>IBM</th>\n",
              "      <td>0.000252</td>\n",
              "      <td>0.000367</td>\n",
              "      <td>0.000216</td>\n",
              "      <td>0.000142</td>\n",
              "    </tr>\n",
              "    <tr>\n",
              "      <th>MSFT</th>\n",
              "      <td>0.000309</td>\n",
              "      <td>0.000216</td>\n",
              "      <td>0.000516</td>\n",
              "      <td>0.000205</td>\n",
              "    </tr>\n",
              "    <tr>\n",
              "      <th>GOOG</th>\n",
              "      <td>0.000303</td>\n",
              "      <td>0.000142</td>\n",
              "      <td>0.000205</td>\n",
              "      <td>0.000580</td>\n",
              "    </tr>\n",
              "  </tbody>\n",
              "</table>\n",
              "</div>"
            ],
            "text/plain": [
              "          AAPL       IBM      MSFT      GOOG\n",
              "AAPL  0.001027  0.000252  0.000309  0.000303\n",
              "IBM   0.000252  0.000367  0.000216  0.000142\n",
              "MSFT  0.000309  0.000216  0.000516  0.000205\n",
              "GOOG  0.000303  0.000142  0.000205  0.000580"
            ]
          },
          "metadata": {
            "tags": []
          },
          "execution_count": 347
        }
      ]
    },
    {
      "cell_type": "code",
      "metadata": {
        "colab": {
          "base_uri": "https://localhost:8080/"
        },
        "id": "KMzpq2tiqwnD",
        "outputId": "6c1725a8-8212-45c4-a6c3-dec06511cba9"
      },
      "source": [
        "returns.corrwith(returns.IBM)"
      ],
      "execution_count": null,
      "outputs": [
        {
          "output_type": "execute_result",
          "data": {
            "text/plain": [
              "AAPL    0.410011\n",
              "IBM     1.000000\n",
              "MSFT    0.495980\n",
              "GOOG    0.390689\n",
              "dtype: float64"
            ]
          },
          "metadata": {
            "tags": []
          },
          "execution_count": 348
        }
      ]
    },
    {
      "cell_type": "code",
      "metadata": {
        "colab": {
          "base_uri": "https://localhost:8080/"
        },
        "id": "X9d8IWv0uK5e",
        "outputId": "b9d96fd6-1428-421f-e88b-f6b4a218b094"
      },
      "source": [
        "returns.corrwith(volume)"
      ],
      "execution_count": null,
      "outputs": [
        {
          "output_type": "execute_result",
          "data": {
            "text/plain": [
              "AAPL   -0.057549\n",
              "IBM    -0.007892\n",
              "MSFT   -0.014245\n",
              "GOOG    0.062648\n",
              "dtype: float64"
            ]
          },
          "metadata": {
            "tags": []
          },
          "execution_count": 349
        }
      ]
    },
    {
      "cell_type": "markdown",
      "metadata": {
        "id": "pHz8j_yfuVai"
      },
      "source": [
        "传入axis=1则按行进行计算。无论如何，在计算相关系数之前，所有的数据项都会按标签对齐"
      ]
    },
    {
      "cell_type": "markdown",
      "metadata": {
        "id": "FeRr8Z4iuOzw"
      },
      "source": [
        "## 唯一值、值计数以及成员资格"
      ]
    },
    {
      "cell_type": "markdown",
      "metadata": {
        "id": "ghSeDnUN2ibx"
      },
      "source": [
        "unique方法，类似set()"
      ]
    },
    {
      "cell_type": "code",
      "metadata": {
        "colab": {
          "base_uri": "https://localhost:8080/"
        },
        "id": "ge2hbq58vIwK",
        "outputId": "9209385d-3c54-46b5-c679-101535b11ff9"
      },
      "source": [
        "obj = Series(['c', 'a', 'd', 'a', 'a', 'a', 'b', 'b', 'c', 'c', 'c'])\n",
        "obj"
      ],
      "execution_count": null,
      "outputs": [
        {
          "output_type": "execute_result",
          "data": {
            "text/plain": [
              "0     c\n",
              "1     a\n",
              "2     d\n",
              "3     a\n",
              "4     a\n",
              "5     a\n",
              "6     b\n",
              "7     b\n",
              "8     c\n",
              "9     c\n",
              "10    c\n",
              "dtype: object"
            ]
          },
          "metadata": {
            "tags": []
          },
          "execution_count": 350
        }
      ]
    },
    {
      "cell_type": "code",
      "metadata": {
        "colab": {
          "base_uri": "https://localhost:8080/"
        },
        "id": "g2E8JUCNvQXS",
        "outputId": "f24b178c-c5e2-4725-8830-25cc62f723ed"
      },
      "source": [
        "uniques = obj.unique()\n",
        "uniques"
      ],
      "execution_count": null,
      "outputs": [
        {
          "output_type": "execute_result",
          "data": {
            "text/plain": [
              "array(['c', 'a', 'd', 'b'], dtype=object)"
            ]
          },
          "metadata": {
            "tags": []
          },
          "execution_count": 351
        }
      ]
    },
    {
      "cell_type": "markdown",
      "metadata": {
        "id": "YHEaDZf4z9lo"
      },
      "source": [
        "返回的唯一值是未排序的，如果需要的话可以对结果再次进行排序（uniques.sour()）。value_counts用于计算一个Series中各值出现的频率："
      ]
    },
    {
      "cell_type": "code",
      "metadata": {
        "colab": {
          "base_uri": "https://localhost:8080/"
        },
        "id": "qvPMO7WdvRpS",
        "outputId": "88429e57-1a5c-4cac-eb3e-cc007f440e7d"
      },
      "source": [
        "obj.value_counts()"
      ],
      "execution_count": null,
      "outputs": [
        {
          "output_type": "execute_result",
          "data": {
            "text/plain": [
              "c    4\n",
              "a    4\n",
              "b    2\n",
              "d    1\n",
              "dtype: int64"
            ]
          },
          "metadata": {
            "tags": []
          },
          "execution_count": 352
        }
      ]
    },
    {
      "cell_type": "markdown",
      "metadata": {
        "id": "aZ_Yi7dbz8US"
      },
      "source": [
        "为了便于查看，结果Series是按频率降序排列的，value_counts还是一个顶级pandas方法，可用于任何数组或序列"
      ]
    },
    {
      "cell_type": "code",
      "metadata": {
        "colab": {
          "base_uri": "https://localhost:8080/"
        },
        "id": "-X584tUO1Fvd",
        "outputId": "5b01143c-1801-4378-96f5-6410c184d48b"
      },
      "source": [
        "pd.value_counts(obj.values, sort=False)"
      ],
      "execution_count": null,
      "outputs": [
        {
          "output_type": "execute_result",
          "data": {
            "text/plain": [
              "b    2\n",
              "a    4\n",
              "c    4\n",
              "d    1\n",
              "dtype: int64"
            ]
          },
          "metadata": {
            "tags": []
          },
          "execution_count": 353
        }
      ]
    },
    {
      "cell_type": "markdown",
      "metadata": {
        "id": "5a8kC_co1OtV"
      },
      "source": [
        "isin，用于判断矢量化集合的成员资格。可用于选取Series中或DataFrame列中数据的子集：\n"
      ]
    },
    {
      "cell_type": "code",
      "metadata": {
        "colab": {
          "base_uri": "https://localhost:8080/"
        },
        "id": "eMt0ImSU1LTL",
        "outputId": "3dcd8dc9-4451-4517-ea64-6121f4b17f5e"
      },
      "source": [
        "mask = obj.isin(['b', 'c'])\n",
        "mask"
      ],
      "execution_count": null,
      "outputs": [
        {
          "output_type": "execute_result",
          "data": {
            "text/plain": [
              "0      True\n",
              "1     False\n",
              "2     False\n",
              "3     False\n",
              "4     False\n",
              "5     False\n",
              "6      True\n",
              "7      True\n",
              "8      True\n",
              "9      True\n",
              "10     True\n",
              "dtype: bool"
            ]
          },
          "metadata": {
            "tags": []
          },
          "execution_count": 354
        }
      ]
    },
    {
      "cell_type": "code",
      "metadata": {
        "colab": {
          "base_uri": "https://localhost:8080/"
        },
        "id": "q4L_kZoZ1bbW",
        "outputId": "f2ace5bc-68f1-4b4e-fb2c-eaa00ba54e08"
      },
      "source": [
        "obj[mask]"
      ],
      "execution_count": null,
      "outputs": [
        {
          "output_type": "execute_result",
          "data": {
            "text/plain": [
              "0     c\n",
              "6     b\n",
              "7     b\n",
              "8     c\n",
              "9     c\n",
              "10    c\n",
              "dtype: object"
            ]
          },
          "metadata": {
            "tags": []
          },
          "execution_count": 355
        }
      ]
    },
    {
      "cell_type": "code",
      "metadata": {
        "colab": {
          "base_uri": "https://localhost:8080/",
          "height": 142
        },
        "id": "gO2hvF3k1diO",
        "outputId": "735c1b7f-17f0-49da-fd64-71281f6fd94b"
      },
      "source": [
        "frame = DataFrame(np.arange(9).reshape((3,3)))\n",
        "frame"
      ],
      "execution_count": null,
      "outputs": [
        {
          "output_type": "execute_result",
          "data": {
            "text/html": [
              "<div>\n",
              "<style scoped>\n",
              "    .dataframe tbody tr th:only-of-type {\n",
              "        vertical-align: middle;\n",
              "    }\n",
              "\n",
              "    .dataframe tbody tr th {\n",
              "        vertical-align: top;\n",
              "    }\n",
              "\n",
              "    .dataframe thead th {\n",
              "        text-align: right;\n",
              "    }\n",
              "</style>\n",
              "<table border=\"1\" class=\"dataframe\">\n",
              "  <thead>\n",
              "    <tr style=\"text-align: right;\">\n",
              "      <th></th>\n",
              "      <th>0</th>\n",
              "      <th>1</th>\n",
              "      <th>2</th>\n",
              "    </tr>\n",
              "  </thead>\n",
              "  <tbody>\n",
              "    <tr>\n",
              "      <th>0</th>\n",
              "      <td>0</td>\n",
              "      <td>1</td>\n",
              "      <td>2</td>\n",
              "    </tr>\n",
              "    <tr>\n",
              "      <th>1</th>\n",
              "      <td>3</td>\n",
              "      <td>4</td>\n",
              "      <td>5</td>\n",
              "    </tr>\n",
              "    <tr>\n",
              "      <th>2</th>\n",
              "      <td>6</td>\n",
              "      <td>7</td>\n",
              "      <td>8</td>\n",
              "    </tr>\n",
              "  </tbody>\n",
              "</table>\n",
              "</div>"
            ],
            "text/plain": [
              "   0  1  2\n",
              "0  0  1  2\n",
              "1  3  4  5\n",
              "2  6  7  8"
            ]
          },
          "metadata": {
            "tags": []
          },
          "execution_count": 356
        }
      ]
    },
    {
      "cell_type": "code",
      "metadata": {
        "id": "-AyoY3f_1o4l"
      },
      "source": [
        "mask = frame.isin([0, 2])"
      ],
      "execution_count": null,
      "outputs": []
    },
    {
      "cell_type": "code",
      "metadata": {
        "colab": {
          "base_uri": "https://localhost:8080/",
          "height": 142
        },
        "id": "2E1UuwT22F1Q",
        "outputId": "df233574-7619-402e-efd9-deb40ad095f8"
      },
      "source": [
        "frame[mask]"
      ],
      "execution_count": null,
      "outputs": [
        {
          "output_type": "execute_result",
          "data": {
            "text/html": [
              "<div>\n",
              "<style scoped>\n",
              "    .dataframe tbody tr th:only-of-type {\n",
              "        vertical-align: middle;\n",
              "    }\n",
              "\n",
              "    .dataframe tbody tr th {\n",
              "        vertical-align: top;\n",
              "    }\n",
              "\n",
              "    .dataframe thead th {\n",
              "        text-align: right;\n",
              "    }\n",
              "</style>\n",
              "<table border=\"1\" class=\"dataframe\">\n",
              "  <thead>\n",
              "    <tr style=\"text-align: right;\">\n",
              "      <th></th>\n",
              "      <th>0</th>\n",
              "      <th>1</th>\n",
              "      <th>2</th>\n",
              "    </tr>\n",
              "  </thead>\n",
              "  <tbody>\n",
              "    <tr>\n",
              "      <th>0</th>\n",
              "      <td>0.0</td>\n",
              "      <td>NaN</td>\n",
              "      <td>2.0</td>\n",
              "    </tr>\n",
              "    <tr>\n",
              "      <th>1</th>\n",
              "      <td>NaN</td>\n",
              "      <td>NaN</td>\n",
              "      <td>NaN</td>\n",
              "    </tr>\n",
              "    <tr>\n",
              "      <th>2</th>\n",
              "      <td>NaN</td>\n",
              "      <td>NaN</td>\n",
              "      <td>NaN</td>\n",
              "    </tr>\n",
              "  </tbody>\n",
              "</table>\n",
              "</div>"
            ],
            "text/plain": [
              "     0   1    2\n",
              "0  0.0 NaN  2.0\n",
              "1  NaN NaN  NaN\n",
              "2  NaN NaN  NaN"
            ]
          },
          "metadata": {
            "tags": []
          },
          "execution_count": 358
        }
      ]
    },
    {
      "cell_type": "markdown",
      "metadata": {
        "id": "NtHN7yut2ayv"
      },
      "source": [
        "唯一值、值计数、成员资格方法"
      ]
    },
    {
      "cell_type": "code",
      "metadata": {
        "colab": {
          "base_uri": "https://localhost:8080/",
          "height": 204
        },
        "id": "L6a9VHuW2ST5",
        "outputId": "f4efe3a8-e59d-4f66-eddd-8f12661d305b"
      },
      "source": [
        "data = DataFrame({'Qu1':[1, 3, 4, 3, 4],\n",
        "                  'Qu2':[2, 3, 1, 2, 3],\n",
        "                  'Qu3':[1, 5, 2, 4, 4]})\n",
        "data"
      ],
      "execution_count": null,
      "outputs": [
        {
          "output_type": "execute_result",
          "data": {
            "text/html": [
              "<div>\n",
              "<style scoped>\n",
              "    .dataframe tbody tr th:only-of-type {\n",
              "        vertical-align: middle;\n",
              "    }\n",
              "\n",
              "    .dataframe tbody tr th {\n",
              "        vertical-align: top;\n",
              "    }\n",
              "\n",
              "    .dataframe thead th {\n",
              "        text-align: right;\n",
              "    }\n",
              "</style>\n",
              "<table border=\"1\" class=\"dataframe\">\n",
              "  <thead>\n",
              "    <tr style=\"text-align: right;\">\n",
              "      <th></th>\n",
              "      <th>Qu1</th>\n",
              "      <th>Qu2</th>\n",
              "      <th>Qu3</th>\n",
              "    </tr>\n",
              "  </thead>\n",
              "  <tbody>\n",
              "    <tr>\n",
              "      <th>0</th>\n",
              "      <td>1</td>\n",
              "      <td>2</td>\n",
              "      <td>1</td>\n",
              "    </tr>\n",
              "    <tr>\n",
              "      <th>1</th>\n",
              "      <td>3</td>\n",
              "      <td>3</td>\n",
              "      <td>5</td>\n",
              "    </tr>\n",
              "    <tr>\n",
              "      <th>2</th>\n",
              "      <td>4</td>\n",
              "      <td>1</td>\n",
              "      <td>2</td>\n",
              "    </tr>\n",
              "    <tr>\n",
              "      <th>3</th>\n",
              "      <td>3</td>\n",
              "      <td>2</td>\n",
              "      <td>4</td>\n",
              "    </tr>\n",
              "    <tr>\n",
              "      <th>4</th>\n",
              "      <td>4</td>\n",
              "      <td>3</td>\n",
              "      <td>4</td>\n",
              "    </tr>\n",
              "  </tbody>\n",
              "</table>\n",
              "</div>"
            ],
            "text/plain": [
              "   Qu1  Qu2  Qu3\n",
              "0    1    2    1\n",
              "1    3    3    5\n",
              "2    4    1    2\n",
              "3    3    2    4\n",
              "4    4    3    4"
            ]
          },
          "metadata": {
            "tags": []
          },
          "execution_count": 359
        }
      ]
    },
    {
      "cell_type": "code",
      "metadata": {
        "colab": {
          "base_uri": "https://localhost:8080/"
        },
        "id": "Sw5j1svk21-q",
        "outputId": "d9e1b02f-e353-4ef8-ffbc-449dc0b94e02"
      },
      "source": [
        "data.value_counts()#一个层次化的"
      ],
      "execution_count": null,
      "outputs": [
        {
          "output_type": "execute_result",
          "data": {
            "text/plain": [
              "Qu1  Qu2  Qu3\n",
              "4    3    4      1\n",
              "     1    2      1\n",
              "3    3    5      1\n",
              "     2    4      1\n",
              "1    2    1      1\n",
              "dtype: int64"
            ]
          },
          "metadata": {
            "tags": []
          },
          "execution_count": 360
        }
      ]
    },
    {
      "cell_type": "markdown",
      "metadata": {
        "id": "qWRrFYXp2_LK"
      },
      "source": [
        " 将panda.value_counts传给DataFrame的apply函数，就会出现：\n"
      ]
    },
    {
      "cell_type": "code",
      "metadata": {
        "id": "jB6l8mJp38qN"
      },
      "source": [
        "result = data.apply(pd.value_counts).fillna(0)"
      ],
      "execution_count": null,
      "outputs": []
    },
    {
      "cell_type": "code",
      "metadata": {
        "colab": {
          "base_uri": "https://localhost:8080/",
          "height": 204
        },
        "id": "G3dZa8l24Bil",
        "outputId": "afd05dcd-a69f-4647-99ae-8dbca642644a"
      },
      "source": [
        "result"
      ],
      "execution_count": null,
      "outputs": [
        {
          "output_type": "execute_result",
          "data": {
            "text/html": [
              "<div>\n",
              "<style scoped>\n",
              "    .dataframe tbody tr th:only-of-type {\n",
              "        vertical-align: middle;\n",
              "    }\n",
              "\n",
              "    .dataframe tbody tr th {\n",
              "        vertical-align: top;\n",
              "    }\n",
              "\n",
              "    .dataframe thead th {\n",
              "        text-align: right;\n",
              "    }\n",
              "</style>\n",
              "<table border=\"1\" class=\"dataframe\">\n",
              "  <thead>\n",
              "    <tr style=\"text-align: right;\">\n",
              "      <th></th>\n",
              "      <th>Qu1</th>\n",
              "      <th>Qu2</th>\n",
              "      <th>Qu3</th>\n",
              "    </tr>\n",
              "  </thead>\n",
              "  <tbody>\n",
              "    <tr>\n",
              "      <th>1</th>\n",
              "      <td>1.0</td>\n",
              "      <td>1.0</td>\n",
              "      <td>1.0</td>\n",
              "    </tr>\n",
              "    <tr>\n",
              "      <th>2</th>\n",
              "      <td>0.0</td>\n",
              "      <td>2.0</td>\n",
              "      <td>1.0</td>\n",
              "    </tr>\n",
              "    <tr>\n",
              "      <th>3</th>\n",
              "      <td>2.0</td>\n",
              "      <td>2.0</td>\n",
              "      <td>0.0</td>\n",
              "    </tr>\n",
              "    <tr>\n",
              "      <th>4</th>\n",
              "      <td>2.0</td>\n",
              "      <td>0.0</td>\n",
              "      <td>2.0</td>\n",
              "    </tr>\n",
              "    <tr>\n",
              "      <th>5</th>\n",
              "      <td>0.0</td>\n",
              "      <td>0.0</td>\n",
              "      <td>1.0</td>\n",
              "    </tr>\n",
              "  </tbody>\n",
              "</table>\n",
              "</div>"
            ],
            "text/plain": [
              "   Qu1  Qu2  Qu3\n",
              "1  1.0  1.0  1.0\n",
              "2  0.0  2.0  1.0\n",
              "3  2.0  2.0  0.0\n",
              "4  2.0  0.0  2.0\n",
              "5  0.0  0.0  1.0"
            ]
          },
          "metadata": {
            "tags": []
          },
          "execution_count": 362
        }
      ]
    },
    {
      "cell_type": "markdown",
      "metadata": {
        "id": "7yJ608n54CqG"
      },
      "source": [
        "## 处理缺失数据\n",
        "missing data在大部分数据分析应用中都很常见。pandas的设计目标之一就是让确实数据的处理任务尽量轻松。例如，pandas对象上的所有描述统计都排除了缺失数据"
      ]
    },
    {
      "cell_type": "markdown",
      "metadata": {
        "id": "gzExeMnz4Vdj"
      },
      "source": [
        "pandas使用浮点值NaN表示浮点和非浮点数组中的缺失数据。"
      ]
    },
    {
      "cell_type": "code",
      "metadata": {
        "colab": {
          "base_uri": "https://localhost:8080/"
        },
        "id": "LAhbm_ev4dvf",
        "outputId": "b472a06d-0802-4d42-ee85-e6df759e08f8"
      },
      "source": [
        "string_data = Series(['aardvark', 'artichoke', np.nan, np.nan, 'avocado'])\n",
        "string_data"
      ],
      "execution_count": null,
      "outputs": [
        {
          "output_type": "execute_result",
          "data": {
            "text/plain": [
              "0     aardvark\n",
              "1    artichoke\n",
              "2          NaN\n",
              "3          NaN\n",
              "4      avocado\n",
              "dtype: object"
            ]
          },
          "metadata": {
            "tags": []
          },
          "execution_count": 363
        }
      ]
    },
    {
      "cell_type": "markdown",
      "metadata": {
        "id": "Nhth8zPH4mMp"
      },
      "source": [
        "None值也会被当做NA处理"
      ]
    },
    {
      "cell_type": "code",
      "metadata": {
        "colab": {
          "base_uri": "https://localhost:8080/"
        },
        "id": "m-GQ8lX18FUG",
        "outputId": "980b83e6-0919-4de3-c1a0-76a3472b0d29"
      },
      "source": [
        "string_data[0] = None\n",
        "string_data.isnull()"
      ],
      "execution_count": null,
      "outputs": [
        {
          "output_type": "execute_result",
          "data": {
            "text/plain": [
              "0     True\n",
              "1    False\n",
              "2     True\n",
              "3     True\n",
              "4    False\n",
              "dtype: bool"
            ]
          },
          "metadata": {
            "tags": []
          },
          "execution_count": 364
        }
      ]
    },
    {
      "cell_type": "markdown",
      "metadata": {
        "id": "AjGLTkR_8YGv"
      },
      "source": [
        "### NA处理方法\n",
        "方法|说明\n",
        ":--|:--\n",
        "dropna|根据各标签值中是否存在缺失数据对轴标签进行过滤，可通过阈值调节对缺失值的容忍度\n",
        "fillna|用指定值或插值方法（如ffill或bfill）填充缺失数据\n",
        "isnull|返回一个含bool值的对象，这些bool值表示哪些是缺失值，该对象的类型与源类型一样\n",
        "notnull|isnull的否定式"
      ]
    },
    {
      "cell_type": "markdown",
      "metadata": {
        "id": "Vl4vOOgp9XWP"
      },
      "source": []
    },
    {
      "cell_type": "markdown",
      "metadata": {
        "id": "P1bUGgCx8K0H"
      },
      "source": [
        "## 滤除缺失数据"
      ]
    },
    {
      "cell_type": "markdown",
      "metadata": {
        "id": "qXMqQP-49bP9"
      },
      "source": [
        "对于一个**series**，dropna返回一个仅含非空数据和索引值的Series"
      ]
    },
    {
      "cell_type": "code",
      "metadata": {
        "colab": {
          "base_uri": "https://localhost:8080/"
        },
        "id": "xrEArlk59vxz",
        "outputId": "dd3212ff-6dfe-4395-ae71-9ac965320427"
      },
      "source": [
        "from numpy import nan as NA\n",
        "data = Series([1, NA, 3.5, NA, 7])\n",
        "data.dropna()"
      ],
      "execution_count": null,
      "outputs": [
        {
          "output_type": "execute_result",
          "data": {
            "text/plain": [
              "0    1.0\n",
              "2    3.5\n",
              "4    7.0\n",
              "dtype: float64"
            ]
          },
          "metadata": {
            "tags": []
          },
          "execution_count": 365
        }
      ]
    },
    {
      "cell_type": "markdown",
      "metadata": {
        "id": "nHz9jL4g94ff"
      },
      "source": [
        "也可以通过bool型索引达到该目的"
      ]
    },
    {
      "cell_type": "code",
      "metadata": {
        "colab": {
          "base_uri": "https://localhost:8080/"
        },
        "id": "05NhJNu599a9",
        "outputId": "23b6b94a-5a5b-4437-b091-ab0e4e81b879"
      },
      "source": [
        "data[data.notnull()]"
      ],
      "execution_count": null,
      "outputs": [
        {
          "output_type": "execute_result",
          "data": {
            "text/plain": [
              "0    1.0\n",
              "2    3.5\n",
              "4    7.0\n",
              "dtype: float64"
            ]
          },
          "metadata": {
            "tags": []
          },
          "execution_count": 366
        }
      ]
    },
    {
      "cell_type": "markdown",
      "metadata": {
        "id": "jG-wV23K-Aup"
      },
      "source": [
        "而对于DataFrame事情会复杂一些。你可能希望丢弃带有NA的行或者列。"
      ]
    },
    {
      "cell_type": "code",
      "metadata": {
        "colab": {
          "base_uri": "https://localhost:8080/",
          "height": 236
        },
        "id": "wMNiSz-b9_M3",
        "outputId": "c3cf4003-7631-4fa5-968c-57a02fef932d"
      },
      "source": [
        "data = DataFrame([[1., 6.5, 3.], [1., NA, NA],\n",
        "                 [NA, NA, NA], [NA, 6.5, 3.]])\n",
        "cleaned = data.dropna()\n",
        "display(data)\n",
        "display(cleaned)"
      ],
      "execution_count": null,
      "outputs": [
        {
          "output_type": "display_data",
          "data": {
            "text/html": [
              "<div>\n",
              "<style scoped>\n",
              "    .dataframe tbody tr th:only-of-type {\n",
              "        vertical-align: middle;\n",
              "    }\n",
              "\n",
              "    .dataframe tbody tr th {\n",
              "        vertical-align: top;\n",
              "    }\n",
              "\n",
              "    .dataframe thead th {\n",
              "        text-align: right;\n",
              "    }\n",
              "</style>\n",
              "<table border=\"1\" class=\"dataframe\">\n",
              "  <thead>\n",
              "    <tr style=\"text-align: right;\">\n",
              "      <th></th>\n",
              "      <th>0</th>\n",
              "      <th>1</th>\n",
              "      <th>2</th>\n",
              "    </tr>\n",
              "  </thead>\n",
              "  <tbody>\n",
              "    <tr>\n",
              "      <th>0</th>\n",
              "      <td>1.0</td>\n",
              "      <td>6.5</td>\n",
              "      <td>3.0</td>\n",
              "    </tr>\n",
              "    <tr>\n",
              "      <th>1</th>\n",
              "      <td>1.0</td>\n",
              "      <td>NaN</td>\n",
              "      <td>NaN</td>\n",
              "    </tr>\n",
              "    <tr>\n",
              "      <th>2</th>\n",
              "      <td>NaN</td>\n",
              "      <td>NaN</td>\n",
              "      <td>NaN</td>\n",
              "    </tr>\n",
              "    <tr>\n",
              "      <th>3</th>\n",
              "      <td>NaN</td>\n",
              "      <td>6.5</td>\n",
              "      <td>3.0</td>\n",
              "    </tr>\n",
              "  </tbody>\n",
              "</table>\n",
              "</div>"
            ],
            "text/plain": [
              "     0    1    2\n",
              "0  1.0  6.5  3.0\n",
              "1  1.0  NaN  NaN\n",
              "2  NaN  NaN  NaN\n",
              "3  NaN  6.5  3.0"
            ]
          },
          "metadata": {
            "tags": []
          }
        },
        {
          "output_type": "display_data",
          "data": {
            "text/html": [
              "<div>\n",
              "<style scoped>\n",
              "    .dataframe tbody tr th:only-of-type {\n",
              "        vertical-align: middle;\n",
              "    }\n",
              "\n",
              "    .dataframe tbody tr th {\n",
              "        vertical-align: top;\n",
              "    }\n",
              "\n",
              "    .dataframe thead th {\n",
              "        text-align: right;\n",
              "    }\n",
              "</style>\n",
              "<table border=\"1\" class=\"dataframe\">\n",
              "  <thead>\n",
              "    <tr style=\"text-align: right;\">\n",
              "      <th></th>\n",
              "      <th>0</th>\n",
              "      <th>1</th>\n",
              "      <th>2</th>\n",
              "    </tr>\n",
              "  </thead>\n",
              "  <tbody>\n",
              "    <tr>\n",
              "      <th>0</th>\n",
              "      <td>1.0</td>\n",
              "      <td>6.5</td>\n",
              "      <td>3.0</td>\n",
              "    </tr>\n",
              "  </tbody>\n",
              "</table>\n",
              "</div>"
            ],
            "text/plain": [
              "     0    1    2\n",
              "0  1.0  6.5  3.0"
            ]
          },
          "metadata": {
            "tags": []
          }
        }
      ]
    },
    {
      "cell_type": "code",
      "metadata": {
        "id": "8UATscyVCA9C",
        "colab": {
          "base_uri": "https://localhost:8080/",
          "height": 142
        },
        "outputId": "86ba10a5-f391-4ae6-bbb1-0bdbbfa80348"
      },
      "source": [
        "data.dropna(how='all')"
      ],
      "execution_count": null,
      "outputs": [
        {
          "output_type": "execute_result",
          "data": {
            "text/html": [
              "<div>\n",
              "<style scoped>\n",
              "    .dataframe tbody tr th:only-of-type {\n",
              "        vertical-align: middle;\n",
              "    }\n",
              "\n",
              "    .dataframe tbody tr th {\n",
              "        vertical-align: top;\n",
              "    }\n",
              "\n",
              "    .dataframe thead th {\n",
              "        text-align: right;\n",
              "    }\n",
              "</style>\n",
              "<table border=\"1\" class=\"dataframe\">\n",
              "  <thead>\n",
              "    <tr style=\"text-align: right;\">\n",
              "      <th></th>\n",
              "      <th>0</th>\n",
              "      <th>1</th>\n",
              "      <th>2</th>\n",
              "    </tr>\n",
              "  </thead>\n",
              "  <tbody>\n",
              "    <tr>\n",
              "      <th>0</th>\n",
              "      <td>1.0</td>\n",
              "      <td>6.5</td>\n",
              "      <td>3.0</td>\n",
              "    </tr>\n",
              "    <tr>\n",
              "      <th>1</th>\n",
              "      <td>1.0</td>\n",
              "      <td>NaN</td>\n",
              "      <td>NaN</td>\n",
              "    </tr>\n",
              "    <tr>\n",
              "      <th>3</th>\n",
              "      <td>NaN</td>\n",
              "      <td>6.5</td>\n",
              "      <td>3.0</td>\n",
              "    </tr>\n",
              "  </tbody>\n",
              "</table>\n",
              "</div>"
            ],
            "text/plain": [
              "     0    1    2\n",
              "0  1.0  6.5  3.0\n",
              "1  1.0  NaN  NaN\n",
              "3  NaN  6.5  3.0"
            ]
          },
          "metadata": {
            "tags": []
          },
          "execution_count": 368
        }
      ]
    },
    {
      "cell_type": "code",
      "metadata": {
        "id": "ahEGQHkLYOuj"
      },
      "source": [
        "data[4] = NA"
      ],
      "execution_count": null,
      "outputs": []
    },
    {
      "cell_type": "code",
      "metadata": {
        "colab": {
          "base_uri": "https://localhost:8080/",
          "height": 173
        },
        "id": "S32wYOrZYYUF",
        "outputId": "19ba26ec-b4ed-4a0f-fe54-4318fabed666"
      },
      "source": [
        "data"
      ],
      "execution_count": null,
      "outputs": [
        {
          "output_type": "execute_result",
          "data": {
            "text/html": [
              "<div>\n",
              "<style scoped>\n",
              "    .dataframe tbody tr th:only-of-type {\n",
              "        vertical-align: middle;\n",
              "    }\n",
              "\n",
              "    .dataframe tbody tr th {\n",
              "        vertical-align: top;\n",
              "    }\n",
              "\n",
              "    .dataframe thead th {\n",
              "        text-align: right;\n",
              "    }\n",
              "</style>\n",
              "<table border=\"1\" class=\"dataframe\">\n",
              "  <thead>\n",
              "    <tr style=\"text-align: right;\">\n",
              "      <th></th>\n",
              "      <th>0</th>\n",
              "      <th>1</th>\n",
              "      <th>2</th>\n",
              "      <th>4</th>\n",
              "    </tr>\n",
              "  </thead>\n",
              "  <tbody>\n",
              "    <tr>\n",
              "      <th>0</th>\n",
              "      <td>1.0</td>\n",
              "      <td>6.5</td>\n",
              "      <td>3.0</td>\n",
              "      <td>NaN</td>\n",
              "    </tr>\n",
              "    <tr>\n",
              "      <th>1</th>\n",
              "      <td>1.0</td>\n",
              "      <td>NaN</td>\n",
              "      <td>NaN</td>\n",
              "      <td>NaN</td>\n",
              "    </tr>\n",
              "    <tr>\n",
              "      <th>2</th>\n",
              "      <td>NaN</td>\n",
              "      <td>NaN</td>\n",
              "      <td>NaN</td>\n",
              "      <td>NaN</td>\n",
              "    </tr>\n",
              "    <tr>\n",
              "      <th>3</th>\n",
              "      <td>NaN</td>\n",
              "      <td>6.5</td>\n",
              "      <td>3.0</td>\n",
              "      <td>NaN</td>\n",
              "    </tr>\n",
              "  </tbody>\n",
              "</table>\n",
              "</div>"
            ],
            "text/plain": [
              "     0    1    2   4\n",
              "0  1.0  6.5  3.0 NaN\n",
              "1  1.0  NaN  NaN NaN\n",
              "2  NaN  NaN  NaN NaN\n",
              "3  NaN  6.5  3.0 NaN"
            ]
          },
          "metadata": {
            "tags": []
          },
          "execution_count": 370
        }
      ]
    },
    {
      "cell_type": "code",
      "metadata": {
        "colab": {
          "base_uri": "https://localhost:8080/",
          "height": 173
        },
        "id": "uUj0wsp8YbWr",
        "outputId": "b86481c1-8b16-4508-ac5d-dc818ba4910f"
      },
      "source": [
        "data.dropna(axis=1, how='all')"
      ],
      "execution_count": null,
      "outputs": [
        {
          "output_type": "execute_result",
          "data": {
            "text/html": [
              "<div>\n",
              "<style scoped>\n",
              "    .dataframe tbody tr th:only-of-type {\n",
              "        vertical-align: middle;\n",
              "    }\n",
              "\n",
              "    .dataframe tbody tr th {\n",
              "        vertical-align: top;\n",
              "    }\n",
              "\n",
              "    .dataframe thead th {\n",
              "        text-align: right;\n",
              "    }\n",
              "</style>\n",
              "<table border=\"1\" class=\"dataframe\">\n",
              "  <thead>\n",
              "    <tr style=\"text-align: right;\">\n",
              "      <th></th>\n",
              "      <th>0</th>\n",
              "      <th>1</th>\n",
              "      <th>2</th>\n",
              "    </tr>\n",
              "  </thead>\n",
              "  <tbody>\n",
              "    <tr>\n",
              "      <th>0</th>\n",
              "      <td>1.0</td>\n",
              "      <td>6.5</td>\n",
              "      <td>3.0</td>\n",
              "    </tr>\n",
              "    <tr>\n",
              "      <th>1</th>\n",
              "      <td>1.0</td>\n",
              "      <td>NaN</td>\n",
              "      <td>NaN</td>\n",
              "    </tr>\n",
              "    <tr>\n",
              "      <th>2</th>\n",
              "      <td>NaN</td>\n",
              "      <td>NaN</td>\n",
              "      <td>NaN</td>\n",
              "    </tr>\n",
              "    <tr>\n",
              "      <th>3</th>\n",
              "      <td>NaN</td>\n",
              "      <td>6.5</td>\n",
              "      <td>3.0</td>\n",
              "    </tr>\n",
              "  </tbody>\n",
              "</table>\n",
              "</div>"
            ],
            "text/plain": [
              "     0    1    2\n",
              "0  1.0  6.5  3.0\n",
              "1  1.0  NaN  NaN\n",
              "2  NaN  NaN  NaN\n",
              "3  NaN  6.5  3.0"
            ]
          },
          "metadata": {
            "tags": []
          },
          "execution_count": 371
        }
      ]
    },
    {
      "cell_type": "markdown",
      "metadata": {
        "id": "7AlOSMggY2FS"
      },
      "source": [
        "另一个滤除DataFrame行的问题涉及时间序列数据。假设你只想留下一部分观测数据，可以用thresh参数实现此目的："
      ]
    },
    {
      "cell_type": "code",
      "metadata": {
        "colab": {
          "base_uri": "https://localhost:8080/",
          "height": 266
        },
        "id": "jKW3dXErZTG1",
        "outputId": "e7d782b2-a646-4363-a661-1aeedc1d969b"
      },
      "source": [
        "df = DataFrame(np.random.randn(7, 3))\n",
        "df.iloc[:4,1] = NA\n",
        "df.iloc[:2,2] = NA\n",
        "df"
      ],
      "execution_count": null,
      "outputs": [
        {
          "output_type": "execute_result",
          "data": {
            "text/html": [
              "<div>\n",
              "<style scoped>\n",
              "    .dataframe tbody tr th:only-of-type {\n",
              "        vertical-align: middle;\n",
              "    }\n",
              "\n",
              "    .dataframe tbody tr th {\n",
              "        vertical-align: top;\n",
              "    }\n",
              "\n",
              "    .dataframe thead th {\n",
              "        text-align: right;\n",
              "    }\n",
              "</style>\n",
              "<table border=\"1\" class=\"dataframe\">\n",
              "  <thead>\n",
              "    <tr style=\"text-align: right;\">\n",
              "      <th></th>\n",
              "      <th>0</th>\n",
              "      <th>1</th>\n",
              "      <th>2</th>\n",
              "    </tr>\n",
              "  </thead>\n",
              "  <tbody>\n",
              "    <tr>\n",
              "      <th>0</th>\n",
              "      <td>-0.964703</td>\n",
              "      <td>NaN</td>\n",
              "      <td>NaN</td>\n",
              "    </tr>\n",
              "    <tr>\n",
              "      <th>1</th>\n",
              "      <td>0.668888</td>\n",
              "      <td>NaN</td>\n",
              "      <td>NaN</td>\n",
              "    </tr>\n",
              "    <tr>\n",
              "      <th>2</th>\n",
              "      <td>0.021348</td>\n",
              "      <td>NaN</td>\n",
              "      <td>0.953739</td>\n",
              "    </tr>\n",
              "    <tr>\n",
              "      <th>3</th>\n",
              "      <td>-0.459398</td>\n",
              "      <td>NaN</td>\n",
              "      <td>0.636651</td>\n",
              "    </tr>\n",
              "    <tr>\n",
              "      <th>4</th>\n",
              "      <td>-1.741571</td>\n",
              "      <td>-1.320717</td>\n",
              "      <td>0.559535</td>\n",
              "    </tr>\n",
              "    <tr>\n",
              "      <th>5</th>\n",
              "      <td>0.296781</td>\n",
              "      <td>-0.062784</td>\n",
              "      <td>-1.536280</td>\n",
              "    </tr>\n",
              "    <tr>\n",
              "      <th>6</th>\n",
              "      <td>0.868018</td>\n",
              "      <td>0.703961</td>\n",
              "      <td>0.386455</td>\n",
              "    </tr>\n",
              "  </tbody>\n",
              "</table>\n",
              "</div>"
            ],
            "text/plain": [
              "          0         1         2\n",
              "0 -0.964703       NaN       NaN\n",
              "1  0.668888       NaN       NaN\n",
              "2  0.021348       NaN  0.953739\n",
              "3 -0.459398       NaN  0.636651\n",
              "4 -1.741571 -1.320717  0.559535\n",
              "5  0.296781 -0.062784 -1.536280\n",
              "6  0.868018  0.703961  0.386455"
            ]
          },
          "metadata": {
            "tags": []
          },
          "execution_count": 372
        }
      ]
    },
    {
      "cell_type": "code",
      "metadata": {
        "colab": {
          "base_uri": "https://localhost:8080/",
          "height": 142
        },
        "id": "vzZqnfvDZo6T",
        "outputId": "51eeae68-cbbd-46f8-cf04-cc835211c19b"
      },
      "source": [
        "df.dropna(axis=0)"
      ],
      "execution_count": null,
      "outputs": [
        {
          "output_type": "execute_result",
          "data": {
            "text/html": [
              "<div>\n",
              "<style scoped>\n",
              "    .dataframe tbody tr th:only-of-type {\n",
              "        vertical-align: middle;\n",
              "    }\n",
              "\n",
              "    .dataframe tbody tr th {\n",
              "        vertical-align: top;\n",
              "    }\n",
              "\n",
              "    .dataframe thead th {\n",
              "        text-align: right;\n",
              "    }\n",
              "</style>\n",
              "<table border=\"1\" class=\"dataframe\">\n",
              "  <thead>\n",
              "    <tr style=\"text-align: right;\">\n",
              "      <th></th>\n",
              "      <th>0</th>\n",
              "      <th>1</th>\n",
              "      <th>2</th>\n",
              "    </tr>\n",
              "  </thead>\n",
              "  <tbody>\n",
              "    <tr>\n",
              "      <th>4</th>\n",
              "      <td>-1.741571</td>\n",
              "      <td>-1.320717</td>\n",
              "      <td>0.559535</td>\n",
              "    </tr>\n",
              "    <tr>\n",
              "      <th>5</th>\n",
              "      <td>0.296781</td>\n",
              "      <td>-0.062784</td>\n",
              "      <td>-1.536280</td>\n",
              "    </tr>\n",
              "    <tr>\n",
              "      <th>6</th>\n",
              "      <td>0.868018</td>\n",
              "      <td>0.703961</td>\n",
              "      <td>0.386455</td>\n",
              "    </tr>\n",
              "  </tbody>\n",
              "</table>\n",
              "</div>"
            ],
            "text/plain": [
              "          0         1         2\n",
              "4 -1.741571 -1.320717  0.559535\n",
              "5  0.296781 -0.062784 -1.536280\n",
              "6  0.868018  0.703961  0.386455"
            ]
          },
          "metadata": {
            "tags": []
          },
          "execution_count": 373
        }
      ]
    },
    {
      "cell_type": "markdown",
      "metadata": {
        "id": "XeYaKkLpcHji"
      },
      "source": [
        "thresh表示该轴最少有多少个非缺失值"
      ]
    },
    {
      "cell_type": "code",
      "metadata": {
        "colab": {
          "base_uri": "https://localhost:8080/",
          "height": 204
        },
        "id": "4pH8bUoZZsDo",
        "outputId": "aa765451-9c63-43ae-851c-68041987bef0"
      },
      "source": [
        "df.dropna(thresh=2)"
      ],
      "execution_count": null,
      "outputs": [
        {
          "output_type": "execute_result",
          "data": {
            "text/html": [
              "<div>\n",
              "<style scoped>\n",
              "    .dataframe tbody tr th:only-of-type {\n",
              "        vertical-align: middle;\n",
              "    }\n",
              "\n",
              "    .dataframe tbody tr th {\n",
              "        vertical-align: top;\n",
              "    }\n",
              "\n",
              "    .dataframe thead th {\n",
              "        text-align: right;\n",
              "    }\n",
              "</style>\n",
              "<table border=\"1\" class=\"dataframe\">\n",
              "  <thead>\n",
              "    <tr style=\"text-align: right;\">\n",
              "      <th></th>\n",
              "      <th>0</th>\n",
              "      <th>1</th>\n",
              "      <th>2</th>\n",
              "    </tr>\n",
              "  </thead>\n",
              "  <tbody>\n",
              "    <tr>\n",
              "      <th>2</th>\n",
              "      <td>0.021348</td>\n",
              "      <td>NaN</td>\n",
              "      <td>0.953739</td>\n",
              "    </tr>\n",
              "    <tr>\n",
              "      <th>3</th>\n",
              "      <td>-0.459398</td>\n",
              "      <td>NaN</td>\n",
              "      <td>0.636651</td>\n",
              "    </tr>\n",
              "    <tr>\n",
              "      <th>4</th>\n",
              "      <td>-1.741571</td>\n",
              "      <td>-1.320717</td>\n",
              "      <td>0.559535</td>\n",
              "    </tr>\n",
              "    <tr>\n",
              "      <th>5</th>\n",
              "      <td>0.296781</td>\n",
              "      <td>-0.062784</td>\n",
              "      <td>-1.536280</td>\n",
              "    </tr>\n",
              "    <tr>\n",
              "      <th>6</th>\n",
              "      <td>0.868018</td>\n",
              "      <td>0.703961</td>\n",
              "      <td>0.386455</td>\n",
              "    </tr>\n",
              "  </tbody>\n",
              "</table>\n",
              "</div>"
            ],
            "text/plain": [
              "          0         1         2\n",
              "2  0.021348       NaN  0.953739\n",
              "3 -0.459398       NaN  0.636651\n",
              "4 -1.741571 -1.320717  0.559535\n",
              "5  0.296781 -0.062784 -1.536280\n",
              "6  0.868018  0.703961  0.386455"
            ]
          },
          "metadata": {
            "tags": []
          },
          "execution_count": 374
        }
      ]
    },
    {
      "cell_type": "markdown",
      "metadata": {
        "id": "d7w1THACcPG0"
      },
      "source": [
        "## 填充缺失数据\n",
        "fillna方法是最主要的函数。通过一个常数调用fillna就会将缺失值替换为那个常数值:"
      ]
    },
    {
      "cell_type": "code",
      "metadata": {
        "colab": {
          "base_uri": "https://localhost:8080/",
          "height": 266
        },
        "id": "TAk110ZgaMnk",
        "outputId": "90c41195-54ca-4e67-9bbf-9642e404e8ec"
      },
      "source": [
        "df.fillna(0)"
      ],
      "execution_count": null,
      "outputs": [
        {
          "output_type": "execute_result",
          "data": {
            "text/html": [
              "<div>\n",
              "<style scoped>\n",
              "    .dataframe tbody tr th:only-of-type {\n",
              "        vertical-align: middle;\n",
              "    }\n",
              "\n",
              "    .dataframe tbody tr th {\n",
              "        vertical-align: top;\n",
              "    }\n",
              "\n",
              "    .dataframe thead th {\n",
              "        text-align: right;\n",
              "    }\n",
              "</style>\n",
              "<table border=\"1\" class=\"dataframe\">\n",
              "  <thead>\n",
              "    <tr style=\"text-align: right;\">\n",
              "      <th></th>\n",
              "      <th>0</th>\n",
              "      <th>1</th>\n",
              "      <th>2</th>\n",
              "    </tr>\n",
              "  </thead>\n",
              "  <tbody>\n",
              "    <tr>\n",
              "      <th>0</th>\n",
              "      <td>-0.964703</td>\n",
              "      <td>0.000000</td>\n",
              "      <td>0.000000</td>\n",
              "    </tr>\n",
              "    <tr>\n",
              "      <th>1</th>\n",
              "      <td>0.668888</td>\n",
              "      <td>0.000000</td>\n",
              "      <td>0.000000</td>\n",
              "    </tr>\n",
              "    <tr>\n",
              "      <th>2</th>\n",
              "      <td>0.021348</td>\n",
              "      <td>0.000000</td>\n",
              "      <td>0.953739</td>\n",
              "    </tr>\n",
              "    <tr>\n",
              "      <th>3</th>\n",
              "      <td>-0.459398</td>\n",
              "      <td>0.000000</td>\n",
              "      <td>0.636651</td>\n",
              "    </tr>\n",
              "    <tr>\n",
              "      <th>4</th>\n",
              "      <td>-1.741571</td>\n",
              "      <td>-1.320717</td>\n",
              "      <td>0.559535</td>\n",
              "    </tr>\n",
              "    <tr>\n",
              "      <th>5</th>\n",
              "      <td>0.296781</td>\n",
              "      <td>-0.062784</td>\n",
              "      <td>-1.536280</td>\n",
              "    </tr>\n",
              "    <tr>\n",
              "      <th>6</th>\n",
              "      <td>0.868018</td>\n",
              "      <td>0.703961</td>\n",
              "      <td>0.386455</td>\n",
              "    </tr>\n",
              "  </tbody>\n",
              "</table>\n",
              "</div>"
            ],
            "text/plain": [
              "          0         1         2\n",
              "0 -0.964703  0.000000  0.000000\n",
              "1  0.668888  0.000000  0.000000\n",
              "2  0.021348  0.000000  0.953739\n",
              "3 -0.459398  0.000000  0.636651\n",
              "4 -1.741571 -1.320717  0.559535\n",
              "5  0.296781 -0.062784 -1.536280\n",
              "6  0.868018  0.703961  0.386455"
            ]
          },
          "metadata": {
            "tags": []
          },
          "execution_count": 375
        }
      ]
    },
    {
      "cell_type": "markdown",
      "metadata": {
        "id": "bD7n1FzikcY8"
      },
      "source": [
        "若是通过字典调用fillna，就可以实现对不同的列填充不同的值"
      ]
    },
    {
      "cell_type": "code",
      "metadata": {
        "colab": {
          "base_uri": "https://localhost:8080/",
          "height": 266
        },
        "id": "7IG2u9h9rkQb",
        "outputId": "747da79f-2158-4c8c-eeee-edc43341ff11"
      },
      "source": [
        "df.fillna({1:0.5, 3:-1})"
      ],
      "execution_count": null,
      "outputs": [
        {
          "output_type": "execute_result",
          "data": {
            "text/html": [
              "<div>\n",
              "<style scoped>\n",
              "    .dataframe tbody tr th:only-of-type {\n",
              "        vertical-align: middle;\n",
              "    }\n",
              "\n",
              "    .dataframe tbody tr th {\n",
              "        vertical-align: top;\n",
              "    }\n",
              "\n",
              "    .dataframe thead th {\n",
              "        text-align: right;\n",
              "    }\n",
              "</style>\n",
              "<table border=\"1\" class=\"dataframe\">\n",
              "  <thead>\n",
              "    <tr style=\"text-align: right;\">\n",
              "      <th></th>\n",
              "      <th>0</th>\n",
              "      <th>1</th>\n",
              "      <th>2</th>\n",
              "    </tr>\n",
              "  </thead>\n",
              "  <tbody>\n",
              "    <tr>\n",
              "      <th>0</th>\n",
              "      <td>-0.964703</td>\n",
              "      <td>0.500000</td>\n",
              "      <td>NaN</td>\n",
              "    </tr>\n",
              "    <tr>\n",
              "      <th>1</th>\n",
              "      <td>0.668888</td>\n",
              "      <td>0.500000</td>\n",
              "      <td>NaN</td>\n",
              "    </tr>\n",
              "    <tr>\n",
              "      <th>2</th>\n",
              "      <td>0.021348</td>\n",
              "      <td>0.500000</td>\n",
              "      <td>0.953739</td>\n",
              "    </tr>\n",
              "    <tr>\n",
              "      <th>3</th>\n",
              "      <td>-0.459398</td>\n",
              "      <td>0.500000</td>\n",
              "      <td>0.636651</td>\n",
              "    </tr>\n",
              "    <tr>\n",
              "      <th>4</th>\n",
              "      <td>-1.741571</td>\n",
              "      <td>-1.320717</td>\n",
              "      <td>0.559535</td>\n",
              "    </tr>\n",
              "    <tr>\n",
              "      <th>5</th>\n",
              "      <td>0.296781</td>\n",
              "      <td>-0.062784</td>\n",
              "      <td>-1.536280</td>\n",
              "    </tr>\n",
              "    <tr>\n",
              "      <th>6</th>\n",
              "      <td>0.868018</td>\n",
              "      <td>0.703961</td>\n",
              "      <td>0.386455</td>\n",
              "    </tr>\n",
              "  </tbody>\n",
              "</table>\n",
              "</div>"
            ],
            "text/plain": [
              "          0         1         2\n",
              "0 -0.964703  0.500000       NaN\n",
              "1  0.668888  0.500000       NaN\n",
              "2  0.021348  0.500000  0.953739\n",
              "3 -0.459398  0.500000  0.636651\n",
              "4 -1.741571 -1.320717  0.559535\n",
              "5  0.296781 -0.062784 -1.536280\n",
              "6  0.868018  0.703961  0.386455"
            ]
          },
          "metadata": {
            "tags": []
          },
          "execution_count": 376
        }
      ]
    },
    {
      "cell_type": "markdown",
      "metadata": {
        "id": "xmINmjnarq5A"
      },
      "source": [
        "默认返回新对象，有时也可以就地修改。设置参数，inplace=True"
      ]
    },
    {
      "cell_type": "code",
      "metadata": {
        "colab": {
          "base_uri": "https://localhost:8080/",
          "height": 266
        },
        "id": "qxpZe8MPrxGi",
        "outputId": "b1a0715f-06b0-48cc-b66f-d8d1ec6c85dd"
      },
      "source": [
        "_ = df.fillna(0, inplace=True)\n",
        "df"
      ],
      "execution_count": null,
      "outputs": [
        {
          "output_type": "execute_result",
          "data": {
            "text/html": [
              "<div>\n",
              "<style scoped>\n",
              "    .dataframe tbody tr th:only-of-type {\n",
              "        vertical-align: middle;\n",
              "    }\n",
              "\n",
              "    .dataframe tbody tr th {\n",
              "        vertical-align: top;\n",
              "    }\n",
              "\n",
              "    .dataframe thead th {\n",
              "        text-align: right;\n",
              "    }\n",
              "</style>\n",
              "<table border=\"1\" class=\"dataframe\">\n",
              "  <thead>\n",
              "    <tr style=\"text-align: right;\">\n",
              "      <th></th>\n",
              "      <th>0</th>\n",
              "      <th>1</th>\n",
              "      <th>2</th>\n",
              "    </tr>\n",
              "  </thead>\n",
              "  <tbody>\n",
              "    <tr>\n",
              "      <th>0</th>\n",
              "      <td>-0.964703</td>\n",
              "      <td>0.000000</td>\n",
              "      <td>0.000000</td>\n",
              "    </tr>\n",
              "    <tr>\n",
              "      <th>1</th>\n",
              "      <td>0.668888</td>\n",
              "      <td>0.000000</td>\n",
              "      <td>0.000000</td>\n",
              "    </tr>\n",
              "    <tr>\n",
              "      <th>2</th>\n",
              "      <td>0.021348</td>\n",
              "      <td>0.000000</td>\n",
              "      <td>0.953739</td>\n",
              "    </tr>\n",
              "    <tr>\n",
              "      <th>3</th>\n",
              "      <td>-0.459398</td>\n",
              "      <td>0.000000</td>\n",
              "      <td>0.636651</td>\n",
              "    </tr>\n",
              "    <tr>\n",
              "      <th>4</th>\n",
              "      <td>-1.741571</td>\n",
              "      <td>-1.320717</td>\n",
              "      <td>0.559535</td>\n",
              "    </tr>\n",
              "    <tr>\n",
              "      <th>5</th>\n",
              "      <td>0.296781</td>\n",
              "      <td>-0.062784</td>\n",
              "      <td>-1.536280</td>\n",
              "    </tr>\n",
              "    <tr>\n",
              "      <th>6</th>\n",
              "      <td>0.868018</td>\n",
              "      <td>0.703961</td>\n",
              "      <td>0.386455</td>\n",
              "    </tr>\n",
              "  </tbody>\n",
              "</table>\n",
              "</div>"
            ],
            "text/plain": [
              "          0         1         2\n",
              "0 -0.964703  0.000000  0.000000\n",
              "1  0.668888  0.000000  0.000000\n",
              "2  0.021348  0.000000  0.953739\n",
              "3 -0.459398  0.000000  0.636651\n",
              "4 -1.741571 -1.320717  0.559535\n",
              "5  0.296781 -0.062784 -1.536280\n",
              "6  0.868018  0.703961  0.386455"
            ]
          },
          "metadata": {
            "tags": []
          },
          "execution_count": 377
        }
      ]
    },
    {
      "cell_type": "markdown",
      "metadata": {
        "id": "usP718S3sr2h"
      },
      "source": [
        "对reindex有效的插值方法（nethod= ffill）也可以用于fillna:"
      ]
    },
    {
      "cell_type": "code",
      "metadata": {
        "colab": {
          "base_uri": "https://localhost:8080/",
          "height": 235
        },
        "id": "XbHLkToNspTv",
        "outputId": "962cbbf1-0ea2-4313-f8ca-749f1d8bf8b4"
      },
      "source": [
        "df = DataFrame(np.random.randn(6, 3))\n",
        "df.iloc[2:,1] = NA\n",
        "df.iloc[4:,2] = NA\n",
        "df"
      ],
      "execution_count": null,
      "outputs": [
        {
          "output_type": "execute_result",
          "data": {
            "text/html": [
              "<div>\n",
              "<style scoped>\n",
              "    .dataframe tbody tr th:only-of-type {\n",
              "        vertical-align: middle;\n",
              "    }\n",
              "\n",
              "    .dataframe tbody tr th {\n",
              "        vertical-align: top;\n",
              "    }\n",
              "\n",
              "    .dataframe thead th {\n",
              "        text-align: right;\n",
              "    }\n",
              "</style>\n",
              "<table border=\"1\" class=\"dataframe\">\n",
              "  <thead>\n",
              "    <tr style=\"text-align: right;\">\n",
              "      <th></th>\n",
              "      <th>0</th>\n",
              "      <th>1</th>\n",
              "      <th>2</th>\n",
              "    </tr>\n",
              "  </thead>\n",
              "  <tbody>\n",
              "    <tr>\n",
              "      <th>0</th>\n",
              "      <td>-0.152062</td>\n",
              "      <td>-0.197969</td>\n",
              "      <td>0.331001</td>\n",
              "    </tr>\n",
              "    <tr>\n",
              "      <th>1</th>\n",
              "      <td>-0.578146</td>\n",
              "      <td>0.474117</td>\n",
              "      <td>-0.450706</td>\n",
              "    </tr>\n",
              "    <tr>\n",
              "      <th>2</th>\n",
              "      <td>-1.119661</td>\n",
              "      <td>NaN</td>\n",
              "      <td>-0.194937</td>\n",
              "    </tr>\n",
              "    <tr>\n",
              "      <th>3</th>\n",
              "      <td>0.757660</td>\n",
              "      <td>NaN</td>\n",
              "      <td>0.733547</td>\n",
              "    </tr>\n",
              "    <tr>\n",
              "      <th>4</th>\n",
              "      <td>0.262154</td>\n",
              "      <td>NaN</td>\n",
              "      <td>NaN</td>\n",
              "    </tr>\n",
              "    <tr>\n",
              "      <th>5</th>\n",
              "      <td>-0.513190</td>\n",
              "      <td>NaN</td>\n",
              "      <td>NaN</td>\n",
              "    </tr>\n",
              "  </tbody>\n",
              "</table>\n",
              "</div>"
            ],
            "text/plain": [
              "          0         1         2\n",
              "0 -0.152062 -0.197969  0.331001\n",
              "1 -0.578146  0.474117 -0.450706\n",
              "2 -1.119661       NaN -0.194937\n",
              "3  0.757660       NaN  0.733547\n",
              "4  0.262154       NaN       NaN\n",
              "5 -0.513190       NaN       NaN"
            ]
          },
          "metadata": {
            "tags": []
          },
          "execution_count": 378
        }
      ]
    },
    {
      "cell_type": "code",
      "metadata": {
        "colab": {
          "base_uri": "https://localhost:8080/",
          "height": 235
        },
        "id": "O1VD-7qns9DR",
        "outputId": "f7ada8f8-b006-4a05-d121-dd4170e7d63b"
      },
      "source": [
        "df.fillna(method='ffill')"
      ],
      "execution_count": null,
      "outputs": [
        {
          "output_type": "execute_result",
          "data": {
            "text/html": [
              "<div>\n",
              "<style scoped>\n",
              "    .dataframe tbody tr th:only-of-type {\n",
              "        vertical-align: middle;\n",
              "    }\n",
              "\n",
              "    .dataframe tbody tr th {\n",
              "        vertical-align: top;\n",
              "    }\n",
              "\n",
              "    .dataframe thead th {\n",
              "        text-align: right;\n",
              "    }\n",
              "</style>\n",
              "<table border=\"1\" class=\"dataframe\">\n",
              "  <thead>\n",
              "    <tr style=\"text-align: right;\">\n",
              "      <th></th>\n",
              "      <th>0</th>\n",
              "      <th>1</th>\n",
              "      <th>2</th>\n",
              "    </tr>\n",
              "  </thead>\n",
              "  <tbody>\n",
              "    <tr>\n",
              "      <th>0</th>\n",
              "      <td>-0.152062</td>\n",
              "      <td>-0.197969</td>\n",
              "      <td>0.331001</td>\n",
              "    </tr>\n",
              "    <tr>\n",
              "      <th>1</th>\n",
              "      <td>-0.578146</td>\n",
              "      <td>0.474117</td>\n",
              "      <td>-0.450706</td>\n",
              "    </tr>\n",
              "    <tr>\n",
              "      <th>2</th>\n",
              "      <td>-1.119661</td>\n",
              "      <td>0.474117</td>\n",
              "      <td>-0.194937</td>\n",
              "    </tr>\n",
              "    <tr>\n",
              "      <th>3</th>\n",
              "      <td>0.757660</td>\n",
              "      <td>0.474117</td>\n",
              "      <td>0.733547</td>\n",
              "    </tr>\n",
              "    <tr>\n",
              "      <th>4</th>\n",
              "      <td>0.262154</td>\n",
              "      <td>0.474117</td>\n",
              "      <td>0.733547</td>\n",
              "    </tr>\n",
              "    <tr>\n",
              "      <th>5</th>\n",
              "      <td>-0.513190</td>\n",
              "      <td>0.474117</td>\n",
              "      <td>0.733547</td>\n",
              "    </tr>\n",
              "  </tbody>\n",
              "</table>\n",
              "</div>"
            ],
            "text/plain": [
              "          0         1         2\n",
              "0 -0.152062 -0.197969  0.331001\n",
              "1 -0.578146  0.474117 -0.450706\n",
              "2 -1.119661  0.474117 -0.194937\n",
              "3  0.757660  0.474117  0.733547\n",
              "4  0.262154  0.474117  0.733547\n",
              "5 -0.513190  0.474117  0.733547"
            ]
          },
          "metadata": {
            "tags": []
          },
          "execution_count": 379
        }
      ]
    },
    {
      "cell_type": "code",
      "metadata": {
        "colab": {
          "base_uri": "https://localhost:8080/",
          "height": 235
        },
        "id": "ffejlRTQxW4K",
        "outputId": "695a91b3-4faa-49f3-e263-830129081371"
      },
      "source": [
        "df.fillna(method='ffill', limit=2)"
      ],
      "execution_count": null,
      "outputs": [
        {
          "output_type": "execute_result",
          "data": {
            "text/html": [
              "<div>\n",
              "<style scoped>\n",
              "    .dataframe tbody tr th:only-of-type {\n",
              "        vertical-align: middle;\n",
              "    }\n",
              "\n",
              "    .dataframe tbody tr th {\n",
              "        vertical-align: top;\n",
              "    }\n",
              "\n",
              "    .dataframe thead th {\n",
              "        text-align: right;\n",
              "    }\n",
              "</style>\n",
              "<table border=\"1\" class=\"dataframe\">\n",
              "  <thead>\n",
              "    <tr style=\"text-align: right;\">\n",
              "      <th></th>\n",
              "      <th>0</th>\n",
              "      <th>1</th>\n",
              "      <th>2</th>\n",
              "    </tr>\n",
              "  </thead>\n",
              "  <tbody>\n",
              "    <tr>\n",
              "      <th>0</th>\n",
              "      <td>-0.152062</td>\n",
              "      <td>-0.197969</td>\n",
              "      <td>0.331001</td>\n",
              "    </tr>\n",
              "    <tr>\n",
              "      <th>1</th>\n",
              "      <td>-0.578146</td>\n",
              "      <td>0.474117</td>\n",
              "      <td>-0.450706</td>\n",
              "    </tr>\n",
              "    <tr>\n",
              "      <th>2</th>\n",
              "      <td>-1.119661</td>\n",
              "      <td>0.474117</td>\n",
              "      <td>-0.194937</td>\n",
              "    </tr>\n",
              "    <tr>\n",
              "      <th>3</th>\n",
              "      <td>0.757660</td>\n",
              "      <td>0.474117</td>\n",
              "      <td>0.733547</td>\n",
              "    </tr>\n",
              "    <tr>\n",
              "      <th>4</th>\n",
              "      <td>0.262154</td>\n",
              "      <td>NaN</td>\n",
              "      <td>0.733547</td>\n",
              "    </tr>\n",
              "    <tr>\n",
              "      <th>5</th>\n",
              "      <td>-0.513190</td>\n",
              "      <td>NaN</td>\n",
              "      <td>0.733547</td>\n",
              "    </tr>\n",
              "  </tbody>\n",
              "</table>\n",
              "</div>"
            ],
            "text/plain": [
              "          0         1         2\n",
              "0 -0.152062 -0.197969  0.331001\n",
              "1 -0.578146  0.474117 -0.450706\n",
              "2 -1.119661  0.474117 -0.194937\n",
              "3  0.757660  0.474117  0.733547\n",
              "4  0.262154       NaN  0.733547\n",
              "5 -0.513190       NaN  0.733547"
            ]
          },
          "metadata": {
            "tags": []
          },
          "execution_count": 380
        }
      ]
    },
    {
      "cell_type": "markdown",
      "metadata": {
        "id": "yZmKLRzBxtYO"
      },
      "source": [
        "是要稍微动动脑子，你就可以利用fillna实现许多别的功能。比如，可以传入Series的平均值或中位数。"
      ]
    },
    {
      "cell_type": "code",
      "metadata": {
        "colab": {
          "base_uri": "https://localhost:8080/"
        },
        "id": "yaSdcQDOyKd9",
        "outputId": "d4969edc-c8b5-4360-c9a4-2a96b5ada9f3"
      },
      "source": [
        "!speedtest"
      ],
      "execution_count": null,
      "outputs": [
        {
          "output_type": "stream",
          "text": [
            "/bin/bash: speedtest: command not found\n"
          ],
          "name": "stdout"
        }
      ]
    },
    {
      "cell_type": "code",
      "metadata": {
        "colab": {
          "base_uri": "https://localhost:8080/"
        },
        "id": "Kuwf5bjsyNIK",
        "outputId": "f0d0d648-35f5-489d-cf84-5f5e77e3ece0"
      },
      "source": [
        "data = Series([1., NA, 3.5, NA, 7])\n",
        "data.fillna(data.mean())"
      ],
      "execution_count": null,
      "outputs": [
        {
          "output_type": "execute_result",
          "data": {
            "text/plain": [
              "0    1.000000\n",
              "1    3.833333\n",
              "2    3.500000\n",
              "3    3.833333\n",
              "4    7.000000\n",
              "dtype: float64"
            ]
          },
          "metadata": {
            "tags": []
          },
          "execution_count": 382
        }
      ]
    },
    {
      "cell_type": "markdown",
      "metadata": {
        "id": "dijF9IL0zdcz"
      },
      "source": [
        "### fillna函数参数\n",
        "参数|描述\n",
        ":--|:--\n",
        "value|标量值或字典型对象用于填充缺失值\n",
        "method|插值方法，默认是ffill\n",
        "axis|需要填充的轴\n",
        "inplace|是否原地修改\n",
        "limit|插值填充的最大范围"
      ]
    },
    {
      "cell_type": "markdown",
      "metadata": {
        "id": "AhFOloAGSTub"
      },
      "source": [
        "## 数据转换\n",
        "由于各种原因，DataFrame中会出现重复行"
      ]
    },
    {
      "cell_type": "code",
      "metadata": {
        "colab": {
          "base_uri": "https://localhost:8080/",
          "height": 266
        },
        "id": "usyoPAOSSUa-",
        "outputId": "acc20777-9d8f-40e6-9640-1e1afeac7730"
      },
      "source": [
        "data = pd.DataFrame({'k1':['one', 'two']*3 + ['two'],\n",
        "                     'k2':[1, 1, 2, 3, 3, 4, 4]})\n",
        "data"
      ],
      "execution_count": null,
      "outputs": [
        {
          "output_type": "execute_result",
          "data": {
            "text/html": [
              "<div>\n",
              "<style scoped>\n",
              "    .dataframe tbody tr th:only-of-type {\n",
              "        vertical-align: middle;\n",
              "    }\n",
              "\n",
              "    .dataframe tbody tr th {\n",
              "        vertical-align: top;\n",
              "    }\n",
              "\n",
              "    .dataframe thead th {\n",
              "        text-align: right;\n",
              "    }\n",
              "</style>\n",
              "<table border=\"1\" class=\"dataframe\">\n",
              "  <thead>\n",
              "    <tr style=\"text-align: right;\">\n",
              "      <th></th>\n",
              "      <th>k1</th>\n",
              "      <th>k2</th>\n",
              "    </tr>\n",
              "  </thead>\n",
              "  <tbody>\n",
              "    <tr>\n",
              "      <th>0</th>\n",
              "      <td>one</td>\n",
              "      <td>1</td>\n",
              "    </tr>\n",
              "    <tr>\n",
              "      <th>1</th>\n",
              "      <td>two</td>\n",
              "      <td>1</td>\n",
              "    </tr>\n",
              "    <tr>\n",
              "      <th>2</th>\n",
              "      <td>one</td>\n",
              "      <td>2</td>\n",
              "    </tr>\n",
              "    <tr>\n",
              "      <th>3</th>\n",
              "      <td>two</td>\n",
              "      <td>3</td>\n",
              "    </tr>\n",
              "    <tr>\n",
              "      <th>4</th>\n",
              "      <td>one</td>\n",
              "      <td>3</td>\n",
              "    </tr>\n",
              "    <tr>\n",
              "      <th>5</th>\n",
              "      <td>two</td>\n",
              "      <td>4</td>\n",
              "    </tr>\n",
              "    <tr>\n",
              "      <th>6</th>\n",
              "      <td>two</td>\n",
              "      <td>4</td>\n",
              "    </tr>\n",
              "  </tbody>\n",
              "</table>\n",
              "</div>"
            ],
            "text/plain": [
              "    k1  k2\n",
              "0  one   1\n",
              "1  two   1\n",
              "2  one   2\n",
              "3  two   3\n",
              "4  one   3\n",
              "5  two   4\n",
              "6  two   4"
            ]
          },
          "metadata": {
            "tags": []
          },
          "execution_count": 383
        }
      ]
    },
    {
      "cell_type": "code",
      "metadata": {
        "colab": {
          "base_uri": "https://localhost:8080/"
        },
        "id": "jWNDumpyVpyC",
        "outputId": "a865bb35-243f-4bad-90a3-d2819ea3656b"
      },
      "source": [
        "data.duplicated()"
      ],
      "execution_count": null,
      "outputs": [
        {
          "output_type": "execute_result",
          "data": {
            "text/plain": [
              "0    False\n",
              "1    False\n",
              "2    False\n",
              "3    False\n",
              "4    False\n",
              "5    False\n",
              "6     True\n",
              "dtype: bool"
            ]
          },
          "metadata": {
            "tags": []
          },
          "execution_count": 384
        }
      ]
    },
    {
      "cell_type": "code",
      "metadata": {
        "colab": {
          "base_uri": "https://localhost:8080/",
          "height": 235
        },
        "id": "p-rgLHScXUYJ",
        "outputId": "6e3e4752-fa98-403b-c271-4cab06592449"
      },
      "source": [
        "data.drop_duplicates()"
      ],
      "execution_count": null,
      "outputs": [
        {
          "output_type": "execute_result",
          "data": {
            "text/html": [
              "<div>\n",
              "<style scoped>\n",
              "    .dataframe tbody tr th:only-of-type {\n",
              "        vertical-align: middle;\n",
              "    }\n",
              "\n",
              "    .dataframe tbody tr th {\n",
              "        vertical-align: top;\n",
              "    }\n",
              "\n",
              "    .dataframe thead th {\n",
              "        text-align: right;\n",
              "    }\n",
              "</style>\n",
              "<table border=\"1\" class=\"dataframe\">\n",
              "  <thead>\n",
              "    <tr style=\"text-align: right;\">\n",
              "      <th></th>\n",
              "      <th>k1</th>\n",
              "      <th>k2</th>\n",
              "    </tr>\n",
              "  </thead>\n",
              "  <tbody>\n",
              "    <tr>\n",
              "      <th>0</th>\n",
              "      <td>one</td>\n",
              "      <td>1</td>\n",
              "    </tr>\n",
              "    <tr>\n",
              "      <th>1</th>\n",
              "      <td>two</td>\n",
              "      <td>1</td>\n",
              "    </tr>\n",
              "    <tr>\n",
              "      <th>2</th>\n",
              "      <td>one</td>\n",
              "      <td>2</td>\n",
              "    </tr>\n",
              "    <tr>\n",
              "      <th>3</th>\n",
              "      <td>two</td>\n",
              "      <td>3</td>\n",
              "    </tr>\n",
              "    <tr>\n",
              "      <th>4</th>\n",
              "      <td>one</td>\n",
              "      <td>3</td>\n",
              "    </tr>\n",
              "    <tr>\n",
              "      <th>5</th>\n",
              "      <td>two</td>\n",
              "      <td>4</td>\n",
              "    </tr>\n",
              "  </tbody>\n",
              "</table>\n",
              "</div>"
            ],
            "text/plain": [
              "    k1  k2\n",
              "0  one   1\n",
              "1  two   1\n",
              "2  one   2\n",
              "3  two   3\n",
              "4  one   3\n",
              "5  two   4"
            ]
          },
          "metadata": {
            "tags": []
          },
          "execution_count": 385
        }
      ]
    },
    {
      "cell_type": "code",
      "metadata": {
        "colab": {
          "base_uri": "https://localhost:8080/",
          "height": 111
        },
        "id": "NcpDdfzUnh1R",
        "outputId": "eac398ce-7a33-441d-a861-15d53f214b97"
      },
      "source": [
        "data['v1'] = range(7)\n",
        "data.drop_duplicates(['k1'])"
      ],
      "execution_count": null,
      "outputs": [
        {
          "output_type": "execute_result",
          "data": {
            "text/html": [
              "<div>\n",
              "<style scoped>\n",
              "    .dataframe tbody tr th:only-of-type {\n",
              "        vertical-align: middle;\n",
              "    }\n",
              "\n",
              "    .dataframe tbody tr th {\n",
              "        vertical-align: top;\n",
              "    }\n",
              "\n",
              "    .dataframe thead th {\n",
              "        text-align: right;\n",
              "    }\n",
              "</style>\n",
              "<table border=\"1\" class=\"dataframe\">\n",
              "  <thead>\n",
              "    <tr style=\"text-align: right;\">\n",
              "      <th></th>\n",
              "      <th>k1</th>\n",
              "      <th>k2</th>\n",
              "      <th>v1</th>\n",
              "    </tr>\n",
              "  </thead>\n",
              "  <tbody>\n",
              "    <tr>\n",
              "      <th>0</th>\n",
              "      <td>one</td>\n",
              "      <td>1</td>\n",
              "      <td>0</td>\n",
              "    </tr>\n",
              "    <tr>\n",
              "      <th>1</th>\n",
              "      <td>two</td>\n",
              "      <td>1</td>\n",
              "      <td>1</td>\n",
              "    </tr>\n",
              "  </tbody>\n",
              "</table>\n",
              "</div>"
            ],
            "text/plain": [
              "    k1  k2  v1\n",
              "0  one   1   0\n",
              "1  two   1   1"
            ]
          },
          "metadata": {
            "tags": []
          },
          "execution_count": 386
        }
      ]
    },
    {
      "cell_type": "markdown",
      "metadata": {
        "id": "eL-s-TelsXCv"
      },
      "source": [
        "keep都是默认保留第一个观测到的值，如果传入参数keep='last'，将会返回最后一个"
      ]
    },
    {
      "cell_type": "code",
      "metadata": {
        "colab": {
          "base_uri": "https://localhost:8080/",
          "height": 235
        },
        "id": "lH59a7IeXWwo",
        "outputId": "cba2834b-7869-4d19-dcbf-c982d8613508"
      },
      "source": [
        "data.drop_duplicates(['k1', 'k2'], keep='last')"
      ],
      "execution_count": null,
      "outputs": [
        {
          "output_type": "execute_result",
          "data": {
            "text/html": [
              "<div>\n",
              "<style scoped>\n",
              "    .dataframe tbody tr th:only-of-type {\n",
              "        vertical-align: middle;\n",
              "    }\n",
              "\n",
              "    .dataframe tbody tr th {\n",
              "        vertical-align: top;\n",
              "    }\n",
              "\n",
              "    .dataframe thead th {\n",
              "        text-align: right;\n",
              "    }\n",
              "</style>\n",
              "<table border=\"1\" class=\"dataframe\">\n",
              "  <thead>\n",
              "    <tr style=\"text-align: right;\">\n",
              "      <th></th>\n",
              "      <th>k1</th>\n",
              "      <th>k2</th>\n",
              "      <th>v1</th>\n",
              "    </tr>\n",
              "  </thead>\n",
              "  <tbody>\n",
              "    <tr>\n",
              "      <th>0</th>\n",
              "      <td>one</td>\n",
              "      <td>1</td>\n",
              "      <td>0</td>\n",
              "    </tr>\n",
              "    <tr>\n",
              "      <th>1</th>\n",
              "      <td>two</td>\n",
              "      <td>1</td>\n",
              "      <td>1</td>\n",
              "    </tr>\n",
              "    <tr>\n",
              "      <th>2</th>\n",
              "      <td>one</td>\n",
              "      <td>2</td>\n",
              "      <td>2</td>\n",
              "    </tr>\n",
              "    <tr>\n",
              "      <th>3</th>\n",
              "      <td>two</td>\n",
              "      <td>3</td>\n",
              "      <td>3</td>\n",
              "    </tr>\n",
              "    <tr>\n",
              "      <th>4</th>\n",
              "      <td>one</td>\n",
              "      <td>3</td>\n",
              "      <td>4</td>\n",
              "    </tr>\n",
              "    <tr>\n",
              "      <th>6</th>\n",
              "      <td>two</td>\n",
              "      <td>4</td>\n",
              "      <td>6</td>\n",
              "    </tr>\n",
              "  </tbody>\n",
              "</table>\n",
              "</div>"
            ],
            "text/plain": [
              "    k1  k2  v1\n",
              "0  one   1   0\n",
              "1  two   1   1\n",
              "2  one   2   2\n",
              "3  two   3   3\n",
              "4  one   3   4\n",
              "6  two   4   6"
            ]
          },
          "metadata": {
            "tags": []
          },
          "execution_count": 387
        }
      ]
    },
    {
      "cell_type": "code",
      "metadata": {
        "colab": {
          "base_uri": "https://localhost:8080/",
          "height": 142
        },
        "id": "UfDdj1z2oBPW",
        "outputId": "a381afa9-4462-415f-e00e-6ce3b87fd8d3"
      },
      "source": [
        "data.loc[data['k1'] == 'one']"
      ],
      "execution_count": null,
      "outputs": [
        {
          "output_type": "execute_result",
          "data": {
            "text/html": [
              "<div>\n",
              "<style scoped>\n",
              "    .dataframe tbody tr th:only-of-type {\n",
              "        vertical-align: middle;\n",
              "    }\n",
              "\n",
              "    .dataframe tbody tr th {\n",
              "        vertical-align: top;\n",
              "    }\n",
              "\n",
              "    .dataframe thead th {\n",
              "        text-align: right;\n",
              "    }\n",
              "</style>\n",
              "<table border=\"1\" class=\"dataframe\">\n",
              "  <thead>\n",
              "    <tr style=\"text-align: right;\">\n",
              "      <th></th>\n",
              "      <th>k1</th>\n",
              "      <th>k2</th>\n",
              "      <th>v1</th>\n",
              "    </tr>\n",
              "  </thead>\n",
              "  <tbody>\n",
              "    <tr>\n",
              "      <th>0</th>\n",
              "      <td>one</td>\n",
              "      <td>1</td>\n",
              "      <td>0</td>\n",
              "    </tr>\n",
              "    <tr>\n",
              "      <th>2</th>\n",
              "      <td>one</td>\n",
              "      <td>2</td>\n",
              "      <td>2</td>\n",
              "    </tr>\n",
              "    <tr>\n",
              "      <th>4</th>\n",
              "      <td>one</td>\n",
              "      <td>3</td>\n",
              "      <td>4</td>\n",
              "    </tr>\n",
              "  </tbody>\n",
              "</table>\n",
              "</div>"
            ],
            "text/plain": [
              "    k1  k2  v1\n",
              "0  one   1   0\n",
              "2  one   2   2\n",
              "4  one   3   4"
            ]
          },
          "metadata": {
            "tags": []
          },
          "execution_count": 388
        }
      ]
    },
    {
      "cell_type": "markdown",
      "metadata": {
        "id": "a9M8p57joFnB"
      },
      "source": [
        "### 使用函数或映射进行数据转换"
      ]
    },
    {
      "cell_type": "markdown",
      "metadata": {
        "id": "pAmuvw8Jso8h"
      },
      "source": [
        "对于许多数据集，你可能希望基于DataFrame中的数组、列或列中的数值进行一些转换，考虑下面这些收集到的关于肉类的假设数据"
      ]
    },
    {
      "cell_type": "code",
      "metadata": {
        "colab": {
          "base_uri": "https://localhost:8080/",
          "height": 328
        },
        "id": "zxqyL9BbrHqI",
        "outputId": "c87664a6-96ee-4238-94d7-2d56f5f3b72d"
      },
      "source": [
        "data = DataFrame({'food':['bacon', 'pulled pork', 'bacon', 'Pastrami', 'corned beef', 'Bacon', 'pastrami', 'honey ham', 'nova lox'],\n",
        "                  'ounces':[4, 3, 12, 6, 7.5, 8, 3, 5, 6]})\n",
        "data"
      ],
      "execution_count": null,
      "outputs": [
        {
          "output_type": "execute_result",
          "data": {
            "text/html": [
              "<div>\n",
              "<style scoped>\n",
              "    .dataframe tbody tr th:only-of-type {\n",
              "        vertical-align: middle;\n",
              "    }\n",
              "\n",
              "    .dataframe tbody tr th {\n",
              "        vertical-align: top;\n",
              "    }\n",
              "\n",
              "    .dataframe thead th {\n",
              "        text-align: right;\n",
              "    }\n",
              "</style>\n",
              "<table border=\"1\" class=\"dataframe\">\n",
              "  <thead>\n",
              "    <tr style=\"text-align: right;\">\n",
              "      <th></th>\n",
              "      <th>food</th>\n",
              "      <th>ounces</th>\n",
              "    </tr>\n",
              "  </thead>\n",
              "  <tbody>\n",
              "    <tr>\n",
              "      <th>0</th>\n",
              "      <td>bacon</td>\n",
              "      <td>4.0</td>\n",
              "    </tr>\n",
              "    <tr>\n",
              "      <th>1</th>\n",
              "      <td>pulled pork</td>\n",
              "      <td>3.0</td>\n",
              "    </tr>\n",
              "    <tr>\n",
              "      <th>2</th>\n",
              "      <td>bacon</td>\n",
              "      <td>12.0</td>\n",
              "    </tr>\n",
              "    <tr>\n",
              "      <th>3</th>\n",
              "      <td>Pastrami</td>\n",
              "      <td>6.0</td>\n",
              "    </tr>\n",
              "    <tr>\n",
              "      <th>4</th>\n",
              "      <td>corned beef</td>\n",
              "      <td>7.5</td>\n",
              "    </tr>\n",
              "    <tr>\n",
              "      <th>5</th>\n",
              "      <td>Bacon</td>\n",
              "      <td>8.0</td>\n",
              "    </tr>\n",
              "    <tr>\n",
              "      <th>6</th>\n",
              "      <td>pastrami</td>\n",
              "      <td>3.0</td>\n",
              "    </tr>\n",
              "    <tr>\n",
              "      <th>7</th>\n",
              "      <td>honey ham</td>\n",
              "      <td>5.0</td>\n",
              "    </tr>\n",
              "    <tr>\n",
              "      <th>8</th>\n",
              "      <td>nova lox</td>\n",
              "      <td>6.0</td>\n",
              "    </tr>\n",
              "  </tbody>\n",
              "</table>\n",
              "</div>"
            ],
            "text/plain": [
              "          food  ounces\n",
              "0        bacon     4.0\n",
              "1  pulled pork     3.0\n",
              "2        bacon    12.0\n",
              "3     Pastrami     6.0\n",
              "4  corned beef     7.5\n",
              "5        Bacon     8.0\n",
              "6     pastrami     3.0\n",
              "7    honey ham     5.0\n",
              "8     nova lox     6.0"
            ]
          },
          "metadata": {
            "tags": []
          },
          "execution_count": 389
        }
      ]
    },
    {
      "cell_type": "code",
      "metadata": {
        "id": "SHkHSzkm7i8J"
      },
      "source": [
        "meat_to_animal = {\n",
        "    'bacon': 'pig',\n",
        "    'pulled pork': 'pig',\n",
        "    'pastrami': 'cow',\n",
        "    'corned beef': 'pig',\n",
        "    'honey ham': 'pig',\n",
        "    'nova lox': 'salmon'\n",
        "}"
      ],
      "execution_count": null,
      "outputs": []
    },
    {
      "cell_type": "markdown",
      "metadata": {
        "id": "YRArJsWl_GXG"
      },
      "source": [
        "Series的map方法接受一个函数或一个包含映射关系的字典型对象，这里的数据，有的大写了，有的小写了。因此我们需要使用Series的str.lower方法将每个值都转换为小写："
      ]
    },
    {
      "cell_type": "code",
      "metadata": {
        "colab": {
          "base_uri": "https://localhost:8080/"
        },
        "id": "2W9XQ_p886xQ",
        "outputId": "19b9d229-30f8-4225-8f22-5f7050782e96"
      },
      "source": [
        "lowercased = data['food'].str.lower()\n",
        "lowercased"
      ],
      "execution_count": null,
      "outputs": [
        {
          "output_type": "execute_result",
          "data": {
            "text/plain": [
              "0          bacon\n",
              "1    pulled pork\n",
              "2          bacon\n",
              "3       pastrami\n",
              "4    corned beef\n",
              "5          bacon\n",
              "6       pastrami\n",
              "7      honey ham\n",
              "8       nova lox\n",
              "Name: food, dtype: object"
            ]
          },
          "metadata": {
            "tags": []
          },
          "execution_count": 391
        }
      ]
    },
    {
      "cell_type": "code",
      "metadata": {
        "colab": {
          "base_uri": "https://localhost:8080/",
          "height": 328
        },
        "id": "xtKYeIf1-udR",
        "outputId": "fe34d654-fcff-4ab0-a0da-91a9a6e8eba1"
      },
      "source": [
        "data['animal'] = lowercased.map(meat_to_animal)\n",
        "data"
      ],
      "execution_count": null,
      "outputs": [
        {
          "output_type": "execute_result",
          "data": {
            "text/html": [
              "<div>\n",
              "<style scoped>\n",
              "    .dataframe tbody tr th:only-of-type {\n",
              "        vertical-align: middle;\n",
              "    }\n",
              "\n",
              "    .dataframe tbody tr th {\n",
              "        vertical-align: top;\n",
              "    }\n",
              "\n",
              "    .dataframe thead th {\n",
              "        text-align: right;\n",
              "    }\n",
              "</style>\n",
              "<table border=\"1\" class=\"dataframe\">\n",
              "  <thead>\n",
              "    <tr style=\"text-align: right;\">\n",
              "      <th></th>\n",
              "      <th>food</th>\n",
              "      <th>ounces</th>\n",
              "      <th>animal</th>\n",
              "    </tr>\n",
              "  </thead>\n",
              "  <tbody>\n",
              "    <tr>\n",
              "      <th>0</th>\n",
              "      <td>bacon</td>\n",
              "      <td>4.0</td>\n",
              "      <td>pig</td>\n",
              "    </tr>\n",
              "    <tr>\n",
              "      <th>1</th>\n",
              "      <td>pulled pork</td>\n",
              "      <td>3.0</td>\n",
              "      <td>pig</td>\n",
              "    </tr>\n",
              "    <tr>\n",
              "      <th>2</th>\n",
              "      <td>bacon</td>\n",
              "      <td>12.0</td>\n",
              "      <td>pig</td>\n",
              "    </tr>\n",
              "    <tr>\n",
              "      <th>3</th>\n",
              "      <td>Pastrami</td>\n",
              "      <td>6.0</td>\n",
              "      <td>cow</td>\n",
              "    </tr>\n",
              "    <tr>\n",
              "      <th>4</th>\n",
              "      <td>corned beef</td>\n",
              "      <td>7.5</td>\n",
              "      <td>pig</td>\n",
              "    </tr>\n",
              "    <tr>\n",
              "      <th>5</th>\n",
              "      <td>Bacon</td>\n",
              "      <td>8.0</td>\n",
              "      <td>pig</td>\n",
              "    </tr>\n",
              "    <tr>\n",
              "      <th>6</th>\n",
              "      <td>pastrami</td>\n",
              "      <td>3.0</td>\n",
              "      <td>cow</td>\n",
              "    </tr>\n",
              "    <tr>\n",
              "      <th>7</th>\n",
              "      <td>honey ham</td>\n",
              "      <td>5.0</td>\n",
              "      <td>pig</td>\n",
              "    </tr>\n",
              "    <tr>\n",
              "      <th>8</th>\n",
              "      <td>nova lox</td>\n",
              "      <td>6.0</td>\n",
              "      <td>salmon</td>\n",
              "    </tr>\n",
              "  </tbody>\n",
              "</table>\n",
              "</div>"
            ],
            "text/plain": [
              "          food  ounces  animal\n",
              "0        bacon     4.0     pig\n",
              "1  pulled pork     3.0     pig\n",
              "2        bacon    12.0     pig\n",
              "3     Pastrami     6.0     cow\n",
              "4  corned beef     7.5     pig\n",
              "5        Bacon     8.0     pig\n",
              "6     pastrami     3.0     cow\n",
              "7    honey ham     5.0     pig\n",
              "8     nova lox     6.0  salmon"
            ]
          },
          "metadata": {
            "tags": []
          },
          "execution_count": 392
        }
      ]
    },
    {
      "cell_type": "markdown",
      "metadata": {
        "id": "lD0DcUus_u6p"
      },
      "source": [
        "我们也可以传入一个能够完成所有工作的函数："
      ]
    },
    {
      "cell_type": "code",
      "metadata": {
        "colab": {
          "base_uri": "https://localhost:8080/"
        },
        "id": "EpnjevT8_BYf",
        "outputId": "ed891d6b-a48a-452b-b0cd-6baeccccc9ab"
      },
      "source": [
        "data['food'].map(lambda x: meat_to_animal[x.lower()])"
      ],
      "execution_count": null,
      "outputs": [
        {
          "output_type": "execute_result",
          "data": {
            "text/plain": [
              "0       pig\n",
              "1       pig\n",
              "2       pig\n",
              "3       cow\n",
              "4       pig\n",
              "5       pig\n",
              "6       cow\n",
              "7       pig\n",
              "8    salmon\n",
              "Name: food, dtype: object"
            ]
          },
          "metadata": {
            "tags": []
          },
          "execution_count": 393
        }
      ]
    },
    {
      "cell_type": "markdown",
      "metadata": {
        "id": "WhOPjdhT__6s"
      },
      "source": [
        "### 替代值"
      ]
    },
    {
      "cell_type": "markdown",
      "metadata": {
        "id": "Ubrm6gwoAh99"
      },
      "source": [
        "使用fillna填充缺失值是通用值替换的特殊案例。前面你已经看到，map可以用来修改一个对象中的子集的值，但是replace提供了更为简单灵活的实现。让我们考虑下面的Series"
      ]
    },
    {
      "cell_type": "code",
      "metadata": {
        "colab": {
          "base_uri": "https://localhost:8080/"
        },
        "id": "nsiJpa7PCvnj",
        "outputId": "60bdb422-dc44-4d04-c60a-1543a83817e4"
      },
      "source": [
        "data = Series([1., -999., 2., -999., -1000, 3.])\n",
        "data"
      ],
      "execution_count": null,
      "outputs": [
        {
          "output_type": "execute_result",
          "data": {
            "text/plain": [
              "0       1.0\n",
              "1    -999.0\n",
              "2       2.0\n",
              "3    -999.0\n",
              "4   -1000.0\n",
              "5       3.0\n",
              "dtype: float64"
            ]
          },
          "metadata": {
            "tags": []
          },
          "execution_count": 394
        }
      ]
    },
    {
      "cell_type": "markdown",
      "metadata": {
        "id": "adM0WJg5DA9d"
      },
      "source": [
        "-999可能是缺失值的标识。如果要使用NA来替代这些值，我们可以使用replace方法生成新的Series（除非你传入了inpace=True）"
      ]
    },
    {
      "cell_type": "code",
      "metadata": {
        "colab": {
          "base_uri": "https://localhost:8080/"
        },
        "id": "CRwMf191C3lP",
        "outputId": "2f9270c4-7805-47f5-bc69-ec8af4f85583"
      },
      "source": [
        "data.replace(-999, np.nan)"
      ],
      "execution_count": null,
      "outputs": [
        {
          "output_type": "execute_result",
          "data": {
            "text/plain": [
              "0       1.0\n",
              "1       NaN\n",
              "2       2.0\n",
              "3       NaN\n",
              "4   -1000.0\n",
              "5       3.0\n",
              "dtype: float64"
            ]
          },
          "metadata": {
            "tags": []
          },
          "execution_count": 395
        }
      ]
    },
    {
      "cell_type": "markdown",
      "metadata": {
        "id": "Oz-5tXCrERWT"
      },
      "source": [
        "如果你想要一次替代多个值，你可以传入一个列表和替代值"
      ]
    },
    {
      "cell_type": "code",
      "metadata": {
        "colab": {
          "base_uri": "https://localhost:8080/"
        },
        "id": "HEXogcVTEOj_",
        "outputId": "f5f3d248-b8fa-4d80-c62b-919e9a204039"
      },
      "source": [
        "data.replace([-999, -1000], np.nan)"
      ],
      "execution_count": null,
      "outputs": [
        {
          "output_type": "execute_result",
          "data": {
            "text/plain": [
              "0    1.0\n",
              "1    NaN\n",
              "2    2.0\n",
              "3    NaN\n",
              "4    NaN\n",
              "5    3.0\n",
              "dtype: float64"
            ]
          },
          "metadata": {
            "tags": []
          },
          "execution_count": 396
        }
      ]
    },
    {
      "cell_type": "code",
      "metadata": {
        "colab": {
          "base_uri": "https://localhost:8080/"
        },
        "id": "7g8E4lb7Ecg1",
        "outputId": "3c54289e-3fa5-42a4-d22e-60bec5bea894"
      },
      "source": [
        "data.replace([-999, -1000], [np.nan, 0])"
      ],
      "execution_count": null,
      "outputs": [
        {
          "output_type": "execute_result",
          "data": {
            "text/plain": [
              "0    1.0\n",
              "1    NaN\n",
              "2    2.0\n",
              "3    NaN\n",
              "4    0.0\n",
              "5    3.0\n",
              "dtype: float64"
            ]
          },
          "metadata": {
            "tags": []
          },
          "execution_count": 397
        }
      ]
    },
    {
      "cell_type": "code",
      "metadata": {
        "colab": {
          "base_uri": "https://localhost:8080/"
        },
        "id": "J38SlISrEuPX",
        "outputId": "e1d36789-b247-409c-c3f5-ed8505f0dcfb"
      },
      "source": [
        "data.replace({-999: np.nan, -1000: 0})"
      ],
      "execution_count": null,
      "outputs": [
        {
          "output_type": "execute_result",
          "data": {
            "text/plain": [
              "0    1.0\n",
              "1    NaN\n",
              "2    2.0\n",
              "3    NaN\n",
              "4    0.0\n",
              "5    3.0\n",
              "dtype: float64"
            ]
          },
          "metadata": {
            "tags": []
          },
          "execution_count": 398
        }
      ]
    },
    {
      "cell_type": "markdown",
      "metadata": {
        "id": "_BOlAJqEEznz"
      },
      "source": [
        "data.replace方法与data.str.replace方法是不同的，data.str.replace是对字符串进行按元素替代的。我们将在下一章看到Series的字符串方法。"
      ]
    },
    {
      "cell_type": "markdown",
      "metadata": {
        "id": "p9nXiQNQF7G3"
      },
      "source": [
        "### 重命名轴索引\n",
        "和Series中的值一样，可以通过函数或某种形式的映射对轴标签进行类似的转换，生成新的且带有不同标签的对象。你也可以在不生成新的数据结构的情况下修改轴。"
      ]
    },
    {
      "cell_type": "code",
      "metadata": {
        "colab": {
          "base_uri": "https://localhost:8080/"
        },
        "id": "SlGaY3c4GhjJ",
        "outputId": "37830362-d0b9-49b4-c745-cac81b8a6bd7"
      },
      "source": [
        "data = DataFrame(np.arange(12).reshape((3,4)),\n",
        "                 index=['Ohio', 'Colorado', 'New York'],\n",
        "                 columns=['one', 'two', 'three', 'four'])\n",
        "transform = lambda x:x[:4].upper()\n",
        "data.index.map(transform)"
      ],
      "execution_count": null,
      "outputs": [
        {
          "output_type": "execute_result",
          "data": {
            "text/plain": [
              "Index(['OHIO', 'COLO', 'NEW '], dtype='object')"
            ]
          },
          "metadata": {
            "tags": []
          },
          "execution_count": 399
        }
      ]
    },
    {
      "cell_type": "markdown",
      "metadata": {
        "id": "j1NFbMaUHXVF"
      },
      "source": [
        "你可以赋值给index，修改DataFrame"
      ]
    },
    {
      "cell_type": "code",
      "metadata": {
        "colab": {
          "base_uri": "https://localhost:8080/",
          "height": 142
        },
        "id": "XQMnGn-fHdCd",
        "outputId": "fa3f4ff4-f031-4478-abad-5d9b48499fc3"
      },
      "source": [
        "data.index = data.index.map(transform)\n",
        "data"
      ],
      "execution_count": null,
      "outputs": [
        {
          "output_type": "execute_result",
          "data": {
            "text/html": [
              "<div>\n",
              "<style scoped>\n",
              "    .dataframe tbody tr th:only-of-type {\n",
              "        vertical-align: middle;\n",
              "    }\n",
              "\n",
              "    .dataframe tbody tr th {\n",
              "        vertical-align: top;\n",
              "    }\n",
              "\n",
              "    .dataframe thead th {\n",
              "        text-align: right;\n",
              "    }\n",
              "</style>\n",
              "<table border=\"1\" class=\"dataframe\">\n",
              "  <thead>\n",
              "    <tr style=\"text-align: right;\">\n",
              "      <th></th>\n",
              "      <th>one</th>\n",
              "      <th>two</th>\n",
              "      <th>three</th>\n",
              "      <th>four</th>\n",
              "    </tr>\n",
              "  </thead>\n",
              "  <tbody>\n",
              "    <tr>\n",
              "      <th>OHIO</th>\n",
              "      <td>0</td>\n",
              "      <td>1</td>\n",
              "      <td>2</td>\n",
              "      <td>3</td>\n",
              "    </tr>\n",
              "    <tr>\n",
              "      <th>COLO</th>\n",
              "      <td>4</td>\n",
              "      <td>5</td>\n",
              "      <td>6</td>\n",
              "      <td>7</td>\n",
              "    </tr>\n",
              "    <tr>\n",
              "      <th>NEW</th>\n",
              "      <td>8</td>\n",
              "      <td>9</td>\n",
              "      <td>10</td>\n",
              "      <td>11</td>\n",
              "    </tr>\n",
              "  </tbody>\n",
              "</table>\n",
              "</div>"
            ],
            "text/plain": [
              "      one  two  three  four\n",
              "OHIO    0    1      2     3\n",
              "COLO    4    5      6     7\n",
              "NEW     8    9     10    11"
            ]
          },
          "metadata": {
            "tags": []
          },
          "execution_count": 400
        }
      ]
    },
    {
      "cell_type": "markdown",
      "metadata": {
        "id": "idWvE7wjHg0N"
      },
      "source": [
        "如果想要创建数据集转换之后的版本，并且不修改原有的数据集，有一个有用的方法是rename，也是提供字典或者函数。\n"
      ]
    },
    {
      "cell_type": "code",
      "metadata": {
        "colab": {
          "base_uri": "https://localhost:8080/",
          "height": 142
        },
        "id": "71p4ln0eH6LP",
        "outputId": "d60f7e08-3553-443c-8f74-0b7adff46d6a"
      },
      "source": [
        "data.rename(index=str.title, columns=str.upper)"
      ],
      "execution_count": null,
      "outputs": [
        {
          "output_type": "execute_result",
          "data": {
            "text/html": [
              "<div>\n",
              "<style scoped>\n",
              "    .dataframe tbody tr th:only-of-type {\n",
              "        vertical-align: middle;\n",
              "    }\n",
              "\n",
              "    .dataframe tbody tr th {\n",
              "        vertical-align: top;\n",
              "    }\n",
              "\n",
              "    .dataframe thead th {\n",
              "        text-align: right;\n",
              "    }\n",
              "</style>\n",
              "<table border=\"1\" class=\"dataframe\">\n",
              "  <thead>\n",
              "    <tr style=\"text-align: right;\">\n",
              "      <th></th>\n",
              "      <th>ONE</th>\n",
              "      <th>TWO</th>\n",
              "      <th>THREE</th>\n",
              "      <th>FOUR</th>\n",
              "    </tr>\n",
              "  </thead>\n",
              "  <tbody>\n",
              "    <tr>\n",
              "      <th>Ohio</th>\n",
              "      <td>0</td>\n",
              "      <td>1</td>\n",
              "      <td>2</td>\n",
              "      <td>3</td>\n",
              "    </tr>\n",
              "    <tr>\n",
              "      <th>Colo</th>\n",
              "      <td>4</td>\n",
              "      <td>5</td>\n",
              "      <td>6</td>\n",
              "      <td>7</td>\n",
              "    </tr>\n",
              "    <tr>\n",
              "      <th>New</th>\n",
              "      <td>8</td>\n",
              "      <td>9</td>\n",
              "      <td>10</td>\n",
              "      <td>11</td>\n",
              "    </tr>\n",
              "  </tbody>\n",
              "</table>\n",
              "</div>"
            ],
            "text/plain": [
              "      ONE  TWO  THREE  FOUR\n",
              "Ohio    0    1      2     3\n",
              "Colo    4    5      6     7\n",
              "New     8    9     10    11"
            ]
          },
          "metadata": {
            "tags": []
          },
          "execution_count": 401
        }
      ]
    },
    {
      "cell_type": "markdown",
      "metadata": {
        "id": "lvWJDpcaH_OS"
      },
      "source": [
        "rename可以结合字典型对象使用为轴标签的子集提供新的值\n"
      ]
    },
    {
      "cell_type": "code",
      "metadata": {
        "colab": {
          "base_uri": "https://localhost:8080/",
          "height": 142
        },
        "id": "RSe7Vm8OL6yP",
        "outputId": "4287a105-fc0c-4b12-f1ff-65981e39d0be"
      },
      "source": [
        "data.rename(index={'OHIO': 'INDIANA'},\n",
        "            columns={'three':'peekaboo'})"
      ],
      "execution_count": null,
      "outputs": [
        {
          "output_type": "execute_result",
          "data": {
            "text/html": [
              "<div>\n",
              "<style scoped>\n",
              "    .dataframe tbody tr th:only-of-type {\n",
              "        vertical-align: middle;\n",
              "    }\n",
              "\n",
              "    .dataframe tbody tr th {\n",
              "        vertical-align: top;\n",
              "    }\n",
              "\n",
              "    .dataframe thead th {\n",
              "        text-align: right;\n",
              "    }\n",
              "</style>\n",
              "<table border=\"1\" class=\"dataframe\">\n",
              "  <thead>\n",
              "    <tr style=\"text-align: right;\">\n",
              "      <th></th>\n",
              "      <th>one</th>\n",
              "      <th>two</th>\n",
              "      <th>peekaboo</th>\n",
              "      <th>four</th>\n",
              "    </tr>\n",
              "  </thead>\n",
              "  <tbody>\n",
              "    <tr>\n",
              "      <th>INDIANA</th>\n",
              "      <td>0</td>\n",
              "      <td>1</td>\n",
              "      <td>2</td>\n",
              "      <td>3</td>\n",
              "    </tr>\n",
              "    <tr>\n",
              "      <th>COLO</th>\n",
              "      <td>4</td>\n",
              "      <td>5</td>\n",
              "      <td>6</td>\n",
              "      <td>7</td>\n",
              "    </tr>\n",
              "    <tr>\n",
              "      <th>NEW</th>\n",
              "      <td>8</td>\n",
              "      <td>9</td>\n",
              "      <td>10</td>\n",
              "      <td>11</td>\n",
              "    </tr>\n",
              "  </tbody>\n",
              "</table>\n",
              "</div>"
            ],
            "text/plain": [
              "         one  two  peekaboo  four\n",
              "INDIANA    0    1         2     3\n",
              "COLO       4    5         6     7\n",
              "NEW        8    9        10    11"
            ]
          },
          "metadata": {
            "tags": []
          },
          "execution_count": 402
        }
      ]
    },
    {
      "cell_type": "markdown",
      "metadata": {
        "id": "I9cY4cNnMmDP"
      },
      "source": [
        "想要原地修改，则提供inplace参数，inplace=True"
      ]
    },
    {
      "cell_type": "code",
      "metadata": {
        "id": "z2W4wqj2Mc7y"
      },
      "source": [
        "data.rename(index={'OHIO': 'INDEIANA'}, inplace=True)#没有返回值"
      ],
      "execution_count": null,
      "outputs": []
    },
    {
      "cell_type": "code",
      "metadata": {
        "colab": {
          "base_uri": "https://localhost:8080/",
          "height": 142
        },
        "id": "bT8ZmJYhM0eN",
        "outputId": "8c37619d-a400-4132-afd6-410d719f4eeb"
      },
      "source": [
        "data"
      ],
      "execution_count": null,
      "outputs": [
        {
          "output_type": "execute_result",
          "data": {
            "text/html": [
              "<div>\n",
              "<style scoped>\n",
              "    .dataframe tbody tr th:only-of-type {\n",
              "        vertical-align: middle;\n",
              "    }\n",
              "\n",
              "    .dataframe tbody tr th {\n",
              "        vertical-align: top;\n",
              "    }\n",
              "\n",
              "    .dataframe thead th {\n",
              "        text-align: right;\n",
              "    }\n",
              "</style>\n",
              "<table border=\"1\" class=\"dataframe\">\n",
              "  <thead>\n",
              "    <tr style=\"text-align: right;\">\n",
              "      <th></th>\n",
              "      <th>one</th>\n",
              "      <th>two</th>\n",
              "      <th>three</th>\n",
              "      <th>four</th>\n",
              "    </tr>\n",
              "  </thead>\n",
              "  <tbody>\n",
              "    <tr>\n",
              "      <th>INDEIANA</th>\n",
              "      <td>0</td>\n",
              "      <td>1</td>\n",
              "      <td>2</td>\n",
              "      <td>3</td>\n",
              "    </tr>\n",
              "    <tr>\n",
              "      <th>COLO</th>\n",
              "      <td>4</td>\n",
              "      <td>5</td>\n",
              "      <td>6</td>\n",
              "      <td>7</td>\n",
              "    </tr>\n",
              "    <tr>\n",
              "      <th>NEW</th>\n",
              "      <td>8</td>\n",
              "      <td>9</td>\n",
              "      <td>10</td>\n",
              "      <td>11</td>\n",
              "    </tr>\n",
              "  </tbody>\n",
              "</table>\n",
              "</div>"
            ],
            "text/plain": [
              "          one  two  three  four\n",
              "INDEIANA    0    1      2     3\n",
              "COLO        4    5      6     7\n",
              "NEW         8    9     10    11"
            ]
          },
          "metadata": {
            "tags": []
          },
          "execution_count": 404
        }
      ]
    },
    {
      "cell_type": "markdown",
      "metadata": {
        "id": "jpgtDec_M2CG"
      },
      "source": [
        "### 离散化和分箱"
      ]
    },
    {
      "cell_type": "markdown",
      "metadata": {
        "id": "84eTTYWzOfx_"
      },
      "source": [
        "连续值经常需要离散化，或者分离成“箱子”进行分析。假设你有某项研究中一组人群的数据，你想将他们进行分组，放入离散的年龄框中："
      ]
    },
    {
      "cell_type": "code",
      "metadata": {
        "id": "rs5hHlDxM-zH"
      },
      "source": [
        "ages = [20, 22, 25, 27, 21, 23, 37, 31, 61, 45, 41,32]"
      ],
      "execution_count": null,
      "outputs": []
    },
    {
      "cell_type": "markdown",
      "metadata": {
        "id": "wU89BlsxPRNu"
      },
      "source": [
        "将这些年龄分成18-25、26-35，36-60，61-等若干组。为了实现这个，使用pandas中的cut："
      ]
    },
    {
      "cell_type": "code",
      "metadata": {
        "colab": {
          "base_uri": "https://localhost:8080/"
        },
        "id": "-HWPLEIVPkOi",
        "outputId": "3c878d53-b70c-435d-f21b-7862adaa4bd5"
      },
      "source": [
        "bins = [18, 25, 35, 60, 100]\n",
        "cats = pd.cut(ages, bins)\n",
        "cats"
      ],
      "execution_count": null,
      "outputs": [
        {
          "output_type": "execute_result",
          "data": {
            "text/plain": [
              "[(18, 25], (18, 25], (18, 25], (25, 35], (18, 25], ..., (25, 35], (60, 100], (35, 60], (35, 60], (25, 35]]\n",
              "Length: 12\n",
              "Categories (4, interval[int64]): [(18, 25] < (25, 35] < (35, 60] < (60, 100]]"
            ]
          },
          "metadata": {
            "tags": []
          },
          "execution_count": 406
        }
      ]
    },
    {
      "cell_type": "code",
      "metadata": {
        "colab": {
          "base_uri": "https://localhost:8080/"
        },
        "id": "0OhhSq1xPr4A",
        "outputId": "532f9847-b786-498c-e1b5-b5445285e33b"
      },
      "source": [
        "cats.codes"
      ],
      "execution_count": null,
      "outputs": [
        {
          "output_type": "execute_result",
          "data": {
            "text/plain": [
              "array([0, 0, 0, 1, 0, 0, 2, 1, 3, 2, 2, 1], dtype=int8)"
            ]
          },
          "metadata": {
            "tags": []
          },
          "execution_count": 407
        }
      ]
    },
    {
      "cell_type": "code",
      "metadata": {
        "colab": {
          "base_uri": "https://localhost:8080/"
        },
        "id": "rgxS5o4gQE4a",
        "outputId": "1bd60bc7-c245-4723-c3f1-9a864aac88c7"
      },
      "source": [
        "cats.categories"
      ],
      "execution_count": null,
      "outputs": [
        {
          "output_type": "execute_result",
          "data": {
            "text/plain": [
              "IntervalIndex([(18, 25], (25, 35], (35, 60], (60, 100]],\n",
              "              closed='right',\n",
              "              dtype='interval[int64]')"
            ]
          },
          "metadata": {
            "tags": []
          },
          "execution_count": 408
        }
      ]
    },
    {
      "cell_type": "code",
      "metadata": {
        "colab": {
          "base_uri": "https://localhost:8080/"
        },
        "id": "ThVoIHEMQITi",
        "outputId": "43afb204-8eb1-4b16-afbb-85b7a205fb7b"
      },
      "source": [
        "pd.value_counts(cats)"
      ],
      "execution_count": null,
      "outputs": [
        {
          "output_type": "execute_result",
          "data": {
            "text/plain": [
              "(18, 25]     5\n",
              "(35, 60]     3\n",
              "(25, 35]     3\n",
              "(60, 100]    1\n",
              "dtype: int64"
            ]
          },
          "metadata": {
            "tags": []
          },
          "execution_count": 409
        }
      ]
    },
    {
      "cell_type": "markdown",
      "metadata": {
        "id": "vo-le3nDQ6pA"
      },
      "source": [
        "如上面的Series小括号在左。小括号可以改为右，right=False"
      ]
    },
    {
      "cell_type": "code",
      "metadata": {
        "colab": {
          "base_uri": "https://localhost:8080/"
        },
        "id": "TqJCoqheQTeK",
        "outputId": "73db3fb8-6854-400b-b378-5c008eab136d"
      },
      "source": [
        "pd.cut(ages, [18, 26, 36, 61, 100], right=False)"
      ],
      "execution_count": null,
      "outputs": [
        {
          "output_type": "execute_result",
          "data": {
            "text/plain": [
              "[[18, 26), [18, 26), [18, 26), [26, 36), [18, 26), ..., [26, 36), [61, 100), [36, 61), [36, 61), [26, 36)]\n",
              "Length: 12\n",
              "Categories (4, interval[int64]): [[18, 26) < [26, 36) < [36, 61) < [61, 100)]"
            ]
          },
          "metadata": {
            "tags": []
          },
          "execution_count": 410
        }
      ]
    },
    {
      "cell_type": "markdown",
      "metadata": {
        "id": "jpA91qevT9MN"
      },
      "source": [
        "可以通过向labels选项传递一个列表或数组来传入自定义的箱名"
      ]
    },
    {
      "cell_type": "code",
      "metadata": {
        "id": "gqjkVArlTWNA",
        "colab": {
          "base_uri": "https://localhost:8080/"
        },
        "outputId": "c0918a6c-5b22-4259-badc-06e5c7111f2b"
      },
      "source": [
        "group_names = ['Youth', 'YoungAdult', 'MiddleAged', 'Senior']\n",
        "pd.cut(ages, bins, labels=group_names)"
      ],
      "execution_count": null,
      "outputs": [
        {
          "output_type": "execute_result",
          "data": {
            "text/plain": [
              "['Youth', 'Youth', 'Youth', 'YoungAdult', 'Youth', ..., 'YoungAdult', 'Senior', 'MiddleAged', 'MiddleAged', 'YoungAdult']\n",
              "Length: 12\n",
              "Categories (4, object): ['Youth' < 'YoungAdult' < 'MiddleAged' < 'Senior']"
            ]
          },
          "metadata": {
            "tags": []
          },
          "execution_count": 411
        }
      ]
    },
    {
      "cell_type": "markdown",
      "metadata": {
        "id": "upWAfZhwYHik"
      },
      "source": [
        "如果你传给cut整数个箱来代替显式的箱边，pandas将根据数据中的最小值和最大值计算出等长的箱。请考虑一些均匀分布的数据被切成四份的情况"
      ]
    },
    {
      "cell_type": "code",
      "metadata": {
        "colab": {
          "base_uri": "https://localhost:8080/"
        },
        "id": "aiGWogU8ceIF",
        "outputId": "1a8da1fc-6fc2-4923-9aa9-07f136e60a01"
      },
      "source": [
        "data = np.random.rand(20)\n",
        "pd.cut(data, 4, precision=2)"
      ],
      "execution_count": null,
      "outputs": [
        {
          "output_type": "execute_result",
          "data": {
            "text/plain": [
              "[(0.76, 0.99], (0.52, 0.76], (0.76, 0.99], (0.054, 0.29], (0.29, 0.52], ..., (0.76, 0.99], (0.29, 0.52], (0.76, 0.99], (0.29, 0.52], (0.054, 0.29]]\n",
              "Length: 20\n",
              "Categories (4, interval[float64]): [(0.054, 0.29] < (0.29, 0.52] < (0.52, 0.76] < (0.76, 0.99]]"
            ]
          },
          "metadata": {
            "tags": []
          },
          "execution_count": 214
        }
      ]
    },
    {
      "cell_type": "markdown",
      "metadata": {
        "id": "tSlbHGivd3Fs"
      },
      "source": []
    },
    {
      "cell_type": "markdown",
      "metadata": {
        "id": "o3Piro0ZdknV"
      },
      "source": [
        "qcut是一个与分箱密切相关的函数，它基于样本分位数进行分箱。取决于数据的分布，使用cut通常不会 使每个箱具有相同数据量"
      ]
    },
    {
      "cell_type": "markdown",
      "metadata": {
        "id": "eDhcMVKCgj1Q"
      },
      "source": [
        "### 检测和过滤异常值"
      ]
    },
    {
      "cell_type": "markdown",
      "metadata": {
        "id": "zzmFYV2LgnxP"
      },
      "source": [
        "过滤或转换异常值在很大程度上是应用数组操作的事情。考虑一个具有正态分布数据的DataFrame"
      ]
    },
    {
      "cell_type": "code",
      "metadata": {
        "colab": {
          "base_uri": "https://localhost:8080/",
          "height": 297
        },
        "id": "PJjGmosMhLzE",
        "outputId": "40bcbe37-1572-49fa-92fa-6fc1b06f3fcf"
      },
      "source": [
        "data = pd.DataFrame(np.random.randn(1000, 4))\n",
        "data.describe()"
      ],
      "execution_count": null,
      "outputs": [
        {
          "output_type": "execute_result",
          "data": {
            "text/html": [
              "<div>\n",
              "<style scoped>\n",
              "    .dataframe tbody tr th:only-of-type {\n",
              "        vertical-align: middle;\n",
              "    }\n",
              "\n",
              "    .dataframe tbody tr th {\n",
              "        vertical-align: top;\n",
              "    }\n",
              "\n",
              "    .dataframe thead th {\n",
              "        text-align: right;\n",
              "    }\n",
              "</style>\n",
              "<table border=\"1\" class=\"dataframe\">\n",
              "  <thead>\n",
              "    <tr style=\"text-align: right;\">\n",
              "      <th></th>\n",
              "      <th>0</th>\n",
              "      <th>1</th>\n",
              "      <th>2</th>\n",
              "      <th>3</th>\n",
              "    </tr>\n",
              "  </thead>\n",
              "  <tbody>\n",
              "    <tr>\n",
              "      <th>count</th>\n",
              "      <td>1000.000000</td>\n",
              "      <td>1000.000000</td>\n",
              "      <td>1000.000000</td>\n",
              "      <td>1000.000000</td>\n",
              "    </tr>\n",
              "    <tr>\n",
              "      <th>mean</th>\n",
              "      <td>-0.040076</td>\n",
              "      <td>-0.011053</td>\n",
              "      <td>0.006703</td>\n",
              "      <td>0.008508</td>\n",
              "    </tr>\n",
              "    <tr>\n",
              "      <th>std</th>\n",
              "      <td>0.997528</td>\n",
              "      <td>1.027859</td>\n",
              "      <td>1.045360</td>\n",
              "      <td>0.955896</td>\n",
              "    </tr>\n",
              "    <tr>\n",
              "      <th>min</th>\n",
              "      <td>-3.518232</td>\n",
              "      <td>-3.437003</td>\n",
              "      <td>-3.083131</td>\n",
              "      <td>-3.151476</td>\n",
              "    </tr>\n",
              "    <tr>\n",
              "      <th>25%</th>\n",
              "      <td>-0.667482</td>\n",
              "      <td>-0.719338</td>\n",
              "      <td>-0.727488</td>\n",
              "      <td>-0.645193</td>\n",
              "    </tr>\n",
              "    <tr>\n",
              "      <th>50%</th>\n",
              "      <td>-0.064797</td>\n",
              "      <td>-0.008826</td>\n",
              "      <td>0.020752</td>\n",
              "      <td>0.040934</td>\n",
              "    </tr>\n",
              "    <tr>\n",
              "      <th>75%</th>\n",
              "      <td>0.599312</td>\n",
              "      <td>0.658373</td>\n",
              "      <td>0.728944</td>\n",
              "      <td>0.652362</td>\n",
              "    </tr>\n",
              "    <tr>\n",
              "      <th>max</th>\n",
              "      <td>3.229692</td>\n",
              "      <td>3.339792</td>\n",
              "      <td>3.280781</td>\n",
              "      <td>3.038694</td>\n",
              "    </tr>\n",
              "  </tbody>\n",
              "</table>\n",
              "</div>"
            ],
            "text/plain": [
              "                 0            1            2            3\n",
              "count  1000.000000  1000.000000  1000.000000  1000.000000\n",
              "mean     -0.040076    -0.011053     0.006703     0.008508\n",
              "std       0.997528     1.027859     1.045360     0.955896\n",
              "min      -3.518232    -3.437003    -3.083131    -3.151476\n",
              "25%      -0.667482    -0.719338    -0.727488    -0.645193\n",
              "50%      -0.064797    -0.008826     0.020752     0.040934\n",
              "75%       0.599312     0.658373     0.728944     0.652362\n",
              "max       3.229692     3.339792     3.280781     3.038694"
            ]
          },
          "metadata": {
            "tags": []
          },
          "execution_count": 412
        }
      ]
    },
    {
      "cell_type": "markdown",
      "metadata": {
        "id": "bCAMpN7thQm0"
      },
      "source": [
        "假设你想要找出一列中绝对值大于三的值："
      ]
    },
    {
      "cell_type": "code",
      "metadata": {
        "colab": {
          "base_uri": "https://localhost:8080/"
        },
        "id": "JYtOqLehhWq_",
        "outputId": "89b1c9c7-7553-4fd9-8fb0-89693b2bf0d6"
      },
      "source": [
        "col = data[2]\n",
        "col[np.abs(col) > 3]"
      ],
      "execution_count": null,
      "outputs": [
        {
          "output_type": "execute_result",
          "data": {
            "text/plain": [
              "173    3.280781\n",
              "356   -3.034488\n",
              "542   -3.083131\n",
              "980   -3.051996\n",
              "Name: 2, dtype: float64"
            ]
          },
          "metadata": {
            "tags": []
          },
          "execution_count": 414
        }
      ]
    },
    {
      "cell_type": "markdown",
      "metadata": {
        "id": "zAFzkFg2hX2s"
      },
      "source": [
        "要选出所有值大于"
      ]
    },
    {
      "cell_type": "code",
      "metadata": {
        "colab": {
          "base_uri": "https://localhost:8080/",
          "height": 419
        },
        "id": "YVxtP1uFio1E",
        "outputId": "1a968774-6e2a-44db-801f-d75b959609fb"
      },
      "source": [
        "(np.abs(data)>3)"
      ],
      "execution_count": null,
      "outputs": [
        {
          "output_type": "execute_result",
          "data": {
            "text/html": [
              "<div>\n",
              "<style scoped>\n",
              "    .dataframe tbody tr th:only-of-type {\n",
              "        vertical-align: middle;\n",
              "    }\n",
              "\n",
              "    .dataframe tbody tr th {\n",
              "        vertical-align: top;\n",
              "    }\n",
              "\n",
              "    .dataframe thead th {\n",
              "        text-align: right;\n",
              "    }\n",
              "</style>\n",
              "<table border=\"1\" class=\"dataframe\">\n",
              "  <thead>\n",
              "    <tr style=\"text-align: right;\">\n",
              "      <th></th>\n",
              "      <th>0</th>\n",
              "      <th>1</th>\n",
              "      <th>2</th>\n",
              "      <th>3</th>\n",
              "    </tr>\n",
              "  </thead>\n",
              "  <tbody>\n",
              "    <tr>\n",
              "      <th>0</th>\n",
              "      <td>False</td>\n",
              "      <td>False</td>\n",
              "      <td>False</td>\n",
              "      <td>False</td>\n",
              "    </tr>\n",
              "    <tr>\n",
              "      <th>1</th>\n",
              "      <td>False</td>\n",
              "      <td>False</td>\n",
              "      <td>False</td>\n",
              "      <td>False</td>\n",
              "    </tr>\n",
              "    <tr>\n",
              "      <th>2</th>\n",
              "      <td>False</td>\n",
              "      <td>False</td>\n",
              "      <td>False</td>\n",
              "      <td>False</td>\n",
              "    </tr>\n",
              "    <tr>\n",
              "      <th>3</th>\n",
              "      <td>False</td>\n",
              "      <td>False</td>\n",
              "      <td>False</td>\n",
              "      <td>False</td>\n",
              "    </tr>\n",
              "    <tr>\n",
              "      <th>4</th>\n",
              "      <td>False</td>\n",
              "      <td>False</td>\n",
              "      <td>False</td>\n",
              "      <td>False</td>\n",
              "    </tr>\n",
              "    <tr>\n",
              "      <th>...</th>\n",
              "      <td>...</td>\n",
              "      <td>...</td>\n",
              "      <td>...</td>\n",
              "      <td>...</td>\n",
              "    </tr>\n",
              "    <tr>\n",
              "      <th>995</th>\n",
              "      <td>False</td>\n",
              "      <td>False</td>\n",
              "      <td>False</td>\n",
              "      <td>False</td>\n",
              "    </tr>\n",
              "    <tr>\n",
              "      <th>996</th>\n",
              "      <td>False</td>\n",
              "      <td>False</td>\n",
              "      <td>False</td>\n",
              "      <td>False</td>\n",
              "    </tr>\n",
              "    <tr>\n",
              "      <th>997</th>\n",
              "      <td>False</td>\n",
              "      <td>False</td>\n",
              "      <td>False</td>\n",
              "      <td>False</td>\n",
              "    </tr>\n",
              "    <tr>\n",
              "      <th>998</th>\n",
              "      <td>False</td>\n",
              "      <td>False</td>\n",
              "      <td>False</td>\n",
              "      <td>False</td>\n",
              "    </tr>\n",
              "    <tr>\n",
              "      <th>999</th>\n",
              "      <td>False</td>\n",
              "      <td>False</td>\n",
              "      <td>False</td>\n",
              "      <td>False</td>\n",
              "    </tr>\n",
              "  </tbody>\n",
              "</table>\n",
              "<p>1000 rows × 4 columns</p>\n",
              "</div>"
            ],
            "text/plain": [
              "         0      1      2      3\n",
              "0    False  False  False  False\n",
              "1    False  False  False  False\n",
              "2    False  False  False  False\n",
              "3    False  False  False  False\n",
              "4    False  False  False  False\n",
              "..     ...    ...    ...    ...\n",
              "995  False  False  False  False\n",
              "996  False  False  False  False\n",
              "997  False  False  False  False\n",
              "998  False  False  False  False\n",
              "999  False  False  False  False\n",
              "\n",
              "[1000 rows x 4 columns]"
            ]
          },
          "metadata": {
            "tags": []
          },
          "execution_count": 417
        }
      ]
    },
    {
      "cell_type": "markdown",
      "metadata": {
        "id": "XNX22IP1isYq"
      },
      "source": [
        "any表示有就行，all表示必须全是"
      ]
    },
    {
      "cell_type": "code",
      "metadata": {
        "colab": {
          "base_uri": "https://localhost:8080/",
          "height": 545
        },
        "id": "HzGYWOtGhljH",
        "outputId": "aa2aaf9b-78ca-4447-972a-d27437ce6f99"
      },
      "source": [
        "data[(np.abs(data)>3).any(1)]"
      ],
      "execution_count": null,
      "outputs": [
        {
          "output_type": "execute_result",
          "data": {
            "text/html": [
              "<div>\n",
              "<style scoped>\n",
              "    .dataframe tbody tr th:only-of-type {\n",
              "        vertical-align: middle;\n",
              "    }\n",
              "\n",
              "    .dataframe tbody tr th {\n",
              "        vertical-align: top;\n",
              "    }\n",
              "\n",
              "    .dataframe thead th {\n",
              "        text-align: right;\n",
              "    }\n",
              "</style>\n",
              "<table border=\"1\" class=\"dataframe\">\n",
              "  <thead>\n",
              "    <tr style=\"text-align: right;\">\n",
              "      <th></th>\n",
              "      <th>0</th>\n",
              "      <th>1</th>\n",
              "      <th>2</th>\n",
              "      <th>3</th>\n",
              "    </tr>\n",
              "  </thead>\n",
              "  <tbody>\n",
              "    <tr>\n",
              "      <th>173</th>\n",
              "      <td>0.501431</td>\n",
              "      <td>-0.460962</td>\n",
              "      <td>3.280781</td>\n",
              "      <td>-1.415856</td>\n",
              "    </tr>\n",
              "    <tr>\n",
              "      <th>191</th>\n",
              "      <td>-0.026823</td>\n",
              "      <td>-3.056769</td>\n",
              "      <td>-0.866553</td>\n",
              "      <td>-0.520733</td>\n",
              "    </tr>\n",
              "    <tr>\n",
              "      <th>292</th>\n",
              "      <td>-3.518232</td>\n",
              "      <td>-0.831808</td>\n",
              "      <td>-1.661435</td>\n",
              "      <td>1.738777</td>\n",
              "    </tr>\n",
              "    <tr>\n",
              "      <th>298</th>\n",
              "      <td>3.229692</td>\n",
              "      <td>1.389539</td>\n",
              "      <td>-0.210613</td>\n",
              "      <td>-0.384374</td>\n",
              "    </tr>\n",
              "    <tr>\n",
              "      <th>354</th>\n",
              "      <td>-1.152793</td>\n",
              "      <td>3.339792</td>\n",
              "      <td>-0.750043</td>\n",
              "      <td>1.186246</td>\n",
              "    </tr>\n",
              "    <tr>\n",
              "      <th>356</th>\n",
              "      <td>0.578866</td>\n",
              "      <td>-0.835796</td>\n",
              "      <td>-3.034488</td>\n",
              "      <td>-0.394374</td>\n",
              "    </tr>\n",
              "    <tr>\n",
              "      <th>388</th>\n",
              "      <td>-0.247227</td>\n",
              "      <td>0.010355</td>\n",
              "      <td>-0.481217</td>\n",
              "      <td>-3.151476</td>\n",
              "    </tr>\n",
              "    <tr>\n",
              "      <th>542</th>\n",
              "      <td>0.035436</td>\n",
              "      <td>-0.073640</td>\n",
              "      <td>-3.083131</td>\n",
              "      <td>-0.309983</td>\n",
              "    </tr>\n",
              "    <tr>\n",
              "      <th>672</th>\n",
              "      <td>0.223897</td>\n",
              "      <td>3.142920</td>\n",
              "      <td>-0.505309</td>\n",
              "      <td>-0.741159</td>\n",
              "    </tr>\n",
              "    <tr>\n",
              "      <th>761</th>\n",
              "      <td>0.456266</td>\n",
              "      <td>-3.073522</td>\n",
              "      <td>0.881577</td>\n",
              "      <td>1.569711</td>\n",
              "    </tr>\n",
              "    <tr>\n",
              "      <th>841</th>\n",
              "      <td>-0.567393</td>\n",
              "      <td>-3.437003</td>\n",
              "      <td>0.471681</td>\n",
              "      <td>0.024986</td>\n",
              "    </tr>\n",
              "    <tr>\n",
              "      <th>925</th>\n",
              "      <td>-0.867147</td>\n",
              "      <td>0.459561</td>\n",
              "      <td>-0.438311</td>\n",
              "      <td>3.038694</td>\n",
              "    </tr>\n",
              "    <tr>\n",
              "      <th>938</th>\n",
              "      <td>3.055688</td>\n",
              "      <td>1.761417</td>\n",
              "      <td>0.347086</td>\n",
              "      <td>1.306111</td>\n",
              "    </tr>\n",
              "    <tr>\n",
              "      <th>974</th>\n",
              "      <td>3.058397</td>\n",
              "      <td>0.579153</td>\n",
              "      <td>0.951120</td>\n",
              "      <td>1.304682</td>\n",
              "    </tr>\n",
              "    <tr>\n",
              "      <th>980</th>\n",
              "      <td>1.916720</td>\n",
              "      <td>0.877280</td>\n",
              "      <td>-3.051996</td>\n",
              "      <td>0.464502</td>\n",
              "    </tr>\n",
              "    <tr>\n",
              "      <th>991</th>\n",
              "      <td>-3.338823</td>\n",
              "      <td>-0.861986</td>\n",
              "      <td>0.142857</td>\n",
              "      <td>1.180320</td>\n",
              "    </tr>\n",
              "  </tbody>\n",
              "</table>\n",
              "</div>"
            ],
            "text/plain": [
              "            0         1         2         3\n",
              "173  0.501431 -0.460962  3.280781 -1.415856\n",
              "191 -0.026823 -3.056769 -0.866553 -0.520733\n",
              "292 -3.518232 -0.831808 -1.661435  1.738777\n",
              "298  3.229692  1.389539 -0.210613 -0.384374\n",
              "354 -1.152793  3.339792 -0.750043  1.186246\n",
              "356  0.578866 -0.835796 -3.034488 -0.394374\n",
              "388 -0.247227  0.010355 -0.481217 -3.151476\n",
              "542  0.035436 -0.073640 -3.083131 -0.309983\n",
              "672  0.223897  3.142920 -0.505309 -0.741159\n",
              "761  0.456266 -3.073522  0.881577  1.569711\n",
              "841 -0.567393 -3.437003  0.471681  0.024986\n",
              "925 -0.867147  0.459561 -0.438311  3.038694\n",
              "938  3.055688  1.761417  0.347086  1.306111\n",
              "974  3.058397  0.579153  0.951120  1.304682\n",
              "980  1.916720  0.877280 -3.051996  0.464502\n",
              "991 -3.338823 -0.861986  0.142857  1.180320"
            ]
          },
          "metadata": {
            "tags": []
          },
          "execution_count": 419
        }
      ]
    },
    {
      "cell_type": "code",
      "metadata": {
        "colab": {
          "base_uri": "https://localhost:8080/",
          "height": 297
        },
        "id": "vyl2z4H2iSls",
        "outputId": "d811420e-9fe1-472e-b4b7-b353abb03be2"
      },
      "source": [
        "data[np.abs(data) > 3] = np.sign(data) * 3\n",
        "data.describe()"
      ],
      "execution_count": null,
      "outputs": [
        {
          "output_type": "execute_result",
          "data": {
            "text/html": [
              "<div>\n",
              "<style scoped>\n",
              "    .dataframe tbody tr th:only-of-type {\n",
              "        vertical-align: middle;\n",
              "    }\n",
              "\n",
              "    .dataframe tbody tr th {\n",
              "        vertical-align: top;\n",
              "    }\n",
              "\n",
              "    .dataframe thead th {\n",
              "        text-align: right;\n",
              "    }\n",
              "</style>\n",
              "<table border=\"1\" class=\"dataframe\">\n",
              "  <thead>\n",
              "    <tr style=\"text-align: right;\">\n",
              "      <th></th>\n",
              "      <th>0</th>\n",
              "      <th>1</th>\n",
              "      <th>2</th>\n",
              "      <th>3</th>\n",
              "    </tr>\n",
              "  </thead>\n",
              "  <tbody>\n",
              "    <tr>\n",
              "      <th>count</th>\n",
              "      <td>1000.000000</td>\n",
              "      <td>1000.000000</td>\n",
              "      <td>1000.000000</td>\n",
              "      <td>1000.000000</td>\n",
              "    </tr>\n",
              "    <tr>\n",
              "      <th>mean</th>\n",
              "      <td>-0.039563</td>\n",
              "      <td>-0.010968</td>\n",
              "      <td>0.006591</td>\n",
              "      <td>0.008621</td>\n",
              "    </tr>\n",
              "    <tr>\n",
              "      <th>std</th>\n",
              "      <td>0.993704</td>\n",
              "      <td>1.024624</td>\n",
              "      <td>1.044024</td>\n",
              "      <td>0.955284</td>\n",
              "    </tr>\n",
              "    <tr>\n",
              "      <th>min</th>\n",
              "      <td>-3.000000</td>\n",
              "      <td>-3.000000</td>\n",
              "      <td>-3.000000</td>\n",
              "      <td>-3.000000</td>\n",
              "    </tr>\n",
              "    <tr>\n",
              "      <th>25%</th>\n",
              "      <td>-0.667482</td>\n",
              "      <td>-0.719338</td>\n",
              "      <td>-0.727488</td>\n",
              "      <td>-0.645193</td>\n",
              "    </tr>\n",
              "    <tr>\n",
              "      <th>50%</th>\n",
              "      <td>-0.064797</td>\n",
              "      <td>-0.008826</td>\n",
              "      <td>0.020752</td>\n",
              "      <td>0.040934</td>\n",
              "    </tr>\n",
              "    <tr>\n",
              "      <th>75%</th>\n",
              "      <td>0.599312</td>\n",
              "      <td>0.658373</td>\n",
              "      <td>0.728944</td>\n",
              "      <td>0.652362</td>\n",
              "    </tr>\n",
              "    <tr>\n",
              "      <th>max</th>\n",
              "      <td>3.000000</td>\n",
              "      <td>3.000000</td>\n",
              "      <td>3.000000</td>\n",
              "      <td>3.000000</td>\n",
              "    </tr>\n",
              "  </tbody>\n",
              "</table>\n",
              "</div>"
            ],
            "text/plain": [
              "                 0            1            2            3\n",
              "count  1000.000000  1000.000000  1000.000000  1000.000000\n",
              "mean     -0.039563    -0.010968     0.006591     0.008621\n",
              "std       0.993704     1.024624     1.044024     0.955284\n",
              "min      -3.000000    -3.000000    -3.000000    -3.000000\n",
              "25%      -0.667482    -0.719338    -0.727488    -0.645193\n",
              "50%      -0.064797    -0.008826     0.020752     0.040934\n",
              "75%       0.599312     0.658373     0.728944     0.652362\n",
              "max       3.000000     3.000000     3.000000     3.000000"
            ]
          },
          "metadata": {
            "tags": []
          },
          "execution_count": 420
        }
      ]
    },
    {
      "cell_type": "code",
      "metadata": {
        "colab": {
          "base_uri": "https://localhost:8080/",
          "height": 204
        },
        "id": "zd3hxssjmunz",
        "outputId": "63c07835-d1b6-4ba4-9d3c-143abcb49af8"
      },
      "source": [
        "np.sign(data).head()"
      ],
      "execution_count": null,
      "outputs": [
        {
          "output_type": "execute_result",
          "data": {
            "text/html": [
              "<div>\n",
              "<style scoped>\n",
              "    .dataframe tbody tr th:only-of-type {\n",
              "        vertical-align: middle;\n",
              "    }\n",
              "\n",
              "    .dataframe tbody tr th {\n",
              "        vertical-align: top;\n",
              "    }\n",
              "\n",
              "    .dataframe thead th {\n",
              "        text-align: right;\n",
              "    }\n",
              "</style>\n",
              "<table border=\"1\" class=\"dataframe\">\n",
              "  <thead>\n",
              "    <tr style=\"text-align: right;\">\n",
              "      <th></th>\n",
              "      <th>0</th>\n",
              "      <th>1</th>\n",
              "      <th>2</th>\n",
              "      <th>3</th>\n",
              "    </tr>\n",
              "  </thead>\n",
              "  <tbody>\n",
              "    <tr>\n",
              "      <th>0</th>\n",
              "      <td>-1.0</td>\n",
              "      <td>1.0</td>\n",
              "      <td>1.0</td>\n",
              "      <td>1.0</td>\n",
              "    </tr>\n",
              "    <tr>\n",
              "      <th>1</th>\n",
              "      <td>-1.0</td>\n",
              "      <td>1.0</td>\n",
              "      <td>-1.0</td>\n",
              "      <td>1.0</td>\n",
              "    </tr>\n",
              "    <tr>\n",
              "      <th>2</th>\n",
              "      <td>1.0</td>\n",
              "      <td>-1.0</td>\n",
              "      <td>1.0</td>\n",
              "      <td>-1.0</td>\n",
              "    </tr>\n",
              "    <tr>\n",
              "      <th>3</th>\n",
              "      <td>1.0</td>\n",
              "      <td>1.0</td>\n",
              "      <td>1.0</td>\n",
              "      <td>1.0</td>\n",
              "    </tr>\n",
              "    <tr>\n",
              "      <th>4</th>\n",
              "      <td>-1.0</td>\n",
              "      <td>1.0</td>\n",
              "      <td>1.0</td>\n",
              "      <td>1.0</td>\n",
              "    </tr>\n",
              "  </tbody>\n",
              "</table>\n",
              "</div>"
            ],
            "text/plain": [
              "     0    1    2    3\n",
              "0 -1.0  1.0  1.0  1.0\n",
              "1 -1.0  1.0 -1.0  1.0\n",
              "2  1.0 -1.0  1.0 -1.0\n",
              "3  1.0  1.0  1.0  1.0\n",
              "4 -1.0  1.0  1.0  1.0"
            ]
          },
          "metadata": {
            "tags": []
          },
          "execution_count": 421
        }
      ]
    },
    {
      "cell_type": "code",
      "metadata": {
        "colab": {
          "base_uri": "https://localhost:8080/",
          "height": 142
        },
        "id": "nJLCiPXImxw5",
        "outputId": "f020dc6c-942f-4918-a911-c6a91598947f"
      },
      "source": [
        "# 选出一个不含有替代值的随机子集\n",
        "df.sample(n=3)"
      ],
      "execution_count": null,
      "outputs": [
        {
          "output_type": "execute_result",
          "data": {
            "text/html": [
              "<div>\n",
              "<style scoped>\n",
              "    .dataframe tbody tr th:only-of-type {\n",
              "        vertical-align: middle;\n",
              "    }\n",
              "\n",
              "    .dataframe tbody tr th {\n",
              "        vertical-align: top;\n",
              "    }\n",
              "\n",
              "    .dataframe thead th {\n",
              "        text-align: right;\n",
              "    }\n",
              "</style>\n",
              "<table border=\"1\" class=\"dataframe\">\n",
              "  <thead>\n",
              "    <tr style=\"text-align: right;\">\n",
              "      <th></th>\n",
              "      <th>0</th>\n",
              "      <th>1</th>\n",
              "      <th>2</th>\n",
              "    </tr>\n",
              "  </thead>\n",
              "  <tbody>\n",
              "    <tr>\n",
              "      <th>4</th>\n",
              "      <td>0.262154</td>\n",
              "      <td>NaN</td>\n",
              "      <td>NaN</td>\n",
              "    </tr>\n",
              "    <tr>\n",
              "      <th>2</th>\n",
              "      <td>-1.119661</td>\n",
              "      <td>NaN</td>\n",
              "      <td>-0.194937</td>\n",
              "    </tr>\n",
              "    <tr>\n",
              "      <th>5</th>\n",
              "      <td>-0.513190</td>\n",
              "      <td>NaN</td>\n",
              "      <td>NaN</td>\n",
              "    </tr>\n",
              "  </tbody>\n",
              "</table>\n",
              "</div>"
            ],
            "text/plain": [
              "          0   1         2\n",
              "4  0.262154 NaN       NaN\n",
              "2 -1.119661 NaN -0.194937\n",
              "5 -0.513190 NaN       NaN"
            ]
          },
          "metadata": {
            "tags": []
          },
          "execution_count": 423
        }
      ]
    },
    {
      "cell_type": "code",
      "metadata": {
        "id": "yhivT5rtnfyC"
      },
      "source": [
        "# 选一个带有替代值的样本，将replace=True传入\n",
        "choices = pd.Series([5, 7, -1, 6, 4])\n",
        "draws = choices.sample(n=10, replace=True)"
      ],
      "execution_count": null,
      "outputs": []
    },
    {
      "cell_type": "code",
      "metadata": {
        "colab": {
          "base_uri": "https://localhost:8080/"
        },
        "id": "brqbGumPnyzn",
        "outputId": "688185d4-8dd9-4ea8-e2cb-5b9de8c288d7"
      },
      "source": [
        "draws"
      ],
      "execution_count": null,
      "outputs": [
        {
          "output_type": "execute_result",
          "data": {
            "text/plain": [
              "1    7\n",
              "1    7\n",
              "1    7\n",
              "2   -1\n",
              "2   -1\n",
              "3    6\n",
              "3    6\n",
              "2   -1\n",
              "3    6\n",
              "0    5\n",
              "dtype: int64"
            ]
          },
          "metadata": {
            "tags": []
          },
          "execution_count": 425
        }
      ]
    },
    {
      "cell_type": "markdown",
      "metadata": {
        "id": "FENiXs4Un5gv"
      },
      "source": [
        "### 计算指标/虚拟变量"
      ]
    },
    {
      "cell_type": "code",
      "metadata": {
        "id": "GIzpCo4sn0Eq"
      },
      "source": [
        "df = DataFrame({'key':['b', 'b', 'a', 'c', 'a', 'b'],\n",
        "                'data1':range(6)})\n",
        "df"
      ],
      "execution_count": 3,
      "outputs": [
        {
          "output_type": "execute_result",
          "data": {
            "text/plain": [
              "  key  data1\n",
              "0   b      0\n",
              "1   b      1\n",
              "2   a      2\n",
              "3   c      3\n",
              "4   a      4\n",
              "5   b      5"
            ],
            "text/html": "<div>\n<style scoped>\n    .dataframe tbody tr th:only-of-type {\n        vertical-align: middle;\n    }\n\n    .dataframe tbody tr th {\n        vertical-align: top;\n    }\n\n    .dataframe thead th {\n        text-align: right;\n    }\n</style>\n<table border=\"1\" class=\"dataframe\">\n  <thead>\n    <tr style=\"text-align: right;\">\n      <th></th>\n      <th>key</th>\n      <th>data1</th>\n    </tr>\n  </thead>\n  <tbody>\n    <tr>\n      <th>0</th>\n      <td>b</td>\n      <td>0</td>\n    </tr>\n    <tr>\n      <th>1</th>\n      <td>b</td>\n      <td>1</td>\n    </tr>\n    <tr>\n      <th>2</th>\n      <td>a</td>\n      <td>2</td>\n    </tr>\n    <tr>\n      <th>3</th>\n      <td>c</td>\n      <td>3</td>\n    </tr>\n    <tr>\n      <th>4</th>\n      <td>a</td>\n      <td>4</td>\n    </tr>\n    <tr>\n      <th>5</th>\n      <td>b</td>\n      <td>5</td>\n    </tr>\n  </tbody>\n</table>\n</div>"
          },
          "metadata": {},
          "execution_count": 3
        }
      ]
    },
    {
      "cell_type": "code",
      "execution_count": 6,
      "metadata": {},
      "outputs": [
        {
          "output_type": "execute_result",
          "data": {
            "text/plain": [
              "   data1  key_a  key_b  key_c\n",
              "0      0      0      1      0\n",
              "1      1      0      1      0\n",
              "2      2      1      0      0\n",
              "3      3      0      0      1\n",
              "4      4      1      0      0\n",
              "5      5      0      1      0"
            ],
            "text/html": "<div>\n<style scoped>\n    .dataframe tbody tr th:only-of-type {\n        vertical-align: middle;\n    }\n\n    .dataframe tbody tr th {\n        vertical-align: top;\n    }\n\n    .dataframe thead th {\n        text-align: right;\n    }\n</style>\n<table border=\"1\" class=\"dataframe\">\n  <thead>\n    <tr style=\"text-align: right;\">\n      <th></th>\n      <th>data1</th>\n      <th>key_a</th>\n      <th>key_b</th>\n      <th>key_c</th>\n    </tr>\n  </thead>\n  <tbody>\n    <tr>\n      <th>0</th>\n      <td>0</td>\n      <td>0</td>\n      <td>1</td>\n      <td>0</td>\n    </tr>\n    <tr>\n      <th>1</th>\n      <td>1</td>\n      <td>0</td>\n      <td>1</td>\n      <td>0</td>\n    </tr>\n    <tr>\n      <th>2</th>\n      <td>2</td>\n      <td>1</td>\n      <td>0</td>\n      <td>0</td>\n    </tr>\n    <tr>\n      <th>3</th>\n      <td>3</td>\n      <td>0</td>\n      <td>0</td>\n      <td>1</td>\n    </tr>\n    <tr>\n      <th>4</th>\n      <td>4</td>\n      <td>1</td>\n      <td>0</td>\n      <td>0</td>\n    </tr>\n    <tr>\n      <th>5</th>\n      <td>5</td>\n      <td>0</td>\n      <td>1</td>\n      <td>0</td>\n    </tr>\n  </tbody>\n</table>\n</div>"
          },
          "metadata": {},
          "execution_count": 6
        }
      ],
      "source": [
        "dummies = pd.get_dummies(df['key'], prefix='key')\n",
        "df_with_dummies = df[['data1']].join(dummies)\n",
        "df_with_dummies"
      ]
    },
    {
      "cell_type": "code",
      "execution_count": 10,
      "metadata": {},
      "outputs": [
        {
          "output_type": "execute_result",
          "data": {
            "text/plain": [
              "   movied_id                               title                        genres\n",
              "0          1                    Toy Story (1995)   Animation|Children's|Comedy\n",
              "1          2                      Jumanji (1995)  Adventure|Children's|Fantasy\n",
              "2          3             Grumpier Old Men (1995)                Comedy|Romance\n",
              "3          4            Waiting to Exhale (1995)                  Comedy|Drama\n",
              "4          5  Father of the Bride Part II (1995)                        Comedy\n",
              "5          6                         Heat (1995)         Action|Crime|Thriller\n",
              "6          7                      Sabrina (1995)                Comedy|Romance\n",
              "7          8                 Tom and Huck (1995)          Adventure|Children's\n",
              "8          9                 Sudden Death (1995)                        Action\n",
              "9         10                    GoldenEye (1995)     Action|Adventure|Thriller"
            ],
            "text/html": "<div>\n<style scoped>\n    .dataframe tbody tr th:only-of-type {\n        vertical-align: middle;\n    }\n\n    .dataframe tbody tr th {\n        vertical-align: top;\n    }\n\n    .dataframe thead th {\n        text-align: right;\n    }\n</style>\n<table border=\"1\" class=\"dataframe\">\n  <thead>\n    <tr style=\"text-align: right;\">\n      <th></th>\n      <th>movied_id</th>\n      <th>title</th>\n      <th>genres</th>\n    </tr>\n  </thead>\n  <tbody>\n    <tr>\n      <th>0</th>\n      <td>1</td>\n      <td>Toy Story (1995)</td>\n      <td>Animation|Children's|Comedy</td>\n    </tr>\n    <tr>\n      <th>1</th>\n      <td>2</td>\n      <td>Jumanji (1995)</td>\n      <td>Adventure|Children's|Fantasy</td>\n    </tr>\n    <tr>\n      <th>2</th>\n      <td>3</td>\n      <td>Grumpier Old Men (1995)</td>\n      <td>Comedy|Romance</td>\n    </tr>\n    <tr>\n      <th>3</th>\n      <td>4</td>\n      <td>Waiting to Exhale (1995)</td>\n      <td>Comedy|Drama</td>\n    </tr>\n    <tr>\n      <th>4</th>\n      <td>5</td>\n      <td>Father of the Bride Part II (1995)</td>\n      <td>Comedy</td>\n    </tr>\n    <tr>\n      <th>5</th>\n      <td>6</td>\n      <td>Heat (1995)</td>\n      <td>Action|Crime|Thriller</td>\n    </tr>\n    <tr>\n      <th>6</th>\n      <td>7</td>\n      <td>Sabrina (1995)</td>\n      <td>Comedy|Romance</td>\n    </tr>\n    <tr>\n      <th>7</th>\n      <td>8</td>\n      <td>Tom and Huck (1995)</td>\n      <td>Adventure|Children's</td>\n    </tr>\n    <tr>\n      <th>8</th>\n      <td>9</td>\n      <td>Sudden Death (1995)</td>\n      <td>Action</td>\n    </tr>\n    <tr>\n      <th>9</th>\n      <td>10</td>\n      <td>GoldenEye (1995)</td>\n      <td>Action|Adventure|Thriller</td>\n    </tr>\n  </tbody>\n</table>\n</div>"
          },
          "metadata": {},
          "execution_count": 10
        }
      ],
      "source": [
        "mnames = ['movied_id', 'title', 'genres']\n",
        "movies = pd.read_table('pydata-notebook/datasets/movielens/movies.dat', sep='::',\n",
        "                        header=None, names=mnames, encoding = \"ISO-8859-1\")\n",
        "movies[:10]"
      ]
    },
    {
      "cell_type": "code",
      "execution_count": 11,
      "metadata": {},
      "outputs": [
        {
          "output_type": "execute_result",
          "data": {
            "text/plain": [
              "array(['Animation', \"Children's\", 'Comedy', 'Adventure', 'Fantasy',\n",
              "       'Romance', 'Drama', 'Action', 'Crime', 'Thriller', 'Horror',\n",
              "       'Sci-Fi', 'Documentary', 'War', 'Musical', 'Mystery', 'Film-Noir',\n",
              "       'Western'], dtype=object)"
            ]
          },
          "metadata": {},
          "execution_count": 11
        }
      ],
      "source": [
        "all_genres  = []\n",
        "for x in movies.genres:\n",
        "    all_genres.extend(x.split('|'))\n",
        "genres = pd.unique(all_genres)\n",
        "genres"
      ]
    },
    {
      "source": [
        "使用全0的DataFrame是构建指标DataFrame的一种方式："
      ],
      "cell_type": "markdown",
      "metadata": {}
    },
    {
      "cell_type": "code",
      "execution_count": 13,
      "metadata": {},
      "outputs": [
        {
          "output_type": "execute_result",
          "data": {
            "text/plain": [
              "      Animation  Children's  Comedy  Adventure  Fantasy  Romance  Drama  \\\n",
              "0           0.0         0.0     0.0        0.0      0.0      0.0    0.0   \n",
              "1           0.0         0.0     0.0        0.0      0.0      0.0    0.0   \n",
              "2           0.0         0.0     0.0        0.0      0.0      0.0    0.0   \n",
              "3           0.0         0.0     0.0        0.0      0.0      0.0    0.0   \n",
              "4           0.0         0.0     0.0        0.0      0.0      0.0    0.0   \n",
              "...         ...         ...     ...        ...      ...      ...    ...   \n",
              "3878        0.0         0.0     0.0        0.0      0.0      0.0    0.0   \n",
              "3879        0.0         0.0     0.0        0.0      0.0      0.0    0.0   \n",
              "3880        0.0         0.0     0.0        0.0      0.0      0.0    0.0   \n",
              "3881        0.0         0.0     0.0        0.0      0.0      0.0    0.0   \n",
              "3882        0.0         0.0     0.0        0.0      0.0      0.0    0.0   \n",
              "\n",
              "      Action  Crime  Thriller  Horror  Sci-Fi  Documentary  War  Musical  \\\n",
              "0        0.0    0.0       0.0     0.0     0.0          0.0  0.0      0.0   \n",
              "1        0.0    0.0       0.0     0.0     0.0          0.0  0.0      0.0   \n",
              "2        0.0    0.0       0.0     0.0     0.0          0.0  0.0      0.0   \n",
              "3        0.0    0.0       0.0     0.0     0.0          0.0  0.0      0.0   \n",
              "4        0.0    0.0       0.0     0.0     0.0          0.0  0.0      0.0   \n",
              "...      ...    ...       ...     ...     ...          ...  ...      ...   \n",
              "3878     0.0    0.0       0.0     0.0     0.0          0.0  0.0      0.0   \n",
              "3879     0.0    0.0       0.0     0.0     0.0          0.0  0.0      0.0   \n",
              "3880     0.0    0.0       0.0     0.0     0.0          0.0  0.0      0.0   \n",
              "3881     0.0    0.0       0.0     0.0     0.0          0.0  0.0      0.0   \n",
              "3882     0.0    0.0       0.0     0.0     0.0          0.0  0.0      0.0   \n",
              "\n",
              "      Mystery  Film-Noir  Western  \n",
              "0         0.0        0.0      0.0  \n",
              "1         0.0        0.0      0.0  \n",
              "2         0.0        0.0      0.0  \n",
              "3         0.0        0.0      0.0  \n",
              "4         0.0        0.0      0.0  \n",
              "...       ...        ...      ...  \n",
              "3878      0.0        0.0      0.0  \n",
              "3879      0.0        0.0      0.0  \n",
              "3880      0.0        0.0      0.0  \n",
              "3881      0.0        0.0      0.0  \n",
              "3882      0.0        0.0      0.0  \n",
              "\n",
              "[3883 rows x 18 columns]"
            ],
            "text/html": "<div>\n<style scoped>\n    .dataframe tbody tr th:only-of-type {\n        vertical-align: middle;\n    }\n\n    .dataframe tbody tr th {\n        vertical-align: top;\n    }\n\n    .dataframe thead th {\n        text-align: right;\n    }\n</style>\n<table border=\"1\" class=\"dataframe\">\n  <thead>\n    <tr style=\"text-align: right;\">\n      <th></th>\n      <th>Animation</th>\n      <th>Children's</th>\n      <th>Comedy</th>\n      <th>Adventure</th>\n      <th>Fantasy</th>\n      <th>Romance</th>\n      <th>Drama</th>\n      <th>Action</th>\n      <th>Crime</th>\n      <th>Thriller</th>\n      <th>Horror</th>\n      <th>Sci-Fi</th>\n      <th>Documentary</th>\n      <th>War</th>\n      <th>Musical</th>\n      <th>Mystery</th>\n      <th>Film-Noir</th>\n      <th>Western</th>\n    </tr>\n  </thead>\n  <tbody>\n    <tr>\n      <th>0</th>\n      <td>0.0</td>\n      <td>0.0</td>\n      <td>0.0</td>\n      <td>0.0</td>\n      <td>0.0</td>\n      <td>0.0</td>\n      <td>0.0</td>\n      <td>0.0</td>\n      <td>0.0</td>\n      <td>0.0</td>\n      <td>0.0</td>\n      <td>0.0</td>\n      <td>0.0</td>\n      <td>0.0</td>\n      <td>0.0</td>\n      <td>0.0</td>\n      <td>0.0</td>\n      <td>0.0</td>\n    </tr>\n    <tr>\n      <th>1</th>\n      <td>0.0</td>\n      <td>0.0</td>\n      <td>0.0</td>\n      <td>0.0</td>\n      <td>0.0</td>\n      <td>0.0</td>\n      <td>0.0</td>\n      <td>0.0</td>\n      <td>0.0</td>\n      <td>0.0</td>\n      <td>0.0</td>\n      <td>0.0</td>\n      <td>0.0</td>\n      <td>0.0</td>\n      <td>0.0</td>\n      <td>0.0</td>\n      <td>0.0</td>\n      <td>0.0</td>\n    </tr>\n    <tr>\n      <th>2</th>\n      <td>0.0</td>\n      <td>0.0</td>\n      <td>0.0</td>\n      <td>0.0</td>\n      <td>0.0</td>\n      <td>0.0</td>\n      <td>0.0</td>\n      <td>0.0</td>\n      <td>0.0</td>\n      <td>0.0</td>\n      <td>0.0</td>\n      <td>0.0</td>\n      <td>0.0</td>\n      <td>0.0</td>\n      <td>0.0</td>\n      <td>0.0</td>\n      <td>0.0</td>\n      <td>0.0</td>\n    </tr>\n    <tr>\n      <th>3</th>\n      <td>0.0</td>\n      <td>0.0</td>\n      <td>0.0</td>\n      <td>0.0</td>\n      <td>0.0</td>\n      <td>0.0</td>\n      <td>0.0</td>\n      <td>0.0</td>\n      <td>0.0</td>\n      <td>0.0</td>\n      <td>0.0</td>\n      <td>0.0</td>\n      <td>0.0</td>\n      <td>0.0</td>\n      <td>0.0</td>\n      <td>0.0</td>\n      <td>0.0</td>\n      <td>0.0</td>\n    </tr>\n    <tr>\n      <th>4</th>\n      <td>0.0</td>\n      <td>0.0</td>\n      <td>0.0</td>\n      <td>0.0</td>\n      <td>0.0</td>\n      <td>0.0</td>\n      <td>0.0</td>\n      <td>0.0</td>\n      <td>0.0</td>\n      <td>0.0</td>\n      <td>0.0</td>\n      <td>0.0</td>\n      <td>0.0</td>\n      <td>0.0</td>\n      <td>0.0</td>\n      <td>0.0</td>\n      <td>0.0</td>\n      <td>0.0</td>\n    </tr>\n    <tr>\n      <th>...</th>\n      <td>...</td>\n      <td>...</td>\n      <td>...</td>\n      <td>...</td>\n      <td>...</td>\n      <td>...</td>\n      <td>...</td>\n      <td>...</td>\n      <td>...</td>\n      <td>...</td>\n      <td>...</td>\n      <td>...</td>\n      <td>...</td>\n      <td>...</td>\n      <td>...</td>\n      <td>...</td>\n      <td>...</td>\n      <td>...</td>\n    </tr>\n    <tr>\n      <th>3878</th>\n      <td>0.0</td>\n      <td>0.0</td>\n      <td>0.0</td>\n      <td>0.0</td>\n      <td>0.0</td>\n      <td>0.0</td>\n      <td>0.0</td>\n      <td>0.0</td>\n      <td>0.0</td>\n      <td>0.0</td>\n      <td>0.0</td>\n      <td>0.0</td>\n      <td>0.0</td>\n      <td>0.0</td>\n      <td>0.0</td>\n      <td>0.0</td>\n      <td>0.0</td>\n      <td>0.0</td>\n    </tr>\n    <tr>\n      <th>3879</th>\n      <td>0.0</td>\n      <td>0.0</td>\n      <td>0.0</td>\n      <td>0.0</td>\n      <td>0.0</td>\n      <td>0.0</td>\n      <td>0.0</td>\n      <td>0.0</td>\n      <td>0.0</td>\n      <td>0.0</td>\n      <td>0.0</td>\n      <td>0.0</td>\n      <td>0.0</td>\n      <td>0.0</td>\n      <td>0.0</td>\n      <td>0.0</td>\n      <td>0.0</td>\n      <td>0.0</td>\n    </tr>\n    <tr>\n      <th>3880</th>\n      <td>0.0</td>\n      <td>0.0</td>\n      <td>0.0</td>\n      <td>0.0</td>\n      <td>0.0</td>\n      <td>0.0</td>\n      <td>0.0</td>\n      <td>0.0</td>\n      <td>0.0</td>\n      <td>0.0</td>\n      <td>0.0</td>\n      <td>0.0</td>\n      <td>0.0</td>\n      <td>0.0</td>\n      <td>0.0</td>\n      <td>0.0</td>\n      <td>0.0</td>\n      <td>0.0</td>\n    </tr>\n    <tr>\n      <th>3881</th>\n      <td>0.0</td>\n      <td>0.0</td>\n      <td>0.0</td>\n      <td>0.0</td>\n      <td>0.0</td>\n      <td>0.0</td>\n      <td>0.0</td>\n      <td>0.0</td>\n      <td>0.0</td>\n      <td>0.0</td>\n      <td>0.0</td>\n      <td>0.0</td>\n      <td>0.0</td>\n      <td>0.0</td>\n      <td>0.0</td>\n      <td>0.0</td>\n      <td>0.0</td>\n      <td>0.0</td>\n    </tr>\n    <tr>\n      <th>3882</th>\n      <td>0.0</td>\n      <td>0.0</td>\n      <td>0.0</td>\n      <td>0.0</td>\n      <td>0.0</td>\n      <td>0.0</td>\n      <td>0.0</td>\n      <td>0.0</td>\n      <td>0.0</td>\n      <td>0.0</td>\n      <td>0.0</td>\n      <td>0.0</td>\n      <td>0.0</td>\n      <td>0.0</td>\n      <td>0.0</td>\n      <td>0.0</td>\n      <td>0.0</td>\n      <td>0.0</td>\n    </tr>\n  </tbody>\n</table>\n<p>3883 rows × 18 columns</p>\n</div>"
          },
          "metadata": {},
          "execution_count": 13
        }
      ],
      "source": [
        "zero_matrix = np.zeros((len(movies), len(genres)))\n",
        "dummies = pd.DataFrame(zero_matrix, columns=genres)\n",
        "dummies"
      ]
    },
    {
      "source": [
        "遍历每一部电影，将相应条目标为1。以第一部电影为例"
      ],
      "cell_type": "markdown",
      "metadata": {}
    },
    {
      "cell_type": "code",
      "execution_count": 15,
      "metadata": {},
      "outputs": [
        {
          "output_type": "execute_result",
          "data": {
            "text/plain": [
              "array([0, 1, 2])"
            ]
          },
          "metadata": {},
          "execution_count": 15
        }
      ],
      "source": [
        "gen = movies.genres[0]\n",
        "dummies.columns.get_indexer(gen.split('|'))"
      ]
    },
    {
      "cell_type": "code",
      "execution_count": 16,
      "metadata": {},
      "outputs": [
        {
          "output_type": "execute_result",
          "data": {
            "text/plain": [
              "      Animation  Children's  Comedy  Adventure  Fantasy  Romance  Drama  \\\n",
              "0           1.0         1.0     1.0        0.0      0.0      0.0    0.0   \n",
              "1           0.0         1.0     0.0        1.0      1.0      0.0    0.0   \n",
              "2           0.0         0.0     1.0        0.0      0.0      1.0    0.0   \n",
              "3           0.0         0.0     1.0        0.0      0.0      0.0    1.0   \n",
              "4           0.0         0.0     1.0        0.0      0.0      0.0    0.0   \n",
              "...         ...         ...     ...        ...      ...      ...    ...   \n",
              "3878        0.0         0.0     1.0        0.0      0.0      0.0    0.0   \n",
              "3879        0.0         0.0     0.0        0.0      0.0      0.0    1.0   \n",
              "3880        0.0         0.0     0.0        0.0      0.0      0.0    1.0   \n",
              "3881        0.0         0.0     0.0        0.0      0.0      0.0    1.0   \n",
              "3882        0.0         0.0     0.0        0.0      0.0      0.0    1.0   \n",
              "\n",
              "      Action  Crime  Thriller  Horror  Sci-Fi  Documentary  War  Musical  \\\n",
              "0        0.0    0.0       0.0     0.0     0.0          0.0  0.0      0.0   \n",
              "1        0.0    0.0       0.0     0.0     0.0          0.0  0.0      0.0   \n",
              "2        0.0    0.0       0.0     0.0     0.0          0.0  0.0      0.0   \n",
              "3        0.0    0.0       0.0     0.0     0.0          0.0  0.0      0.0   \n",
              "4        0.0    0.0       0.0     0.0     0.0          0.0  0.0      0.0   \n",
              "...      ...    ...       ...     ...     ...          ...  ...      ...   \n",
              "3878     0.0    0.0       0.0     0.0     0.0          0.0  0.0      0.0   \n",
              "3879     0.0    0.0       0.0     0.0     0.0          0.0  0.0      0.0   \n",
              "3880     0.0    0.0       0.0     0.0     0.0          0.0  0.0      0.0   \n",
              "3881     0.0    0.0       0.0     0.0     0.0          0.0  0.0      0.0   \n",
              "3882     0.0    0.0       1.0     0.0     0.0          0.0  0.0      0.0   \n",
              "\n",
              "      Mystery  Film-Noir  Western  \n",
              "0         0.0        0.0      0.0  \n",
              "1         0.0        0.0      0.0  \n",
              "2         0.0        0.0      0.0  \n",
              "3         0.0        0.0      0.0  \n",
              "4         0.0        0.0      0.0  \n",
              "...       ...        ...      ...  \n",
              "3878      0.0        0.0      0.0  \n",
              "3879      0.0        0.0      0.0  \n",
              "3880      0.0        0.0      0.0  \n",
              "3881      0.0        0.0      0.0  \n",
              "3882      0.0        0.0      0.0  \n",
              "\n",
              "[3883 rows x 18 columns]"
            ],
            "text/html": "<div>\n<style scoped>\n    .dataframe tbody tr th:only-of-type {\n        vertical-align: middle;\n    }\n\n    .dataframe tbody tr th {\n        vertical-align: top;\n    }\n\n    .dataframe thead th {\n        text-align: right;\n    }\n</style>\n<table border=\"1\" class=\"dataframe\">\n  <thead>\n    <tr style=\"text-align: right;\">\n      <th></th>\n      <th>Animation</th>\n      <th>Children's</th>\n      <th>Comedy</th>\n      <th>Adventure</th>\n      <th>Fantasy</th>\n      <th>Romance</th>\n      <th>Drama</th>\n      <th>Action</th>\n      <th>Crime</th>\n      <th>Thriller</th>\n      <th>Horror</th>\n      <th>Sci-Fi</th>\n      <th>Documentary</th>\n      <th>War</th>\n      <th>Musical</th>\n      <th>Mystery</th>\n      <th>Film-Noir</th>\n      <th>Western</th>\n    </tr>\n  </thead>\n  <tbody>\n    <tr>\n      <th>0</th>\n      <td>1.0</td>\n      <td>1.0</td>\n      <td>1.0</td>\n      <td>0.0</td>\n      <td>0.0</td>\n      <td>0.0</td>\n      <td>0.0</td>\n      <td>0.0</td>\n      <td>0.0</td>\n      <td>0.0</td>\n      <td>0.0</td>\n      <td>0.0</td>\n      <td>0.0</td>\n      <td>0.0</td>\n      <td>0.0</td>\n      <td>0.0</td>\n      <td>0.0</td>\n      <td>0.0</td>\n    </tr>\n    <tr>\n      <th>1</th>\n      <td>0.0</td>\n      <td>1.0</td>\n      <td>0.0</td>\n      <td>1.0</td>\n      <td>1.0</td>\n      <td>0.0</td>\n      <td>0.0</td>\n      <td>0.0</td>\n      <td>0.0</td>\n      <td>0.0</td>\n      <td>0.0</td>\n      <td>0.0</td>\n      <td>0.0</td>\n      <td>0.0</td>\n      <td>0.0</td>\n      <td>0.0</td>\n      <td>0.0</td>\n      <td>0.0</td>\n    </tr>\n    <tr>\n      <th>2</th>\n      <td>0.0</td>\n      <td>0.0</td>\n      <td>1.0</td>\n      <td>0.0</td>\n      <td>0.0</td>\n      <td>1.0</td>\n      <td>0.0</td>\n      <td>0.0</td>\n      <td>0.0</td>\n      <td>0.0</td>\n      <td>0.0</td>\n      <td>0.0</td>\n      <td>0.0</td>\n      <td>0.0</td>\n      <td>0.0</td>\n      <td>0.0</td>\n      <td>0.0</td>\n      <td>0.0</td>\n    </tr>\n    <tr>\n      <th>3</th>\n      <td>0.0</td>\n      <td>0.0</td>\n      <td>1.0</td>\n      <td>0.0</td>\n      <td>0.0</td>\n      <td>0.0</td>\n      <td>1.0</td>\n      <td>0.0</td>\n      <td>0.0</td>\n      <td>0.0</td>\n      <td>0.0</td>\n      <td>0.0</td>\n      <td>0.0</td>\n      <td>0.0</td>\n      <td>0.0</td>\n      <td>0.0</td>\n      <td>0.0</td>\n      <td>0.0</td>\n    </tr>\n    <tr>\n      <th>4</th>\n      <td>0.0</td>\n      <td>0.0</td>\n      <td>1.0</td>\n      <td>0.0</td>\n      <td>0.0</td>\n      <td>0.0</td>\n      <td>0.0</td>\n      <td>0.0</td>\n      <td>0.0</td>\n      <td>0.0</td>\n      <td>0.0</td>\n      <td>0.0</td>\n      <td>0.0</td>\n      <td>0.0</td>\n      <td>0.0</td>\n      <td>0.0</td>\n      <td>0.0</td>\n      <td>0.0</td>\n    </tr>\n    <tr>\n      <th>...</th>\n      <td>...</td>\n      <td>...</td>\n      <td>...</td>\n      <td>...</td>\n      <td>...</td>\n      <td>...</td>\n      <td>...</td>\n      <td>...</td>\n      <td>...</td>\n      <td>...</td>\n      <td>...</td>\n      <td>...</td>\n      <td>...</td>\n      <td>...</td>\n      <td>...</td>\n      <td>...</td>\n      <td>...</td>\n      <td>...</td>\n    </tr>\n    <tr>\n      <th>3878</th>\n      <td>0.0</td>\n      <td>0.0</td>\n      <td>1.0</td>\n      <td>0.0</td>\n      <td>0.0</td>\n      <td>0.0</td>\n      <td>0.0</td>\n      <td>0.0</td>\n      <td>0.0</td>\n      <td>0.0</td>\n      <td>0.0</td>\n      <td>0.0</td>\n      <td>0.0</td>\n      <td>0.0</td>\n      <td>0.0</td>\n      <td>0.0</td>\n      <td>0.0</td>\n      <td>0.0</td>\n    </tr>\n    <tr>\n      <th>3879</th>\n      <td>0.0</td>\n      <td>0.0</td>\n      <td>0.0</td>\n      <td>0.0</td>\n      <td>0.0</td>\n      <td>0.0</td>\n      <td>1.0</td>\n      <td>0.0</td>\n      <td>0.0</td>\n      <td>0.0</td>\n      <td>0.0</td>\n      <td>0.0</td>\n      <td>0.0</td>\n      <td>0.0</td>\n      <td>0.0</td>\n      <td>0.0</td>\n      <td>0.0</td>\n      <td>0.0</td>\n    </tr>\n    <tr>\n      <th>3880</th>\n      <td>0.0</td>\n      <td>0.0</td>\n      <td>0.0</td>\n      <td>0.0</td>\n      <td>0.0</td>\n      <td>0.0</td>\n      <td>1.0</td>\n      <td>0.0</td>\n      <td>0.0</td>\n      <td>0.0</td>\n      <td>0.0</td>\n      <td>0.0</td>\n      <td>0.0</td>\n      <td>0.0</td>\n      <td>0.0</td>\n      <td>0.0</td>\n      <td>0.0</td>\n      <td>0.0</td>\n    </tr>\n    <tr>\n      <th>3881</th>\n      <td>0.0</td>\n      <td>0.0</td>\n      <td>0.0</td>\n      <td>0.0</td>\n      <td>0.0</td>\n      <td>0.0</td>\n      <td>1.0</td>\n      <td>0.0</td>\n      <td>0.0</td>\n      <td>0.0</td>\n      <td>0.0</td>\n      <td>0.0</td>\n      <td>0.0</td>\n      <td>0.0</td>\n      <td>0.0</td>\n      <td>0.0</td>\n      <td>0.0</td>\n      <td>0.0</td>\n    </tr>\n    <tr>\n      <th>3882</th>\n      <td>0.0</td>\n      <td>0.0</td>\n      <td>0.0</td>\n      <td>0.0</td>\n      <td>0.0</td>\n      <td>0.0</td>\n      <td>1.0</td>\n      <td>0.0</td>\n      <td>0.0</td>\n      <td>1.0</td>\n      <td>0.0</td>\n      <td>0.0</td>\n      <td>0.0</td>\n      <td>0.0</td>\n      <td>0.0</td>\n      <td>0.0</td>\n      <td>0.0</td>\n      <td>0.0</td>\n    </tr>\n  </tbody>\n</table>\n<p>3883 rows × 18 columns</p>\n</div>"
          },
          "metadata": {},
          "execution_count": 16
        }
      ],
      "source": [
        "for i, gen in enumerate(movies.genres):\n",
        "    indices = dummies.columns.get_indexer(gen.split('|'))\n",
        "    dummies.iloc[i, indices] = 1\n",
        "dummies"
      ]
    },
    {
      "source": [
        "add_prefix将列索引添加前缀，add_suffix添加前缀。\n",
        "\n",
        "如果想修改行索引，则使用rename"
      ],
      "cell_type": "markdown",
      "metadata": {}
    },
    {
      "cell_type": "code",
      "execution_count": 21,
      "metadata": {},
      "outputs": [
        {
          "output_type": "execute_result",
          "data": {
            "text/plain": [
              "      movied_id                               title  \\\n",
              "0             1                    Toy Story (1995)   \n",
              "1             2                      Jumanji (1995)   \n",
              "2             3             Grumpier Old Men (1995)   \n",
              "3             4            Waiting to Exhale (1995)   \n",
              "4             5  Father of the Bride Part II (1995)   \n",
              "...         ...                                 ...   \n",
              "3878       3948             Meet the Parents (2000)   \n",
              "3879       3949          Requiem for a Dream (2000)   \n",
              "3880       3950                    Tigerland (2000)   \n",
              "3881       3951             Two Family House (2000)   \n",
              "3882       3952               Contender, The (2000)   \n",
              "\n",
              "                            genres  Genre_Animation  Genre_Children's  \\\n",
              "0      Animation|Children's|Comedy              1.0               1.0   \n",
              "1     Adventure|Children's|Fantasy              0.0               1.0   \n",
              "2                   Comedy|Romance              0.0               0.0   \n",
              "3                     Comedy|Drama              0.0               0.0   \n",
              "4                           Comedy              0.0               0.0   \n",
              "...                            ...              ...               ...   \n",
              "3878                        Comedy              0.0               0.0   \n",
              "3879                         Drama              0.0               0.0   \n",
              "3880                         Drama              0.0               0.0   \n",
              "3881                         Drama              0.0               0.0   \n",
              "3882                Drama|Thriller              0.0               0.0   \n",
              "\n",
              "      Genre_Comedy  Genre_Adventure  Genre_Fantasy  Genre_Romance  \\\n",
              "0              1.0              0.0            0.0            0.0   \n",
              "1              0.0              1.0            1.0            0.0   \n",
              "2              1.0              0.0            0.0            1.0   \n",
              "3              1.0              0.0            0.0            0.0   \n",
              "4              1.0              0.0            0.0            0.0   \n",
              "...            ...              ...            ...            ...   \n",
              "3878           1.0              0.0            0.0            0.0   \n",
              "3879           0.0              0.0            0.0            0.0   \n",
              "3880           0.0              0.0            0.0            0.0   \n",
              "3881           0.0              0.0            0.0            0.0   \n",
              "3882           0.0              0.0            0.0            0.0   \n",
              "\n",
              "      Genre_Drama  ...  Genre_Crime  Genre_Thriller  Genre_Horror  \\\n",
              "0             0.0  ...          0.0             0.0           0.0   \n",
              "1             0.0  ...          0.0             0.0           0.0   \n",
              "2             0.0  ...          0.0             0.0           0.0   \n",
              "3             1.0  ...          0.0             0.0           0.0   \n",
              "4             0.0  ...          0.0             0.0           0.0   \n",
              "...           ...  ...          ...             ...           ...   \n",
              "3878          0.0  ...          0.0             0.0           0.0   \n",
              "3879          1.0  ...          0.0             0.0           0.0   \n",
              "3880          1.0  ...          0.0             0.0           0.0   \n",
              "3881          1.0  ...          0.0             0.0           0.0   \n",
              "3882          1.0  ...          0.0             1.0           0.0   \n",
              "\n",
              "      Genre_Sci-Fi  Genre_Documentary  Genre_War  Genre_Musical  \\\n",
              "0              0.0                0.0        0.0            0.0   \n",
              "1              0.0                0.0        0.0            0.0   \n",
              "2              0.0                0.0        0.0            0.0   \n",
              "3              0.0                0.0        0.0            0.0   \n",
              "4              0.0                0.0        0.0            0.0   \n",
              "...            ...                ...        ...            ...   \n",
              "3878           0.0                0.0        0.0            0.0   \n",
              "3879           0.0                0.0        0.0            0.0   \n",
              "3880           0.0                0.0        0.0            0.0   \n",
              "3881           0.0                0.0        0.0            0.0   \n",
              "3882           0.0                0.0        0.0            0.0   \n",
              "\n",
              "      Genre_Mystery  Genre_Film-Noir  Genre_Western  \n",
              "0               0.0              0.0            0.0  \n",
              "1               0.0              0.0            0.0  \n",
              "2               0.0              0.0            0.0  \n",
              "3               0.0              0.0            0.0  \n",
              "4               0.0              0.0            0.0  \n",
              "...             ...              ...            ...  \n",
              "3878            0.0              0.0            0.0  \n",
              "3879            0.0              0.0            0.0  \n",
              "3880            0.0              0.0            0.0  \n",
              "3881            0.0              0.0            0.0  \n",
              "3882            0.0              0.0            0.0  \n",
              "\n",
              "[3883 rows x 21 columns]"
            ],
            "text/html": "<div>\n<style scoped>\n    .dataframe tbody tr th:only-of-type {\n        vertical-align: middle;\n    }\n\n    .dataframe tbody tr th {\n        vertical-align: top;\n    }\n\n    .dataframe thead th {\n        text-align: right;\n    }\n</style>\n<table border=\"1\" class=\"dataframe\">\n  <thead>\n    <tr style=\"text-align: right;\">\n      <th></th>\n      <th>movied_id</th>\n      <th>title</th>\n      <th>genres</th>\n      <th>Genre_Animation</th>\n      <th>Genre_Children's</th>\n      <th>Genre_Comedy</th>\n      <th>Genre_Adventure</th>\n      <th>Genre_Fantasy</th>\n      <th>Genre_Romance</th>\n      <th>Genre_Drama</th>\n      <th>...</th>\n      <th>Genre_Crime</th>\n      <th>Genre_Thriller</th>\n      <th>Genre_Horror</th>\n      <th>Genre_Sci-Fi</th>\n      <th>Genre_Documentary</th>\n      <th>Genre_War</th>\n      <th>Genre_Musical</th>\n      <th>Genre_Mystery</th>\n      <th>Genre_Film-Noir</th>\n      <th>Genre_Western</th>\n    </tr>\n  </thead>\n  <tbody>\n    <tr>\n      <th>0</th>\n      <td>1</td>\n      <td>Toy Story (1995)</td>\n      <td>Animation|Children's|Comedy</td>\n      <td>1.0</td>\n      <td>1.0</td>\n      <td>1.0</td>\n      <td>0.0</td>\n      <td>0.0</td>\n      <td>0.0</td>\n      <td>0.0</td>\n      <td>...</td>\n      <td>0.0</td>\n      <td>0.0</td>\n      <td>0.0</td>\n      <td>0.0</td>\n      <td>0.0</td>\n      <td>0.0</td>\n      <td>0.0</td>\n      <td>0.0</td>\n      <td>0.0</td>\n      <td>0.0</td>\n    </tr>\n    <tr>\n      <th>1</th>\n      <td>2</td>\n      <td>Jumanji (1995)</td>\n      <td>Adventure|Children's|Fantasy</td>\n      <td>0.0</td>\n      <td>1.0</td>\n      <td>0.0</td>\n      <td>1.0</td>\n      <td>1.0</td>\n      <td>0.0</td>\n      <td>0.0</td>\n      <td>...</td>\n      <td>0.0</td>\n      <td>0.0</td>\n      <td>0.0</td>\n      <td>0.0</td>\n      <td>0.0</td>\n      <td>0.0</td>\n      <td>0.0</td>\n      <td>0.0</td>\n      <td>0.0</td>\n      <td>0.0</td>\n    </tr>\n    <tr>\n      <th>2</th>\n      <td>3</td>\n      <td>Grumpier Old Men (1995)</td>\n      <td>Comedy|Romance</td>\n      <td>0.0</td>\n      <td>0.0</td>\n      <td>1.0</td>\n      <td>0.0</td>\n      <td>0.0</td>\n      <td>1.0</td>\n      <td>0.0</td>\n      <td>...</td>\n      <td>0.0</td>\n      <td>0.0</td>\n      <td>0.0</td>\n      <td>0.0</td>\n      <td>0.0</td>\n      <td>0.0</td>\n      <td>0.0</td>\n      <td>0.0</td>\n      <td>0.0</td>\n      <td>0.0</td>\n    </tr>\n    <tr>\n      <th>3</th>\n      <td>4</td>\n      <td>Waiting to Exhale (1995)</td>\n      <td>Comedy|Drama</td>\n      <td>0.0</td>\n      <td>0.0</td>\n      <td>1.0</td>\n      <td>0.0</td>\n      <td>0.0</td>\n      <td>0.0</td>\n      <td>1.0</td>\n      <td>...</td>\n      <td>0.0</td>\n      <td>0.0</td>\n      <td>0.0</td>\n      <td>0.0</td>\n      <td>0.0</td>\n      <td>0.0</td>\n      <td>0.0</td>\n      <td>0.0</td>\n      <td>0.0</td>\n      <td>0.0</td>\n    </tr>\n    <tr>\n      <th>4</th>\n      <td>5</td>\n      <td>Father of the Bride Part II (1995)</td>\n      <td>Comedy</td>\n      <td>0.0</td>\n      <td>0.0</td>\n      <td>1.0</td>\n      <td>0.0</td>\n      <td>0.0</td>\n      <td>0.0</td>\n      <td>0.0</td>\n      <td>...</td>\n      <td>0.0</td>\n      <td>0.0</td>\n      <td>0.0</td>\n      <td>0.0</td>\n      <td>0.0</td>\n      <td>0.0</td>\n      <td>0.0</td>\n      <td>0.0</td>\n      <td>0.0</td>\n      <td>0.0</td>\n    </tr>\n    <tr>\n      <th>...</th>\n      <td>...</td>\n      <td>...</td>\n      <td>...</td>\n      <td>...</td>\n      <td>...</td>\n      <td>...</td>\n      <td>...</td>\n      <td>...</td>\n      <td>...</td>\n      <td>...</td>\n      <td>...</td>\n      <td>...</td>\n      <td>...</td>\n      <td>...</td>\n      <td>...</td>\n      <td>...</td>\n      <td>...</td>\n      <td>...</td>\n      <td>...</td>\n      <td>...</td>\n      <td>...</td>\n    </tr>\n    <tr>\n      <th>3878</th>\n      <td>3948</td>\n      <td>Meet the Parents (2000)</td>\n      <td>Comedy</td>\n      <td>0.0</td>\n      <td>0.0</td>\n      <td>1.0</td>\n      <td>0.0</td>\n      <td>0.0</td>\n      <td>0.0</td>\n      <td>0.0</td>\n      <td>...</td>\n      <td>0.0</td>\n      <td>0.0</td>\n      <td>0.0</td>\n      <td>0.0</td>\n      <td>0.0</td>\n      <td>0.0</td>\n      <td>0.0</td>\n      <td>0.0</td>\n      <td>0.0</td>\n      <td>0.0</td>\n    </tr>\n    <tr>\n      <th>3879</th>\n      <td>3949</td>\n      <td>Requiem for a Dream (2000)</td>\n      <td>Drama</td>\n      <td>0.0</td>\n      <td>0.0</td>\n      <td>0.0</td>\n      <td>0.0</td>\n      <td>0.0</td>\n      <td>0.0</td>\n      <td>1.0</td>\n      <td>...</td>\n      <td>0.0</td>\n      <td>0.0</td>\n      <td>0.0</td>\n      <td>0.0</td>\n      <td>0.0</td>\n      <td>0.0</td>\n      <td>0.0</td>\n      <td>0.0</td>\n      <td>0.0</td>\n      <td>0.0</td>\n    </tr>\n    <tr>\n      <th>3880</th>\n      <td>3950</td>\n      <td>Tigerland (2000)</td>\n      <td>Drama</td>\n      <td>0.0</td>\n      <td>0.0</td>\n      <td>0.0</td>\n      <td>0.0</td>\n      <td>0.0</td>\n      <td>0.0</td>\n      <td>1.0</td>\n      <td>...</td>\n      <td>0.0</td>\n      <td>0.0</td>\n      <td>0.0</td>\n      <td>0.0</td>\n      <td>0.0</td>\n      <td>0.0</td>\n      <td>0.0</td>\n      <td>0.0</td>\n      <td>0.0</td>\n      <td>0.0</td>\n    </tr>\n    <tr>\n      <th>3881</th>\n      <td>3951</td>\n      <td>Two Family House (2000)</td>\n      <td>Drama</td>\n      <td>0.0</td>\n      <td>0.0</td>\n      <td>0.0</td>\n      <td>0.0</td>\n      <td>0.0</td>\n      <td>0.0</td>\n      <td>1.0</td>\n      <td>...</td>\n      <td>0.0</td>\n      <td>0.0</td>\n      <td>0.0</td>\n      <td>0.0</td>\n      <td>0.0</td>\n      <td>0.0</td>\n      <td>0.0</td>\n      <td>0.0</td>\n      <td>0.0</td>\n      <td>0.0</td>\n    </tr>\n    <tr>\n      <th>3882</th>\n      <td>3952</td>\n      <td>Contender, The (2000)</td>\n      <td>Drama|Thriller</td>\n      <td>0.0</td>\n      <td>0.0</td>\n      <td>0.0</td>\n      <td>0.0</td>\n      <td>0.0</td>\n      <td>0.0</td>\n      <td>1.0</td>\n      <td>...</td>\n      <td>0.0</td>\n      <td>1.0</td>\n      <td>0.0</td>\n      <td>0.0</td>\n      <td>0.0</td>\n      <td>0.0</td>\n      <td>0.0</td>\n      <td>0.0</td>\n      <td>0.0</td>\n      <td>0.0</td>\n    </tr>\n  </tbody>\n</table>\n<p>3883 rows × 21 columns</p>\n</div>"
          },
          "metadata": {},
          "execution_count": 21
        }
      ],
      "source": [
        "movies_windic = movies.join(dummies.add_prefix('Genre_'))\n",
        "movies_windic"
      ]
    },
    {
      "cell_type": "code",
      "execution_count": 22,
      "metadata": {},
      "outputs": [
        {
          "output_type": "execute_result",
          "data": {
            "text/plain": [
              "array([0.92961609, 0.31637555, 0.18391881, 0.20456028, 0.56772503,\n",
              "       0.5955447 , 0.96451452, 0.6531771 , 0.74890664, 0.65356987])"
            ]
          },
          "metadata": {},
          "execution_count": 22
        }
      ],
      "source": [
        "np.random.seed(12345)\n",
        "values = np.random.rand(10)\n",
        "values"
      ]
    },
    {
      "source": [
        "get_dummies与cut等离散化函数结合使用。"
      ],
      "cell_type": "markdown",
      "metadata": {}
    },
    {
      "cell_type": "code",
      "execution_count": 23,
      "metadata": {},
      "outputs": [
        {
          "output_type": "execute_result",
          "data": {
            "text/plain": [
              "   (0.0, 0.2]  (0.2, 0.4]  (0.4, 0.6]  (0.6, 0.8]  (0.8, 1.0]\n",
              "0           0           0           0           0           1\n",
              "1           0           1           0           0           0\n",
              "2           1           0           0           0           0\n",
              "3           0           1           0           0           0\n",
              "4           0           0           1           0           0\n",
              "5           0           0           1           0           0\n",
              "6           0           0           0           0           1\n",
              "7           0           0           0           1           0\n",
              "8           0           0           0           1           0\n",
              "9           0           0           0           1           0"
            ],
            "text/html": "<div>\n<style scoped>\n    .dataframe tbody tr th:only-of-type {\n        vertical-align: middle;\n    }\n\n    .dataframe tbody tr th {\n        vertical-align: top;\n    }\n\n    .dataframe thead th {\n        text-align: right;\n    }\n</style>\n<table border=\"1\" class=\"dataframe\">\n  <thead>\n    <tr style=\"text-align: right;\">\n      <th></th>\n      <th>(0.0, 0.2]</th>\n      <th>(0.2, 0.4]</th>\n      <th>(0.4, 0.6]</th>\n      <th>(0.6, 0.8]</th>\n      <th>(0.8, 1.0]</th>\n    </tr>\n  </thead>\n  <tbody>\n    <tr>\n      <th>0</th>\n      <td>0</td>\n      <td>0</td>\n      <td>0</td>\n      <td>0</td>\n      <td>1</td>\n    </tr>\n    <tr>\n      <th>1</th>\n      <td>0</td>\n      <td>1</td>\n      <td>0</td>\n      <td>0</td>\n      <td>0</td>\n    </tr>\n    <tr>\n      <th>2</th>\n      <td>1</td>\n      <td>0</td>\n      <td>0</td>\n      <td>0</td>\n      <td>0</td>\n    </tr>\n    <tr>\n      <th>3</th>\n      <td>0</td>\n      <td>1</td>\n      <td>0</td>\n      <td>0</td>\n      <td>0</td>\n    </tr>\n    <tr>\n      <th>4</th>\n      <td>0</td>\n      <td>0</td>\n      <td>1</td>\n      <td>0</td>\n      <td>0</td>\n    </tr>\n    <tr>\n      <th>5</th>\n      <td>0</td>\n      <td>0</td>\n      <td>1</td>\n      <td>0</td>\n      <td>0</td>\n    </tr>\n    <tr>\n      <th>6</th>\n      <td>0</td>\n      <td>0</td>\n      <td>0</td>\n      <td>0</td>\n      <td>1</td>\n    </tr>\n    <tr>\n      <th>7</th>\n      <td>0</td>\n      <td>0</td>\n      <td>0</td>\n      <td>1</td>\n      <td>0</td>\n    </tr>\n    <tr>\n      <th>8</th>\n      <td>0</td>\n      <td>0</td>\n      <td>0</td>\n      <td>1</td>\n      <td>0</td>\n    </tr>\n    <tr>\n      <th>9</th>\n      <td>0</td>\n      <td>0</td>\n      <td>0</td>\n      <td>1</td>\n      <td>0</td>\n    </tr>\n  </tbody>\n</table>\n</div>"
          },
          "metadata": {},
          "execution_count": 23
        }
      ],
      "source": [
        "bins = [0, 0.2, 0.4, 0.6, 0.8, 1]\n",
        "pd.get_dummies(pd.cut(values, bins))"
      ]
    },
    {
      "cell_type": "code",
      "execution_count": 24,
      "metadata": {},
      "outputs": [
        {
          "output_type": "execute_result",
          "data": {
            "text/plain": [
              "Dave     dave@google.com\n",
              "steve    steve@gmail.com\n",
              "Rob        rob@gmail.com\n",
              "Wes                  NaN\n",
              "dtype: object"
            ]
          },
          "metadata": {},
          "execution_count": 24
        }
      ],
      "source": [
        "data = {'Dave':'dave@google.com', 'steve':'steve@gmail.com',\n",
        "        'Rob':'rob@gmail.com', 'Wes':np.nan}\n",
        "data = pd.Series(data)\n",
        "data"
      ]
    },
    {
      "cell_type": "code",
      "execution_count": 25,
      "metadata": {},
      "outputs": [
        {
          "output_type": "execute_result",
          "data": {
            "text/plain": [
              "Dave     False\n",
              "steve    False\n",
              "Rob      False\n",
              "Wes       True\n",
              "dtype: bool"
            ]
          },
          "metadata": {},
          "execution_count": 25
        }
      ],
      "source": [
        "data.isnull()"
      ]
    },
    {
      "cell_type": "code",
      "execution_count": 26,
      "metadata": {},
      "outputs": [
        {
          "output_type": "execute_result",
          "data": {
            "text/plain": [
              "Dave     False\n",
              "steve     True\n",
              "Rob       True\n",
              "Wes        NaN\n",
              "dtype: object"
            ]
          },
          "metadata": {},
          "execution_count": 26
        }
      ],
      "source": [
        "data.str.contains('gmail')"
      ]
    },
    {
      "cell_type": "code",
      "execution_count": 33,
      "metadata": {},
      "outputs": [
        {
          "output_type": "execute_result",
          "data": {
            "text/plain": [
              "Dave     [(dave, google, com)]\n",
              "steve    [(steve, gmail, com)]\n",
              "Rob        [(rob, gmail, com)]\n",
              "Wes                        NaN\n",
              "dtype: object"
            ]
          },
          "metadata": {},
          "execution_count": 33
        }
      ],
      "source": [
        "import re\n",
        "pattern = '([A-Z0-9._%+-]+)@([A-Z0-9.-]+)\\\\.([A-Z]{2,4})'\n",
        "data.str.findall(pattern, flags=re.IGNORECASE)"
      ]
    },
    {
      "cell_type": "code",
      "execution_count": null,
      "metadata": {},
      "outputs": [],
      "source": []
    }
  ]
}