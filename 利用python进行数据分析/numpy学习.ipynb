{
  "nbformat": 4,
  "nbformat_minor": 0,
  "metadata": {
    "colab": {
      "name": "numpy学习.ipynb",
      "provenance": [],
      "collapsed_sections": [
        "S4ZqwC3dZ9BK",
        "yaa5CbgZaitc",
        "TGavsoUUhV6j",
        "tRTkzs6T6raw",
        "1B32CZmVHHcI",
        "7eiCnl16UjL4",
        "MFIwuvAKkcW2",
        "337cMIg2vgHH",
        "omC9VKWe21Mg",
        "qR7cv8P-4rdL",
        "GZWQcCgUBZ31",
        "pxT-qS9OGQE3"
      ]
    },
    "kernelspec": {
      "name": "python3",
      "display_name": "Python 3"
    }
  },
  "cells": [
    {
      "cell_type": "markdown",
      "metadata": {
        "id": "cOt4mlWAX7nj"
      },
      "source": [
        "# Numpy\n",
        "是高性能科学计算和数据分析的基础包。是本书几乎所有高级工具构建的基础。部分功能如下\n",
        "+ ndarray：多维数组\n",
        "+ 用于对整组数据进行快速运算的彼岸准数学函数\n",
        "+ 线性代数，随机数生成以及傅里叶变换功能\n",
        "+ 用于集成由C，C++，Fortran等语言等语言编写的代码的工具。\n",
        "\n",
        "他它提供了一个简单易用的C API，很容易将数据传递给外部库。外部库也能以Numpy数组的形式传递给Python。\n",
        "\n",
        "对于大部分数据分析应用，最关注的功能集中在：\n",
        "+ 用于数据整理和清理、子集构造和过滤、转换等快速的矢量化数组运算\n",
        "+ 常用的数组算法，如排序、唯一化、集合运算\n",
        "+ 高效的描述统计和数据聚合/摘要运算\n",
        "+ 用于异构数据集的合并/连接运算的数据对齐和关系型数据运算\n",
        "+ 将条件逻辑表述为数组表达式（而不是带有if-elif-else分支的循环）\n",
        "+ 数组的分组运算(聚合、转换、函数应用)\n"
      ]
    },
    {
      "cell_type": "code",
      "metadata": {
        "id": "TAl9EX4kZeIg"
      },
      "source": [
        "import numpy as np"
      ],
      "execution_count": 4,
      "outputs": []
    },
    {
      "cell_type": "markdown",
      "metadata": {
        "id": "S4ZqwC3dZ9BK"
      },
      "source": [
        "## Numpy的ndarray：一种多维数组对象"
      ]
    },
    {
      "cell_type": "markdown",
      "metadata": {
        "id": "s42f1C57aYGs"
      },
      "source": [
        "本书中看到”数组“、”Numpy数组“、”ndarray“时，均指ndarray对象"
      ]
    },
    {
      "cell_type": "markdown",
      "metadata": {
        "id": "yaa5CbgZaitc"
      },
      "source": [
        "## 1.创建ndarray"
      ]
    },
    {
      "cell_type": "markdown",
      "metadata": {
        "id": "FG9CRkLsa0pY"
      },
      "source": [
        "最简单的方式，array函数，接受一切序列型对象"
      ]
    },
    {
      "cell_type": "code",
      "metadata": {
        "colab": {
          "base_uri": "https://localhost:8080/"
        },
        "id": "QjpAzAtOXRM-",
        "outputId": "744ea827-b10f-4573-ebb0-7dedef6347af"
      },
      "source": [
        "data1 = [6, 7.5, 8, 0, 1]\n",
        "arr1 = np.array(data1)\n",
        "arr1"
      ],
      "execution_count": 5,
      "outputs": [
        {
          "output_type": "execute_result",
          "data": {
            "text/plain": [
              "array([6. , 7.5, 8. , 0. , 1. ])"
            ]
          },
          "metadata": {
            "tags": []
          },
          "execution_count": 5
        }
      ]
    },
    {
      "cell_type": "markdown",
      "metadata": {
        "id": "R4GvTwELau-Z"
      },
      "source": [
        "嵌套序列转化为多维数组"
      ]
    },
    {
      "cell_type": "code",
      "metadata": {
        "colab": {
          "base_uri": "https://localhost:8080/"
        },
        "id": "v0hjTIPUbl73",
        "outputId": "43cffd74-51a6-48c7-f56c-0a6f8b3afd2c"
      },
      "source": [
        "data2 = [[1,2,3,4,],[5,6,7,8]]\n",
        "arr2 = np.array(data2)\n",
        "arr2"
      ],
      "execution_count": 6,
      "outputs": [
        {
          "output_type": "execute_result",
          "data": {
            "text/plain": [
              "array([[1, 2, 3, 4],\n",
              "       [5, 6, 7, 8]])"
            ]
          },
          "metadata": {
            "tags": []
          },
          "execution_count": 6
        }
      ]
    },
    {
      "cell_type": "code",
      "metadata": {
        "id": "eFAs79bDbrN9",
        "colab": {
          "base_uri": "https://localhost:8080/"
        },
        "outputId": "08f91ace-c97b-417a-b525-4558eb4aaa56"
      },
      "source": [
        "arr2.ndim"
      ],
      "execution_count": 7,
      "outputs": [
        {
          "output_type": "execute_result",
          "data": {
            "text/plain": [
              "2"
            ]
          },
          "metadata": {
            "tags": []
          },
          "execution_count": 7
        }
      ]
    },
    {
      "cell_type": "code",
      "metadata": {
        "colab": {
          "base_uri": "https://localhost:8080/"
        },
        "id": "zbR1nPxDfaJ5",
        "outputId": "df78c56a-97e3-4b54-c94f-abf8c646ce71"
      },
      "source": [
        "arr2.shape"
      ],
      "execution_count": 8,
      "outputs": [
        {
          "output_type": "execute_result",
          "data": {
            "text/plain": [
              "(2, 4)"
            ]
          },
          "metadata": {
            "tags": []
          },
          "execution_count": 8
        }
      ]
    },
    {
      "cell_type": "code",
      "metadata": {
        "colab": {
          "base_uri": "https://localhost:8080/"
        },
        "id": "9mF0BrvNfbbO",
        "outputId": "442d558a-ffdf-46d6-dfd6-435eb83a3082"
      },
      "source": [
        "print(arr1.dtype)\n",
        "print(arr2.dtype)"
      ],
      "execution_count": 9,
      "outputs": [
        {
          "output_type": "stream",
          "text": [
            "float64\n",
            "int64\n"
          ],
          "name": "stdout"
        }
      ]
    },
    {
      "cell_type": "code",
      "metadata": {
        "colab": {
          "base_uri": "https://localhost:8080/"
        },
        "id": "4oAn6fSUf02v",
        "outputId": "b6c21c37-6393-4649-f9d2-26f158678462"
      },
      "source": [
        "np.zeros(10)"
      ],
      "execution_count": 10,
      "outputs": [
        {
          "output_type": "execute_result",
          "data": {
            "text/plain": [
              "array([0., 0., 0., 0., 0., 0., 0., 0., 0., 0.])"
            ]
          },
          "metadata": {
            "tags": []
          },
          "execution_count": 10
        }
      ]
    },
    {
      "cell_type": "code",
      "metadata": {
        "colab": {
          "base_uri": "https://localhost:8080/"
        },
        "id": "HLfKiRe4gAAF",
        "outputId": "ad503948-8105-47f9-a21b-da1336a51990"
      },
      "source": [
        "np.zeros((3, 6))"
      ],
      "execution_count": 11,
      "outputs": [
        {
          "output_type": "execute_result",
          "data": {
            "text/plain": [
              "array([[0., 0., 0., 0., 0., 0.],\n",
              "       [0., 0., 0., 0., 0., 0.],\n",
              "       [0., 0., 0., 0., 0., 0.]])"
            ]
          },
          "metadata": {
            "tags": []
          },
          "execution_count": 11
        }
      ]
    },
    {
      "cell_type": "code",
      "metadata": {
        "colab": {
          "base_uri": "https://localhost:8080/"
        },
        "id": "bD9877spgTD7",
        "outputId": "f31829c8-31ac-4563-ac7c-c27c4e231700"
      },
      "source": [
        "np.empty((2, 3, 2))"
      ],
      "execution_count": 12,
      "outputs": [
        {
          "output_type": "execute_result",
          "data": {
            "text/plain": [
              "array([[[1.5816251e-316, 0.0000000e+000],\n",
              "        [0.0000000e+000, 0.0000000e+000],\n",
              "        [0.0000000e+000, 0.0000000e+000]],\n",
              "\n",
              "       [[0.0000000e+000, 0.0000000e+000],\n",
              "        [0.0000000e+000, 0.0000000e+000],\n",
              "        [0.0000000e+000, 0.0000000e+000]]])"
            ]
          },
          "metadata": {
            "tags": []
          },
          "execution_count": 12
        }
      ]
    },
    {
      "cell_type": "code",
      "metadata": {
        "colab": {
          "base_uri": "https://localhost:8080/"
        },
        "id": "te0Y3s-TgbE6",
        "outputId": "98bc9c6c-32d1-4a41-ed1a-01d72986ca45"
      },
      "source": [
        "np.arange(15)"
      ],
      "execution_count": 13,
      "outputs": [
        {
          "output_type": "execute_result",
          "data": {
            "text/plain": [
              "array([ 0,  1,  2,  3,  4,  5,  6,  7,  8,  9, 10, 11, 12, 13, 14])"
            ]
          },
          "metadata": {
            "tags": []
          },
          "execution_count": 13
        }
      ]
    },
    {
      "cell_type": "markdown",
      "metadata": {
        "id": "TGavsoUUhV6j"
      },
      "source": [
        " ## 数组转置和轴对换"
      ]
    },
    {
      "cell_type": "code",
      "metadata": {
        "id": "LvJtDLgU48pG"
      },
      "source": [
        "arr = np.arange(15).reshape((3,5))"
      ],
      "execution_count": 14,
      "outputs": []
    },
    {
      "cell_type": "code",
      "metadata": {
        "colab": {
          "base_uri": "https://localhost:8080/"
        },
        "id": "DMYFEwwl4_lk",
        "outputId": "7b0fbaad-6f52-421e-e72e-7801449c03bc"
      },
      "source": [
        "arr"
      ],
      "execution_count": 15,
      "outputs": [
        {
          "output_type": "execute_result",
          "data": {
            "text/plain": [
              "array([[ 0,  1,  2,  3,  4],\n",
              "       [ 5,  6,  7,  8,  9],\n",
              "       [10, 11, 12, 13, 14]])"
            ]
          },
          "metadata": {
            "tags": []
          },
          "execution_count": 15
        }
      ]
    },
    {
      "cell_type": "code",
      "metadata": {
        "colab": {
          "base_uri": "https://localhost:8080/"
        },
        "id": "gxJnOBM_4_0w",
        "outputId": "6dc1970a-7ef4-4269-f054-906450dd9174"
      },
      "source": [
        "arr.T"
      ],
      "execution_count": 16,
      "outputs": [
        {
          "output_type": "execute_result",
          "data": {
            "text/plain": [
              "array([[ 0,  5, 10],\n",
              "       [ 1,  6, 11],\n",
              "       [ 2,  7, 12],\n",
              "       [ 3,  8, 13],\n",
              "       [ 4,  9, 14]])"
            ]
          },
          "metadata": {
            "tags": []
          },
          "execution_count": 16
        }
      ]
    },
    {
      "cell_type": "code",
      "metadata": {
        "id": "1MHTHyGh5CWd"
      },
      "source": [
        "arr = np.random.randn(6,3)"
      ],
      "execution_count": 17,
      "outputs": []
    },
    {
      "cell_type": "markdown",
      "metadata": {
        "id": "xQBInS9w5O7x"
      },
      "source": [
        "进行矩阵运算常常需要该操作，比如用np.dot计算矩阵内积$X^TX$"
      ]
    },
    {
      "cell_type": "code",
      "metadata": {
        "colab": {
          "base_uri": "https://localhost:8080/"
        },
        "id": "gDnZMldk5J26",
        "outputId": "e7113644-27c3-40bd-8319-084744db667e"
      },
      "source": [
        "np.dot(arr.T,arr)"
      ],
      "execution_count": 18,
      "outputs": [
        {
          "output_type": "execute_result",
          "data": {
            "text/plain": [
              "array([[ 7.67771999, -3.20871593, -1.26359708],\n",
              "       [-3.20871593,  4.91057335, -0.32969323],\n",
              "       [-1.26359708, -0.32969323,  2.34343542]])"
            ]
          },
          "metadata": {
            "tags": []
          },
          "execution_count": 18
        }
      ]
    },
    {
      "cell_type": "markdown",
      "metadata": {
        "id": "SEn4U71J5NxV"
      },
      "source": [
        "对于高位数组，tranpose需要得到一个由轴编号组成的元组才能对这些轴进行转置（比较费脑子）"
      ]
    },
    {
      "cell_type": "code",
      "metadata": {
        "colab": {
          "base_uri": "https://localhost:8080/"
        },
        "id": "Buop9k1T5m5V",
        "outputId": "9fb4098c-ee1f-4c3a-888a-8163c4f3938e"
      },
      "source": [
        "arr = np.arange(16).reshape(2,2,4)\n",
        "arr"
      ],
      "execution_count": 19,
      "outputs": [
        {
          "output_type": "execute_result",
          "data": {
            "text/plain": [
              "array([[[ 0,  1,  2,  3],\n",
              "        [ 4,  5,  6,  7]],\n",
              "\n",
              "       [[ 8,  9, 10, 11],\n",
              "        [12, 13, 14, 15]]])"
            ]
          },
          "metadata": {
            "tags": []
          },
          "execution_count": 19
        }
      ]
    },
    {
      "cell_type": "code",
      "metadata": {
        "colab": {
          "base_uri": "https://localhost:8080/"
        },
        "id": "67GkSc3V51Nn",
        "outputId": "cd0c1a6a-5683-4cdc-e9eb-47b23decaaab"
      },
      "source": [
        "arr.transpose((1,0,2))"
      ],
      "execution_count": 20,
      "outputs": [
        {
          "output_type": "execute_result",
          "data": {
            "text/plain": [
              "array([[[ 0,  1,  2,  3],\n",
              "        [ 8,  9, 10, 11]],\n",
              "\n",
              "       [[ 4,  5,  6,  7],\n",
              "        [12, 13, 14, 15]]])"
            ]
          },
          "metadata": {
            "tags": []
          },
          "execution_count": 20
        }
      ]
    },
    {
      "cell_type": "markdown",
      "metadata": {
        "id": "tRTkzs6T6raw"
      },
      "source": [
        "## 通用函数：快速的元素级数组函数"
      ]
    },
    {
      "cell_type": "markdown",
      "metadata": {
        "id": "gz7nYKVG66M5"
      },
      "source": [
        "通用函数（ufunc）是一种对ndarray中的数据执行元素级运算的函数。你可以将其看做简单的函数（接受一个或多个标量值，并产生一个或者多个标量值）的矢量化包装器"
      ]
    },
    {
      "cell_type": "code",
      "metadata": {
        "colab": {
          "base_uri": "https://localhost:8080/"
        },
        "id": "mesgxSZ856PC",
        "outputId": "ee2020d6-431b-412e-928c-7a0fdf2e4853"
      },
      "source": [
        "arr = np.arange(10)\n",
        "np.sqrt(arr)"
      ],
      "execution_count": 21,
      "outputs": [
        {
          "output_type": "execute_result",
          "data": {
            "text/plain": [
              "array([0.        , 1.        , 1.41421356, 1.73205081, 2.        ,\n",
              "       2.23606798, 2.44948974, 2.64575131, 2.82842712, 3.        ])"
            ]
          },
          "metadata": {
            "tags": []
          },
          "execution_count": 21
        }
      ]
    },
    {
      "cell_type": "code",
      "metadata": {
        "colab": {
          "base_uri": "https://localhost:8080/"
        },
        "id": "uvK-FcLD61pm",
        "outputId": "12340db7-0dcc-4484-e008-f1364e4b652d"
      },
      "source": [
        "np.exp(arr)"
      ],
      "execution_count": 22,
      "outputs": [
        {
          "output_type": "execute_result",
          "data": {
            "text/plain": [
              "array([1.00000000e+00, 2.71828183e+00, 7.38905610e+00, 2.00855369e+01,\n",
              "       5.45981500e+01, 1.48413159e+02, 4.03428793e+02, 1.09663316e+03,\n",
              "       2.98095799e+03, 8.10308393e+03])"
            ]
          },
          "metadata": {
            "tags": []
          },
          "execution_count": 22
        }
      ]
    },
    {
      "cell_type": "markdown",
      "metadata": {
        "id": "j2gzsNam7SjY"
      },
      "source": [
        "这些都是 一元ufunc。另外一些（如add或maximum）接受2个数组，并返回一个结果数组"
      ]
    },
    {
      "cell_type": "code",
      "metadata": {
        "colab": {
          "base_uri": "https://localhost:8080/"
        },
        "id": "TJBcNm7S64OT",
        "outputId": "9a5ede1c-faae-4bdc-8c73-937c1828bdf1"
      },
      "source": [
        "from numpy.random import randn\n",
        "x = randn(8)\n",
        "y = randn(8)\n",
        "x"
      ],
      "execution_count": 23,
      "outputs": [
        {
          "output_type": "execute_result",
          "data": {
            "text/plain": [
              "array([-0.57374136, -1.40756123, -0.12354018,  1.45840628, -0.43309531,\n",
              "        1.08387071, -0.76496374,  1.39144428])"
            ]
          },
          "metadata": {
            "tags": []
          },
          "execution_count": 23
        }
      ]
    },
    {
      "cell_type": "code",
      "metadata": {
        "colab": {
          "base_uri": "https://localhost:8080/"
        },
        "id": "mZfW9ft47h0P",
        "outputId": "0d22d39e-1d9e-4af3-8c10-665f2c0f2e90"
      },
      "source": [
        "np.maximum(x,y)"
      ],
      "execution_count": 25,
      "outputs": [
        {
          "output_type": "execute_result",
          "data": {
            "text/plain": [
              "array([-0.57374136, -0.85198106, -0.12354018,  1.45840628,  1.53910504,\n",
              "        1.08387071,  0.39896076,  1.39144428])"
            ]
          },
          "metadata": {
            "tags": []
          },
          "execution_count": 25
        }
      ]
    },
    {
      "cell_type": "markdown",
      "metadata": {
        "id": "jzwFkC_x71xC"
      },
      "source": [
        "有的ufunc可以返回多个数组。modf就是一个例子，"
      ]
    },
    {
      "cell_type": "code",
      "metadata": {
        "colab": {
          "base_uri": "https://localhost:8080/"
        },
        "id": "AK_FEKV27rnz",
        "outputId": "a43441fc-7668-4a25-bb5a-835cc647ee96"
      },
      "source": [
        "arr = randn(7)*5 # rand normal从正态分布中选取\n",
        "np.modf(arr)"
      ],
      "execution_count": 28,
      "outputs": [
        {
          "output_type": "execute_result",
          "data": {
            "text/plain": [
              "(array([-6.87959847e-01, -9.84484289e-01, -9.56766920e-01, -9.58819609e-01,\n",
              "         3.06650329e-01,  7.75636450e-01, -1.76992049e-04]),\n",
              " array([ -7.,  -5., -10.,  -3.,  11.,   2.,  -0.]))"
            ]
          },
          "metadata": {
            "tags": []
          },
          "execution_count": 28
        }
      ]
    },
    {
      "cell_type": "code",
      "metadata": {
        "colab": {
          "base_uri": "https://localhost:8080/"
        },
        "id": "cCFr9QHG8Bcf",
        "outputId": "9e817420-2355-40cd-a3c3-ec3231fab891"
      },
      "source": [
        "arr"
      ],
      "execution_count": 27,
      "outputs": [
        {
          "output_type": "execute_result",
          "data": {
            "text/plain": [
              "array([ 0.48470247, -1.55146684,  1.01654267,  2.17376898, -6.58722411,\n",
              "       -1.41005167, -3.74904597])"
            ]
          },
          "metadata": {
            "tags": []
          },
          "execution_count": 27
        }
      ]
    },
    {
      "cell_type": "markdown",
      "metadata": {
        "id": "6dSVlOQf8Nb4"
      },
      "source": [
        "### 一元ufunc\n",
        "+ abs：计算绝对值\n",
        "+ sqrt：计算各元素的平方根。相当于arr**5\n",
        "+ square：计算各元素的平方。\n",
        "+ exp：计算各元素的指数$e^x$\n",
        "+ log,log10,log2,log1p：分别为$\\ln,\\lg,\\log_2,\\log{(1+x)}$\n",
        "+ sign：计算各元素的正负号，1为正数，0为0，-1为负数\n",
        "+ ceil：计算各元素的ceiling值，向上取整\n",
        "+ floor：计算各元素的floor值，向下取整\n",
        "+ rint：将个元素四舍五入，保留dtype\n",
        "+ modf：返回将小数部分和整数部分以两个数组的形式返回\n",
        "+ isnan：返回一个bool型数组，NaN的为1，不是的为0\n",
        "+ isfinite，isinf：返回一个bool型数组，”哪些值是NaN“\n",
        "+ cos,cosh,sin,cinh,tan,tanh：普通型和双曲型三角函数\n",
        "+ arccos,arccosh,arcsin,arcsinh,arctan,arctanh：反三角函数\n",
        "+ logical_not：计算各元素not x的真值。相当于-arr\n"
      ]
    },
    {
      "cell_type": "markdown",
      "metadata": {
        "id": "UQXz-EAWEJZb"
      },
      "source": [
        "### 二元ufunc\n",
        "+ add：数组中对应元素相加\n",
        "+ substract：A-B\n",
        "+ multiply：数组元素相乘\n",
        "+ divide,floor_divide：除法向下圆整除法（丢弃余数）\n",
        "+ power：对第一个数组中的元素A，根据第二个数组中相应的B，计算$A^B$\n",
        "+ maximun,fmax：元素级的最大值计算。fmax将忽略NaN\n",
        "+ minimun,fmin：最小值\n",
        "+ mod：元素级求模运算\n",
        "+ copysign：将第二个数组中的值得符号赋值给第一个数组中的值\n",
        "+ greater、grater_equal、less、less_equal：元素级别的比较运算\n",
        "+ logical_and,logical_or,logical_xor：执行元素级别的真值逻辑运算。相当于$&,|,^$"
      ]
    },
    {
      "cell_type": "code",
      "metadata": {
        "id": "ZZu1miFyBAqc"
      },
      "source": [
        ""
      ],
      "execution_count": null,
      "outputs": []
    },
    {
      "cell_type": "markdown",
      "metadata": {
        "id": "1B32CZmVHHcI"
      },
      "source": [
        "## 利用数组进行数据处理\n",
        "Numpy数组的很多操作可以将复杂的任务表述为简洁的数组表达式（否则需要编写循环）。\n",
        "\n",
        "用数组表达式代替循环的做法，通常称为矢量化。一般来说，矢量化数组运算要比纯python方法快一到两个数量级，尤其是数值运算。"
      ]
    },
    {
      "cell_type": "markdown",
      "metadata": {
        "id": "3ccuTsv2RHVr"
      },
      "source": [
        "我们要计算函数`sqrt(x^2 + y^2)`。`np.meshgrid`函数接受两个一维数组，并产生两个二维矩阵（对应于两个数组中所有的（x,y）对）："
      ]
    },
    {
      "cell_type": "code",
      "metadata": {
        "id": "GUyqkZzlSvC_"
      },
      "source": [
        "arr = np.arange(5)\n",
        "xs, ys = np.meshgrid(arr, arr)"
      ],
      "execution_count": 35,
      "outputs": []
    },
    {
      "cell_type": "code",
      "metadata": {
        "colab": {
          "base_uri": "https://localhost:8080/"
        },
        "id": "j4cHeRI-T22e",
        "outputId": "ac72a780-6c83-4ee0-f624-196c7e929c18"
      },
      "source": [
        "arr"
      ],
      "execution_count": 38,
      "outputs": [
        {
          "output_type": "execute_result",
          "data": {
            "text/plain": [
              "array([0, 1, 2, 3, 4])"
            ]
          },
          "metadata": {
            "tags": []
          },
          "execution_count": 38
        }
      ]
    },
    {
      "cell_type": "code",
      "metadata": {
        "colab": {
          "base_uri": "https://localhost:8080/"
        },
        "id": "PXXXmjnSTIUZ",
        "outputId": "a04645ae-31c4-4aad-e32d-e1203f8ddcc0"
      },
      "source": [
        "xs"
      ],
      "execution_count": 36,
      "outputs": [
        {
          "output_type": "execute_result",
          "data": {
            "text/plain": [
              "array([[0, 1, 2, 3, 4],\n",
              "       [0, 1, 2, 3, 4],\n",
              "       [0, 1, 2, 3, 4],\n",
              "       [0, 1, 2, 3, 4],\n",
              "       [0, 1, 2, 3, 4]])"
            ]
          },
          "metadata": {
            "tags": []
          },
          "execution_count": 36
        }
      ]
    },
    {
      "cell_type": "code",
      "metadata": {
        "colab": {
          "base_uri": "https://localhost:8080/"
        },
        "id": "geEt-olVTp4E",
        "outputId": "01884e31-d8ef-4598-d9a4-f9327e7254d8"
      },
      "source": [
        "ys"
      ],
      "execution_count": 37,
      "outputs": [
        {
          "output_type": "execute_result",
          "data": {
            "text/plain": [
              "array([[0, 0, 0, 0, 0],\n",
              "       [1, 1, 1, 1, 1],\n",
              "       [2, 2, 2, 2, 2],\n",
              "       [3, 3, 3, 3, 3],\n",
              "       [4, 4, 4, 4, 4]])"
            ]
          },
          "metadata": {
            "tags": []
          },
          "execution_count": 37
        }
      ]
    },
    {
      "cell_type": "code",
      "metadata": {
        "colab": {
          "base_uri": "https://localhost:8080/"
        },
        "id": "bJ1REVPyTraw",
        "outputId": "588e0cb6-5067-4b9b-9c78-bb6020c774c7"
      },
      "source": [
        "import matplotlib.pyplot as plt\n",
        "%matplotlib inline\n",
        "z = np.sqrt(xs**2+ys**2)\n",
        "z"
      ],
      "execution_count": 40,
      "outputs": [
        {
          "output_type": "execute_result",
          "data": {
            "text/plain": [
              "array([[0.        , 1.        , 2.        , 3.        , 4.        ],\n",
              "       [1.        , 1.41421356, 2.23606798, 3.16227766, 4.12310563],\n",
              "       [2.        , 2.23606798, 2.82842712, 3.60555128, 4.47213595],\n",
              "       [3.        , 3.16227766, 3.60555128, 4.24264069, 5.        ],\n",
              "       [4.        , 4.12310563, 4.47213595, 5.        , 5.65685425]])"
            ]
          },
          "metadata": {
            "tags": []
          },
          "execution_count": 40
        }
      ]
    },
    {
      "cell_type": "markdown",
      "metadata": {
        "id": "XATC3Ur6asFB"
      },
      "source": [
        "> plt热图画法，`imshow(data, cmap=None)`，cmap用于设置热图的颜色map\n",
        "> + hot：从黑平滑过渡到红橙黄白\n",
        "> + cool：青绿到品红\n",
        "> + gray：线性灰度图\n",
        "> + bone：较高蓝色成分的灰度图\n",
        "> + white：全白\n",
        "> + sprint:\n",
        "> + summer:\n",
        "> + autumn:\n",
        "> + winter:\n",
        "\n"
      ]
    },
    {
      "cell_type": "code",
      "metadata": {
        "colab": {
          "base_uri": "https://localhost:8080/",
          "height": 288
        },
        "id": "A7omUwPaUE-f",
        "outputId": "b402c5be-9f24-4818-cf78-5afb40750994"
      },
      "source": [
        "plt.imshow(z, cmap=plt.cm.cool)\n",
        "plt.colorbar()\n",
        "plt.title(\"Image plot of $\\sqrt{x^2+y^2}$ for a grid of values\")\n",
        "plt.show()"
      ],
      "execution_count": 48,
      "outputs": [
        {
          "output_type": "display_data",
          "data": {
            "image/png": "[encoded data removed]",
            "text/plain": [
              "<Figure size 432x288 with 2 Axes>"
            ]
          },
          "metadata": {
            "tags": [],
            "needs_background": "light"
          }
        }
      ]
    },
    {
      "cell_type": "markdown",
      "metadata": {
        "id": "7eiCnl16UjL4"
      },
      "source": [
        "## 将条件逻辑表述为数组运算\n",
        "`numpy.where`函数式三元表达式`x if condition else y`的矢量化版本。假设我们有一个布尔数组和两个值数组"
      ]
    },
    {
      "cell_type": "code",
      "metadata": {
        "id": "iw2KxFA2an2B"
      },
      "source": [
        "xarr = np.array([1.1, 1.2, 1.3, 1.4, 1.5])\n",
        "yarr = np.array([2.1, 2.2, 2.3, 2.4, 2.5])\n",
        "cond = np.array([True, False, True, True, False])"
      ],
      "execution_count": 51,
      "outputs": []
    },
    {
      "cell_type": "markdown",
      "metadata": {
        "id": "t-gv36dac9Vp"
      },
      "source": [
        " 要根据cond中的值选取xarr和yarr的值，当cond中的值为True时，选取xarr的值，否则从yarr中选取。列表推导式写法如下"
      ]
    },
    {
      "cell_type": "code",
      "metadata": {
        "colab": {
          "base_uri": "https://localhost:8080/"
        },
        "id": "t06SGo13ck8K",
        "outputId": "bc4b4a65-306e-4a8f-fdb8-04cbc757ab09"
      },
      "source": [
        "result = [(x if c else y) for x, y, c in zip(xarr, yarr, cond)]\n",
        "result"
      ],
      "execution_count": 52,
      "outputs": [
        {
          "output_type": "execute_result",
          "data": {
            "text/plain": [
              "[1.1, 2.2, 1.3, 1.4, 2.5]"
            ]
          },
          "metadata": {
            "tags": []
          },
          "execution_count": 52
        }
      ]
    },
    {
      "cell_type": "markdown",
      "metadata": {
        "id": "p-Bmftq7c9SY"
      },
      "source": [
        "存在问题：\n",
        "+ 对大数组的处理速度慢，\n",
        "+ 无法用于多维数组，若使用np.where则可以将该功能写得简洁："
      ]
    },
    {
      "cell_type": "code",
      "metadata": {
        "colab": {
          "base_uri": "https://localhost:8080/"
        },
        "id": "8RM3TA7gdWIM",
        "outputId": "33bfd81f-56e4-4e07-ef98-d7c716b3773b"
      },
      "source": [
        "result = np.where(cond, xarr, yarr)\n",
        "result"
      ],
      "execution_count": 53,
      "outputs": [
        {
          "output_type": "execute_result",
          "data": {
            "text/plain": [
              "array([1.1, 2.2, 1.3, 1.4, 2.5])"
            ]
          },
          "metadata": {
            "tags": []
          },
          "execution_count": 53
        }
      ]
    },
    {
      "cell_type": "markdown",
      "metadata": {
        "id": "M8A3K2ImfUAK"
      },
      "source": [
        "np.where的第二个和第三个参数不必是数组，可以是标量值，where常用于根据另一个数组生成新的数组。假设从一个随机数数组中将正值替换为2，负值替换为-2"
      ]
    },
    {
      "cell_type": "code",
      "metadata": {
        "colab": {
          "base_uri": "https://localhost:8080/"
        },
        "id": "dpapgBcUeQkn",
        "outputId": "8bc05707-3214-46e5-f90b-4ac1ee2c53ea"
      },
      "source": [
        "arr = randn(4, 4)\n",
        "np.where(arr > 0, 2, -2)"
      ],
      "execution_count": 54,
      "outputs": [
        {
          "output_type": "execute_result",
          "data": {
            "text/plain": [
              "array([[ 2, -2, -2, -2],\n",
              "       [ 2, -2, -2,  2],\n",
              "       [-2,  2,  2,  2],\n",
              "       [-2,  2,  2, -2]])"
            ]
          },
          "metadata": {
            "tags": []
          },
          "execution_count": 54
        }
      ]
    },
    {
      "cell_type": "code",
      "metadata": {
        "colab": {
          "base_uri": "https://localhost:8080/"
        },
        "id": "dzD0qwfrgmfH",
        "outputId": "3ee4fb51-1576-4fca-a014-2088b989822f"
      },
      "source": [
        "np.where(arr>0,2,arr) #只将正值设置为2"
      ],
      "execution_count": 55,
      "outputs": [
        {
          "output_type": "execute_result",
          "data": {
            "text/plain": [
              "array([[ 2.        , -1.70544389, -0.09238753, -0.78596189],\n",
              "       [ 2.        , -0.70875219, -0.80573741,  2.        ],\n",
              "       [-0.83281092,  2.        ,  2.        ,  2.        ],\n",
              "       [-1.60790653,  2.        ,  2.        , -1.99901752]])"
            ]
          },
          "metadata": {
            "tags": []
          },
          "execution_count": 55
        }
      ]
    },
    {
      "cell_type": "markdown",
      "metadata": {
        "id": "N_FjR-gvgsjh"
      },
      "source": [
        "传给where的数组大小可以不相等，甚至可以是标量值\n",
        "\n",
        "更复杂的逻辑，有两个布尔型数组cond1和cond2，希望根据四种不同的布尔值组合实现不同的赋值操作"
      ]
    },
    {
      "cell_type": "code",
      "metadata": {
        "id": "z0pp61KqiDSe"
      },
      "source": [
        "cond1 = np.array([1, 0, 1, 0])\n",
        "cond2 = np.array([0, 0, 1, 1])"
      ],
      "execution_count": 62,
      "outputs": []
    },
    {
      "cell_type": "code",
      "metadata": {
        "id": "Ue6fV35_hijv"
      },
      "source": [
        "result = []\n",
        "for i in range(4):\n",
        "    if cond1[i] and cond2[i]:\n",
        "        result.append(0)\n",
        "    elif cond1[i]:\n",
        "        result.append(1)\n",
        "    elif cond2[i]:\n",
        "        result.append(2)\n",
        "    else:\n",
        "        result.append(3)"
      ],
      "execution_count": 60,
      "outputs": []
    },
    {
      "cell_type": "markdown",
      "metadata": {
        "id": "sXiR4ohqh1ue"
      },
      "source": [
        " 虽然不是太明显，这个循环可以写成np.where的嵌套形式"
      ]
    },
    {
      "cell_type": "code",
      "metadata": {
        "colab": {
          "base_uri": "https://localhost:8080/"
        },
        "id": "DzKkV-3Uh7Jh",
        "outputId": "d8773a0a-13bf-494f-f772-bd669803865f"
      },
      "source": [
        "np.where(cond1 & cond2,0,\n",
        "         np.where(cond1, 1,\n",
        "                  np.where(cond2,2,3)))"
      ],
      "execution_count": 63,
      "outputs": [
        {
          "output_type": "execute_result",
          "data": {
            "text/plain": [
              "array([1, 3, 0, 2])"
            ]
          },
          "metadata": {
            "tags": []
          },
          "execution_count": 63
        }
      ]
    },
    {
      "cell_type": "code",
      "metadata": {
        "colab": {
          "base_uri": "https://localhost:8080/"
        },
        "id": "g9Rz7CfiiCMs",
        "outputId": "403f1152-e028-4608-f3bb-2c7b9c994383"
      },
      "source": [
        "3 - 2 * cond1 - cond2"
      ],
      "execution_count": 66,
      "outputs": [
        {
          "output_type": "execute_result",
          "data": {
            "text/plain": [
              "array([1, 3, 0, 2])"
            ]
          },
          "metadata": {
            "tags": []
          },
          "execution_count": 66
        }
      ]
    },
    {
      "cell_type": "markdown",
      "metadata": {
        "id": "MFIwuvAKkcW2"
      },
      "source": [
        "## 数字和统计方法\n",
        "可以通过数组上的一组数字函数对整个数组或某个轴向的数组进行统计计算。sum、mean以及标准差std等聚合计算（aggregation，常叫做reudction）\n"
      ]
    },
    {
      "cell_type": "code",
      "metadata": {
        "colab": {
          "base_uri": "https://localhost:8080/"
        },
        "id": "YUFWnut_jtdz",
        "outputId": "977d0df0-dc9c-4e5f-cf1f-1d2bd9bfe3f3"
      },
      "source": [
        "arr = np.random.randn(5, 4)\n",
        "arr.mean()"
      ],
      "execution_count": 67,
      "outputs": [
        {
          "output_type": "execute_result",
          "data": {
            "text/plain": [
              "0.1809094705210683"
            ]
          },
          "metadata": {
            "tags": []
          },
          "execution_count": 67
        }
      ]
    },
    {
      "cell_type": "code",
      "metadata": {
        "colab": {
          "base_uri": "https://localhost:8080/"
        },
        "id": "9S5LBpv6k-Sg",
        "outputId": "8b565db0-31f4-478c-8ef8-79bd899e9630"
      },
      "source": [
        "print(np.mean(arr))\n",
        "print(arr.mean())"
      ],
      "execution_count": 69,
      "outputs": [
        {
          "output_type": "stream",
          "text": [
            "0.1809094705210683\n",
            "0.1809094705210683\n"
          ],
          "name": "stdout"
        }
      ]
    },
    {
      "cell_type": "markdown",
      "metadata": {
        "id": "M8_saVgylx__"
      },
      "source": [
        "mean和sum这类的函数可以接受一个axis参数（用于计算该轴向的统计值），最终结果是一个少一维的数组："
      ]
    },
    {
      "cell_type": "code",
      "metadata": {
        "colab": {
          "base_uri": "https://localhost:8080/"
        },
        "id": "NAEZP1AppM4Z",
        "outputId": "38b4dff6-8e1e-47b0-bfc1-834f4a5c3dce"
      },
      "source": [
        "arr.mean(axis=1)"
      ],
      "execution_count": 70,
      "outputs": [
        {
          "output_type": "execute_result",
          "data": {
            "text/plain": [
              "array([-3.89348592e-01,  1.93064469e-02,  7.00827603e-04,  5.25152978e-01,\n",
              "        7.48735692e-01])"
            ]
          },
          "metadata": {
            "tags": []
          },
          "execution_count": 70
        }
      ]
    },
    {
      "cell_type": "code",
      "metadata": {
        "colab": {
          "base_uri": "https://localhost:8080/"
        },
        "id": "lNwX0Nb3pPCs",
        "outputId": "3cf88614-36a4-4f34-9186-123da2128c5d"
      },
      "source": [
        "arr.sum(0)"
      ],
      "execution_count": 71,
      "outputs": [
        {
          "output_type": "execute_result",
          "data": {
            "text/plain": [
              "array([-1.17704173,  1.41596737, -0.91767502,  4.2969388 ])"
            ]
          },
          "metadata": {
            "tags": []
          },
          "execution_count": 71
        }
      ]
    },
    {
      "cell_type": "code",
      "metadata": {
        "colab": {
          "base_uri": "https://localhost:8080/"
        },
        "id": "brE9jjhHpSSi",
        "outputId": "a50a0ec9-4c8c-48ff-9cc7-04ae7d23ecb4"
      },
      "source": [
        "arr = np.array([[0,1,2],[3,4,5],[6,7,8]])\n",
        "print(arr)\n",
        "arr.cumsum(0)"
      ],
      "execution_count": 75,
      "outputs": [
        {
          "output_type": "stream",
          "text": [
            "[[0 1 2]\n",
            " [3 4 5]\n",
            " [6 7 8]]\n"
          ],
          "name": "stdout"
        },
        {
          "output_type": "execute_result",
          "data": {
            "text/plain": [
              "array([[ 0,  1,  2],\n",
              "       [ 3,  5,  7],\n",
              "       [ 9, 12, 15]])"
            ]
          },
          "metadata": {
            "tags": []
          },
          "execution_count": 75
        }
      ]
    },
    {
      "cell_type": "markdown",
      "metadata": {
        "id": "7uL3mSpSq06C"
      },
      "source": [
        "arr.cumsum()，按行或者按列累加\n",
        "\n",
        "arr.cumprod()，按行或者按列累加"
      ]
    },
    {
      "cell_type": "code",
      "metadata": {
        "colab": {
          "base_uri": "https://localhost:8080/"
        },
        "id": "EIbNw4kipfKI",
        "outputId": "b52326c3-34a8-4b49-e14a-c51d92c502e8"
      },
      "source": [
        "arr.sum(0)"
      ],
      "execution_count": 74,
      "outputs": [
        {
          "output_type": "execute_result",
          "data": {
            "text/plain": [
              "array([ 9, 12, 15])"
            ]
          },
          "metadata": {
            "tags": []
          },
          "execution_count": 74
        }
      ]
    },
    {
      "cell_type": "code",
      "metadata": {
        "colab": {
          "base_uri": "https://localhost:8080/"
        },
        "id": "xH1l1R5ipr9Y",
        "outputId": "4a420ebc-e752-49c9-d58b-68bc4e354ac1"
      },
      "source": [
        "arr.cumprod(1)"
      ],
      "execution_count": 76,
      "outputs": [
        {
          "output_type": "execute_result",
          "data": {
            "text/plain": [
              "array([[  0,   0,   0],\n",
              "       [  3,  12,  60],\n",
              "       [  6,  42, 336]])"
            ]
          },
          "metadata": {
            "tags": []
          },
          "execution_count": 76
        }
      ]
    },
    {
      "cell_type": "markdown",
      "metadata": {
        "id": "d6qhEhKjutSs"
      },
      "source": [
        "基本数组统计方法\n",
        "+ sum：对数组中全部或某轴向的元素求和。零长度的数组的sum为0\n",
        "+ mean：算术平均数\n",
        "+ std、var：分别为标准差和方差，自由度可调\n",
        "+ min、max：最大值和最小值\n",
        "+ argmin、argmax：分别为最大和最小元素的索引\n",
        "+ cumsum：所有元素的累积和\n",
        "+ cumprod：所有元素的累积和"
      ]
    },
    {
      "cell_type": "markdown",
      "metadata": {
        "id": "337cMIg2vgHH"
      },
      "source": [
        "## 用于布尔型数组的方法\n",
        "在上面方法中，布尔值会被强制转换为1（True）和0（False)\n",
        "\n",
        "因此，sum常用于计算True计数"
      ]
    },
    {
      "cell_type": "markdown",
      "metadata": {
        "id": "HSW2iWcqvgDe"
      },
      "source": [
        ""
      ]
    },
    {
      "cell_type": "code",
      "metadata": {
        "colab": {
          "base_uri": "https://localhost:8080/"
        },
        "id": "RQUIfDd6r00J",
        "outputId": "ebd6f3f3-4ec3-4a9e-8660-8c0533cb29fe"
      },
      "source": [
        "arr = randn(100)\n",
        "(arr > 0).sum()# 正值的数量"
      ],
      "execution_count": 78,
      "outputs": [
        {
          "output_type": "execute_result",
          "data": {
            "text/plain": [
              "56"
            ]
          },
          "metadata": {
            "tags": []
          },
          "execution_count": 78
        }
      ]
    },
    {
      "cell_type": "markdown",
      "metadata": {
        "id": "JiOfqH-_wKqa"
      },
      "source": [
        "此外还有两个方法any和all，他们对布尔型数组非常有用。\n",
        "\n",
        "+ any用于测试数组中是否存在一个或者多个True，而all测试所有值是否d"
      ]
    },
    {
      "cell_type": "code",
      "metadata": {
        "colab": {
          "base_uri": "https://localhost:8080/"
        },
        "id": "_4Ejvq-kv7Yg",
        "outputId": "a5890b5d-8ae7-457a-c55a-27d2d6f3cd96"
      },
      "source": [
        "bools = np.array([False, False, True, True])\n",
        "print(bools.any())\n",
        "print(bools.all())"
      ],
      "execution_count": 80,
      "outputs": [
        {
          "output_type": "stream",
          "text": [
            "True\n",
            "False\n"
          ],
          "name": "stdout"
        }
      ]
    },
    {
      "cell_type": "markdown",
      "metadata": {
        "id": "omC9VKWe21Mg"
      },
      "source": [
        "## 排序\n",
        "NumPy数组也可以通过sort方法就地排序："
      ]
    },
    {
      "cell_type": "code",
      "metadata": {
        "colab": {
          "base_uri": "https://localhost:8080/"
        },
        "id": "4GpeNqgu2zGE",
        "outputId": "864b00e5-b57a-4772-a0da-6aa005ed4404"
      },
      "source": [
        "arr = randn(8)\n",
        "arr"
      ],
      "execution_count": 81,
      "outputs": [
        {
          "output_type": "execute_result",
          "data": {
            "text/plain": [
              "array([ 1.31436237,  0.42432567, -0.313671  ,  0.12421498,  1.0152972 ,\n",
              "        0.40709695,  0.08719938, -0.58555021])"
            ]
          },
          "metadata": {
            "tags": []
          },
          "execution_count": 81
        }
      ]
    },
    {
      "cell_type": "code",
      "metadata": {
        "colab": {
          "base_uri": "https://localhost:8080/"
        },
        "id": "UhtrVEQU3DyU",
        "outputId": "90646441-1967-4eb0-d9b0-5261bd324df5"
      },
      "source": [
        "arr.sort()\n",
        "arr"
      ],
      "execution_count": 82,
      "outputs": [
        {
          "output_type": "execute_result",
          "data": {
            "text/plain": [
              "array([-0.58555021, -0.313671  ,  0.08719938,  0.12421498,  0.40709695,\n",
              "        0.42432567,  1.0152972 ,  1.31436237])"
            ]
          },
          "metadata": {
            "tags": []
          },
          "execution_count": 82
        }
      ]
    },
    {
      "cell_type": "code",
      "metadata": {
        "colab": {
          "base_uri": "https://localhost:8080/"
        },
        "id": "zYUNNZQ-3K69",
        "outputId": "464e1647-fbff-452f-f282-131e5d8e97f0"
      },
      "source": [
        "arr = randn(5, 3)\n",
        "arr"
      ],
      "execution_count": 83,
      "outputs": [
        {
          "output_type": "execute_result",
          "data": {
            "text/plain": [
              "array([[-1.08496935, -0.80551926,  0.90994393],\n",
              "       [ 1.30567045,  0.83784153, -0.2016176 ],\n",
              "       [-0.34857167, -1.03526864,  1.29976452],\n",
              "       [ 0.28913812,  1.36656004,  2.25337791],\n",
              "       [ 0.27688524,  0.92079123, -1.35037314]])"
            ]
          },
          "metadata": {
            "tags": []
          },
          "execution_count": 83
        }
      ]
    },
    {
      "cell_type": "code",
      "metadata": {
        "colab": {
          "base_uri": "https://localhost:8080/"
        },
        "id": "r_fsVnWC3RD4",
        "outputId": "d2b11c3a-9cef-41f4-c2d1-7152e626ae76"
      },
      "source": [
        "arr.sort(1)\n",
        "arr"
      ],
      "execution_count": 84,
      "outputs": [
        {
          "output_type": "execute_result",
          "data": {
            "text/plain": [
              "array([[-1.08496935, -0.80551926,  0.90994393],\n",
              "       [-0.2016176 ,  0.83784153,  1.30567045],\n",
              "       [-1.03526864, -0.34857167,  1.29976452],\n",
              "       [ 0.28913812,  1.36656004,  2.25337791],\n",
              "       [-1.35037314,  0.27688524,  0.92079123]])"
            ]
          },
          "metadata": {
            "tags": []
          },
          "execution_count": 84
        }
      ]
    },
    {
      "cell_type": "code",
      "metadata": {
        "colab": {
          "base_uri": "https://localhost:8080/"
        },
        "id": "YiLrNrK03Wci",
        "outputId": "0687b4ec-592c-49fa-f394-b0b8ce0cfa8a"
      },
      "source": [
        "large_arr = randn(100000)\n",
        "large_arr.sort()\n",
        "\n",
        "large_arr[int(0.05 * len(large_arr))]"
      ],
      "execution_count": 87,
      "outputs": [
        {
          "output_type": "execute_result",
          "data": {
            "text/plain": [
              "-1.6536283042321915"
            ]
          },
          "metadata": {
            "tags": []
          },
          "execution_count": 87
        }
      ]
    },
    {
      "cell_type": "markdown",
      "metadata": {
        "id": "qR7cv8P-4rdL"
      },
      "source": [
        "## 唯一化以及其他的集合逻辑\n",
        "numpy提供了一些针对以为ndarray的基本集合运算。最常用的是np.unique了。\n",
        "它用于找出数组中的唯一值并返回已排序的结果"
      ]
    },
    {
      "cell_type": "code",
      "metadata": {
        "colab": {
          "base_uri": "https://localhost:8080/"
        },
        "id": "YcPFMQta4jS-",
        "outputId": "a9cb59d0-4332-4c35-9de8-3da85a21ce7f"
      },
      "source": [
        "names = np.array(['Bob', 'Joe', 'Will', 'Bob', 'Will', 'Joe', 'Joe'])\n",
        "np.unique(names)"
      ],
      "execution_count": 88,
      "outputs": [
        {
          "output_type": "execute_result",
          "data": {
            "text/plain": [
              "array(['Bob', 'Joe', 'Will'], dtype='<U4')"
            ]
          },
          "metadata": {
            "tags": []
          },
          "execution_count": 88
        }
      ]
    },
    {
      "cell_type": "code",
      "metadata": {
        "colab": {
          "base_uri": "https://localhost:8080/"
        },
        "id": "tjJJdvQr6PZQ",
        "outputId": "103debc1-5374-404d-e76d-d63b45092543"
      },
      "source": [
        "ints = np.array([3, 3, 2,2,1,1,4,4])\n",
        "np.unique(ints)"
      ],
      "execution_count": 89,
      "outputs": [
        {
          "output_type": "execute_result",
          "data": {
            "text/plain": [
              "array([1, 2, 3, 4])"
            ]
          },
          "metadata": {
            "tags": []
          },
          "execution_count": 89
        }
      ]
    },
    {
      "cell_type": "code",
      "metadata": {
        "colab": {
          "base_uri": "https://localhost:8080/"
        },
        "id": "PcF-5B616Utl",
        "outputId": "49f89b65-4d22-45e3-bcfd-4267ad53cf00"
      },
      "source": [
        "sorted(set(names))"
      ],
      "execution_count": 90,
      "outputs": [
        {
          "output_type": "execute_result",
          "data": {
            "text/plain": [
              "['Bob', 'Joe', 'Will']"
            ]
          },
          "metadata": {
            "tags": []
          },
          "execution_count": 90
        }
      ]
    },
    {
      "cell_type": "markdown",
      "metadata": {
        "id": "ArRleBkX_rI-"
      },
      "source": [
        "另一个函数np.in1d用于测试一个数组中的值在另一个数组中的成员资格，返回一个布尔型数组："
      ]
    },
    {
      "cell_type": "code",
      "metadata": {
        "colab": {
          "base_uri": "https://localhost:8080/"
        },
        "id": "QBqwY-i1_nwr",
        "outputId": "6e60b263-82e2-437f-9588-bd74a5e48ae0"
      },
      "source": [
        "values = np.array([6,0,0,3,2,5,6])\n",
        "np.in1d(values, [2,3,6])"
      ],
      "execution_count": 91,
      "outputs": [
        {
          "output_type": "execute_result",
          "data": {
            "text/plain": [
              "array([ True, False, False,  True,  True, False,  True])"
            ]
          },
          "metadata": {
            "tags": []
          },
          "execution_count": 91
        }
      ]
    },
    {
      "cell_type": "code",
      "metadata": {
        "colab": {
          "base_uri": "https://localhost:8080/"
        },
        "id": "6wtILSd3__UC",
        "outputId": "67d947b4-bd28-4185-b06b-09fa6c58fb1a"
      },
      "source": [
        "values = np.array([6,0,0,3,2,5,6])\n",
        "np.in1d(values, [2,3,6])"
      ],
      "execution_count": 93,
      "outputs": [
        {
          "output_type": "execute_result",
          "data": {
            "text/plain": [
              "array([ True, False, False,  True,  True, False,  True])"
            ]
          },
          "metadata": {
            "tags": []
          },
          "execution_count": 93
        }
      ]
    },
    {
      "cell_type": "markdown",
      "metadata": {
        "id": "5n1HjCCSBd7L"
      },
      "source": [
        "### 数组的集合运算\n",
        "+ unique(x):计算集合中的唯一元素，并返回**有序**结果\n",
        "+ insert1d(x,y):计算x,y中的公共元素，并返回**有序**结果\n",
        "+ union1d(x,y):计算x,y的并集，并返回**有序**结果\n",
        "+ in1d(x,y):得到一个x中的元素是否包含于y的布尔型数组\n",
        "+ setdiff1d(x,y):集合的差，即元素在x中且不在y中\n",
        "+ setxor1d(x,y):集合的对称差，即存在于一个数组中的但不同是存在于两个数组中"
      ]
    },
    {
      "cell_type": "markdown",
      "metadata": {
        "id": "FaQWotGZC90D"
      },
      "source": [
        "## 用于数组的文件输入输出\n",
        "NumPy能够读写瓷盘上的文本数据或二进制数据"
      ]
    },
    {
      "cell_type": "markdown",
      "metadata": {
        "id": "GZWQcCgUBZ31"
      },
      "source": [
        "## 将数组以二进制格式保存到磁盘"
      ]
    },
    {
      "cell_type": "markdown",
      "metadata": {
        "id": "6dzeVK33EKtX"
      },
      "source": [
        "np.save和np.load是读写磁盘数组数据的两个主要函数。保存为.npy文件"
      ]
    },
    {
      "cell_type": "code",
      "metadata": {
        "id": "ZJrORMAdDb7Q"
      },
      "source": [
        "arr = np.arange(10)\n",
        "np.save('some_array', arr)"
      ],
      "execution_count": 94,
      "outputs": []
    },
    {
      "cell_type": "code",
      "metadata": {
        "colab": {
          "base_uri": "https://localhost:8080/"
        },
        "id": "QZ57rlWPDlVm",
        "outputId": "0114fac3-e077-4d72-b406-5f435a912fb6"
      },
      "source": [
        "np.load('some_array.npy')"
      ],
      "execution_count": 95,
      "outputs": [
        {
          "output_type": "execute_result",
          "data": {
            "text/plain": [
              "array([0, 1, 2, 3, 4, 5, 6, 7, 8, 9])"
            ]
          },
          "metadata": {
            "tags": []
          },
          "execution_count": 95
        }
      ]
    },
    {
      "cell_type": "code",
      "metadata": {
        "colab": {
          "base_uri": "https://localhost:8080/"
        },
        "id": "X9SAK5JiDwBg",
        "outputId": "8a45d282-da10-4664-f959-bd8b80095b55"
      },
      "source": [
        "np.savez('array_archive.npz', a=arr, b=arr)\n",
        "arch = np.load('array_archive.npz')\n",
        "arch['b']"
      ],
      "execution_count": 98,
      "outputs": [
        {
          "output_type": "execute_result",
          "data": {
            "text/plain": [
              "array([0, 1, 2, 3, 4, 5, 6, 7, 8, 9])"
            ]
          },
          "metadata": {
            "tags": []
          },
          "execution_count": 98
        }
      ]
    },
    {
      "cell_type": "markdown",
      "metadata": {
        "id": "pxT-qS9OGQE3"
      },
      "source": [
        "## 线性代数"
      ]
    },
    {
      "cell_type": "markdown",
      "metadata": {
        "id": "y5dH_2W_GP-Y"
      },
      "source": [
        "线性代数（矩阵乘法、矩阵分解，行列式以及其他方阵数学）是任何数组库的重要组成部分。\n",
        "\n",
        "NumPy提供了一个用于矩阵乘法的dot函数（既是一个数组方法也是numpy命名空间中的一个函数）"
      ]
    },
    {
      "cell_type": "code",
      "metadata": {
        "id": "4K9aAMJsE06g"
      },
      "source": [
        "x = np.array([[1., 2., 3.], [4., 5., 6.]])\n",
        "y = np.array([[6., 23.], [-1, 7],[8,9]])"
      ],
      "execution_count": 100,
      "outputs": []
    },
    {
      "cell_type": "code",
      "metadata": {
        "colab": {
          "base_uri": "https://localhost:8080/"
        },
        "id": "cmTAT4O-J_oC",
        "outputId": "2f0806d2-2166-406f-d78c-79a863c82fdc"
      },
      "source": [
        "x"
      ],
      "execution_count": 101,
      "outputs": [
        {
          "output_type": "execute_result",
          "data": {
            "text/plain": [
              "array([[1., 2., 3.],\n",
              "       [4., 5., 6.]])"
            ]
          },
          "metadata": {
            "tags": []
          },
          "execution_count": 101
        }
      ]
    },
    {
      "cell_type": "code",
      "metadata": {
        "colab": {
          "base_uri": "https://localhost:8080/"
        },
        "id": "Rpuw5RR6KBCH",
        "outputId": "c40c044b-1960-42c8-f96d-dd1df449c1ea"
      },
      "source": [
        "y"
      ],
      "execution_count": 102,
      "outputs": [
        {
          "output_type": "execute_result",
          "data": {
            "text/plain": [
              "array([[ 6., 23.],\n",
              "       [-1.,  7.],\n",
              "       [ 8.,  9.]])"
            ]
          },
          "metadata": {
            "tags": []
          },
          "execution_count": 102
        }
      ]
    },
    {
      "cell_type": "code",
      "metadata": {
        "colab": {
          "base_uri": "https://localhost:8080/"
        },
        "id": "l3qNqHq-KGoA",
        "outputId": "a81cac88-acc5-4f17-9572-533ce1f3a84a"
      },
      "source": [
        "x.dot(y)\n",
        "#np.dot(x, y)"
      ],
      "execution_count": 105,
      "outputs": [
        {
          "output_type": "execute_result",
          "data": {
            "text/plain": [
              "array([[ 28.,  64.],\n",
              "       [ 67., 181.]])"
            ]
          },
          "metadata": {
            "tags": []
          },
          "execution_count": 105
        }
      ]
    },
    {
      "cell_type": "markdown",
      "metadata": {
        "id": "uTSWOvRkKL0J"
      },
      "source": [
        "一个二维数组跟一个大小合适的一维数组的矩阵点积会得到一个一维矩阵"
      ]
    },
    {
      "cell_type": "code",
      "metadata": {
        "colab": {
          "base_uri": "https://localhost:8080/"
        },
        "id": "DZOA5Ul3LbDB",
        "outputId": "12ee1229-8f8e-4e35-8be8-65276c303c42"
      },
      "source": [
        "x.dot(np.ones(3))"
      ],
      "execution_count": 106,
      "outputs": [
        {
          "output_type": "execute_result",
          "data": {
            "text/plain": [
              "array([ 6., 15.])"
            ]
          },
          "metadata": {
            "tags": []
          },
          "execution_count": 106
        }
      ]
    },
    {
      "cell_type": "markdown",
      "metadata": {
        "id": "x5Ehlm2SRWPm"
      },
      "source": [
        "numpy.linalg中有一组标准的矩阵分解运算以及诸如求逆和行列式之类的东西，他们都很nb"
      ]
    },
    {
      "cell_type": "code",
      "metadata": {
        "id": "KAj04n6GLg5U"
      },
      "source": [
        "from numpy.linalg import inv, qr"
      ],
      "execution_count": 108,
      "outputs": []
    },
    {
      "cell_type": "code",
      "metadata": {
        "colab": {
          "base_uri": "https://localhost:8080/"
        },
        "id": "FYGD_6odRnXT",
        "outputId": "fe826b3d-b2dc-4c0e-f336-63328c925017"
      },
      "source": [
        "X = randn(5, 5)\n",
        "mat = X.T.dot(X)\n",
        "print(mat)"
      ],
      "execution_count": 116,
      "outputs": [
        {
          "output_type": "stream",
          "text": [
            "[[ 3.1287222  -2.69278866  0.46452111 -0.8206768  -0.13676543]\n",
            " [-2.69278866  4.1552445  -1.95348156  2.04522915  3.06263056]\n",
            " [ 0.46452111 -1.95348156  3.72841642  0.04113278 -1.38035238]\n",
            " [-0.8206768   2.04522915  0.04113278  3.83112178  3.20608501]\n",
            " [-0.13676543  3.06263056 -1.38035238  3.20608501  5.39281663]]\n"
          ],
          "name": "stdout"
        }
      ]
    },
    {
      "cell_type": "code",
      "metadata": {
        "colab": {
          "base_uri": "https://localhost:8080/"
        },
        "id": "AIVETvPPRt8V",
        "outputId": "3fbcb6c4-4f26-4c6c-cdc2-7c376dab6dff"
      },
      "source": [
        "inv(mat)"
      ],
      "execution_count": 117,
      "outputs": [
        {
          "output_type": "execute_result",
          "data": {
            "text/plain": [
              "array([[ 55.45832528,  66.11791203,  13.98213039,   7.3315334 ,\n",
              "        -36.92230279],\n",
              "       [ 66.11791203,  79.36685444,  16.8992533 ,   8.57490293,\n",
              "        -44.16869117],\n",
              "       [ 13.98213039,  16.8992533 ,   3.95725441,   1.62822314,\n",
              "         -9.19773787],\n",
              "       [  7.3315334 ,   8.57490293,   1.62822314,   1.60659025,\n",
              "         -5.22220661],\n",
              "       [-36.92230279, -44.16869117,  -9.19773787,  -5.22220661,\n",
              "         25.0832574 ]])"
            ]
          },
          "metadata": {
            "tags": []
          },
          "execution_count": 117
        }
      ]
    },
    {
      "cell_type": "code",
      "metadata": {
        "colab": {
          "base_uri": "https://localhost:8080/"
        },
        "id": "SZwOXZqkRwoE",
        "outputId": "3e864a60-4f82-4039-fc4f-c65184b36fd6"
      },
      "source": [
        "print(mat.dot(inv(mat)))"
      ],
      "execution_count": 118,
      "outputs": [
        {
          "output_type": "stream",
          "text": [
            "[[ 1.00000000e+00  6.85154465e-15  3.99740123e-15 -1.40627608e-15\n",
            "  -9.23116594e-15]\n",
            " [-2.74155174e-14  1.00000000e+00 -1.74539148e-15  1.65869839e-15\n",
            "   9.08837853e-15]\n",
            " [ 1.41667666e-14  3.42580772e-14  1.00000000e+00 -1.18732596e-15\n",
            "  -1.50390400e-14]\n",
            " [-2.19124907e-16 -1.76639279e-14 -6.98870026e-16  1.00000000e+00\n",
            "   6.62150318e-15]\n",
            " [-7.05381010e-14 -4.97021168e-14 -3.75915950e-15  2.89814670e-15\n",
            "   1.00000000e+00]]\n"
          ],
          "name": "stdout"
        }
      ]
    },
    {
      "cell_type": "code",
      "metadata": {
        "id": "Ur-N_36sSRdu"
      },
      "source": [
        "q, r = qr(mat)#QR分解"
      ],
      "execution_count": 119,
      "outputs": []
    },
    {
      "cell_type": "code",
      "metadata": {
        "colab": {
          "base_uri": "https://localhost:8080/"
        },
        "id": "3uKEIqmtSUcL",
        "outputId": "7a91e097-6d4c-40b9-bb1d-6ba204dad996"
      },
      "source": [
        "r"
      ],
      "execution_count": 120,
      "outputs": [
        {
          "output_type": "execute_result",
          "data": {
            "text/plain": [
              "array([[-4.23650899,  5.33905404, -2.03012113,  2.7471975 ,  2.99417071],\n",
              "       [ 0.        , -3.65929337,  2.72071665, -3.72069764, -6.25205307],\n",
              "       [ 0.        ,  0.        , -2.88380526, -2.49981733, -1.58943842],\n",
              "       [ 0.        ,  0.        ,  0.        , -1.47474341, -0.2923162 ],\n",
              "       [ 0.        ,  0.        ,  0.        ,  0.        ,  0.01570347]])"
            ]
          },
          "metadata": {
            "tags": []
          },
          "execution_count": 120
        }
      ]
    },
    {
      "cell_type": "markdown",
      "metadata": {
        "id": "TFCDqtgFStrJ"
      },
      "source": [
        "### numpy.linalg\n",
        "+ diag:一维数组的形式返回方阵的对角线元素，或将以为数组转换为方阵（非对角线元素为0）\n",
        "+ dot:矩阵乘法\n",
        "+ trace:计算对角线元素的和\n",
        "+ det:计算矩阵行列式\n",
        "+ eig:计算方阵的本征值和本征向量\n",
        "+ inv:求逆\n",
        "+ pinv:计算急诊的Moore-Penrose伪逆\n",
        "+ qr:计算QR分解\n",
        "+ svd:计算奇异值分解（SCD）\n",
        "+ solve:解线性方程组Ax=b,其中A为一个方阵\n",
        "+ lstsq:计算Ax=b的最小二乘解"
      ]
    },
    {
      "cell_type": "markdown",
      "metadata": {
        "id": "G8F4X49oVJxu"
      },
      "source": [
        "## 随机数生成\n",
        "numpy.random模块，random模块的补充，增加了一些用于高效生成多种概率分布的样本的值的函数。例如，你可以用normal来得到一个标准正态分布的$4\\times4$样本数组"
      ]
    },
    {
      "cell_type": "code",
      "metadata": {
        "colab": {
          "base_uri": "https://localhost:8080/"
        },
        "id": "jtDrhbu_VIvj",
        "outputId": "82df7f79-a5a9-45ee-898f-223f9b3d1da7"
      },
      "source": [
        "samples = np.random.normal(size=(4,4))\n",
        "samples"
      ],
      "execution_count": 121,
      "outputs": [
        {
          "output_type": "execute_result",
          "data": {
            "text/plain": [
              "array([[-0.51150837,  0.28655409,  1.51234534,  1.73147936],\n",
              "       [-0.12573307,  0.03105404,  0.9089198 , -0.13794535],\n",
              "       [ 0.52493302, -1.8375329 , -0.17936943, -0.87042058],\n",
              "       [ 0.49921177, -0.71720104,  0.20737621,  1.61550257]])"
            ]
          },
          "metadata": {
            "tags": []
          },
          "execution_count": 121
        }
      ]
    },
    {
      "cell_type": "code",
      "metadata": {
        "id": "yDJ7zqUEWlTS"
      },
      "source": [
        "from random import normalvariate\n",
        "N = 10000"
      ],
      "execution_count": null,
      "outputs": []
    },
    {
      "cell_type": "markdown",
      "metadata": {
        "id": "i-9_1S3DYumq"
      },
      "source": [
        "下面的例子说明numpy.random比内置random快了不止一个数量级"
      ]
    },
    {
      "cell_type": "code",
      "metadata": {
        "colab": {
          "base_uri": "https://localhost:8080/"
        },
        "id": "kCojfmf4WrCM",
        "outputId": "0c02a2d0-4726-43f3-b2f6-13b1a5404cd8"
      },
      "source": [
        "%timeit samples = [normalvariate(0, 1) for _ in range(N)]"
      ],
      "execution_count": 128,
      "outputs": [
        {
          "output_type": "stream",
          "text": [
            "100 loops, best of 3: 6.6 ms per loop\n"
          ],
          "name": "stdout"
        }
      ]
    },
    {
      "cell_type": "code",
      "metadata": {
        "colab": {
          "base_uri": "https://localhost:8080/"
        },
        "id": "5O-fjAaHWxW8",
        "outputId": "da74efac-d9d8-4b46-a946-7604c6c1263e"
      },
      "source": [
        "%timeit np.random.normal(size=N)"
      ],
      "execution_count": 125,
      "outputs": [
        {
          "output_type": "stream",
          "text": [
            "1000 loops, best of 3: 443 µs per loop\n"
          ],
          "name": "stdout"
        }
      ]
    },
    {
      "cell_type": "markdown",
      "metadata": {
        "id": "A2hstzYvYNl8"
      },
      "source": [
        "### numpy.random函数\n",
        "+ seed 种子\n",
        "+ permutation 返回一个序列的随机排序或返回一个随机排列的范围\n",
        "+ shuffle 对一个序列就地随机排列\n",
        "+ rand 产生均匀分布的样本值\n",
        "+ randint 从给定的上下限范围内随机选取整数\n",
        "+ randn 产生标准正态分布的样本值，类似于matlab接口\n",
        "+ binomial 产生正态分布的样本值\n",
        "+ normal 产生正态分布的样本值\n",
        "+ beta 产生Beat分布的样本值\n",
        "+ chisquare 产生卡方$\\chi^2$分布的样本值\n",
        "+ gamma 产生Gamma分布的样本值\n",
        "+ uniform 产生在[0,1)中均匀分布的样本值"
      ]
    },
    {
      "cell_type": "markdown",
      "metadata": {
        "id": "fE45Or1yb64F"
      },
      "source": [
        "## 范例：随机漫步"
      ]
    },
    {
      "cell_type": "code",
      "metadata": {
        "id": "bNLBMqz6b_hQ"
      },
      "source": [
        "import random\n",
        "position = 0\n",
        "walk = [position]\n",
        "steps = 1000\n",
        "for i in range(steps):\n",
        "    step = 1 if random.randint(0, 1) else -1\n",
        "    position += step\n",
        "    walk.append(position)\n",
        "walk"
      ],
      "execution_count": null,
      "outputs": []
    },
    {
      "cell_type": "code",
      "metadata": {
        "id": "cD7F69W5eoq9"
      },
      "source": [
        "import matplotlib.pyplot as plt\n",
        "import pandas as pd\n",
        "\n",
        "df_walk = pd.DataFrame(walk)\n"
      ],
      "execution_count": null,
      "outputs": []
    },
    {
      "cell_type": "code",
      "metadata": {
        "id": "XINCx75ngv4L"
      },
      "source": [
        ""
      ],
      "execution_count": null,
      "outputs": []
    }
  ]
}